{
 "cells": [
  {
   "cell_type": "code",
   "execution_count": 19,
   "metadata": {},
   "outputs": [],
   "source": [
    "import os\n",
    "import numpy as np\n",
    "import pandas as pd\n",
    "import plotly\n",
    "import plotly.graph_objs as go\n",
    "import plotly.express as px\n",
    "from plotly.subplots import make_subplots\n",
    "import plotly.io as pio\n",
    "\n",
    "from IPython.display import display, HTML"
   ]
  },
  {
   "cell_type": "code",
   "execution_count": null,
   "metadata": {},
   "outputs": [],
   "source": []
  },
  {
   "cell_type": "code",
   "execution_count": 20,
   "metadata": {},
   "outputs": [
    {
     "data": {
      "text/plain": [
       "97994.73405420774"
      ]
     },
     "execution_count": 20,
     "metadata": {},
     "output_type": "execute_result"
    }
   ],
   "source": [
    "# LC k1500\n",
    "(138076.079357624 + 57913.3887507915)/2"
   ]
  },
  {
   "cell_type": "code",
   "execution_count": 21,
   "metadata": {},
   "outputs": [
    {
     "data": {
      "text/plain": [
       "61719.1083091497"
      ]
     },
     "execution_count": 21,
     "metadata": {},
     "output_type": "execute_result"
    }
   ],
   "source": [
    "(49156.7558796405+74281.4607386589)/2"
   ]
  },
  {
   "cell_type": "code",
   "execution_count": 22,
   "metadata": {},
   "outputs": [
    {
     "data": {
      "text/plain": [
       "48552.679003238605"
      ]
     },
     "execution_count": 22,
     "metadata": {},
     "output_type": "execute_result"
    }
   ],
   "source": [
    "# LC k1000\n",
    "(38526.6148490905+58578.7431573867)/2"
   ]
  },
  {
   "cell_type": "code",
   "execution_count": 23,
   "metadata": {},
   "outputs": [
    {
     "data": {
      "text/plain": [
       "39486.703137159304"
      ]
     },
     "execution_count": 23,
     "metadata": {},
     "output_type": "execute_result"
    }
   ],
   "source": [
    "(37186.0400607585+41787.3662135601)/2"
   ]
  },
  {
   "cell_type": "code",
   "execution_count": 24,
   "metadata": {},
   "outputs": [
    {
     "data": {
      "text/plain": [
       "39558.435608625354"
      ]
     },
     "execution_count": 24,
     "metadata": {},
     "output_type": "execute_result"
    }
   ],
   "source": [
    "# LC k500\n",
    "(39094.9144961833+40021.9567210674)/2"
   ]
  },
  {
   "cell_type": "code",
   "execution_count": 25,
   "metadata": {},
   "outputs": [
    {
     "data": {
      "text/plain": [
       "49688.0876114368"
      ]
     },
     "execution_count": 25,
     "metadata": {},
     "output_type": "execute_result"
    }
   ],
   "source": [
    "(51954.1019148826+47422.073307991)/2"
   ]
  },
  {
   "cell_type": "markdown",
   "metadata": {},
   "source": [
    "# MWZ2.0/2.1 statistics"
   ]
  },
  {
   "cell_type": "code",
   "execution_count": 26,
   "metadata": {},
   "outputs": [],
   "source": [
    "mwz20_dialogue2len_path = './data/mwz20/train_dialogue2len.csv'\n",
    "mwz21_dialogue2len_path = './data/mwz21/train_dialogue2len.csv'"
   ]
  },
  {
   "cell_type": "code",
   "execution_count": 27,
   "metadata": {},
   "outputs": [],
   "source": [
    "# mwz20_dialogue2len_df = pd.read_csv(mwz20_dialogue2len_path)\n",
    "# mwz20_dialogue2len_df"
   ]
  },
  {
   "cell_type": "markdown",
   "metadata": {},
   "source": [
    "Min, Max, and Avergae number of turns per dialogue in MWZ2.0"
   ]
  },
  {
   "cell_type": "code",
   "execution_count": 28,
   "metadata": {},
   "outputs": [],
   "source": [
    "# mwz20_dialogue2len_df['total_turns'].describe()"
   ]
  },
  {
   "cell_type": "markdown",
   "metadata": {},
   "source": [
    "## Path of MWZ20/21 KAGE"
   ]
  },
  {
   "cell_type": "code",
   "execution_count": 29,
   "metadata": {},
   "outputs": [],
   "source": [
    "acc_path_list = [\n",
    "    # Max Entropy\n",
    "    './data/mwz20/KAGE/max_entropy/k1500/k1500_test_acc.csv',\n",
    "    './data/mwz20/KAGE/max_entropy/k1000/k1000_test_acc.csv',\n",
    "    './data/mwz20/KAGE/max_entropy/k500/k500_test_acc.csv',\n",
    "#     './data/mwz20/KAGE/max_entropy/k100/k100_test_acc.csv',\n",
    "    \n",
    "    # Least Confidence\n",
    "    './data/mwz20/KAGE/least_confidence/k1500/k1500_test_acc.csv',\n",
    "    './data/mwz20/KAGE/least_confidence/k1000/k1000_test_acc.csv',\n",
    "    './data/mwz20/KAGE/least_confidence/k500/k500_test_acc.csv',\n",
    "#     './data/mwz20/KAGE/least_confidence/k100/k100_test_acc.csv',\n",
    "    \n",
    "    # Random\n",
    "    './data/mwz20/KAGE/random/k1500/k1500_test_acc.csv',\n",
    "    './data/mwz20/KAGE/random/k1000/k1000_test_acc.csv',\n",
    "    './data/mwz20/KAGE/random/k500/k500_test_acc.csv',\n",
    "#     './data/mwz20/KAGE/random/k100/k100_test_acc.csv',\n",
    "\n",
    "]"
   ]
  },
  {
   "cell_type": "code",
   "execution_count": 30,
   "metadata": {},
   "outputs": [],
   "source": [
    "def add_data_size_col(df, test_acc_csv_path):\n",
    "    # add number of instances\n",
    "    if '2000' in test_acc_csv_path:\n",
    "        df['# of labelled dialogue turns'] = df['round'] * 2000 + 2000\n",
    "    elif '1500' in test_acc_csv_path:\n",
    "        df['# of labelled dialogue turns'] = df['round'] * 1500 + 1500\n",
    "    elif '1000' in test_acc_csv_path:\n",
    "        df['# of labelled dialogue turns'] = df['round'] * 1000 + 1000\n",
    "    elif '500' in test_acc_csv_path:\n",
    "        df['# of labelled dialogue turns'] = df['round'] * 500 + 500\n",
    "    elif '100' in test_acc_csv_path:\n",
    "        df['# of labelled dialogue turns'] = df['round'] * 100 + 100\n",
    "    \n",
    "    df['# of labelled dialogue turns'] = df['# of labelled dialogue turns'].apply(lambda x: 7888 if x > 7888 else x)\n",
    "    \n",
    "    return df"
   ]
  },
  {
   "cell_type": "code",
   "execution_count": 31,
   "metadata": {},
   "outputs": [],
   "source": [
    "def get_mean_std_acc_by_path(test_acc_csv_path):\n",
    "    '''\n",
    "    Get mean and std of acc\n",
    "    '''\n",
    "    \n",
    "    df = pd.read_csv(test_acc_csv_path)\n",
    "    df = add_data_size_col(df, test_acc_csv_path)\n",
    "    \n",
    "#     display(df)\n",
    "    \n",
    "#     print('Mean of Joint and Slot acc')\n",
    "    display(df.groupby('round')[['test_joint_acc', 'test_slot_acc']].mean())\n",
    "#     print('Std of Joint and Slot acc')\n",
    "    display(df.groupby('round')[['test_joint_acc', 'test_slot_acc']].std(ddof=0))"
   ]
  },
  {
   "cell_type": "code",
   "execution_count": null,
   "metadata": {},
   "outputs": [],
   "source": []
  },
  {
   "cell_type": "markdown",
   "metadata": {},
   "source": [
    "## Plot"
   ]
  },
  {
   "cell_type": "code",
   "execution_count": 32,
   "metadata": {},
   "outputs": [],
   "source": [
    "# Make sure the colors run in cycles if there are more lines than colors\n",
    "def next_col(cols):\n",
    "    while True:\n",
    "        for col in cols:\n",
    "            yield col"
   ]
  },
  {
   "cell_type": "code",
   "execution_count": 33,
   "metadata": {},
   "outputs": [],
   "source": [
    "def get_colCycle():\n",
    "    # define colors as a list \n",
    "    colors = px.colors.qualitative.Plotly\n",
    "\n",
    "    # convert plotly hex colors to rgba to enable transparency adjustments\n",
    "    def hex_rgba(hex, transparency):\n",
    "        col_hex = hex.lstrip('#')\n",
    "        col_rgb = list(int(col_hex[i:i+2], 16) for i in (0, 2, 4))\n",
    "        col_rgb.extend([transparency])\n",
    "        areacol = tuple(col_rgb)\n",
    "        return areacol\n",
    "\n",
    "    # rgba = [hex_rgba(c, transparency=0.2) for c in colors]\n",
    "    rgba = [hex_rgba(c, transparency=0.3) for c in colors]\n",
    "    colCycle = ['rgba'+str(elem) for elem in rgba]\n",
    "\n",
    "#     print(colCycle)\n",
    "    \n",
    "    return colCycle"
   ]
  },
  {
   "cell_type": "code",
   "execution_count": 34,
   "metadata": {},
   "outputs": [],
   "source": [
    "def plot_joint_acc_by_round(df_list, strategy_list):\n",
    "    \n",
    "#     full_baseline, lt_baseline, rand_baseline = baselines\n",
    "    \n",
    "#     if full_baseline == 0:\n",
    "#         not_full_line = True\n",
    "#     else:\n",
    "#         not_full_line = False\n",
    "    \n",
    "    fig = go.Figure()\n",
    "    \n",
    "    colCycle = get_colCycle()\n",
    "    line_color=next_col(cols=colCycle)\n",
    "    \n",
    "    \n",
    "    \n",
    "#     legend = ['ME', 'LC', 'RS']\n",
    "    for i, df in enumerate(df_list):\n",
    "    \n",
    "        y_upper = list(df[\"test_joint_acc\"] + df[\"joint_acc_std\"])\n",
    "        y_lower = list(df[\"test_joint_acc\"] - df[\"joint_acc_std\"])\n",
    "        y_lower = y_lower[::-1]\n",
    "\n",
    "        x_std = list(df[\"# of labelled dialogue turns\"])\n",
    "        x_std = x_std + x_std[::-1]\n",
    "\n",
    "        new_col = next(line_color)\n",
    "        \n",
    "        fig.add_trace(\n",
    "            go.Scatter(\n",
    "                x=x_std, \n",
    "                y=y_upper + y_lower, \n",
    "                fill='tozerox',\n",
    "                fillcolor=new_col,\n",
    "                line=dict(color='rgba(255,255,255,0)'),\n",
    "                name=strategy_list[i],\n",
    "                mode=\"lines\",\n",
    "                showlegend=False,\n",
    "            )\n",
    "        )\n",
    "\n",
    "        fig.add_trace(\n",
    "            go.Scatter(\n",
    "                x=df[\"# of labelled dialogue turns\"], \n",
    "                y=df[\"test_joint_acc\"], \n",
    "                line=dict(color=new_col, width=3),\n",
    "    #             text=copyed_df['text'], \n",
    "                mode=\"lines+markers\",\n",
    "                name=strategy_list[i]\n",
    "            )\n",
    "        )\n",
    "        \n",
    "#         # Last Turn\n",
    "#         fig.add_hline(\n",
    "#             y=lt_baseline, \n",
    "#             line_width=1, \n",
    "#             line_dash=\"dot\", # dash\n",
    "#             line_color=\"green\",\n",
    "#             annotation_text=\"Last Turn(14.4%)\", \n",
    "#             annotation_position=\"bottom left\"\n",
    "#         )\n",
    "        \n",
    "#         if not not_full_line:\n",
    "#             # Full Data\n",
    "#             fig.add_hline(\n",
    "#                 y=full_baseline, \n",
    "#                 line_width=1, \n",
    "#                 line_dash=\"dot\", # dash\n",
    "#                 line_color=\"red\",\n",
    "#                 annotation_text=\"Full Data(100%)\", \n",
    "#                 annotation_position=\"bottom left\"\n",
    "#             )\n",
    "        \n",
    "    \n",
    "    \n",
    "    fig.update_xaxes(type='category')\n",
    "    fig.update_layout(\n",
    "        yaxis_range=[0, 0.6],\n",
    "#         title=\"Plot Title\",\n",
    "#         legend_title=\"Legend Title\",\n",
    "        xaxis_title=\"# of labelled dialogue turns\",\n",
    "        yaxis_title=\"Joint Goal Accuracy\",\n",
    "#         font=dict(\n",
    "#             family=\"Courier New, monospace\",\n",
    "#             size=18,\n",
    "#             color=\"RebeccaPurple\"\n",
    "#         )\n",
    "    )\n",
    "    \n",
    "#     fig.update_traces(textposition=\"top center\")\n",
    "    \n",
    "#     fig.show()\n",
    "    return fig"
   ]
  },
  {
   "cell_type": "code",
   "execution_count": 35,
   "metadata": {},
   "outputs": [],
   "source": [
    "def make_merged_df_for_plotting(test_acc_csv_path):\n",
    "    acc_df = pd.read_csv(test_acc_csv_path)\n",
    "    mean = acc_df.groupby('round')[['test_joint_acc', 'test_slot_acc']].mean().reset_index()\n",
    "    std = acc_df.groupby('round')[['test_joint_acc', 'test_slot_acc']].std(ddof=0).reset_index()\n",
    "    std = std.rename(columns={\n",
    "        'test_joint_acc': 'joint_acc_std',\n",
    "        'test_slot_acc': 'slot_acc_std'\n",
    "    })\n",
    "    \n",
    "#     display(mean)\n",
    "#     display(std)\n",
    "    \n",
    "    merged = pd.merge(mean, std, on='round')\n",
    "    merged = add_data_size_col(merged, test_acc_csv_path)\n",
    "    \n",
    "    return merged"
   ]
  },
  {
   "cell_type": "code",
   "execution_count": 36,
   "metadata": {},
   "outputs": [],
   "source": [
    "def plot_k100_500_1000_joint_acc(kage_mwz20_k500, kage_mwz20_k1000, kage_mwz20_k1500):\n",
    "    \n",
    "    kage_k500_df_list, k500_strategy_list = kage_mwz20_k500\n",
    "    kage_k1000_df_list, k1000_strategy_list = kage_mwz20_k1000\n",
    "    kage_k1500_df_list, k1500_strategy_list = kage_mwz20_k1500\n",
    "    \n",
    "    df_list = kage_k500_df_list + kage_k1000_df_list + kage_k1500_df_list\n",
    "    strategy_list = k500_strategy_list + k1000_strategy_list + k1500_strategy_list\n",
    "    \n",
    "#     df_list = kage_k500_df_list \n",
    "#     strategy_list = k500_strategy_list \n",
    "    \n",
    "    fig = go.Figure()\n",
    "    \n",
    "    colCycle = get_colCycle()\n",
    "    line_color=next_col(cols=colCycle)\n",
    "    \n",
    "    \n",
    "#     legend = ['ME', 'LC', 'RS']\n",
    "    for i, df in enumerate(df_list):\n",
    "    \n",
    "        y_upper = list(df[\"test_joint_acc\"] + df[\"joint_acc_std\"])\n",
    "        y_lower = list(df[\"test_joint_acc\"] - df[\"joint_acc_std\"])\n",
    "        y_lower = y_lower[::-1]\n",
    "\n",
    "        x_std = list(df[\"# of labelled dialogue turns\"])\n",
    "        x_std = x_std + x_std[::-1]\n",
    "\n",
    "        new_col = next(line_color)\n",
    "        \n",
    "        if 'k500' in strategy_list[i]:\n",
    "            line_style = dict(color=new_col, width=4.5, dash='dash')\n",
    "        elif 'k1000' in strategy_list[i]:\n",
    "            line_style = dict(color=new_col, width=4.5, dash='dashdot')\n",
    "        elif 'k1500' in strategy_list[i]:\n",
    "            line_style = dict(color=new_col, width=4.5)\n",
    "        \n",
    "#         fig.add_trace(\n",
    "#             go.Scatter(\n",
    "#                 x=x_std, \n",
    "#                 y=y_upper + y_lower, \n",
    "#                 fill='tozerox',\n",
    "#                 fillcolor=new_col,\n",
    "#                 line=dict(color='rgba(255,255,255,0)'),\n",
    "#                 name=strategy_list[i],\n",
    "#                 mode=\"lines\",\n",
    "#                 showlegend=False,\n",
    "#             )\n",
    "#         )\n",
    "\n",
    "        fig.add_trace(\n",
    "            go.Scatter(\n",
    "                x=df[\"# of labelled dialogue turns\"], \n",
    "                y=df[\"test_joint_acc\"], \n",
    "                line=line_style,\n",
    "    #             text=copyed_df['text'], \n",
    "                mode=\"lines+markers\",\n",
    "                name=strategy_list[i]\n",
    "            )\n",
    "        )\n",
    "        \n",
    "#         # Last Turn\n",
    "#         fig.add_hline(\n",
    "#             y=lt_baseline, \n",
    "#             line_width=1, \n",
    "#             line_dash=\"dot\", # dash\n",
    "#             line_color=\"green\",\n",
    "#             annotation_text=\"Last Turn(14.4%)\", \n",
    "#             annotation_position=\"bottom left\"\n",
    "#         )\n",
    "        \n",
    "#         if not not_full_line:\n",
    "#             # Full Data\n",
    "#             fig.add_hline(\n",
    "#                 y=full_baseline, \n",
    "#                 line_width=1, \n",
    "#                 line_dash=\"dot\", # dash\n",
    "#                 line_color=\"red\",\n",
    "#                 annotation_text=\"Full Data(100%)\", \n",
    "#                 annotation_position=\"bottom left\"\n",
    "#             )\n",
    "        \n",
    "    \n",
    "    \n",
    "    fig.update_xaxes(type='category')\n",
    "    fig.update_layout(\n",
    "        yaxis_range=[0.15, 0.5],\n",
    "#         title=\"Plot Title\",\n",
    "#         legend_title=\"Legend Title\",\n",
    "        xaxis_title=\"# of labelled dialogue turns\",\n",
    "        yaxis_title=\"Joint Goal Accuracy\",\n",
    "#         font=dict(\n",
    "#             family=\"Courier New, monospace\",\n",
    "#             size=18,\n",
    "#             color=\"RebeccaPurple\"\n",
    "#         )\n",
    "    )\n",
    "    \n",
    "#     fig.update_traces(textposition=\"top center\")\n",
    "    \n",
    "#     fig.show()\n",
    "    return fig"
   ]
  },
  {
   "cell_type": "code",
   "execution_count": 37,
   "metadata": {},
   "outputs": [],
   "source": [
    "def plot_single_k_joint_acc(kage_mwz20):\n",
    "    \n",
    "    df_list, strategy_list = kage_mwz20\n",
    "    \n",
    "#     df_list = kage_k500_df_list + kage_k1000_df_list + kage_k1500_df_list\n",
    "#     strategy_list = k500_strategy_list + k1000_strategy_list + k1500_strategy_list\n",
    "    \n",
    "#     df_list = kage_k500_df_list \n",
    "#     strategy_list = k500_strategy_list \n",
    "    \n",
    "    fig = go.Figure()\n",
    "    \n",
    "    colCycle = get_colCycle()\n",
    "    line_color=next_col(cols=colCycle)\n",
    "    \n",
    "    \n",
    "#     legend = ['ME', 'LC', 'RS']\n",
    "    for i, df in enumerate(df_list):\n",
    "    \n",
    "        y_upper = list(df[\"test_joint_acc\"] + df[\"joint_acc_std\"])\n",
    "        y_lower = list(df[\"test_joint_acc\"] - df[\"joint_acc_std\"])\n",
    "        y_lower = y_lower[::-1]\n",
    "\n",
    "        x_std = list(df[\"# of labelled dialogue turns\"])\n",
    "        print(f'x_std: {x_std}')\n",
    "        x_std = x_std + x_std[::-1]\n",
    "        print(f'x_std: {x_std}')\n",
    "\n",
    "        new_col = next(line_color)\n",
    "        \n",
    "        if 'k500' in strategy_list[i]:\n",
    "            line_style = dict(color=new_col, width=4.5, dash='dash')\n",
    "        elif 'k1000' in strategy_list[i]:\n",
    "            line_style = dict(color=new_col, width=4.5, dash='dashdot')\n",
    "        elif 'k1500' in strategy_list[i]:\n",
    "            line_style = dict(color=new_col, width=4.5)\n",
    "            \n",
    "        print(f'line_style: {line_style}')\n",
    "        \n",
    "        fig.add_trace(\n",
    "            go.Scatter(\n",
    "                x=x_std, \n",
    "                y=y_upper + y_lower, \n",
    "                fill='tozeroy',\n",
    "                fillcolor=new_col,\n",
    "                line=dict(color='rgba(255,255,255,0)'),\n",
    "                name=strategy_list[i],\n",
    "                mode=\"lines\",\n",
    "                showlegend=False,\n",
    "            )\n",
    "        )\n",
    "\n",
    "        fig.add_trace(\n",
    "            go.Scatter(\n",
    "                x=df[\"# of labelled dialogue turns\"], \n",
    "                y=df[\"test_joint_acc\"], \n",
    "                line=line_style,\n",
    "    #             text=copyed_df['text'], \n",
    "                mode=\"lines+markers\",\n",
    "                name=strategy_list[i]\n",
    "            )\n",
    "        )\n",
    "        \n",
    "#         # Last Turn\n",
    "#         fig.add_hline(\n",
    "#             y=lt_baseline, \n",
    "#             line_width=1, \n",
    "#             line_dash=\"dot\", # dash\n",
    "#             line_color=\"green\",\n",
    "#             annotation_text=\"Last Turn(14.4%)\", \n",
    "#             annotation_position=\"bottom left\"\n",
    "#         )\n",
    "        \n",
    "#         if not not_full_line:\n",
    "#             # Full Data\n",
    "#             fig.add_hline(\n",
    "#                 y=full_baseline, \n",
    "#                 line_width=1, \n",
    "#                 line_dash=\"dot\", # dash\n",
    "#                 line_color=\"red\",\n",
    "#                 annotation_text=\"Full Data(100%)\", \n",
    "#                 annotation_position=\"bottom left\"\n",
    "#             )\n",
    "        \n",
    "    \n",
    "    \n",
    "    fig.update_xaxes(type='category')\n",
    "    fig.update_layout(\n",
    "        yaxis_range=[0.15, 0.5],\n",
    "#         title=\"Plot Title\",\n",
    "#         legend_title=\"Legend Title\",\n",
    "        xaxis_title=\"# of labelled dialogue turns\",\n",
    "        yaxis_title=\"Joint Goal Accuracy\",\n",
    "#         font=dict(\n",
    "#             family=\"Courier New, monospace\",\n",
    "#             size=18,\n",
    "#             color=\"RebeccaPurple\"\n",
    "#         )\n",
    "    )\n",
    "    \n",
    "#     fig.update_traces(textposition=\"top center\")\n",
    "    \n",
    "#     fig.show()\n",
    "    return fig"
   ]
  },
  {
   "cell_type": "code",
   "execution_count": 38,
   "metadata": {},
   "outputs": [],
   "source": [
    "def prepare_subplot_inputs(k, mwz, model):\n",
    "    \n",
    "    strategies = ['random', 'least_confidence', 'max_entropy']\n",
    "#     strategy_list = ['RS', 'LC', 'ME']\n",
    "    \n",
    "    baselines = []\n",
    "    # [full, last_turn, random]\n",
    "    if model == 'KAGE':\n",
    "        if k == 500:\n",
    "            strategy_list = ['k500-RS', 'k500-LC', 'k500-ME']\n",
    "        if k == 1000:\n",
    "            strategy_list = ['k1000-RS', 'k1000-LC', 'k1000-ME']\n",
    "        if k == 1500:\n",
    "            strategy_list = ['k1500-RS', 'k1500-LC', 'k1500-ME']\n",
    "    \n",
    "    df_list = []\n",
    "    for strategy in strategies:\n",
    "        \n",
    "#         if strategy in ['random', 'least_confidence']:\n",
    "#             strategy_list = [s for s in strategy_list if 'RS' not in s or 'LC' not in s]\n",
    "#             continue\n",
    "        \n",
    "        acc_csv_path = f'./data/mwz{mwz}/{model}/{strategy}/k{k}/k{k}_test_acc.csv'\n",
    "        print(f'============== {acc_csv_path} ==============')\n",
    "\n",
    "        df = make_merged_df_for_plotting(acc_csv_path)\n",
    "        display(df)\n",
    "        \n",
    "        # only use round <= 4\n",
    "        if k == 500:\n",
    "            df = df[df['round'] <= 5]\n",
    "        elif k == 1000: \n",
    "            df = df[df['round'] <= 2]\n",
    "        elif k == 1500: \n",
    "            df = df[df['round'] <= 1]\n",
    "            \n",
    "        display(df)\n",
    "        df_list.append(df)\n",
    "\n",
    "\n",
    "#     print(f'baselines: {baselines}')\n",
    "    \n",
    "    return df_list, strategy_list"
   ]
  },
  {
   "cell_type": "markdown",
   "metadata": {},
   "source": [
    "## Plot Single k"
   ]
  },
  {
   "cell_type": "code",
   "execution_count": 39,
   "metadata": {},
   "outputs": [],
   "source": [
    "def prepare_ME_inputs(mwz, model):\n",
    "    \n",
    "    k_list = [500, 1000, 1500]\n",
    "    strategy = 'max_entropy'\n",
    "    strategy_list = ['k500-ME', 'k1000-ME', 'k1500-ME']\n",
    "    \n",
    "    df_list = []\n",
    "    for k in k_list:\n",
    "        acc_csv_path = f'./data/mwz{mwz}/{model}/{strategy}/k{k}/k{k}_test_acc.csv'\n",
    "        print(f'============== {acc_csv_path} ==============')\n",
    "\n",
    "        df = make_merged_df_for_plotting(acc_csv_path)\n",
    "#         display(df)\n",
    "        \n",
    "        # only use round <= 4\n",
    "        if k == 500:\n",
    "            df = df[df['round'] <= 5]\n",
    "        elif k == 1000: \n",
    "            df = df[df['round'] <= 2]\n",
    "        elif k == 1500: \n",
    "            df = df[df['round'] <= 1]\n",
    "        \n",
    "        \n",
    "        display(df)\n",
    "        df_list.append(df)\n",
    "\n",
    "\n",
    "#     print(f'baselines: {baselines}')\n",
    "    \n",
    "    return df_list, strategy_list"
   ]
  },
  {
   "cell_type": "code",
   "execution_count": 40,
   "metadata": {},
   "outputs": [],
   "source": [
    "def prepare_LC_inputs(mwz, model):\n",
    "    \n",
    "    k_list = [500, 1000, 1500]\n",
    "    strategy = 'least_confidence'\n",
    "    strategy_list = ['k500-LC', 'k1000-LC', 'k1500-LC']\n",
    "    \n",
    "    df_list = []\n",
    "    for k in k_list:\n",
    "        acc_csv_path = f'./data/mwz{mwz}/{model}/{strategy}/k{k}/k{k}_test_acc.csv'\n",
    "        print(f'============== {acc_csv_path} ==============')\n",
    "\n",
    "        df = make_merged_df_for_plotting(acc_csv_path)\n",
    "#         display(df)\n",
    "        \n",
    "        # only use round <= 4\n",
    "        if k == 500:\n",
    "            df = df[df['round'] <= 5]\n",
    "        elif k == 1000: \n",
    "            df = df[df['round'] <= 2]\n",
    "        elif k == 1500: \n",
    "            df = df[df['round'] <= 1]\n",
    "            \n",
    "        display(df)\n",
    "        df_list.append(df)\n",
    "\n",
    "\n",
    "#     print(f'baselines: {baselines}')\n",
    "    \n",
    "    return df_list, strategy_list"
   ]
  },
  {
   "cell_type": "code",
   "execution_count": 41,
   "metadata": {},
   "outputs": [],
   "source": [
    "def prepare_RS_inputs(mwz, model):\n",
    "    \n",
    "    k_list = [500, 1000, 1500]\n",
    "    strategy = 'random'\n",
    "    strategy_list = ['k500-RS', 'k1000-RS', 'k1500-RS']\n",
    "    \n",
    "    df_list = []\n",
    "    for k in k_list:\n",
    "        acc_csv_path = f'./data/mwz{mwz}/{model}/{strategy}/k{k}/k{k}_test_acc.csv'\n",
    "        print(f'============== {acc_csv_path} ==============')\n",
    "\n",
    "        df = make_merged_df_for_plotting(acc_csv_path)\n",
    "#         display(df)\n",
    "        \n",
    "        # only use round <= 4\n",
    "        if k == 500:\n",
    "            df = df[df['round'] <= 5]\n",
    "        elif k == 1000: \n",
    "            df = df[df['round'] <= 2]\n",
    "        elif k == 1500: \n",
    "            df = df[df['round'] <= 1]\n",
    "            \n",
    "        display(df)\n",
    "        df_list.append(df)\n",
    "\n",
    "\n",
    "#     print(f'baselines: {baselines}')\n",
    "    \n",
    "    return df_list, strategy_list"
   ]
  },
  {
   "cell_type": "code",
   "execution_count": 44,
   "metadata": {},
   "outputs": [
    {
     "ename": "FileNotFoundError",
     "evalue": "[Errno 2] No such file or directory: 'data/mwz20/KAGE/max_entropy/k500/k500_test_acc.csv'",
     "output_type": "error",
     "traceback": [
      "\u001b[0;31m---------------------------------------------------------------------------\u001b[0m",
      "\u001b[0;31mFileNotFoundError\u001b[0m                         Traceback (most recent call last)",
      "\u001b[1;32m/Users/zz104938/Documents/EMNLP-DST/analy/.ipynb_checkpoints/ablation_KAGE_k500_1000_1500-checkpoint.ipynb Cell 31\u001b[0m in \u001b[0;36m<cell line: 1>\u001b[0;34m()\u001b[0m\n\u001b[0;32m----> <a href='vscode-notebook-cell:/Users/zz104938/Documents/EMNLP-DST/analy/.ipynb_checkpoints/ablation_KAGE_k500_1000_1500-checkpoint.ipynb#Y155sZmlsZQ%3D%3D?line=0'>1</a>\u001b[0m pd\u001b[39m.\u001b[39;49mread_csv(\u001b[39m'\u001b[39;49m\u001b[39mdata/mwz20/KAGE/max_entropy/k500/k500_test_acc.csv\u001b[39;49m\u001b[39m'\u001b[39;49m)\n",
      "File \u001b[0;32m~/opt/anaconda3/envs/plot/lib/python3.9/site-packages/pandas/util/_decorators.py:211\u001b[0m, in \u001b[0;36mdeprecate_kwarg.<locals>._deprecate_kwarg.<locals>.wrapper\u001b[0;34m(*args, **kwargs)\u001b[0m\n\u001b[1;32m    209\u001b[0m     \u001b[39melse\u001b[39;00m:\n\u001b[1;32m    210\u001b[0m         kwargs[new_arg_name] \u001b[39m=\u001b[39m new_arg_value\n\u001b[0;32m--> 211\u001b[0m \u001b[39mreturn\u001b[39;00m func(\u001b[39m*\u001b[39;49margs, \u001b[39m*\u001b[39;49m\u001b[39m*\u001b[39;49mkwargs)\n",
      "File \u001b[0;32m~/opt/anaconda3/envs/plot/lib/python3.9/site-packages/pandas/util/_decorators.py:317\u001b[0m, in \u001b[0;36mdeprecate_nonkeyword_arguments.<locals>.decorate.<locals>.wrapper\u001b[0;34m(*args, **kwargs)\u001b[0m\n\u001b[1;32m    311\u001b[0m \u001b[39mif\u001b[39;00m \u001b[39mlen\u001b[39m(args) \u001b[39m>\u001b[39m num_allow_args:\n\u001b[1;32m    312\u001b[0m     warnings\u001b[39m.\u001b[39mwarn(\n\u001b[1;32m    313\u001b[0m         msg\u001b[39m.\u001b[39mformat(arguments\u001b[39m=\u001b[39marguments),\n\u001b[1;32m    314\u001b[0m         \u001b[39mFutureWarning\u001b[39;00m,\n\u001b[1;32m    315\u001b[0m         stacklevel\u001b[39m=\u001b[39mfind_stack_level(inspect\u001b[39m.\u001b[39mcurrentframe()),\n\u001b[1;32m    316\u001b[0m     )\n\u001b[0;32m--> 317\u001b[0m \u001b[39mreturn\u001b[39;00m func(\u001b[39m*\u001b[39;49margs, \u001b[39m*\u001b[39;49m\u001b[39m*\u001b[39;49mkwargs)\n",
      "File \u001b[0;32m~/opt/anaconda3/envs/plot/lib/python3.9/site-packages/pandas/io/parsers/readers.py:950\u001b[0m, in \u001b[0;36mread_csv\u001b[0;34m(filepath_or_buffer, sep, delimiter, header, names, index_col, usecols, squeeze, prefix, mangle_dupe_cols, dtype, engine, converters, true_values, false_values, skipinitialspace, skiprows, skipfooter, nrows, na_values, keep_default_na, na_filter, verbose, skip_blank_lines, parse_dates, infer_datetime_format, keep_date_col, date_parser, dayfirst, cache_dates, iterator, chunksize, compression, thousands, decimal, lineterminator, quotechar, quoting, doublequote, escapechar, comment, encoding, encoding_errors, dialect, error_bad_lines, warn_bad_lines, on_bad_lines, delim_whitespace, low_memory, memory_map, float_precision, storage_options)\u001b[0m\n\u001b[1;32m    935\u001b[0m kwds_defaults \u001b[39m=\u001b[39m _refine_defaults_read(\n\u001b[1;32m    936\u001b[0m     dialect,\n\u001b[1;32m    937\u001b[0m     delimiter,\n\u001b[0;32m   (...)\u001b[0m\n\u001b[1;32m    946\u001b[0m     defaults\u001b[39m=\u001b[39m{\u001b[39m\"\u001b[39m\u001b[39mdelimiter\u001b[39m\u001b[39m\"\u001b[39m: \u001b[39m\"\u001b[39m\u001b[39m,\u001b[39m\u001b[39m\"\u001b[39m},\n\u001b[1;32m    947\u001b[0m )\n\u001b[1;32m    948\u001b[0m kwds\u001b[39m.\u001b[39mupdate(kwds_defaults)\n\u001b[0;32m--> 950\u001b[0m \u001b[39mreturn\u001b[39;00m _read(filepath_or_buffer, kwds)\n",
      "File \u001b[0;32m~/opt/anaconda3/envs/plot/lib/python3.9/site-packages/pandas/io/parsers/readers.py:605\u001b[0m, in \u001b[0;36m_read\u001b[0;34m(filepath_or_buffer, kwds)\u001b[0m\n\u001b[1;32m    602\u001b[0m _validate_names(kwds\u001b[39m.\u001b[39mget(\u001b[39m\"\u001b[39m\u001b[39mnames\u001b[39m\u001b[39m\"\u001b[39m, \u001b[39mNone\u001b[39;00m))\n\u001b[1;32m    604\u001b[0m \u001b[39m# Create the parser.\u001b[39;00m\n\u001b[0;32m--> 605\u001b[0m parser \u001b[39m=\u001b[39m TextFileReader(filepath_or_buffer, \u001b[39m*\u001b[39;49m\u001b[39m*\u001b[39;49mkwds)\n\u001b[1;32m    607\u001b[0m \u001b[39mif\u001b[39;00m chunksize \u001b[39mor\u001b[39;00m iterator:\n\u001b[1;32m    608\u001b[0m     \u001b[39mreturn\u001b[39;00m parser\n",
      "File \u001b[0;32m~/opt/anaconda3/envs/plot/lib/python3.9/site-packages/pandas/io/parsers/readers.py:1442\u001b[0m, in \u001b[0;36mTextFileReader.__init__\u001b[0;34m(self, f, engine, **kwds)\u001b[0m\n\u001b[1;32m   1439\u001b[0m     \u001b[39mself\u001b[39m\u001b[39m.\u001b[39moptions[\u001b[39m\"\u001b[39m\u001b[39mhas_index_names\u001b[39m\u001b[39m\"\u001b[39m] \u001b[39m=\u001b[39m kwds[\u001b[39m\"\u001b[39m\u001b[39mhas_index_names\u001b[39m\u001b[39m\"\u001b[39m]\n\u001b[1;32m   1441\u001b[0m \u001b[39mself\u001b[39m\u001b[39m.\u001b[39mhandles: IOHandles \u001b[39m|\u001b[39m \u001b[39mNone\u001b[39;00m \u001b[39m=\u001b[39m \u001b[39mNone\u001b[39;00m\n\u001b[0;32m-> 1442\u001b[0m \u001b[39mself\u001b[39m\u001b[39m.\u001b[39m_engine \u001b[39m=\u001b[39m \u001b[39mself\u001b[39;49m\u001b[39m.\u001b[39;49m_make_engine(f, \u001b[39mself\u001b[39;49m\u001b[39m.\u001b[39;49mengine)\n",
      "File \u001b[0;32m~/opt/anaconda3/envs/plot/lib/python3.9/site-packages/pandas/io/parsers/readers.py:1729\u001b[0m, in \u001b[0;36mTextFileReader._make_engine\u001b[0;34m(self, f, engine)\u001b[0m\n\u001b[1;32m   1727\u001b[0m     is_text \u001b[39m=\u001b[39m \u001b[39mFalse\u001b[39;00m\n\u001b[1;32m   1728\u001b[0m     mode \u001b[39m=\u001b[39m \u001b[39m\"\u001b[39m\u001b[39mrb\u001b[39m\u001b[39m\"\u001b[39m\n\u001b[0;32m-> 1729\u001b[0m \u001b[39mself\u001b[39m\u001b[39m.\u001b[39mhandles \u001b[39m=\u001b[39m get_handle(\n\u001b[1;32m   1730\u001b[0m     f,\n\u001b[1;32m   1731\u001b[0m     mode,\n\u001b[1;32m   1732\u001b[0m     encoding\u001b[39m=\u001b[39;49m\u001b[39mself\u001b[39;49m\u001b[39m.\u001b[39;49moptions\u001b[39m.\u001b[39;49mget(\u001b[39m\"\u001b[39;49m\u001b[39mencoding\u001b[39;49m\u001b[39m\"\u001b[39;49m, \u001b[39mNone\u001b[39;49;00m),\n\u001b[1;32m   1733\u001b[0m     compression\u001b[39m=\u001b[39;49m\u001b[39mself\u001b[39;49m\u001b[39m.\u001b[39;49moptions\u001b[39m.\u001b[39;49mget(\u001b[39m\"\u001b[39;49m\u001b[39mcompression\u001b[39;49m\u001b[39m\"\u001b[39;49m, \u001b[39mNone\u001b[39;49;00m),\n\u001b[1;32m   1734\u001b[0m     memory_map\u001b[39m=\u001b[39;49m\u001b[39mself\u001b[39;49m\u001b[39m.\u001b[39;49moptions\u001b[39m.\u001b[39;49mget(\u001b[39m\"\u001b[39;49m\u001b[39mmemory_map\u001b[39;49m\u001b[39m\"\u001b[39;49m, \u001b[39mFalse\u001b[39;49;00m),\n\u001b[1;32m   1735\u001b[0m     is_text\u001b[39m=\u001b[39;49mis_text,\n\u001b[1;32m   1736\u001b[0m     errors\u001b[39m=\u001b[39;49m\u001b[39mself\u001b[39;49m\u001b[39m.\u001b[39;49moptions\u001b[39m.\u001b[39;49mget(\u001b[39m\"\u001b[39;49m\u001b[39mencoding_errors\u001b[39;49m\u001b[39m\"\u001b[39;49m, \u001b[39m\"\u001b[39;49m\u001b[39mstrict\u001b[39;49m\u001b[39m\"\u001b[39;49m),\n\u001b[1;32m   1737\u001b[0m     storage_options\u001b[39m=\u001b[39;49m\u001b[39mself\u001b[39;49m\u001b[39m.\u001b[39;49moptions\u001b[39m.\u001b[39;49mget(\u001b[39m\"\u001b[39;49m\u001b[39mstorage_options\u001b[39;49m\u001b[39m\"\u001b[39;49m, \u001b[39mNone\u001b[39;49;00m),\n\u001b[1;32m   1738\u001b[0m )\n\u001b[1;32m   1739\u001b[0m \u001b[39massert\u001b[39;00m \u001b[39mself\u001b[39m\u001b[39m.\u001b[39mhandles \u001b[39mis\u001b[39;00m \u001b[39mnot\u001b[39;00m \u001b[39mNone\u001b[39;00m\n\u001b[1;32m   1740\u001b[0m f \u001b[39m=\u001b[39m \u001b[39mself\u001b[39m\u001b[39m.\u001b[39mhandles\u001b[39m.\u001b[39mhandle\n",
      "File \u001b[0;32m~/opt/anaconda3/envs/plot/lib/python3.9/site-packages/pandas/io/common.py:857\u001b[0m, in \u001b[0;36mget_handle\u001b[0;34m(path_or_buf, mode, encoding, compression, memory_map, is_text, errors, storage_options)\u001b[0m\n\u001b[1;32m    852\u001b[0m \u001b[39melif\u001b[39;00m \u001b[39misinstance\u001b[39m(handle, \u001b[39mstr\u001b[39m):\n\u001b[1;32m    853\u001b[0m     \u001b[39m# Check whether the filename is to be opened in binary mode.\u001b[39;00m\n\u001b[1;32m    854\u001b[0m     \u001b[39m# Binary mode does not support 'encoding' and 'newline'.\u001b[39;00m\n\u001b[1;32m    855\u001b[0m     \u001b[39mif\u001b[39;00m ioargs\u001b[39m.\u001b[39mencoding \u001b[39mand\u001b[39;00m \u001b[39m\"\u001b[39m\u001b[39mb\u001b[39m\u001b[39m\"\u001b[39m \u001b[39mnot\u001b[39;00m \u001b[39min\u001b[39;00m ioargs\u001b[39m.\u001b[39mmode:\n\u001b[1;32m    856\u001b[0m         \u001b[39m# Encoding\u001b[39;00m\n\u001b[0;32m--> 857\u001b[0m         handle \u001b[39m=\u001b[39m \u001b[39mopen\u001b[39;49m(\n\u001b[1;32m    858\u001b[0m             handle,\n\u001b[1;32m    859\u001b[0m             ioargs\u001b[39m.\u001b[39;49mmode,\n\u001b[1;32m    860\u001b[0m             encoding\u001b[39m=\u001b[39;49mioargs\u001b[39m.\u001b[39;49mencoding,\n\u001b[1;32m    861\u001b[0m             errors\u001b[39m=\u001b[39;49merrors,\n\u001b[1;32m    862\u001b[0m             newline\u001b[39m=\u001b[39;49m\u001b[39m\"\u001b[39;49m\u001b[39m\"\u001b[39;49m,\n\u001b[1;32m    863\u001b[0m         )\n\u001b[1;32m    864\u001b[0m     \u001b[39melse\u001b[39;00m:\n\u001b[1;32m    865\u001b[0m         \u001b[39m# Binary mode\u001b[39;00m\n\u001b[1;32m    866\u001b[0m         handle \u001b[39m=\u001b[39m \u001b[39mopen\u001b[39m(handle, ioargs\u001b[39m.\u001b[39mmode)\n",
      "\u001b[0;31mFileNotFoundError\u001b[0m: [Errno 2] No such file or directory: 'data/mwz20/KAGE/max_entropy/k500/k500_test_acc.csv'"
     ]
    }
   ],
   "source": [
    "pd.read_csv('data/mwz20/KAGE/max_entropy/k500/k500_test_acc.csv')\n"
   ]
  },
  {
   "cell_type": "code",
   "execution_count": 42,
   "metadata": {
    "scrolled": false
   },
   "outputs": [
    {
     "name": "stdout",
     "output_type": "stream",
     "text": [
      "============== ./data/mwz20/KAGE/max_entropy/k500/k500_test_acc.csv ==============\n"
     ]
    },
    {
     "ename": "FileNotFoundError",
     "evalue": "[Errno 2] No such file or directory: './data/mwz20/KAGE/max_entropy/k500/k500_test_acc.csv'",
     "output_type": "error",
     "traceback": [
      "\u001b[0;31m---------------------------------------------------------------------------\u001b[0m",
      "\u001b[0;31mFileNotFoundError\u001b[0m                         Traceback (most recent call last)",
      "\u001b[1;32m/Users/zz104938/Documents/EMNLP-DST/analy/.ipynb_checkpoints/ablation_KAGE_k500_1000_1500-checkpoint.ipynb Cell 31\u001b[0m in \u001b[0;36m<cell line: 1>\u001b[0;34m()\u001b[0m\n\u001b[0;32m----> <a href='vscode-notebook-cell:/Users/zz104938/Documents/EMNLP-DST/analy/.ipynb_checkpoints/ablation_KAGE_k500_1000_1500-checkpoint.ipynb#X42sZmlsZQ%3D%3D?line=0'>1</a>\u001b[0m k500_ME \u001b[39m=\u001b[39m prepare_ME_inputs(\u001b[39m20\u001b[39;49m, \u001b[39m'\u001b[39;49m\u001b[39mKAGE\u001b[39;49m\u001b[39m'\u001b[39;49m)\n\u001b[1;32m      <a href='vscode-notebook-cell:/Users/zz104938/Documents/EMNLP-DST/analy/.ipynb_checkpoints/ablation_KAGE_k500_1000_1500-checkpoint.ipynb#X42sZmlsZQ%3D%3D?line=1'>2</a>\u001b[0m plot_single_k_joint_acc(k500_ME)\n",
      "\u001b[1;32m/Users/zz104938/Documents/EMNLP-DST/analy/.ipynb_checkpoints/ablation_KAGE_k500_1000_1500-checkpoint.ipynb Cell 31\u001b[0m in \u001b[0;36mprepare_ME_inputs\u001b[0;34m(mwz, model)\u001b[0m\n\u001b[1;32m      <a href='vscode-notebook-cell:/Users/zz104938/Documents/EMNLP-DST/analy/.ipynb_checkpoints/ablation_KAGE_k500_1000_1500-checkpoint.ipynb#X42sZmlsZQ%3D%3D?line=8'>9</a>\u001b[0m         acc_csv_path \u001b[39m=\u001b[39m \u001b[39mf\u001b[39m\u001b[39m'\u001b[39m\u001b[39m./data/mwz\u001b[39m\u001b[39m{\u001b[39;00mmwz\u001b[39m}\u001b[39;00m\u001b[39m/\u001b[39m\u001b[39m{\u001b[39;00mmodel\u001b[39m}\u001b[39;00m\u001b[39m/\u001b[39m\u001b[39m{\u001b[39;00mstrategy\u001b[39m}\u001b[39;00m\u001b[39m/k\u001b[39m\u001b[39m{\u001b[39;00mk\u001b[39m}\u001b[39;00m\u001b[39m/k\u001b[39m\u001b[39m{\u001b[39;00mk\u001b[39m}\u001b[39;00m\u001b[39m_test_acc.csv\u001b[39m\u001b[39m'\u001b[39m\n\u001b[1;32m     <a href='vscode-notebook-cell:/Users/zz104938/Documents/EMNLP-DST/analy/.ipynb_checkpoints/ablation_KAGE_k500_1000_1500-checkpoint.ipynb#X42sZmlsZQ%3D%3D?line=9'>10</a>\u001b[0m         \u001b[39mprint\u001b[39m(\u001b[39mf\u001b[39m\u001b[39m'\u001b[39m\u001b[39m============== \u001b[39m\u001b[39m{\u001b[39;00macc_csv_path\u001b[39m}\u001b[39;00m\u001b[39m ==============\u001b[39m\u001b[39m'\u001b[39m)\n\u001b[0;32m---> <a href='vscode-notebook-cell:/Users/zz104938/Documents/EMNLP-DST/analy/.ipynb_checkpoints/ablation_KAGE_k500_1000_1500-checkpoint.ipynb#X42sZmlsZQ%3D%3D?line=11'>12</a>\u001b[0m         df \u001b[39m=\u001b[39m make_merged_df_for_plotting(acc_csv_path)\n\u001b[1;32m     <a href='vscode-notebook-cell:/Users/zz104938/Documents/EMNLP-DST/analy/.ipynb_checkpoints/ablation_KAGE_k500_1000_1500-checkpoint.ipynb#X42sZmlsZQ%3D%3D?line=12'>13</a>\u001b[0m \u001b[39m#         display(df)\u001b[39;00m\n\u001b[1;32m     <a href='vscode-notebook-cell:/Users/zz104938/Documents/EMNLP-DST/analy/.ipynb_checkpoints/ablation_KAGE_k500_1000_1500-checkpoint.ipynb#X42sZmlsZQ%3D%3D?line=13'>14</a>\u001b[0m         \n\u001b[1;32m     <a href='vscode-notebook-cell:/Users/zz104938/Documents/EMNLP-DST/analy/.ipynb_checkpoints/ablation_KAGE_k500_1000_1500-checkpoint.ipynb#X42sZmlsZQ%3D%3D?line=14'>15</a>\u001b[0m         \u001b[39m# only use round <= 4\u001b[39;00m\n\u001b[1;32m     <a href='vscode-notebook-cell:/Users/zz104938/Documents/EMNLP-DST/analy/.ipynb_checkpoints/ablation_KAGE_k500_1000_1500-checkpoint.ipynb#X42sZmlsZQ%3D%3D?line=15'>16</a>\u001b[0m         \u001b[39mif\u001b[39;00m k \u001b[39m==\u001b[39m \u001b[39m500\u001b[39m:\n",
      "\u001b[1;32m/Users/zz104938/Documents/EMNLP-DST/analy/.ipynb_checkpoints/ablation_KAGE_k500_1000_1500-checkpoint.ipynb Cell 31\u001b[0m in \u001b[0;36mmake_merged_df_for_plotting\u001b[0;34m(test_acc_csv_path)\u001b[0m\n\u001b[1;32m      <a href='vscode-notebook-cell:/Users/zz104938/Documents/EMNLP-DST/analy/.ipynb_checkpoints/ablation_KAGE_k500_1000_1500-checkpoint.ipynb#X42sZmlsZQ%3D%3D?line=0'>1</a>\u001b[0m \u001b[39mdef\u001b[39;00m \u001b[39mmake_merged_df_for_plotting\u001b[39m(test_acc_csv_path):\n\u001b[0;32m----> <a href='vscode-notebook-cell:/Users/zz104938/Documents/EMNLP-DST/analy/.ipynb_checkpoints/ablation_KAGE_k500_1000_1500-checkpoint.ipynb#X42sZmlsZQ%3D%3D?line=1'>2</a>\u001b[0m     acc_df \u001b[39m=\u001b[39m pd\u001b[39m.\u001b[39;49mread_csv(test_acc_csv_path)\n\u001b[1;32m      <a href='vscode-notebook-cell:/Users/zz104938/Documents/EMNLP-DST/analy/.ipynb_checkpoints/ablation_KAGE_k500_1000_1500-checkpoint.ipynb#X42sZmlsZQ%3D%3D?line=2'>3</a>\u001b[0m     mean \u001b[39m=\u001b[39m acc_df\u001b[39m.\u001b[39mgroupby(\u001b[39m'\u001b[39m\u001b[39mround\u001b[39m\u001b[39m'\u001b[39m)[[\u001b[39m'\u001b[39m\u001b[39mtest_joint_acc\u001b[39m\u001b[39m'\u001b[39m, \u001b[39m'\u001b[39m\u001b[39mtest_slot_acc\u001b[39m\u001b[39m'\u001b[39m]]\u001b[39m.\u001b[39mmean()\u001b[39m.\u001b[39mreset_index()\n\u001b[1;32m      <a href='vscode-notebook-cell:/Users/zz104938/Documents/EMNLP-DST/analy/.ipynb_checkpoints/ablation_KAGE_k500_1000_1500-checkpoint.ipynb#X42sZmlsZQ%3D%3D?line=3'>4</a>\u001b[0m     std \u001b[39m=\u001b[39m acc_df\u001b[39m.\u001b[39mgroupby(\u001b[39m'\u001b[39m\u001b[39mround\u001b[39m\u001b[39m'\u001b[39m)[[\u001b[39m'\u001b[39m\u001b[39mtest_joint_acc\u001b[39m\u001b[39m'\u001b[39m, \u001b[39m'\u001b[39m\u001b[39mtest_slot_acc\u001b[39m\u001b[39m'\u001b[39m]]\u001b[39m.\u001b[39mstd(ddof\u001b[39m=\u001b[39m\u001b[39m0\u001b[39m)\u001b[39m.\u001b[39mreset_index()\n",
      "File \u001b[0;32m~/opt/anaconda3/envs/plot/lib/python3.9/site-packages/pandas/util/_decorators.py:211\u001b[0m, in \u001b[0;36mdeprecate_kwarg.<locals>._deprecate_kwarg.<locals>.wrapper\u001b[0;34m(*args, **kwargs)\u001b[0m\n\u001b[1;32m    209\u001b[0m     \u001b[39melse\u001b[39;00m:\n\u001b[1;32m    210\u001b[0m         kwargs[new_arg_name] \u001b[39m=\u001b[39m new_arg_value\n\u001b[0;32m--> 211\u001b[0m \u001b[39mreturn\u001b[39;00m func(\u001b[39m*\u001b[39;49margs, \u001b[39m*\u001b[39;49m\u001b[39m*\u001b[39;49mkwargs)\n",
      "File \u001b[0;32m~/opt/anaconda3/envs/plot/lib/python3.9/site-packages/pandas/util/_decorators.py:317\u001b[0m, in \u001b[0;36mdeprecate_nonkeyword_arguments.<locals>.decorate.<locals>.wrapper\u001b[0;34m(*args, **kwargs)\u001b[0m\n\u001b[1;32m    311\u001b[0m \u001b[39mif\u001b[39;00m \u001b[39mlen\u001b[39m(args) \u001b[39m>\u001b[39m num_allow_args:\n\u001b[1;32m    312\u001b[0m     warnings\u001b[39m.\u001b[39mwarn(\n\u001b[1;32m    313\u001b[0m         msg\u001b[39m.\u001b[39mformat(arguments\u001b[39m=\u001b[39marguments),\n\u001b[1;32m    314\u001b[0m         \u001b[39mFutureWarning\u001b[39;00m,\n\u001b[1;32m    315\u001b[0m         stacklevel\u001b[39m=\u001b[39mfind_stack_level(inspect\u001b[39m.\u001b[39mcurrentframe()),\n\u001b[1;32m    316\u001b[0m     )\n\u001b[0;32m--> 317\u001b[0m \u001b[39mreturn\u001b[39;00m func(\u001b[39m*\u001b[39;49margs, \u001b[39m*\u001b[39;49m\u001b[39m*\u001b[39;49mkwargs)\n",
      "File \u001b[0;32m~/opt/anaconda3/envs/plot/lib/python3.9/site-packages/pandas/io/parsers/readers.py:950\u001b[0m, in \u001b[0;36mread_csv\u001b[0;34m(filepath_or_buffer, sep, delimiter, header, names, index_col, usecols, squeeze, prefix, mangle_dupe_cols, dtype, engine, converters, true_values, false_values, skipinitialspace, skiprows, skipfooter, nrows, na_values, keep_default_na, na_filter, verbose, skip_blank_lines, parse_dates, infer_datetime_format, keep_date_col, date_parser, dayfirst, cache_dates, iterator, chunksize, compression, thousands, decimal, lineterminator, quotechar, quoting, doublequote, escapechar, comment, encoding, encoding_errors, dialect, error_bad_lines, warn_bad_lines, on_bad_lines, delim_whitespace, low_memory, memory_map, float_precision, storage_options)\u001b[0m\n\u001b[1;32m    935\u001b[0m kwds_defaults \u001b[39m=\u001b[39m _refine_defaults_read(\n\u001b[1;32m    936\u001b[0m     dialect,\n\u001b[1;32m    937\u001b[0m     delimiter,\n\u001b[0;32m   (...)\u001b[0m\n\u001b[1;32m    946\u001b[0m     defaults\u001b[39m=\u001b[39m{\u001b[39m\"\u001b[39m\u001b[39mdelimiter\u001b[39m\u001b[39m\"\u001b[39m: \u001b[39m\"\u001b[39m\u001b[39m,\u001b[39m\u001b[39m\"\u001b[39m},\n\u001b[1;32m    947\u001b[0m )\n\u001b[1;32m    948\u001b[0m kwds\u001b[39m.\u001b[39mupdate(kwds_defaults)\n\u001b[0;32m--> 950\u001b[0m \u001b[39mreturn\u001b[39;00m _read(filepath_or_buffer, kwds)\n",
      "File \u001b[0;32m~/opt/anaconda3/envs/plot/lib/python3.9/site-packages/pandas/io/parsers/readers.py:605\u001b[0m, in \u001b[0;36m_read\u001b[0;34m(filepath_or_buffer, kwds)\u001b[0m\n\u001b[1;32m    602\u001b[0m _validate_names(kwds\u001b[39m.\u001b[39mget(\u001b[39m\"\u001b[39m\u001b[39mnames\u001b[39m\u001b[39m\"\u001b[39m, \u001b[39mNone\u001b[39;00m))\n\u001b[1;32m    604\u001b[0m \u001b[39m# Create the parser.\u001b[39;00m\n\u001b[0;32m--> 605\u001b[0m parser \u001b[39m=\u001b[39m TextFileReader(filepath_or_buffer, \u001b[39m*\u001b[39;49m\u001b[39m*\u001b[39;49mkwds)\n\u001b[1;32m    607\u001b[0m \u001b[39mif\u001b[39;00m chunksize \u001b[39mor\u001b[39;00m iterator:\n\u001b[1;32m    608\u001b[0m     \u001b[39mreturn\u001b[39;00m parser\n",
      "File \u001b[0;32m~/opt/anaconda3/envs/plot/lib/python3.9/site-packages/pandas/io/parsers/readers.py:1442\u001b[0m, in \u001b[0;36mTextFileReader.__init__\u001b[0;34m(self, f, engine, **kwds)\u001b[0m\n\u001b[1;32m   1439\u001b[0m     \u001b[39mself\u001b[39m\u001b[39m.\u001b[39moptions[\u001b[39m\"\u001b[39m\u001b[39mhas_index_names\u001b[39m\u001b[39m\"\u001b[39m] \u001b[39m=\u001b[39m kwds[\u001b[39m\"\u001b[39m\u001b[39mhas_index_names\u001b[39m\u001b[39m\"\u001b[39m]\n\u001b[1;32m   1441\u001b[0m \u001b[39mself\u001b[39m\u001b[39m.\u001b[39mhandles: IOHandles \u001b[39m|\u001b[39m \u001b[39mNone\u001b[39;00m \u001b[39m=\u001b[39m \u001b[39mNone\u001b[39;00m\n\u001b[0;32m-> 1442\u001b[0m \u001b[39mself\u001b[39m\u001b[39m.\u001b[39m_engine \u001b[39m=\u001b[39m \u001b[39mself\u001b[39;49m\u001b[39m.\u001b[39;49m_make_engine(f, \u001b[39mself\u001b[39;49m\u001b[39m.\u001b[39;49mengine)\n",
      "File \u001b[0;32m~/opt/anaconda3/envs/plot/lib/python3.9/site-packages/pandas/io/parsers/readers.py:1729\u001b[0m, in \u001b[0;36mTextFileReader._make_engine\u001b[0;34m(self, f, engine)\u001b[0m\n\u001b[1;32m   1727\u001b[0m     is_text \u001b[39m=\u001b[39m \u001b[39mFalse\u001b[39;00m\n\u001b[1;32m   1728\u001b[0m     mode \u001b[39m=\u001b[39m \u001b[39m\"\u001b[39m\u001b[39mrb\u001b[39m\u001b[39m\"\u001b[39m\n\u001b[0;32m-> 1729\u001b[0m \u001b[39mself\u001b[39m\u001b[39m.\u001b[39mhandles \u001b[39m=\u001b[39m get_handle(\n\u001b[1;32m   1730\u001b[0m     f,\n\u001b[1;32m   1731\u001b[0m     mode,\n\u001b[1;32m   1732\u001b[0m     encoding\u001b[39m=\u001b[39;49m\u001b[39mself\u001b[39;49m\u001b[39m.\u001b[39;49moptions\u001b[39m.\u001b[39;49mget(\u001b[39m\"\u001b[39;49m\u001b[39mencoding\u001b[39;49m\u001b[39m\"\u001b[39;49m, \u001b[39mNone\u001b[39;49;00m),\n\u001b[1;32m   1733\u001b[0m     compression\u001b[39m=\u001b[39;49m\u001b[39mself\u001b[39;49m\u001b[39m.\u001b[39;49moptions\u001b[39m.\u001b[39;49mget(\u001b[39m\"\u001b[39;49m\u001b[39mcompression\u001b[39;49m\u001b[39m\"\u001b[39;49m, \u001b[39mNone\u001b[39;49;00m),\n\u001b[1;32m   1734\u001b[0m     memory_map\u001b[39m=\u001b[39;49m\u001b[39mself\u001b[39;49m\u001b[39m.\u001b[39;49moptions\u001b[39m.\u001b[39;49mget(\u001b[39m\"\u001b[39;49m\u001b[39mmemory_map\u001b[39;49m\u001b[39m\"\u001b[39;49m, \u001b[39mFalse\u001b[39;49;00m),\n\u001b[1;32m   1735\u001b[0m     is_text\u001b[39m=\u001b[39;49mis_text,\n\u001b[1;32m   1736\u001b[0m     errors\u001b[39m=\u001b[39;49m\u001b[39mself\u001b[39;49m\u001b[39m.\u001b[39;49moptions\u001b[39m.\u001b[39;49mget(\u001b[39m\"\u001b[39;49m\u001b[39mencoding_errors\u001b[39;49m\u001b[39m\"\u001b[39;49m, \u001b[39m\"\u001b[39;49m\u001b[39mstrict\u001b[39;49m\u001b[39m\"\u001b[39;49m),\n\u001b[1;32m   1737\u001b[0m     storage_options\u001b[39m=\u001b[39;49m\u001b[39mself\u001b[39;49m\u001b[39m.\u001b[39;49moptions\u001b[39m.\u001b[39;49mget(\u001b[39m\"\u001b[39;49m\u001b[39mstorage_options\u001b[39;49m\u001b[39m\"\u001b[39;49m, \u001b[39mNone\u001b[39;49;00m),\n\u001b[1;32m   1738\u001b[0m )\n\u001b[1;32m   1739\u001b[0m \u001b[39massert\u001b[39;00m \u001b[39mself\u001b[39m\u001b[39m.\u001b[39mhandles \u001b[39mis\u001b[39;00m \u001b[39mnot\u001b[39;00m \u001b[39mNone\u001b[39;00m\n\u001b[1;32m   1740\u001b[0m f \u001b[39m=\u001b[39m \u001b[39mself\u001b[39m\u001b[39m.\u001b[39mhandles\u001b[39m.\u001b[39mhandle\n",
      "File \u001b[0;32m~/opt/anaconda3/envs/plot/lib/python3.9/site-packages/pandas/io/common.py:857\u001b[0m, in \u001b[0;36mget_handle\u001b[0;34m(path_or_buf, mode, encoding, compression, memory_map, is_text, errors, storage_options)\u001b[0m\n\u001b[1;32m    852\u001b[0m \u001b[39melif\u001b[39;00m \u001b[39misinstance\u001b[39m(handle, \u001b[39mstr\u001b[39m):\n\u001b[1;32m    853\u001b[0m     \u001b[39m# Check whether the filename is to be opened in binary mode.\u001b[39;00m\n\u001b[1;32m    854\u001b[0m     \u001b[39m# Binary mode does not support 'encoding' and 'newline'.\u001b[39;00m\n\u001b[1;32m    855\u001b[0m     \u001b[39mif\u001b[39;00m ioargs\u001b[39m.\u001b[39mencoding \u001b[39mand\u001b[39;00m \u001b[39m\"\u001b[39m\u001b[39mb\u001b[39m\u001b[39m\"\u001b[39m \u001b[39mnot\u001b[39;00m \u001b[39min\u001b[39;00m ioargs\u001b[39m.\u001b[39mmode:\n\u001b[1;32m    856\u001b[0m         \u001b[39m# Encoding\u001b[39;00m\n\u001b[0;32m--> 857\u001b[0m         handle \u001b[39m=\u001b[39m \u001b[39mopen\u001b[39;49m(\n\u001b[1;32m    858\u001b[0m             handle,\n\u001b[1;32m    859\u001b[0m             ioargs\u001b[39m.\u001b[39;49mmode,\n\u001b[1;32m    860\u001b[0m             encoding\u001b[39m=\u001b[39;49mioargs\u001b[39m.\u001b[39;49mencoding,\n\u001b[1;32m    861\u001b[0m             errors\u001b[39m=\u001b[39;49merrors,\n\u001b[1;32m    862\u001b[0m             newline\u001b[39m=\u001b[39;49m\u001b[39m\"\u001b[39;49m\u001b[39m\"\u001b[39;49m,\n\u001b[1;32m    863\u001b[0m         )\n\u001b[1;32m    864\u001b[0m     \u001b[39melse\u001b[39;00m:\n\u001b[1;32m    865\u001b[0m         \u001b[39m# Binary mode\u001b[39;00m\n\u001b[1;32m    866\u001b[0m         handle \u001b[39m=\u001b[39m \u001b[39mopen\u001b[39m(handle, ioargs\u001b[39m.\u001b[39mmode)\n",
      "\u001b[0;31mFileNotFoundError\u001b[0m: [Errno 2] No such file or directory: './data/mwz20/KAGE/max_entropy/k500/k500_test_acc.csv'"
     ]
    }
   ],
   "source": [
    "k500_ME = prepare_ME_inputs(20, 'KAGE')\n",
    "plot_single_k_joint_acc(k500_ME)"
   ]
  },
  {
   "cell_type": "code",
   "execution_count": null,
   "metadata": {},
   "outputs": [
    {
     "ename": "",
     "evalue": "",
     "output_type": "error",
     "traceback": [
      "\u001b[1;31mRunning cells with 'Python 3.8.9 64-bit' requires ipykernel package.\n",
      "\u001b[1;31mRun the following command to install 'ipykernel' into the Python environment. \n",
      "\u001b[1;31mCommand: '/usr/bin/python3 -m pip install ipykernel -U --user --force-reinstall'"
     ]
    }
   ],
   "source": [
    "k500_LC = prepare_LC_inputs(20, 'KAGE')\n",
    "plot_single_k_joint_acc(k500_LC)"
   ]
  },
  {
   "cell_type": "code",
   "execution_count": null,
   "metadata": {},
   "outputs": [
    {
     "ename": "",
     "evalue": "",
     "output_type": "error",
     "traceback": [
      "\u001b[1;31mRunning cells with 'Python 3.8.9 64-bit' requires ipykernel package.\n",
      "\u001b[1;31mRun the following command to install 'ipykernel' into the Python environment. \n",
      "\u001b[1;31mCommand: '/usr/bin/python3 -m pip install ipykernel -U --user --force-reinstall'"
     ]
    }
   ],
   "source": [
    "k500_RS = prepare_RS_inputs(20, 'KAGE')\n",
    "plot_single_k_joint_acc(k500_RS)"
   ]
  },
  {
   "cell_type": "markdown",
   "metadata": {},
   "source": [
    "## Plot single k in stacked graph"
   ]
  },
  {
   "cell_type": "code",
   "execution_count": null,
   "metadata": {},
   "outputs": [
    {
     "ename": "",
     "evalue": "",
     "output_type": "error",
     "traceback": [
      "\u001b[1;31mRunning cells with 'Python 3.8.9 64-bit' requires ipykernel package.\n",
      "\u001b[1;31mRun the following command to install 'ipykernel' into the Python environment. \n",
      "\u001b[1;31mCommand: '/usr/bin/python3 -m pip install ipykernel -U --user --force-reinstall'"
     ]
    }
   ],
   "source": [
    "def plot_stacked_single_k_joint_acc(k500_RS, k500_LC, k500_ME):\n",
    "    \n",
    "    RS_df_list, RS_strategy_list = k500_RS\n",
    "    LC_df_list, LC_strategy_list = k500_LC\n",
    "    ME_df_list, ME_strategy_list = k500_ME\n",
    "    \n",
    "    # update \n",
    "    RS_strategy_list = ['k=500', 'k=1000', 'k=1500']\n",
    "    LC_strategy_list = ['k=500', 'k=1000', 'k=1500']\n",
    "    ME_strategy_list = ['k=500', 'k=1000', 'k=1500']\n",
    "    \n",
    "    fig = make_subplots(\n",
    "        rows=3, cols=1,\n",
    "        subplot_titles=(\n",
    "            \"Random Sampling (RS)\", \n",
    "            \"Least Confidence (LC)\",\n",
    "            \"Maximum Entropy (ME)\", \n",
    "        ),\n",
    "        shared_xaxes=True,\n",
    "        vertical_spacing=0.05,\n",
    "#         horizontal_spacing=0.05,\n",
    "    )\n",
    "    \n",
    "    colCycle = get_colCycle()\n",
    "    line_color=next_col(cols=colCycle)\n",
    "    \n",
    "    \n",
    "    # RS - k500, 1000, 1500\n",
    "    for i, df in enumerate(RS_df_list):\n",
    "    \n",
    "        y_upper = list(df[\"test_joint_acc\"] + df[\"joint_acc_std\"])\n",
    "        y_lower = list(df[\"test_joint_acc\"] - df[\"joint_acc_std\"])\n",
    "        y_lower = y_lower[::-1]\n",
    "\n",
    "        x_std = list(df[\"# of labelled dialogue turns\"])\n",
    "        x_std = x_std + x_std[::-1]\n",
    "\n",
    "        new_col = next(line_color)\n",
    "        \n",
    "#         if '500' in RS_strategy_list[i]:\n",
    "#             line_style = dict(color=new_col, width=4.5, dash='dash')\n",
    "#         elif '1000' in RS_strategy_list[i]:\n",
    "#             line_style = dict(color=new_col, width=4.5, dash='dashdot')\n",
    "#         elif '1500' in RS_strategy_list[i]:\n",
    "#             line_style = dict(color=new_col, width=4.5)\n",
    "        \n",
    "        line_style = dict(color=new_col, width=4.5, dash='dash')\n",
    "        \n",
    "        fig.add_trace(\n",
    "            go.Scatter(\n",
    "                x=x_std, \n",
    "                y=y_upper + y_lower, \n",
    "                fill='tozeroy',\n",
    "                fillcolor=new_col,\n",
    "                line=dict(color='rgba(255,255,255,0)'),\n",
    "                name=RS_strategy_list[i],\n",
    "                mode=\"lines\",\n",
    "                showlegend=False,\n",
    "            ),\n",
    "            row=1, col=1\n",
    "        )\n",
    "\n",
    "        fig.add_trace(\n",
    "            go.Scatter(\n",
    "                x=df[\"# of labelled dialogue turns\"], \n",
    "                y=df[\"test_joint_acc\"], \n",
    "                line=line_style,\n",
    "                mode=\"lines+markers\",\n",
    "                name=RS_strategy_list[i]\n",
    "            ),\n",
    "            row=1, col=1\n",
    "        )\n",
    "        \n",
    "    line_color=next_col(cols=colCycle)\n",
    "    # LC - k500, 1000, 1500\n",
    "    for i, df in enumerate(LC_df_list):\n",
    "    \n",
    "        y_upper = list(df[\"test_joint_acc\"] + df[\"joint_acc_std\"])\n",
    "        y_lower = list(df[\"test_joint_acc\"] - df[\"joint_acc_std\"])\n",
    "        y_lower = y_lower[::-1]\n",
    "\n",
    "        x_std = list(df[\"# of labelled dialogue turns\"])\n",
    "        x_std = x_std + x_std[::-1]\n",
    "\n",
    "        new_col = next(line_color)\n",
    "        \n",
    "#         if '500' in RS_strategy_list[i]:\n",
    "#             line_style = dict(color=new_col, width=4.5, dash='dash')\n",
    "#         elif '1000' in RS_strategy_list[i]:\n",
    "#             line_style = dict(color=new_col, width=4.5, dash='dashdot')\n",
    "#         elif '1500' in RS_strategy_list[i]:\n",
    "#             line_style = dict(color=new_col, width=4.5, dash='')\n",
    "        \n",
    "        line_style = dict(color=new_col, width=4.5, dash='dash')\n",
    "        \n",
    "        fig.add_trace(\n",
    "            go.Scatter(\n",
    "                x=x_std, \n",
    "                y=y_upper + y_lower, \n",
    "                fill='tozeroy',\n",
    "                fillcolor=new_col,\n",
    "                line=dict(color='rgba(255,255,255,0)'),\n",
    "#                 name=LC_strategy_list[i],\n",
    "                mode=\"lines\",\n",
    "                showlegend=False,\n",
    "            ),\n",
    "            row=2, col=1\n",
    "        )\n",
    "\n",
    "        fig.add_trace(\n",
    "            go.Scatter(\n",
    "                x=df[\"# of labelled dialogue turns\"], \n",
    "                y=df[\"test_joint_acc\"], \n",
    "                line=line_style,\n",
    "                mode=\"lines+markers\",\n",
    "#                 name=LC_strategy_list[i],\n",
    "                showlegend=False,\n",
    "            ),\n",
    "            row=2, col=1\n",
    "        )\n",
    "        \n",
    "    line_color=next_col(cols=colCycle)\n",
    "    # ME - k500, 1000, 1500\n",
    "    for i, df in enumerate(ME_df_list):\n",
    "    \n",
    "        y_upper = list(df[\"test_joint_acc\"] + df[\"joint_acc_std\"])\n",
    "        y_lower = list(df[\"test_joint_acc\"] - df[\"joint_acc_std\"])\n",
    "        y_lower = y_lower[::-1]\n",
    "\n",
    "        x_std = list(df[\"# of labelled dialogue turns\"])\n",
    "        x_std = x_std + x_std[::-1]\n",
    "\n",
    "        new_col = next(line_color)\n",
    "        \n",
    "#         if '500' in RS_strategy_list[i]:\n",
    "#             line_style = dict(color=new_col, width=4.5, dash='dash')\n",
    "#         elif '1000' in RS_strategy_list[i]:\n",
    "#             line_style = dict(color=new_col, width=4.5, dash='dashdot')\n",
    "#         elif '1500' in RS_strategy_list[i]:\n",
    "#             line_style = dict(color=new_col, width=4.5)\n",
    "#         print(f'line_style: {line_style}')\n",
    "        \n",
    "        line_style = dict(color=new_col, width=4.5, dash='dash')\n",
    "        \n",
    "        fig.add_trace(\n",
    "            go.Scatter(\n",
    "                x=x_std, \n",
    "                y=y_upper + y_lower, \n",
    "                fill='tozeroy',\n",
    "                fillcolor=new_col,\n",
    "                line=dict(color='rgba(255,255,255,0)'),\n",
    "#                 name=ME_strategy_list[i],\n",
    "                mode=\"lines\",\n",
    "                showlegend=False,\n",
    "            ),\n",
    "            row=3, col=1\n",
    "        )\n",
    "\n",
    "        fig.add_trace(\n",
    "            go.Scatter(\n",
    "                x=df[\"# of labelled dialogue turns\"], \n",
    "                y=df[\"test_joint_acc\"], \n",
    "                line=line_style,\n",
    "                mode=\"lines+markers\",\n",
    "#                 name=ME_strategy_list[i],\n",
    "                showlegend=False,\n",
    "            ),\n",
    "            row=3, col=1\n",
    "        )\n",
    "    \n",
    "    fig.update_xaxes(type=\"category\", row=1, col=1)\n",
    "    fig.update_xaxes(type=\"category\", row=2, col=1)\n",
    "    fig.update_xaxes(title_text=\"# of labelled dialogue turns\", type=\"category\", row=3, col=1)\n",
    "    \n",
    "    fig.update_yaxes(range=[0.15, 0.5], row=1, col=1)\n",
    "    fig.update_yaxes(title_text=\"Joint Goal Accuracy\", range=[0.2, 0.5], row=2, col=1)\n",
    "    fig.update_yaxes(range=[0.15, 0.5], row=3, col=1)\n",
    "    \n",
    "    fig.update_annotations(font_size=12)\n",
    "    \n",
    "    fig.update_layout(\n",
    "        height=600,\n",
    "        width=400,\n",
    "        margin_l=5, margin_t=5, margin_b=5, margin_r=5,\n",
    "        legend=dict(\n",
    "            title=None, orientation = 'h', y=1.03, yanchor=\"bottom\", x=0.5, xanchor=\"center\",\n",
    "            font=dict(size=11)\n",
    "        )\n",
    "    )\n",
    "    \n",
    "#     fig.update_traces(textposition=\"top center\")\n",
    "    \n",
    "#     fig.show()\n",
    "    return fig"
   ]
  },
  {
   "cell_type": "code",
   "execution_count": null,
   "metadata": {},
   "outputs": [
    {
     "ename": "",
     "evalue": "",
     "output_type": "error",
     "traceback": [
      "\u001b[1;31mRunning cells with 'Python 3.8.9 64-bit' requires ipykernel package.\n",
      "\u001b[1;31mRun the following command to install 'ipykernel' into the Python environment. \n",
      "\u001b[1;31mCommand: '/usr/bin/python3 -m pip install ipykernel -U --user --force-reinstall'"
     ]
    }
   ],
   "source": [
    "plot_stacked_single_k_joint_acc(k500_RS, k500_LC, k500_ME)\n",
    "\n",
    "# ablation_k_size = plot_stacked_single_k_joint_acc(k500_RS, k500_LC, k500_ME)\n",
    "# pio.write_image(ablation_k_size, \"./data/plot/ablation_k_size.pdf\", width=400, height=500)"
   ]
  },
  {
   "cell_type": "code",
   "execution_count": null,
   "metadata": {},
   "outputs": [],
   "source": []
  },
  {
   "cell_type": "code",
   "execution_count": null,
   "metadata": {},
   "outputs": [],
   "source": []
  },
  {
   "cell_type": "code",
   "execution_count": null,
   "metadata": {},
   "outputs": [],
   "source": []
  },
  {
   "cell_type": "code",
   "execution_count": null,
   "metadata": {},
   "outputs": [],
   "source": []
  },
  {
   "cell_type": "markdown",
   "metadata": {},
   "source": [
    "## Plot all k=500, 1000, 1500 of all RS, ME, LC"
   ]
  },
  {
   "cell_type": "code",
   "execution_count": 40,
   "metadata": {
    "scrolled": false
   },
   "outputs": [
    {
     "name": "stdout",
     "output_type": "stream",
     "text": [
      "============== ./data/mwz20/KAGE/random/k500/k500_test_acc.csv ==============\n"
     ]
    },
    {
     "data": {
      "text/html": [
       "<div>\n",
       "<style scoped>\n",
       "    .dataframe tbody tr th:only-of-type {\n",
       "        vertical-align: middle;\n",
       "    }\n",
       "\n",
       "    .dataframe tbody tr th {\n",
       "        vertical-align: top;\n",
       "    }\n",
       "\n",
       "    .dataframe thead th {\n",
       "        text-align: right;\n",
       "    }\n",
       "</style>\n",
       "<table border=\"1\" class=\"dataframe\">\n",
       "  <thead>\n",
       "    <tr style=\"text-align: right;\">\n",
       "      <th></th>\n",
       "      <th>round</th>\n",
       "      <th>test_joint_acc</th>\n",
       "      <th>test_slot_acc</th>\n",
       "      <th>joint_acc_std</th>\n",
       "      <th>slot_acc_std</th>\n",
       "      <th># of labelled dialogue turns</th>\n",
       "    </tr>\n",
       "  </thead>\n",
       "  <tbody>\n",
       "    <tr>\n",
       "      <th>0</th>\n",
       "      <td>0</td>\n",
       "      <td>0.194181</td>\n",
       "      <td>0.919339</td>\n",
       "      <td>0.038727</td>\n",
       "      <td>0.009061</td>\n",
       "      <td>500</td>\n",
       "    </tr>\n",
       "    <tr>\n",
       "      <th>1</th>\n",
       "      <td>1</td>\n",
       "      <td>0.345293</td>\n",
       "      <td>0.951409</td>\n",
       "      <td>0.012005</td>\n",
       "      <td>0.002155</td>\n",
       "      <td>1000</td>\n",
       "    </tr>\n",
       "    <tr>\n",
       "      <th>2</th>\n",
       "      <td>2</td>\n",
       "      <td>0.391888</td>\n",
       "      <td>0.957770</td>\n",
       "      <td>0.006783</td>\n",
       "      <td>0.001603</td>\n",
       "      <td>1500</td>\n",
       "    </tr>\n",
       "    <tr>\n",
       "      <th>3</th>\n",
       "      <td>3</td>\n",
       "      <td>0.405046</td>\n",
       "      <td>0.960495</td>\n",
       "      <td>0.003798</td>\n",
       "      <td>0.000162</td>\n",
       "      <td>2000</td>\n",
       "    </tr>\n",
       "    <tr>\n",
       "      <th>4</th>\n",
       "      <td>4</td>\n",
       "      <td>0.438619</td>\n",
       "      <td>0.963843</td>\n",
       "      <td>0.004680</td>\n",
       "      <td>0.000771</td>\n",
       "      <td>2500</td>\n",
       "    </tr>\n",
       "    <tr>\n",
       "      <th>5</th>\n",
       "      <td>5</td>\n",
       "      <td>0.447640</td>\n",
       "      <td>0.965321</td>\n",
       "      <td>0.004070</td>\n",
       "      <td>0.000600</td>\n",
       "      <td>3000</td>\n",
       "    </tr>\n",
       "    <tr>\n",
       "      <th>6</th>\n",
       "      <td>6</td>\n",
       "      <td>0.475176</td>\n",
       "      <td>0.967490</td>\n",
       "      <td>0.000000</td>\n",
       "      <td>0.000000</td>\n",
       "      <td>3500</td>\n",
       "    </tr>\n",
       "    <tr>\n",
       "      <th>7</th>\n",
       "      <td>7</td>\n",
       "      <td>0.471243</td>\n",
       "      <td>0.967042</td>\n",
       "      <td>0.000000</td>\n",
       "      <td>0.000000</td>\n",
       "      <td>4000</td>\n",
       "    </tr>\n",
       "  </tbody>\n",
       "</table>\n",
       "</div>"
      ],
      "text/plain": [
       "   round  test_joint_acc  test_slot_acc  joint_acc_std  slot_acc_std  \\\n",
       "0      0        0.194181       0.919339       0.038727      0.009061   \n",
       "1      1        0.345293       0.951409       0.012005      0.002155   \n",
       "2      2        0.391888       0.957770       0.006783      0.001603   \n",
       "3      3        0.405046       0.960495       0.003798      0.000162   \n",
       "4      4        0.438619       0.963843       0.004680      0.000771   \n",
       "5      5        0.447640       0.965321       0.004070      0.000600   \n",
       "6      6        0.475176       0.967490       0.000000      0.000000   \n",
       "7      7        0.471243       0.967042       0.000000      0.000000   \n",
       "\n",
       "   # of labelled dialogue turns  \n",
       "0                           500  \n",
       "1                          1000  \n",
       "2                          1500  \n",
       "3                          2000  \n",
       "4                          2500  \n",
       "5                          3000  \n",
       "6                          3500  \n",
       "7                          4000  "
      ]
     },
     "metadata": {},
     "output_type": "display_data"
    },
    {
     "data": {
      "text/html": [
       "<div>\n",
       "<style scoped>\n",
       "    .dataframe tbody tr th:only-of-type {\n",
       "        vertical-align: middle;\n",
       "    }\n",
       "\n",
       "    .dataframe tbody tr th {\n",
       "        vertical-align: top;\n",
       "    }\n",
       "\n",
       "    .dataframe thead th {\n",
       "        text-align: right;\n",
       "    }\n",
       "</style>\n",
       "<table border=\"1\" class=\"dataframe\">\n",
       "  <thead>\n",
       "    <tr style=\"text-align: right;\">\n",
       "      <th></th>\n",
       "      <th>round</th>\n",
       "      <th>test_joint_acc</th>\n",
       "      <th>test_slot_acc</th>\n",
       "      <th>joint_acc_std</th>\n",
       "      <th>slot_acc_std</th>\n",
       "      <th># of labelled dialogue turns</th>\n",
       "    </tr>\n",
       "  </thead>\n",
       "  <tbody>\n",
       "    <tr>\n",
       "      <th>0</th>\n",
       "      <td>0</td>\n",
       "      <td>0.194181</td>\n",
       "      <td>0.919339</td>\n",
       "      <td>0.038727</td>\n",
       "      <td>0.009061</td>\n",
       "      <td>500</td>\n",
       "    </tr>\n",
       "    <tr>\n",
       "      <th>1</th>\n",
       "      <td>1</td>\n",
       "      <td>0.345293</td>\n",
       "      <td>0.951409</td>\n",
       "      <td>0.012005</td>\n",
       "      <td>0.002155</td>\n",
       "      <td>1000</td>\n",
       "    </tr>\n",
       "    <tr>\n",
       "      <th>2</th>\n",
       "      <td>2</td>\n",
       "      <td>0.391888</td>\n",
       "      <td>0.957770</td>\n",
       "      <td>0.006783</td>\n",
       "      <td>0.001603</td>\n",
       "      <td>1500</td>\n",
       "    </tr>\n",
       "    <tr>\n",
       "      <th>3</th>\n",
       "      <td>3</td>\n",
       "      <td>0.405046</td>\n",
       "      <td>0.960495</td>\n",
       "      <td>0.003798</td>\n",
       "      <td>0.000162</td>\n",
       "      <td>2000</td>\n",
       "    </tr>\n",
       "    <tr>\n",
       "      <th>4</th>\n",
       "      <td>4</td>\n",
       "      <td>0.438619</td>\n",
       "      <td>0.963843</td>\n",
       "      <td>0.004680</td>\n",
       "      <td>0.000771</td>\n",
       "      <td>2500</td>\n",
       "    </tr>\n",
       "    <tr>\n",
       "      <th>5</th>\n",
       "      <td>5</td>\n",
       "      <td>0.447640</td>\n",
       "      <td>0.965321</td>\n",
       "      <td>0.004070</td>\n",
       "      <td>0.000600</td>\n",
       "      <td>3000</td>\n",
       "    </tr>\n",
       "  </tbody>\n",
       "</table>\n",
       "</div>"
      ],
      "text/plain": [
       "   round  test_joint_acc  test_slot_acc  joint_acc_std  slot_acc_std  \\\n",
       "0      0        0.194181       0.919339       0.038727      0.009061   \n",
       "1      1        0.345293       0.951409       0.012005      0.002155   \n",
       "2      2        0.391888       0.957770       0.006783      0.001603   \n",
       "3      3        0.405046       0.960495       0.003798      0.000162   \n",
       "4      4        0.438619       0.963843       0.004680      0.000771   \n",
       "5      5        0.447640       0.965321       0.004070      0.000600   \n",
       "\n",
       "   # of labelled dialogue turns  \n",
       "0                           500  \n",
       "1                          1000  \n",
       "2                          1500  \n",
       "3                          2000  \n",
       "4                          2500  \n",
       "5                          3000  "
      ]
     },
     "metadata": {},
     "output_type": "display_data"
    },
    {
     "name": "stdout",
     "output_type": "stream",
     "text": [
      "============== ./data/mwz20/KAGE/least_confidence/k500/k500_test_acc.csv ==============\n"
     ]
    },
    {
     "data": {
      "text/html": [
       "<div>\n",
       "<style scoped>\n",
       "    .dataframe tbody tr th:only-of-type {\n",
       "        vertical-align: middle;\n",
       "    }\n",
       "\n",
       "    .dataframe tbody tr th {\n",
       "        vertical-align: top;\n",
       "    }\n",
       "\n",
       "    .dataframe thead th {\n",
       "        text-align: right;\n",
       "    }\n",
       "</style>\n",
       "<table border=\"1\" class=\"dataframe\">\n",
       "  <thead>\n",
       "    <tr style=\"text-align: right;\">\n",
       "      <th></th>\n",
       "      <th>round</th>\n",
       "      <th>test_joint_acc</th>\n",
       "      <th>test_slot_acc</th>\n",
       "      <th>joint_acc_std</th>\n",
       "      <th>slot_acc_std</th>\n",
       "      <th># of labelled dialogue turns</th>\n",
       "    </tr>\n",
       "  </thead>\n",
       "  <tbody>\n",
       "    <tr>\n",
       "      <th>0</th>\n",
       "      <td>0</td>\n",
       "      <td>0.254476</td>\n",
       "      <td>0.932314</td>\n",
       "      <td>0.009359</td>\n",
       "      <td>0.001015</td>\n",
       "      <td>500</td>\n",
       "    </tr>\n",
       "    <tr>\n",
       "      <th>1</th>\n",
       "      <td>1</td>\n",
       "      <td>0.382325</td>\n",
       "      <td>0.957755</td>\n",
       "      <td>0.015125</td>\n",
       "      <td>0.001027</td>\n",
       "      <td>1000</td>\n",
       "    </tr>\n",
       "    <tr>\n",
       "      <th>2</th>\n",
       "      <td>2</td>\n",
       "      <td>0.414270</td>\n",
       "      <td>0.961684</td>\n",
       "      <td>0.003798</td>\n",
       "      <td>0.000172</td>\n",
       "      <td>1500</td>\n",
       "    </tr>\n",
       "    <tr>\n",
       "      <th>3</th>\n",
       "      <td>3</td>\n",
       "      <td>0.436855</td>\n",
       "      <td>0.963809</td>\n",
       "      <td>0.009834</td>\n",
       "      <td>0.000855</td>\n",
       "      <td>2000</td>\n",
       "    </tr>\n",
       "    <tr>\n",
       "      <th>4</th>\n",
       "      <td>4</td>\n",
       "      <td>0.457813</td>\n",
       "      <td>0.966567</td>\n",
       "      <td>0.000136</td>\n",
       "      <td>0.000303</td>\n",
       "      <td>2500</td>\n",
       "    </tr>\n",
       "    <tr>\n",
       "      <th>5</th>\n",
       "      <td>5</td>\n",
       "      <td>0.467241</td>\n",
       "      <td>0.967766</td>\n",
       "      <td>0.008478</td>\n",
       "      <td>0.000809</td>\n",
       "      <td>3000</td>\n",
       "    </tr>\n",
       "    <tr>\n",
       "      <th>6</th>\n",
       "      <td>6</td>\n",
       "      <td>0.470022</td>\n",
       "      <td>0.967707</td>\n",
       "      <td>0.000000</td>\n",
       "      <td>0.000000</td>\n",
       "      <td>3500</td>\n",
       "    </tr>\n",
       "    <tr>\n",
       "      <th>7</th>\n",
       "      <td>7</td>\n",
       "      <td>0.476397</td>\n",
       "      <td>0.968005</td>\n",
       "      <td>0.000000</td>\n",
       "      <td>0.000000</td>\n",
       "      <td>4000</td>\n",
       "    </tr>\n",
       "  </tbody>\n",
       "</table>\n",
       "</div>"
      ],
      "text/plain": [
       "   round  test_joint_acc  test_slot_acc  joint_acc_std  slot_acc_std  \\\n",
       "0      0        0.254476       0.932314       0.009359      0.001015   \n",
       "1      1        0.382325       0.957755       0.015125      0.001027   \n",
       "2      2        0.414270       0.961684       0.003798      0.000172   \n",
       "3      3        0.436855       0.963809       0.009834      0.000855   \n",
       "4      4        0.457813       0.966567       0.000136      0.000303   \n",
       "5      5        0.467241       0.967766       0.008478      0.000809   \n",
       "6      6        0.470022       0.967707       0.000000      0.000000   \n",
       "7      7        0.476397       0.968005       0.000000      0.000000   \n",
       "\n",
       "   # of labelled dialogue turns  \n",
       "0                           500  \n",
       "1                          1000  \n",
       "2                          1500  \n",
       "3                          2000  \n",
       "4                          2500  \n",
       "5                          3000  \n",
       "6                          3500  \n",
       "7                          4000  "
      ]
     },
     "metadata": {},
     "output_type": "display_data"
    },
    {
     "data": {
      "text/html": [
       "<div>\n",
       "<style scoped>\n",
       "    .dataframe tbody tr th:only-of-type {\n",
       "        vertical-align: middle;\n",
       "    }\n",
       "\n",
       "    .dataframe tbody tr th {\n",
       "        vertical-align: top;\n",
       "    }\n",
       "\n",
       "    .dataframe thead th {\n",
       "        text-align: right;\n",
       "    }\n",
       "</style>\n",
       "<table border=\"1\" class=\"dataframe\">\n",
       "  <thead>\n",
       "    <tr style=\"text-align: right;\">\n",
       "      <th></th>\n",
       "      <th>round</th>\n",
       "      <th>test_joint_acc</th>\n",
       "      <th>test_slot_acc</th>\n",
       "      <th>joint_acc_std</th>\n",
       "      <th>slot_acc_std</th>\n",
       "      <th># of labelled dialogue turns</th>\n",
       "    </tr>\n",
       "  </thead>\n",
       "  <tbody>\n",
       "    <tr>\n",
       "      <th>0</th>\n",
       "      <td>0</td>\n",
       "      <td>0.254476</td>\n",
       "      <td>0.932314</td>\n",
       "      <td>0.009359</td>\n",
       "      <td>0.001015</td>\n",
       "      <td>500</td>\n",
       "    </tr>\n",
       "    <tr>\n",
       "      <th>1</th>\n",
       "      <td>1</td>\n",
       "      <td>0.382325</td>\n",
       "      <td>0.957755</td>\n",
       "      <td>0.015125</td>\n",
       "      <td>0.001027</td>\n",
       "      <td>1000</td>\n",
       "    </tr>\n",
       "    <tr>\n",
       "      <th>2</th>\n",
       "      <td>2</td>\n",
       "      <td>0.414270</td>\n",
       "      <td>0.961684</td>\n",
       "      <td>0.003798</td>\n",
       "      <td>0.000172</td>\n",
       "      <td>1500</td>\n",
       "    </tr>\n",
       "    <tr>\n",
       "      <th>3</th>\n",
       "      <td>3</td>\n",
       "      <td>0.436855</td>\n",
       "      <td>0.963809</td>\n",
       "      <td>0.009834</td>\n",
       "      <td>0.000855</td>\n",
       "      <td>2000</td>\n",
       "    </tr>\n",
       "    <tr>\n",
       "      <th>4</th>\n",
       "      <td>4</td>\n",
       "      <td>0.457813</td>\n",
       "      <td>0.966567</td>\n",
       "      <td>0.000136</td>\n",
       "      <td>0.000303</td>\n",
       "      <td>2500</td>\n",
       "    </tr>\n",
       "    <tr>\n",
       "      <th>5</th>\n",
       "      <td>5</td>\n",
       "      <td>0.467241</td>\n",
       "      <td>0.967766</td>\n",
       "      <td>0.008478</td>\n",
       "      <td>0.000809</td>\n",
       "      <td>3000</td>\n",
       "    </tr>\n",
       "  </tbody>\n",
       "</table>\n",
       "</div>"
      ],
      "text/plain": [
       "   round  test_joint_acc  test_slot_acc  joint_acc_std  slot_acc_std  \\\n",
       "0      0        0.254476       0.932314       0.009359      0.001015   \n",
       "1      1        0.382325       0.957755       0.015125      0.001027   \n",
       "2      2        0.414270       0.961684       0.003798      0.000172   \n",
       "3      3        0.436855       0.963809       0.009834      0.000855   \n",
       "4      4        0.457813       0.966567       0.000136      0.000303   \n",
       "5      5        0.467241       0.967766       0.008478      0.000809   \n",
       "\n",
       "   # of labelled dialogue turns  \n",
       "0                           500  \n",
       "1                          1000  \n",
       "2                          1500  \n",
       "3                          2000  \n",
       "4                          2500  \n",
       "5                          3000  "
      ]
     },
     "metadata": {},
     "output_type": "display_data"
    },
    {
     "name": "stdout",
     "output_type": "stream",
     "text": [
      "============== ./data/mwz20/KAGE/max_entropy/k500/k500_test_acc.csv ==============\n"
     ]
    },
    {
     "data": {
      "text/html": [
       "<div>\n",
       "<style scoped>\n",
       "    .dataframe tbody tr th:only-of-type {\n",
       "        vertical-align: middle;\n",
       "    }\n",
       "\n",
       "    .dataframe tbody tr th {\n",
       "        vertical-align: top;\n",
       "    }\n",
       "\n",
       "    .dataframe thead th {\n",
       "        text-align: right;\n",
       "    }\n",
       "</style>\n",
       "<table border=\"1\" class=\"dataframe\">\n",
       "  <thead>\n",
       "    <tr style=\"text-align: right;\">\n",
       "      <th></th>\n",
       "      <th>round</th>\n",
       "      <th>test_joint_acc</th>\n",
       "      <th>test_slot_acc</th>\n",
       "      <th>joint_acc_std</th>\n",
       "      <th>slot_acc_std</th>\n",
       "      <th># of labelled dialogue turns</th>\n",
       "    </tr>\n",
       "  </thead>\n",
       "  <tbody>\n",
       "    <tr>\n",
       "      <th>0</th>\n",
       "      <td>0</td>\n",
       "      <td>0.215342</td>\n",
       "      <td>0.923878</td>\n",
       "      <td>0.033946</td>\n",
       "      <td>0.011392</td>\n",
       "      <td>500</td>\n",
       "    </tr>\n",
       "    <tr>\n",
       "      <th>1</th>\n",
       "      <td>1</td>\n",
       "      <td>0.371236</td>\n",
       "      <td>0.956548</td>\n",
       "      <td>0.017465</td>\n",
       "      <td>0.002377</td>\n",
       "      <td>1000</td>\n",
       "    </tr>\n",
       "    <tr>\n",
       "      <th>2</th>\n",
       "      <td>2</td>\n",
       "      <td>0.412507</td>\n",
       "      <td>0.960959</td>\n",
       "      <td>0.010891</td>\n",
       "      <td>0.001189</td>\n",
       "      <td>1500</td>\n",
       "    </tr>\n",
       "    <tr>\n",
       "      <th>3</th>\n",
       "      <td>3</td>\n",
       "      <td>0.434550</td>\n",
       "      <td>0.963745</td>\n",
       "      <td>0.012036</td>\n",
       "      <td>0.001361</td>\n",
       "      <td>2000</td>\n",
       "    </tr>\n",
       "    <tr>\n",
       "      <th>4</th>\n",
       "      <td>4</td>\n",
       "      <td>0.448012</td>\n",
       "      <td>0.965575</td>\n",
       "      <td>0.011538</td>\n",
       "      <td>0.001001</td>\n",
       "      <td>2500</td>\n",
       "    </tr>\n",
       "    <tr>\n",
       "      <th>5</th>\n",
       "      <td>5</td>\n",
       "      <td>0.465173</td>\n",
       "      <td>0.967142</td>\n",
       "      <td>0.014461</td>\n",
       "      <td>0.001245</td>\n",
       "      <td>3000</td>\n",
       "    </tr>\n",
       "    <tr>\n",
       "      <th>6</th>\n",
       "      <td>6</td>\n",
       "      <td>0.481326</td>\n",
       "      <td>0.968649</td>\n",
       "      <td>0.003117</td>\n",
       "      <td>0.000159</td>\n",
       "      <td>3500</td>\n",
       "    </tr>\n",
       "    <tr>\n",
       "      <th>7</th>\n",
       "      <td>7</td>\n",
       "      <td>0.461476</td>\n",
       "      <td>0.966780</td>\n",
       "      <td>0.000000</td>\n",
       "      <td>0.000000</td>\n",
       "      <td>4000</td>\n",
       "    </tr>\n",
       "    <tr>\n",
       "      <th>8</th>\n",
       "      <td>8</td>\n",
       "      <td>0.486842</td>\n",
       "      <td>0.969592</td>\n",
       "      <td>0.000000</td>\n",
       "      <td>0.000000</td>\n",
       "      <td>4500</td>\n",
       "    </tr>\n",
       "    <tr>\n",
       "      <th>9</th>\n",
       "      <td>9</td>\n",
       "      <td>0.494438</td>\n",
       "      <td>0.970316</td>\n",
       "      <td>0.000000</td>\n",
       "      <td>0.000000</td>\n",
       "      <td>5000</td>\n",
       "    </tr>\n",
       "    <tr>\n",
       "      <th>10</th>\n",
       "      <td>10</td>\n",
       "      <td>0.489419</td>\n",
       "      <td>0.969741</td>\n",
       "      <td>0.000000</td>\n",
       "      <td>0.000000</td>\n",
       "      <td>5500</td>\n",
       "    </tr>\n",
       "    <tr>\n",
       "      <th>11</th>\n",
       "      <td>11</td>\n",
       "      <td>0.506918</td>\n",
       "      <td>0.970926</td>\n",
       "      <td>0.000000</td>\n",
       "      <td>0.000000</td>\n",
       "      <td>6000</td>\n",
       "    </tr>\n",
       "    <tr>\n",
       "      <th>12</th>\n",
       "      <td>12</td>\n",
       "      <td>0.504341</td>\n",
       "      <td>0.970736</td>\n",
       "      <td>0.000000</td>\n",
       "      <td>0.000000</td>\n",
       "      <td>6500</td>\n",
       "    </tr>\n",
       "    <tr>\n",
       "      <th>13</th>\n",
       "      <td>13</td>\n",
       "      <td>0.509631</td>\n",
       "      <td>0.971432</td>\n",
       "      <td>0.000000</td>\n",
       "      <td>0.000000</td>\n",
       "      <td>7000</td>\n",
       "    </tr>\n",
       "    <tr>\n",
       "      <th>14</th>\n",
       "      <td>14</td>\n",
       "      <td>0.497694</td>\n",
       "      <td>0.970438</td>\n",
       "      <td>0.000000</td>\n",
       "      <td>0.000000</td>\n",
       "      <td>7500</td>\n",
       "    </tr>\n",
       "    <tr>\n",
       "      <th>15</th>\n",
       "      <td>15</td>\n",
       "      <td>0.520347</td>\n",
       "      <td>0.972504</td>\n",
       "      <td>0.000000</td>\n",
       "      <td>0.000000</td>\n",
       "      <td>7888</td>\n",
       "    </tr>\n",
       "  </tbody>\n",
       "</table>\n",
       "</div>"
      ],
      "text/plain": [
       "    round  test_joint_acc  test_slot_acc  joint_acc_std  slot_acc_std  \\\n",
       "0       0        0.215342       0.923878       0.033946      0.011392   \n",
       "1       1        0.371236       0.956548       0.017465      0.002377   \n",
       "2       2        0.412507       0.960959       0.010891      0.001189   \n",
       "3       3        0.434550       0.963745       0.012036      0.001361   \n",
       "4       4        0.448012       0.965575       0.011538      0.001001   \n",
       "5       5        0.465173       0.967142       0.014461      0.001245   \n",
       "6       6        0.481326       0.968649       0.003117      0.000159   \n",
       "7       7        0.461476       0.966780       0.000000      0.000000   \n",
       "8       8        0.486842       0.969592       0.000000      0.000000   \n",
       "9       9        0.494438       0.970316       0.000000      0.000000   \n",
       "10     10        0.489419       0.969741       0.000000      0.000000   \n",
       "11     11        0.506918       0.970926       0.000000      0.000000   \n",
       "12     12        0.504341       0.970736       0.000000      0.000000   \n",
       "13     13        0.509631       0.971432       0.000000      0.000000   \n",
       "14     14        0.497694       0.970438       0.000000      0.000000   \n",
       "15     15        0.520347       0.972504       0.000000      0.000000   \n",
       "\n",
       "    # of labelled dialogue turns  \n",
       "0                            500  \n",
       "1                           1000  \n",
       "2                           1500  \n",
       "3                           2000  \n",
       "4                           2500  \n",
       "5                           3000  \n",
       "6                           3500  \n",
       "7                           4000  \n",
       "8                           4500  \n",
       "9                           5000  \n",
       "10                          5500  \n",
       "11                          6000  \n",
       "12                          6500  \n",
       "13                          7000  \n",
       "14                          7500  \n",
       "15                          7888  "
      ]
     },
     "metadata": {},
     "output_type": "display_data"
    },
    {
     "data": {
      "text/html": [
       "<div>\n",
       "<style scoped>\n",
       "    .dataframe tbody tr th:only-of-type {\n",
       "        vertical-align: middle;\n",
       "    }\n",
       "\n",
       "    .dataframe tbody tr th {\n",
       "        vertical-align: top;\n",
       "    }\n",
       "\n",
       "    .dataframe thead th {\n",
       "        text-align: right;\n",
       "    }\n",
       "</style>\n",
       "<table border=\"1\" class=\"dataframe\">\n",
       "  <thead>\n",
       "    <tr style=\"text-align: right;\">\n",
       "      <th></th>\n",
       "      <th>round</th>\n",
       "      <th>test_joint_acc</th>\n",
       "      <th>test_slot_acc</th>\n",
       "      <th>joint_acc_std</th>\n",
       "      <th>slot_acc_std</th>\n",
       "      <th># of labelled dialogue turns</th>\n",
       "    </tr>\n",
       "  </thead>\n",
       "  <tbody>\n",
       "    <tr>\n",
       "      <th>0</th>\n",
       "      <td>0</td>\n",
       "      <td>0.215342</td>\n",
       "      <td>0.923878</td>\n",
       "      <td>0.033946</td>\n",
       "      <td>0.011392</td>\n",
       "      <td>500</td>\n",
       "    </tr>\n",
       "    <tr>\n",
       "      <th>1</th>\n",
       "      <td>1</td>\n",
       "      <td>0.371236</td>\n",
       "      <td>0.956548</td>\n",
       "      <td>0.017465</td>\n",
       "      <td>0.002377</td>\n",
       "      <td>1000</td>\n",
       "    </tr>\n",
       "    <tr>\n",
       "      <th>2</th>\n",
       "      <td>2</td>\n",
       "      <td>0.412507</td>\n",
       "      <td>0.960959</td>\n",
       "      <td>0.010891</td>\n",
       "      <td>0.001189</td>\n",
       "      <td>1500</td>\n",
       "    </tr>\n",
       "    <tr>\n",
       "      <th>3</th>\n",
       "      <td>3</td>\n",
       "      <td>0.434550</td>\n",
       "      <td>0.963745</td>\n",
       "      <td>0.012036</td>\n",
       "      <td>0.001361</td>\n",
       "      <td>2000</td>\n",
       "    </tr>\n",
       "    <tr>\n",
       "      <th>4</th>\n",
       "      <td>4</td>\n",
       "      <td>0.448012</td>\n",
       "      <td>0.965575</td>\n",
       "      <td>0.011538</td>\n",
       "      <td>0.001001</td>\n",
       "      <td>2500</td>\n",
       "    </tr>\n",
       "    <tr>\n",
       "      <th>5</th>\n",
       "      <td>5</td>\n",
       "      <td>0.465173</td>\n",
       "      <td>0.967142</td>\n",
       "      <td>0.014461</td>\n",
       "      <td>0.001245</td>\n",
       "      <td>3000</td>\n",
       "    </tr>\n",
       "  </tbody>\n",
       "</table>\n",
       "</div>"
      ],
      "text/plain": [
       "   round  test_joint_acc  test_slot_acc  joint_acc_std  slot_acc_std  \\\n",
       "0      0        0.215342       0.923878       0.033946      0.011392   \n",
       "1      1        0.371236       0.956548       0.017465      0.002377   \n",
       "2      2        0.412507       0.960959       0.010891      0.001189   \n",
       "3      3        0.434550       0.963745       0.012036      0.001361   \n",
       "4      4        0.448012       0.965575       0.011538      0.001001   \n",
       "5      5        0.465173       0.967142       0.014461      0.001245   \n",
       "\n",
       "   # of labelled dialogue turns  \n",
       "0                           500  \n",
       "1                          1000  \n",
       "2                          1500  \n",
       "3                          2000  \n",
       "4                          2500  \n",
       "5                          3000  "
      ]
     },
     "metadata": {},
     "output_type": "display_data"
    },
    {
     "name": "stdout",
     "output_type": "stream",
     "text": [
      "============== ./data/mwz20/KAGE/random/k1000/k1000_test_acc.csv ==============\n"
     ]
    },
    {
     "data": {
      "text/html": [
       "<div>\n",
       "<style scoped>\n",
       "    .dataframe tbody tr th:only-of-type {\n",
       "        vertical-align: middle;\n",
       "    }\n",
       "\n",
       "    .dataframe tbody tr th {\n",
       "        vertical-align: top;\n",
       "    }\n",
       "\n",
       "    .dataframe thead th {\n",
       "        text-align: right;\n",
       "    }\n",
       "</style>\n",
       "<table border=\"1\" class=\"dataframe\">\n",
       "  <thead>\n",
       "    <tr style=\"text-align: right;\">\n",
       "      <th></th>\n",
       "      <th>round</th>\n",
       "      <th>test_joint_acc</th>\n",
       "      <th>test_slot_acc</th>\n",
       "      <th>joint_acc_std</th>\n",
       "      <th>slot_acc_std</th>\n",
       "      <th># of labelled dialogue turns</th>\n",
       "    </tr>\n",
       "  </thead>\n",
       "  <tbody>\n",
       "    <tr>\n",
       "      <th>0</th>\n",
       "      <td>0</td>\n",
       "      <td>0.350718</td>\n",
       "      <td>0.953556</td>\n",
       "      <td>0.010242</td>\n",
       "      <td>0.001707</td>\n",
       "      <td>1000</td>\n",
       "    </tr>\n",
       "    <tr>\n",
       "      <th>1</th>\n",
       "      <td>1</td>\n",
       "      <td>0.416712</td>\n",
       "      <td>0.960874</td>\n",
       "      <td>0.004476</td>\n",
       "      <td>0.000624</td>\n",
       "      <td>2000</td>\n",
       "    </tr>\n",
       "    <tr>\n",
       "      <th>2</th>\n",
       "      <td>2</td>\n",
       "      <td>0.449200</td>\n",
       "      <td>0.965161</td>\n",
       "      <td>0.004951</td>\n",
       "      <td>0.000411</td>\n",
       "      <td>3000</td>\n",
       "    </tr>\n",
       "    <tr>\n",
       "      <th>3</th>\n",
       "      <td>3</td>\n",
       "      <td>0.467919</td>\n",
       "      <td>0.966992</td>\n",
       "      <td>0.005765</td>\n",
       "      <td>0.000714</td>\n",
       "      <td>4000</td>\n",
       "    </tr>\n",
       "    <tr>\n",
       "      <th>4</th>\n",
       "      <td>4</td>\n",
       "      <td>0.476397</td>\n",
       "      <td>0.967768</td>\n",
       "      <td>0.000271</td>\n",
       "      <td>0.000400</td>\n",
       "      <td>5000</td>\n",
       "    </tr>\n",
       "    <tr>\n",
       "      <th>5</th>\n",
       "      <td>5</td>\n",
       "      <td>0.481484</td>\n",
       "      <td>0.968505</td>\n",
       "      <td>0.005901</td>\n",
       "      <td>0.000486</td>\n",
       "      <td>6000</td>\n",
       "    </tr>\n",
       "    <tr>\n",
       "      <th>6</th>\n",
       "      <td>6</td>\n",
       "      <td>0.503052</td>\n",
       "      <td>0.970236</td>\n",
       "      <td>0.003595</td>\n",
       "      <td>0.000156</td>\n",
       "      <td>7000</td>\n",
       "    </tr>\n",
       "    <tr>\n",
       "      <th>7</th>\n",
       "      <td>7</td>\n",
       "      <td>0.487927</td>\n",
       "      <td>0.969314</td>\n",
       "      <td>0.007868</td>\n",
       "      <td>0.000450</td>\n",
       "      <td>7888</td>\n",
       "    </tr>\n",
       "  </tbody>\n",
       "</table>\n",
       "</div>"
      ],
      "text/plain": [
       "   round  test_joint_acc  test_slot_acc  joint_acc_std  slot_acc_std  \\\n",
       "0      0        0.350718       0.953556       0.010242      0.001707   \n",
       "1      1        0.416712       0.960874       0.004476      0.000624   \n",
       "2      2        0.449200       0.965161       0.004951      0.000411   \n",
       "3      3        0.467919       0.966992       0.005765      0.000714   \n",
       "4      4        0.476397       0.967768       0.000271      0.000400   \n",
       "5      5        0.481484       0.968505       0.005901      0.000486   \n",
       "6      6        0.503052       0.970236       0.003595      0.000156   \n",
       "7      7        0.487927       0.969314       0.007868      0.000450   \n",
       "\n",
       "   # of labelled dialogue turns  \n",
       "0                          1000  \n",
       "1                          2000  \n",
       "2                          3000  \n",
       "3                          4000  \n",
       "4                          5000  \n",
       "5                          6000  \n",
       "6                          7000  \n",
       "7                          7888  "
      ]
     },
     "metadata": {},
     "output_type": "display_data"
    },
    {
     "data": {
      "text/html": [
       "<div>\n",
       "<style scoped>\n",
       "    .dataframe tbody tr th:only-of-type {\n",
       "        vertical-align: middle;\n",
       "    }\n",
       "\n",
       "    .dataframe tbody tr th {\n",
       "        vertical-align: top;\n",
       "    }\n",
       "\n",
       "    .dataframe thead th {\n",
       "        text-align: right;\n",
       "    }\n",
       "</style>\n",
       "<table border=\"1\" class=\"dataframe\">\n",
       "  <thead>\n",
       "    <tr style=\"text-align: right;\">\n",
       "      <th></th>\n",
       "      <th>round</th>\n",
       "      <th>test_joint_acc</th>\n",
       "      <th>test_slot_acc</th>\n",
       "      <th>joint_acc_std</th>\n",
       "      <th>slot_acc_std</th>\n",
       "      <th># of labelled dialogue turns</th>\n",
       "    </tr>\n",
       "  </thead>\n",
       "  <tbody>\n",
       "    <tr>\n",
       "      <th>0</th>\n",
       "      <td>0</td>\n",
       "      <td>0.350718</td>\n",
       "      <td>0.953556</td>\n",
       "      <td>0.010242</td>\n",
       "      <td>0.001707</td>\n",
       "      <td>1000</td>\n",
       "    </tr>\n",
       "    <tr>\n",
       "      <th>1</th>\n",
       "      <td>1</td>\n",
       "      <td>0.416712</td>\n",
       "      <td>0.960874</td>\n",
       "      <td>0.004476</td>\n",
       "      <td>0.000624</td>\n",
       "      <td>2000</td>\n",
       "    </tr>\n",
       "    <tr>\n",
       "      <th>2</th>\n",
       "      <td>2</td>\n",
       "      <td>0.449200</td>\n",
       "      <td>0.965161</td>\n",
       "      <td>0.004951</td>\n",
       "      <td>0.000411</td>\n",
       "      <td>3000</td>\n",
       "    </tr>\n",
       "  </tbody>\n",
       "</table>\n",
       "</div>"
      ],
      "text/plain": [
       "   round  test_joint_acc  test_slot_acc  joint_acc_std  slot_acc_std  \\\n",
       "0      0        0.350718       0.953556       0.010242      0.001707   \n",
       "1      1        0.416712       0.960874       0.004476      0.000624   \n",
       "2      2        0.449200       0.965161       0.004951      0.000411   \n",
       "\n",
       "   # of labelled dialogue turns  \n",
       "0                          1000  \n",
       "1                          2000  \n",
       "2                          3000  "
      ]
     },
     "metadata": {},
     "output_type": "display_data"
    },
    {
     "name": "stdout",
     "output_type": "stream",
     "text": [
      "============== ./data/mwz20/KAGE/least_confidence/k1000/k1000_test_acc.csv ==============\n"
     ]
    },
    {
     "data": {
      "text/html": [
       "<div>\n",
       "<style scoped>\n",
       "    .dataframe tbody tr th:only-of-type {\n",
       "        vertical-align: middle;\n",
       "    }\n",
       "\n",
       "    .dataframe tbody tr th {\n",
       "        vertical-align: top;\n",
       "    }\n",
       "\n",
       "    .dataframe thead th {\n",
       "        text-align: right;\n",
       "    }\n",
       "</style>\n",
       "<table border=\"1\" class=\"dataframe\">\n",
       "  <thead>\n",
       "    <tr style=\"text-align: right;\">\n",
       "      <th></th>\n",
       "      <th>round</th>\n",
       "      <th>test_joint_acc</th>\n",
       "      <th>test_slot_acc</th>\n",
       "      <th>joint_acc_std</th>\n",
       "      <th>slot_acc_std</th>\n",
       "      <th># of labelled dialogue turns</th>\n",
       "    </tr>\n",
       "  </thead>\n",
       "  <tbody>\n",
       "    <tr>\n",
       "      <th>0</th>\n",
       "      <td>0</td>\n",
       "      <td>0.313958</td>\n",
       "      <td>0.943694</td>\n",
       "      <td>0.001831</td>\n",
       "      <td>0.002336</td>\n",
       "      <td>1000</td>\n",
       "    </tr>\n",
       "    <tr>\n",
       "      <th>1</th>\n",
       "      <td>1</td>\n",
       "      <td>0.429598</td>\n",
       "      <td>0.962505</td>\n",
       "      <td>0.005425</td>\n",
       "      <td>0.000699</td>\n",
       "      <td>2000</td>\n",
       "    </tr>\n",
       "    <tr>\n",
       "      <th>2</th>\n",
       "      <td>2</td>\n",
       "      <td>0.476668</td>\n",
       "      <td>0.968367</td>\n",
       "      <td>0.001086</td>\n",
       "      <td>0.000429</td>\n",
       "      <td>3000</td>\n",
       "    </tr>\n",
       "    <tr>\n",
       "      <th>3</th>\n",
       "      <td>3</td>\n",
       "      <td>0.475719</td>\n",
       "      <td>0.967621</td>\n",
       "      <td>0.006240</td>\n",
       "      <td>0.000235</td>\n",
       "      <td>4000</td>\n",
       "    </tr>\n",
       "    <tr>\n",
       "      <th>4</th>\n",
       "      <td>4</td>\n",
       "      <td>0.489081</td>\n",
       "      <td>0.969420</td>\n",
       "      <td>0.000882</td>\n",
       "      <td>0.000000</td>\n",
       "      <td>5000</td>\n",
       "    </tr>\n",
       "    <tr>\n",
       "      <th>5</th>\n",
       "      <td>5</td>\n",
       "      <td>0.495185</td>\n",
       "      <td>0.970124</td>\n",
       "      <td>0.009292</td>\n",
       "      <td>0.000680</td>\n",
       "      <td>6000</td>\n",
       "    </tr>\n",
       "  </tbody>\n",
       "</table>\n",
       "</div>"
      ],
      "text/plain": [
       "   round  test_joint_acc  test_slot_acc  joint_acc_std  slot_acc_std  \\\n",
       "0      0        0.313958       0.943694       0.001831      0.002336   \n",
       "1      1        0.429598       0.962505       0.005425      0.000699   \n",
       "2      2        0.476668       0.968367       0.001086      0.000429   \n",
       "3      3        0.475719       0.967621       0.006240      0.000235   \n",
       "4      4        0.489081       0.969420       0.000882      0.000000   \n",
       "5      5        0.495185       0.970124       0.009292      0.000680   \n",
       "\n",
       "   # of labelled dialogue turns  \n",
       "0                          1000  \n",
       "1                          2000  \n",
       "2                          3000  \n",
       "3                          4000  \n",
       "4                          5000  \n",
       "5                          6000  "
      ]
     },
     "metadata": {},
     "output_type": "display_data"
    },
    {
     "data": {
      "text/html": [
       "<div>\n",
       "<style scoped>\n",
       "    .dataframe tbody tr th:only-of-type {\n",
       "        vertical-align: middle;\n",
       "    }\n",
       "\n",
       "    .dataframe tbody tr th {\n",
       "        vertical-align: top;\n",
       "    }\n",
       "\n",
       "    .dataframe thead th {\n",
       "        text-align: right;\n",
       "    }\n",
       "</style>\n",
       "<table border=\"1\" class=\"dataframe\">\n",
       "  <thead>\n",
       "    <tr style=\"text-align: right;\">\n",
       "      <th></th>\n",
       "      <th>round</th>\n",
       "      <th>test_joint_acc</th>\n",
       "      <th>test_slot_acc</th>\n",
       "      <th>joint_acc_std</th>\n",
       "      <th>slot_acc_std</th>\n",
       "      <th># of labelled dialogue turns</th>\n",
       "    </tr>\n",
       "  </thead>\n",
       "  <tbody>\n",
       "    <tr>\n",
       "      <th>0</th>\n",
       "      <td>0</td>\n",
       "      <td>0.313958</td>\n",
       "      <td>0.943694</td>\n",
       "      <td>0.001831</td>\n",
       "      <td>0.002336</td>\n",
       "      <td>1000</td>\n",
       "    </tr>\n",
       "    <tr>\n",
       "      <th>1</th>\n",
       "      <td>1</td>\n",
       "      <td>0.429598</td>\n",
       "      <td>0.962505</td>\n",
       "      <td>0.005425</td>\n",
       "      <td>0.000699</td>\n",
       "      <td>2000</td>\n",
       "    </tr>\n",
       "    <tr>\n",
       "      <th>2</th>\n",
       "      <td>2</td>\n",
       "      <td>0.476668</td>\n",
       "      <td>0.968367</td>\n",
       "      <td>0.001086</td>\n",
       "      <td>0.000429</td>\n",
       "      <td>3000</td>\n",
       "    </tr>\n",
       "  </tbody>\n",
       "</table>\n",
       "</div>"
      ],
      "text/plain": [
       "   round  test_joint_acc  test_slot_acc  joint_acc_std  slot_acc_std  \\\n",
       "0      0        0.313958       0.943694       0.001831      0.002336   \n",
       "1      1        0.429598       0.962505       0.005425      0.000699   \n",
       "2      2        0.476668       0.968367       0.001086      0.000429   \n",
       "\n",
       "   # of labelled dialogue turns  \n",
       "0                          1000  \n",
       "1                          2000  \n",
       "2                          3000  "
      ]
     },
     "metadata": {},
     "output_type": "display_data"
    },
    {
     "name": "stdout",
     "output_type": "stream",
     "text": [
      "============== ./data/mwz20/KAGE/max_entropy/k1000/k1000_test_acc.csv ==============\n"
     ]
    },
    {
     "data": {
      "text/html": [
       "<div>\n",
       "<style scoped>\n",
       "    .dataframe tbody tr th:only-of-type {\n",
       "        vertical-align: middle;\n",
       "    }\n",
       "\n",
       "    .dataframe tbody tr th {\n",
       "        vertical-align: top;\n",
       "    }\n",
       "\n",
       "    .dataframe thead th {\n",
       "        text-align: right;\n",
       "    }\n",
       "</style>\n",
       "<table border=\"1\" class=\"dataframe\">\n",
       "  <thead>\n",
       "    <tr style=\"text-align: right;\">\n",
       "      <th></th>\n",
       "      <th>round</th>\n",
       "      <th>test_joint_acc</th>\n",
       "      <th>test_slot_acc</th>\n",
       "      <th>joint_acc_std</th>\n",
       "      <th>slot_acc_std</th>\n",
       "      <th># of labelled dialogue turns</th>\n",
       "    </tr>\n",
       "  </thead>\n",
       "  <tbody>\n",
       "    <tr>\n",
       "      <th>0</th>\n",
       "      <td>0</td>\n",
       "      <td>0.315292</td>\n",
       "      <td>0.944483</td>\n",
       "      <td>0.011198</td>\n",
       "      <td>0.001582</td>\n",
       "      <td>1000</td>\n",
       "    </tr>\n",
       "    <tr>\n",
       "      <th>1</th>\n",
       "      <td>1</td>\n",
       "      <td>0.440631</td>\n",
       "      <td>0.963812</td>\n",
       "      <td>0.008150</td>\n",
       "      <td>0.000255</td>\n",
       "      <td>2000</td>\n",
       "    </tr>\n",
       "    <tr>\n",
       "      <th>2</th>\n",
       "      <td>2</td>\n",
       "      <td>0.457361</td>\n",
       "      <td>0.966205</td>\n",
       "      <td>0.015024</td>\n",
       "      <td>0.001440</td>\n",
       "      <td>3000</td>\n",
       "    </tr>\n",
       "    <tr>\n",
       "      <th>3</th>\n",
       "      <td>3</td>\n",
       "      <td>0.482682</td>\n",
       "      <td>0.968501</td>\n",
       "      <td>0.005417</td>\n",
       "      <td>0.000326</td>\n",
       "      <td>4000</td>\n",
       "    </tr>\n",
       "    <tr>\n",
       "      <th>4</th>\n",
       "      <td>4</td>\n",
       "      <td>0.494574</td>\n",
       "      <td>0.969627</td>\n",
       "      <td>0.006560</td>\n",
       "      <td>0.001014</td>\n",
       "      <td>5000</td>\n",
       "    </tr>\n",
       "    <tr>\n",
       "      <th>5</th>\n",
       "      <td>5</td>\n",
       "      <td>0.503866</td>\n",
       "      <td>0.970666</td>\n",
       "      <td>0.001560</td>\n",
       "      <td>0.000301</td>\n",
       "      <td>6000</td>\n",
       "    </tr>\n",
       "    <tr>\n",
       "      <th>6</th>\n",
       "      <td>6</td>\n",
       "      <td>0.514107</td>\n",
       "      <td>0.971206</td>\n",
       "      <td>0.000000</td>\n",
       "      <td>0.000000</td>\n",
       "      <td>7000</td>\n",
       "    </tr>\n",
       "    <tr>\n",
       "      <th>7</th>\n",
       "      <td>7</td>\n",
       "      <td>0.518448</td>\n",
       "      <td>0.972468</td>\n",
       "      <td>0.000000</td>\n",
       "      <td>0.000000</td>\n",
       "      <td>7888</td>\n",
       "    </tr>\n",
       "  </tbody>\n",
       "</table>\n",
       "</div>"
      ],
      "text/plain": [
       "   round  test_joint_acc  test_slot_acc  joint_acc_std  slot_acc_std  \\\n",
       "0      0        0.315292       0.944483       0.011198      0.001582   \n",
       "1      1        0.440631       0.963812       0.008150      0.000255   \n",
       "2      2        0.457361       0.966205       0.015024      0.001440   \n",
       "3      3        0.482682       0.968501       0.005417      0.000326   \n",
       "4      4        0.494574       0.969627       0.006560      0.001014   \n",
       "5      5        0.503866       0.970666       0.001560      0.000301   \n",
       "6      6        0.514107       0.971206       0.000000      0.000000   \n",
       "7      7        0.518448       0.972468       0.000000      0.000000   \n",
       "\n",
       "   # of labelled dialogue turns  \n",
       "0                          1000  \n",
       "1                          2000  \n",
       "2                          3000  \n",
       "3                          4000  \n",
       "4                          5000  \n",
       "5                          6000  \n",
       "6                          7000  \n",
       "7                          7888  "
      ]
     },
     "metadata": {},
     "output_type": "display_data"
    },
    {
     "data": {
      "text/html": [
       "<div>\n",
       "<style scoped>\n",
       "    .dataframe tbody tr th:only-of-type {\n",
       "        vertical-align: middle;\n",
       "    }\n",
       "\n",
       "    .dataframe tbody tr th {\n",
       "        vertical-align: top;\n",
       "    }\n",
       "\n",
       "    .dataframe thead th {\n",
       "        text-align: right;\n",
       "    }\n",
       "</style>\n",
       "<table border=\"1\" class=\"dataframe\">\n",
       "  <thead>\n",
       "    <tr style=\"text-align: right;\">\n",
       "      <th></th>\n",
       "      <th>round</th>\n",
       "      <th>test_joint_acc</th>\n",
       "      <th>test_slot_acc</th>\n",
       "      <th>joint_acc_std</th>\n",
       "      <th>slot_acc_std</th>\n",
       "      <th># of labelled dialogue turns</th>\n",
       "    </tr>\n",
       "  </thead>\n",
       "  <tbody>\n",
       "    <tr>\n",
       "      <th>0</th>\n",
       "      <td>0</td>\n",
       "      <td>0.315292</td>\n",
       "      <td>0.944483</td>\n",
       "      <td>0.011198</td>\n",
       "      <td>0.001582</td>\n",
       "      <td>1000</td>\n",
       "    </tr>\n",
       "    <tr>\n",
       "      <th>1</th>\n",
       "      <td>1</td>\n",
       "      <td>0.440631</td>\n",
       "      <td>0.963812</td>\n",
       "      <td>0.008150</td>\n",
       "      <td>0.000255</td>\n",
       "      <td>2000</td>\n",
       "    </tr>\n",
       "    <tr>\n",
       "      <th>2</th>\n",
       "      <td>2</td>\n",
       "      <td>0.457361</td>\n",
       "      <td>0.966205</td>\n",
       "      <td>0.015024</td>\n",
       "      <td>0.001440</td>\n",
       "      <td>3000</td>\n",
       "    </tr>\n",
       "  </tbody>\n",
       "</table>\n",
       "</div>"
      ],
      "text/plain": [
       "   round  test_joint_acc  test_slot_acc  joint_acc_std  slot_acc_std  \\\n",
       "0      0        0.315292       0.944483       0.011198      0.001582   \n",
       "1      1        0.440631       0.963812       0.008150      0.000255   \n",
       "2      2        0.457361       0.966205       0.015024      0.001440   \n",
       "\n",
       "   # of labelled dialogue turns  \n",
       "0                          1000  \n",
       "1                          2000  \n",
       "2                          3000  "
      ]
     },
     "metadata": {},
     "output_type": "display_data"
    },
    {
     "name": "stdout",
     "output_type": "stream",
     "text": [
      "============== ./data/mwz20/KAGE/random/k1500/k1500_test_acc.csv ==============\n"
     ]
    },
    {
     "data": {
      "text/html": [
       "<div>\n",
       "<style scoped>\n",
       "    .dataframe tbody tr th:only-of-type {\n",
       "        vertical-align: middle;\n",
       "    }\n",
       "\n",
       "    .dataframe tbody tr th {\n",
       "        vertical-align: top;\n",
       "    }\n",
       "\n",
       "    .dataframe thead th {\n",
       "        text-align: right;\n",
       "    }\n",
       "</style>\n",
       "<table border=\"1\" class=\"dataframe\">\n",
       "  <thead>\n",
       "    <tr style=\"text-align: right;\">\n",
       "      <th></th>\n",
       "      <th>round</th>\n",
       "      <th>test_joint_acc</th>\n",
       "      <th>test_slot_acc</th>\n",
       "      <th>joint_acc_std</th>\n",
       "      <th>slot_acc_std</th>\n",
       "      <th># of labelled dialogue turns</th>\n",
       "    </tr>\n",
       "  </thead>\n",
       "  <tbody>\n",
       "    <tr>\n",
       "      <th>0</th>\n",
       "      <td>0</td>\n",
       "      <td>0.423358</td>\n",
       "      <td>0.962276</td>\n",
       "      <td>0.004747</td>\n",
       "      <td>0.000434</td>\n",
       "      <td>1500</td>\n",
       "    </tr>\n",
       "    <tr>\n",
       "      <th>1</th>\n",
       "      <td>1</td>\n",
       "      <td>0.447775</td>\n",
       "      <td>0.964530</td>\n",
       "      <td>0.001899</td>\n",
       "      <td>0.000518</td>\n",
       "      <td>3000</td>\n",
       "    </tr>\n",
       "    <tr>\n",
       "      <th>2</th>\n",
       "      <td>2</td>\n",
       "      <td>0.470022</td>\n",
       "      <td>0.967781</td>\n",
       "      <td>0.003120</td>\n",
       "      <td>0.000016</td>\n",
       "      <td>4500</td>\n",
       "    </tr>\n",
       "    <tr>\n",
       "      <th>3</th>\n",
       "      <td>3</td>\n",
       "      <td>0.500000</td>\n",
       "      <td>0.970148</td>\n",
       "      <td>0.002442</td>\n",
       "      <td>0.000086</td>\n",
       "      <td>6000</td>\n",
       "    </tr>\n",
       "    <tr>\n",
       "      <th>4</th>\n",
       "      <td>4</td>\n",
       "      <td>0.500000</td>\n",
       "      <td>0.969847</td>\n",
       "      <td>0.008953</td>\n",
       "      <td>0.000672</td>\n",
       "      <td>7500</td>\n",
       "    </tr>\n",
       "    <tr>\n",
       "      <th>5</th>\n",
       "      <td>5</td>\n",
       "      <td>0.496541</td>\n",
       "      <td>0.969411</td>\n",
       "      <td>0.004137</td>\n",
       "      <td>0.000063</td>\n",
       "      <td>7888</td>\n",
       "    </tr>\n",
       "  </tbody>\n",
       "</table>\n",
       "</div>"
      ],
      "text/plain": [
       "   round  test_joint_acc  test_slot_acc  joint_acc_std  slot_acc_std  \\\n",
       "0      0        0.423358       0.962276       0.004747      0.000434   \n",
       "1      1        0.447775       0.964530       0.001899      0.000518   \n",
       "2      2        0.470022       0.967781       0.003120      0.000016   \n",
       "3      3        0.500000       0.970148       0.002442      0.000086   \n",
       "4      4        0.500000       0.969847       0.008953      0.000672   \n",
       "5      5        0.496541       0.969411       0.004137      0.000063   \n",
       "\n",
       "   # of labelled dialogue turns  \n",
       "0                          1500  \n",
       "1                          3000  \n",
       "2                          4500  \n",
       "3                          6000  \n",
       "4                          7500  \n",
       "5                          7888  "
      ]
     },
     "metadata": {},
     "output_type": "display_data"
    },
    {
     "data": {
      "text/html": [
       "<div>\n",
       "<style scoped>\n",
       "    .dataframe tbody tr th:only-of-type {\n",
       "        vertical-align: middle;\n",
       "    }\n",
       "\n",
       "    .dataframe tbody tr th {\n",
       "        vertical-align: top;\n",
       "    }\n",
       "\n",
       "    .dataframe thead th {\n",
       "        text-align: right;\n",
       "    }\n",
       "</style>\n",
       "<table border=\"1\" class=\"dataframe\">\n",
       "  <thead>\n",
       "    <tr style=\"text-align: right;\">\n",
       "      <th></th>\n",
       "      <th>round</th>\n",
       "      <th>test_joint_acc</th>\n",
       "      <th>test_slot_acc</th>\n",
       "      <th>joint_acc_std</th>\n",
       "      <th>slot_acc_std</th>\n",
       "      <th># of labelled dialogue turns</th>\n",
       "    </tr>\n",
       "  </thead>\n",
       "  <tbody>\n",
       "    <tr>\n",
       "      <th>0</th>\n",
       "      <td>0</td>\n",
       "      <td>0.423358</td>\n",
       "      <td>0.962276</td>\n",
       "      <td>0.004747</td>\n",
       "      <td>0.000434</td>\n",
       "      <td>1500</td>\n",
       "    </tr>\n",
       "    <tr>\n",
       "      <th>1</th>\n",
       "      <td>1</td>\n",
       "      <td>0.447775</td>\n",
       "      <td>0.964530</td>\n",
       "      <td>0.001899</td>\n",
       "      <td>0.000518</td>\n",
       "      <td>3000</td>\n",
       "    </tr>\n",
       "  </tbody>\n",
       "</table>\n",
       "</div>"
      ],
      "text/plain": [
       "   round  test_joint_acc  test_slot_acc  joint_acc_std  slot_acc_std  \\\n",
       "0      0        0.423358       0.962276       0.004747      0.000434   \n",
       "1      1        0.447775       0.964530       0.001899      0.000518   \n",
       "\n",
       "   # of labelled dialogue turns  \n",
       "0                          1500  \n",
       "1                          3000  "
      ]
     },
     "metadata": {},
     "output_type": "display_data"
    },
    {
     "name": "stdout",
     "output_type": "stream",
     "text": [
      "============== ./data/mwz20/KAGE/least_confidence/k1500/k1500_test_acc.csv ==============\n"
     ]
    },
    {
     "data": {
      "text/html": [
       "<div>\n",
       "<style scoped>\n",
       "    .dataframe tbody tr th:only-of-type {\n",
       "        vertical-align: middle;\n",
       "    }\n",
       "\n",
       "    .dataframe tbody tr th {\n",
       "        vertical-align: top;\n",
       "    }\n",
       "\n",
       "    .dataframe thead th {\n",
       "        text-align: right;\n",
       "    }\n",
       "</style>\n",
       "<table border=\"1\" class=\"dataframe\">\n",
       "  <thead>\n",
       "    <tr style=\"text-align: right;\">\n",
       "      <th></th>\n",
       "      <th>round</th>\n",
       "      <th>test_joint_acc</th>\n",
       "      <th>test_slot_acc</th>\n",
       "      <th>joint_acc_std</th>\n",
       "      <th>slot_acc_std</th>\n",
       "      <th># of labelled dialogue turns</th>\n",
       "    </tr>\n",
       "  </thead>\n",
       "  <tbody>\n",
       "    <tr>\n",
       "      <th>0</th>\n",
       "      <td>0</td>\n",
       "      <td>0.349837</td>\n",
       "      <td>0.947299</td>\n",
       "      <td>0.016549</td>\n",
       "      <td>0.005456</td>\n",
       "      <td>1500</td>\n",
       "    </tr>\n",
       "    <tr>\n",
       "      <th>1</th>\n",
       "      <td>1</td>\n",
       "      <td>0.464325</td>\n",
       "      <td>0.966820</td>\n",
       "      <td>0.005562</td>\n",
       "      <td>0.000995</td>\n",
       "      <td>3000</td>\n",
       "    </tr>\n",
       "    <tr>\n",
       "      <th>2</th>\n",
       "      <td>2</td>\n",
       "      <td>0.486299</td>\n",
       "      <td>0.969409</td>\n",
       "      <td>0.008817</td>\n",
       "      <td>0.000567</td>\n",
       "      <td>4500</td>\n",
       "    </tr>\n",
       "    <tr>\n",
       "      <th>3</th>\n",
       "      <td>3</td>\n",
       "      <td>0.510445</td>\n",
       "      <td>0.971649</td>\n",
       "      <td>0.000000</td>\n",
       "      <td>0.000000</td>\n",
       "      <td>6000</td>\n",
       "    </tr>\n",
       "  </tbody>\n",
       "</table>\n",
       "</div>"
      ],
      "text/plain": [
       "   round  test_joint_acc  test_slot_acc  joint_acc_std  slot_acc_std  \\\n",
       "0      0        0.349837       0.947299       0.016549      0.005456   \n",
       "1      1        0.464325       0.966820       0.005562      0.000995   \n",
       "2      2        0.486299       0.969409       0.008817      0.000567   \n",
       "3      3        0.510445       0.971649       0.000000      0.000000   \n",
       "\n",
       "   # of labelled dialogue turns  \n",
       "0                          1500  \n",
       "1                          3000  \n",
       "2                          4500  \n",
       "3                          6000  "
      ]
     },
     "metadata": {},
     "output_type": "display_data"
    },
    {
     "data": {
      "text/html": [
       "<div>\n",
       "<style scoped>\n",
       "    .dataframe tbody tr th:only-of-type {\n",
       "        vertical-align: middle;\n",
       "    }\n",
       "\n",
       "    .dataframe tbody tr th {\n",
       "        vertical-align: top;\n",
       "    }\n",
       "\n",
       "    .dataframe thead th {\n",
       "        text-align: right;\n",
       "    }\n",
       "</style>\n",
       "<table border=\"1\" class=\"dataframe\">\n",
       "  <thead>\n",
       "    <tr style=\"text-align: right;\">\n",
       "      <th></th>\n",
       "      <th>round</th>\n",
       "      <th>test_joint_acc</th>\n",
       "      <th>test_slot_acc</th>\n",
       "      <th>joint_acc_std</th>\n",
       "      <th>slot_acc_std</th>\n",
       "      <th># of labelled dialogue turns</th>\n",
       "    </tr>\n",
       "  </thead>\n",
       "  <tbody>\n",
       "    <tr>\n",
       "      <th>0</th>\n",
       "      <td>0</td>\n",
       "      <td>0.349837</td>\n",
       "      <td>0.947299</td>\n",
       "      <td>0.016549</td>\n",
       "      <td>0.005456</td>\n",
       "      <td>1500</td>\n",
       "    </tr>\n",
       "    <tr>\n",
       "      <th>1</th>\n",
       "      <td>1</td>\n",
       "      <td>0.464325</td>\n",
       "      <td>0.966820</td>\n",
       "      <td>0.005562</td>\n",
       "      <td>0.000995</td>\n",
       "      <td>3000</td>\n",
       "    </tr>\n",
       "  </tbody>\n",
       "</table>\n",
       "</div>"
      ],
      "text/plain": [
       "   round  test_joint_acc  test_slot_acc  joint_acc_std  slot_acc_std  \\\n",
       "0      0        0.349837       0.947299       0.016549      0.005456   \n",
       "1      1        0.464325       0.966820       0.005562      0.000995   \n",
       "\n",
       "   # of labelled dialogue turns  \n",
       "0                          1500  \n",
       "1                          3000  "
      ]
     },
     "metadata": {},
     "output_type": "display_data"
    },
    {
     "name": "stdout",
     "output_type": "stream",
     "text": [
      "============== ./data/mwz20/KAGE/max_entropy/k1500/k1500_test_acc.csv ==============\n"
     ]
    },
    {
     "data": {
      "text/html": [
       "<div>\n",
       "<style scoped>\n",
       "    .dataframe tbody tr th:only-of-type {\n",
       "        vertical-align: middle;\n",
       "    }\n",
       "\n",
       "    .dataframe tbody tr th {\n",
       "        vertical-align: top;\n",
       "    }\n",
       "\n",
       "    .dataframe thead th {\n",
       "        text-align: right;\n",
       "    }\n",
       "</style>\n",
       "<table border=\"1\" class=\"dataframe\">\n",
       "  <thead>\n",
       "    <tr style=\"text-align: right;\">\n",
       "      <th></th>\n",
       "      <th>round</th>\n",
       "      <th>test_joint_acc</th>\n",
       "      <th>test_slot_acc</th>\n",
       "      <th>joint_acc_std</th>\n",
       "      <th>slot_acc_std</th>\n",
       "      <th># of labelled dialogue turns</th>\n",
       "    </tr>\n",
       "  </thead>\n",
       "  <tbody>\n",
       "    <tr>\n",
       "      <th>0</th>\n",
       "      <td>0</td>\n",
       "      <td>0.394058</td>\n",
       "      <td>0.957233</td>\n",
       "      <td>0.023788</td>\n",
       "      <td>0.004003</td>\n",
       "      <td>1500</td>\n",
       "    </tr>\n",
       "    <tr>\n",
       "      <th>1</th>\n",
       "      <td>1</td>\n",
       "      <td>0.458220</td>\n",
       "      <td>0.966680</td>\n",
       "      <td>0.001783</td>\n",
       "      <td>0.000512</td>\n",
       "      <td>3000</td>\n",
       "    </tr>\n",
       "    <tr>\n",
       "      <th>2</th>\n",
       "      <td>2</td>\n",
       "      <td>0.489013</td>\n",
       "      <td>0.969144</td>\n",
       "      <td>0.010588</td>\n",
       "      <td>0.001066</td>\n",
       "      <td>4500</td>\n",
       "    </tr>\n",
       "    <tr>\n",
       "      <th>3</th>\n",
       "      <td>3</td>\n",
       "      <td>0.502396</td>\n",
       "      <td>0.970427</td>\n",
       "      <td>0.002613</td>\n",
       "      <td>0.000441</td>\n",
       "      <td>6000</td>\n",
       "    </tr>\n",
       "    <tr>\n",
       "      <th>4</th>\n",
       "      <td>4</td>\n",
       "      <td>0.515645</td>\n",
       "      <td>0.971908</td>\n",
       "      <td>0.003724</td>\n",
       "      <td>0.000623</td>\n",
       "      <td>7500</td>\n",
       "    </tr>\n",
       "    <tr>\n",
       "      <th>5</th>\n",
       "      <td>5</td>\n",
       "      <td>0.509812</td>\n",
       "      <td>0.971176</td>\n",
       "      <td>0.006324</td>\n",
       "      <td>0.000560</td>\n",
       "      <td>7888</td>\n",
       "    </tr>\n",
       "  </tbody>\n",
       "</table>\n",
       "</div>"
      ],
      "text/plain": [
       "   round  test_joint_acc  test_slot_acc  joint_acc_std  slot_acc_std  \\\n",
       "0      0        0.394058       0.957233       0.023788      0.004003   \n",
       "1      1        0.458220       0.966680       0.001783      0.000512   \n",
       "2      2        0.489013       0.969144       0.010588      0.001066   \n",
       "3      3        0.502396       0.970427       0.002613      0.000441   \n",
       "4      4        0.515645       0.971908       0.003724      0.000623   \n",
       "5      5        0.509812       0.971176       0.006324      0.000560   \n",
       "\n",
       "   # of labelled dialogue turns  \n",
       "0                          1500  \n",
       "1                          3000  \n",
       "2                          4500  \n",
       "3                          6000  \n",
       "4                          7500  \n",
       "5                          7888  "
      ]
     },
     "metadata": {},
     "output_type": "display_data"
    },
    {
     "data": {
      "text/html": [
       "<div>\n",
       "<style scoped>\n",
       "    .dataframe tbody tr th:only-of-type {\n",
       "        vertical-align: middle;\n",
       "    }\n",
       "\n",
       "    .dataframe tbody tr th {\n",
       "        vertical-align: top;\n",
       "    }\n",
       "\n",
       "    .dataframe thead th {\n",
       "        text-align: right;\n",
       "    }\n",
       "</style>\n",
       "<table border=\"1\" class=\"dataframe\">\n",
       "  <thead>\n",
       "    <tr style=\"text-align: right;\">\n",
       "      <th></th>\n",
       "      <th>round</th>\n",
       "      <th>test_joint_acc</th>\n",
       "      <th>test_slot_acc</th>\n",
       "      <th>joint_acc_std</th>\n",
       "      <th>slot_acc_std</th>\n",
       "      <th># of labelled dialogue turns</th>\n",
       "    </tr>\n",
       "  </thead>\n",
       "  <tbody>\n",
       "    <tr>\n",
       "      <th>0</th>\n",
       "      <td>0</td>\n",
       "      <td>0.394058</td>\n",
       "      <td>0.957233</td>\n",
       "      <td>0.023788</td>\n",
       "      <td>0.004003</td>\n",
       "      <td>1500</td>\n",
       "    </tr>\n",
       "    <tr>\n",
       "      <th>1</th>\n",
       "      <td>1</td>\n",
       "      <td>0.458220</td>\n",
       "      <td>0.966680</td>\n",
       "      <td>0.001783</td>\n",
       "      <td>0.000512</td>\n",
       "      <td>3000</td>\n",
       "    </tr>\n",
       "  </tbody>\n",
       "</table>\n",
       "</div>"
      ],
      "text/plain": [
       "   round  test_joint_acc  test_slot_acc  joint_acc_std  slot_acc_std  \\\n",
       "0      0        0.394058       0.957233       0.023788      0.004003   \n",
       "1      1        0.458220       0.966680       0.001783      0.000512   \n",
       "\n",
       "   # of labelled dialogue turns  \n",
       "0                          1500  \n",
       "1                          3000  "
      ]
     },
     "metadata": {},
     "output_type": "display_data"
    }
   ],
   "source": [
    "kage_mwz20_k500 = prepare_subplot_inputs(500, 20, 'KAGE')\n",
    "kage_mwz20_k1000 = prepare_subplot_inputs(1000, 20, 'KAGE')\n",
    "kage_mwz20_k1500 = prepare_subplot_inputs(1500, 20, 'KAGE')"
   ]
  },
  {
   "cell_type": "code",
   "execution_count": null,
   "metadata": {},
   "outputs": [],
   "source": []
  },
  {
   "cell_type": "code",
   "execution_count": 41,
   "metadata": {},
   "outputs": [
    {
     "data": {
      "application/vnd.plotly.v1+json": {
       "config": {
        "plotlyServerURL": "https://plot.ly"
       },
       "data": [
        {
         "line": {
          "color": "rgba(99, 110, 250, 0.3)",
          "dash": "dash",
          "width": 4.5
         },
         "mode": "lines+markers",
         "name": "k500-RS",
         "type": "scatter",
         "x": [
          500,
          1000,
          1500,
          2000,
          2500,
          3000
         ],
         "y": [
          0.1941805,
          0.34529299999999996,
          0.3918885,
          0.405046,
          0.438619,
          0.4476395
         ]
        },
        {
         "line": {
          "color": "rgba(239, 85, 59, 0.3)",
          "dash": "dash",
          "width": 4.5
         },
         "mode": "lines+markers",
         "name": "k500-LC",
         "type": "scatter",
         "x": [
          500,
          1000,
          1500,
          2000,
          2500,
          3000
         ],
         "y": [
          0.2544765,
          0.382325,
          0.41427,
          0.43685549999999995,
          0.4578135,
          0.467241
         ]
        },
        {
         "line": {
          "color": "rgba(0, 204, 150, 0.3)",
          "dash": "dash",
          "width": 4.5
         },
         "mode": "lines+markers",
         "name": "k500-ME",
         "type": "scatter",
         "x": [
          500,
          1000,
          1500,
          2000,
          2500,
          3000
         ],
         "y": [
          0.21534175,
          0.371236,
          0.41250675,
          0.43454974999999996,
          0.4480125,
          0.46517250000000004
         ]
        },
        {
         "line": {
          "color": "rgba(171, 99, 250, 0.3)",
          "dash": "dashdot",
          "width": 4.5
         },
         "mode": "lines+markers",
         "name": "k1000-RS",
         "type": "scatter",
         "x": [
          1000,
          2000,
          3000
         ],
         "y": [
          0.3507185,
          0.4167115,
          0.44920000000000004
         ]
        },
        {
         "line": {
          "color": "rgba(255, 161, 90, 0.3)",
          "dash": "dashdot",
          "width": 4.5
         },
         "mode": "lines+markers",
         "name": "k1000-LC",
         "type": "scatter",
         "x": [
          1000,
          2000,
          3000
         ],
         "y": [
          0.31395799999999996,
          0.4295985,
          0.4766685
         ]
        },
        {
         "line": {
          "color": "rgba(25, 211, 243, 0.3)",
          "dash": "dashdot",
          "width": 4.5
         },
         "mode": "lines+markers",
         "name": "k1000-ME",
         "type": "scatter",
         "x": [
          1000,
          2000,
          3000
         ],
         "y": [
          0.31529199999999996,
          0.440631,
          0.45736099999999996
         ]
        },
        {
         "line": {
          "color": "rgba(255, 102, 146, 0.3)",
          "width": 4.5
         },
         "mode": "lines+markers",
         "name": "k1500-RS",
         "type": "scatter",
         "x": [
          1500,
          3000
         ],
         "y": [
          0.42335849999999997,
          0.44777500000000003
         ]
        },
        {
         "line": {
          "color": "rgba(182, 232, 128, 0.3)",
          "width": 4.5
         },
         "mode": "lines+markers",
         "name": "k1500-LC",
         "type": "scatter",
         "x": [
          1500,
          3000
         ],
         "y": [
          0.34983699999999995,
          0.46432450000000003
         ]
        },
        {
         "line": {
          "color": "rgba(255, 151, 255, 0.3)",
          "width": 4.5
         },
         "mode": "lines+markers",
         "name": "k1500-ME",
         "type": "scatter",
         "x": [
          1500,
          3000
         ],
         "y": [
          0.39405833333333334,
          0.4582203333333333
         ]
        }
       ],
       "layout": {
        "template": {
         "data": {
          "bar": [
           {
            "error_x": {
             "color": "#2a3f5f"
            },
            "error_y": {
             "color": "#2a3f5f"
            },
            "marker": {
             "line": {
              "color": "#E5ECF6",
              "width": 0.5
             },
             "pattern": {
              "fillmode": "overlay",
              "size": 10,
              "solidity": 0.2
             }
            },
            "type": "bar"
           }
          ],
          "barpolar": [
           {
            "marker": {
             "line": {
              "color": "#E5ECF6",
              "width": 0.5
             },
             "pattern": {
              "fillmode": "overlay",
              "size": 10,
              "solidity": 0.2
             }
            },
            "type": "barpolar"
           }
          ],
          "carpet": [
           {
            "aaxis": {
             "endlinecolor": "#2a3f5f",
             "gridcolor": "white",
             "linecolor": "white",
             "minorgridcolor": "white",
             "startlinecolor": "#2a3f5f"
            },
            "baxis": {
             "endlinecolor": "#2a3f5f",
             "gridcolor": "white",
             "linecolor": "white",
             "minorgridcolor": "white",
             "startlinecolor": "#2a3f5f"
            },
            "type": "carpet"
           }
          ],
          "choropleth": [
           {
            "colorbar": {
             "outlinewidth": 0,
             "ticks": ""
            },
            "type": "choropleth"
           }
          ],
          "contour": [
           {
            "colorbar": {
             "outlinewidth": 0,
             "ticks": ""
            },
            "colorscale": [
             [
              0,
              "#0d0887"
             ],
             [
              0.1111111111111111,
              "#46039f"
             ],
             [
              0.2222222222222222,
              "#7201a8"
             ],
             [
              0.3333333333333333,
              "#9c179e"
             ],
             [
              0.4444444444444444,
              "#bd3786"
             ],
             [
              0.5555555555555556,
              "#d8576b"
             ],
             [
              0.6666666666666666,
              "#ed7953"
             ],
             [
              0.7777777777777778,
              "#fb9f3a"
             ],
             [
              0.8888888888888888,
              "#fdca26"
             ],
             [
              1,
              "#f0f921"
             ]
            ],
            "type": "contour"
           }
          ],
          "contourcarpet": [
           {
            "colorbar": {
             "outlinewidth": 0,
             "ticks": ""
            },
            "type": "contourcarpet"
           }
          ],
          "heatmap": [
           {
            "colorbar": {
             "outlinewidth": 0,
             "ticks": ""
            },
            "colorscale": [
             [
              0,
              "#0d0887"
             ],
             [
              0.1111111111111111,
              "#46039f"
             ],
             [
              0.2222222222222222,
              "#7201a8"
             ],
             [
              0.3333333333333333,
              "#9c179e"
             ],
             [
              0.4444444444444444,
              "#bd3786"
             ],
             [
              0.5555555555555556,
              "#d8576b"
             ],
             [
              0.6666666666666666,
              "#ed7953"
             ],
             [
              0.7777777777777778,
              "#fb9f3a"
             ],
             [
              0.8888888888888888,
              "#fdca26"
             ],
             [
              1,
              "#f0f921"
             ]
            ],
            "type": "heatmap"
           }
          ],
          "heatmapgl": [
           {
            "colorbar": {
             "outlinewidth": 0,
             "ticks": ""
            },
            "colorscale": [
             [
              0,
              "#0d0887"
             ],
             [
              0.1111111111111111,
              "#46039f"
             ],
             [
              0.2222222222222222,
              "#7201a8"
             ],
             [
              0.3333333333333333,
              "#9c179e"
             ],
             [
              0.4444444444444444,
              "#bd3786"
             ],
             [
              0.5555555555555556,
              "#d8576b"
             ],
             [
              0.6666666666666666,
              "#ed7953"
             ],
             [
              0.7777777777777778,
              "#fb9f3a"
             ],
             [
              0.8888888888888888,
              "#fdca26"
             ],
             [
              1,
              "#f0f921"
             ]
            ],
            "type": "heatmapgl"
           }
          ],
          "histogram": [
           {
            "marker": {
             "pattern": {
              "fillmode": "overlay",
              "size": 10,
              "solidity": 0.2
             }
            },
            "type": "histogram"
           }
          ],
          "histogram2d": [
           {
            "colorbar": {
             "outlinewidth": 0,
             "ticks": ""
            },
            "colorscale": [
             [
              0,
              "#0d0887"
             ],
             [
              0.1111111111111111,
              "#46039f"
             ],
             [
              0.2222222222222222,
              "#7201a8"
             ],
             [
              0.3333333333333333,
              "#9c179e"
             ],
             [
              0.4444444444444444,
              "#bd3786"
             ],
             [
              0.5555555555555556,
              "#d8576b"
             ],
             [
              0.6666666666666666,
              "#ed7953"
             ],
             [
              0.7777777777777778,
              "#fb9f3a"
             ],
             [
              0.8888888888888888,
              "#fdca26"
             ],
             [
              1,
              "#f0f921"
             ]
            ],
            "type": "histogram2d"
           }
          ],
          "histogram2dcontour": [
           {
            "colorbar": {
             "outlinewidth": 0,
             "ticks": ""
            },
            "colorscale": [
             [
              0,
              "#0d0887"
             ],
             [
              0.1111111111111111,
              "#46039f"
             ],
             [
              0.2222222222222222,
              "#7201a8"
             ],
             [
              0.3333333333333333,
              "#9c179e"
             ],
             [
              0.4444444444444444,
              "#bd3786"
             ],
             [
              0.5555555555555556,
              "#d8576b"
             ],
             [
              0.6666666666666666,
              "#ed7953"
             ],
             [
              0.7777777777777778,
              "#fb9f3a"
             ],
             [
              0.8888888888888888,
              "#fdca26"
             ],
             [
              1,
              "#f0f921"
             ]
            ],
            "type": "histogram2dcontour"
           }
          ],
          "mesh3d": [
           {
            "colorbar": {
             "outlinewidth": 0,
             "ticks": ""
            },
            "type": "mesh3d"
           }
          ],
          "parcoords": [
           {
            "line": {
             "colorbar": {
              "outlinewidth": 0,
              "ticks": ""
             }
            },
            "type": "parcoords"
           }
          ],
          "pie": [
           {
            "automargin": true,
            "type": "pie"
           }
          ],
          "scatter": [
           {
            "fillpattern": {
             "fillmode": "overlay",
             "size": 10,
             "solidity": 0.2
            },
            "type": "scatter"
           }
          ],
          "scatter3d": [
           {
            "line": {
             "colorbar": {
              "outlinewidth": 0,
              "ticks": ""
             }
            },
            "marker": {
             "colorbar": {
              "outlinewidth": 0,
              "ticks": ""
             }
            },
            "type": "scatter3d"
           }
          ],
          "scattercarpet": [
           {
            "marker": {
             "colorbar": {
              "outlinewidth": 0,
              "ticks": ""
             }
            },
            "type": "scattercarpet"
           }
          ],
          "scattergeo": [
           {
            "marker": {
             "colorbar": {
              "outlinewidth": 0,
              "ticks": ""
             }
            },
            "type": "scattergeo"
           }
          ],
          "scattergl": [
           {
            "marker": {
             "colorbar": {
              "outlinewidth": 0,
              "ticks": ""
             }
            },
            "type": "scattergl"
           }
          ],
          "scattermapbox": [
           {
            "marker": {
             "colorbar": {
              "outlinewidth": 0,
              "ticks": ""
             }
            },
            "type": "scattermapbox"
           }
          ],
          "scatterpolar": [
           {
            "marker": {
             "colorbar": {
              "outlinewidth": 0,
              "ticks": ""
             }
            },
            "type": "scatterpolar"
           }
          ],
          "scatterpolargl": [
           {
            "marker": {
             "colorbar": {
              "outlinewidth": 0,
              "ticks": ""
             }
            },
            "type": "scatterpolargl"
           }
          ],
          "scatterternary": [
           {
            "marker": {
             "colorbar": {
              "outlinewidth": 0,
              "ticks": ""
             }
            },
            "type": "scatterternary"
           }
          ],
          "surface": [
           {
            "colorbar": {
             "outlinewidth": 0,
             "ticks": ""
            },
            "colorscale": [
             [
              0,
              "#0d0887"
             ],
             [
              0.1111111111111111,
              "#46039f"
             ],
             [
              0.2222222222222222,
              "#7201a8"
             ],
             [
              0.3333333333333333,
              "#9c179e"
             ],
             [
              0.4444444444444444,
              "#bd3786"
             ],
             [
              0.5555555555555556,
              "#d8576b"
             ],
             [
              0.6666666666666666,
              "#ed7953"
             ],
             [
              0.7777777777777778,
              "#fb9f3a"
             ],
             [
              0.8888888888888888,
              "#fdca26"
             ],
             [
              1,
              "#f0f921"
             ]
            ],
            "type": "surface"
           }
          ],
          "table": [
           {
            "cells": {
             "fill": {
              "color": "#EBF0F8"
             },
             "line": {
              "color": "white"
             }
            },
            "header": {
             "fill": {
              "color": "#C8D4E3"
             },
             "line": {
              "color": "white"
             }
            },
            "type": "table"
           }
          ]
         },
         "layout": {
          "annotationdefaults": {
           "arrowcolor": "#2a3f5f",
           "arrowhead": 0,
           "arrowwidth": 1
          },
          "autotypenumbers": "strict",
          "coloraxis": {
           "colorbar": {
            "outlinewidth": 0,
            "ticks": ""
           }
          },
          "colorscale": {
           "diverging": [
            [
             0,
             "#8e0152"
            ],
            [
             0.1,
             "#c51b7d"
            ],
            [
             0.2,
             "#de77ae"
            ],
            [
             0.3,
             "#f1b6da"
            ],
            [
             0.4,
             "#fde0ef"
            ],
            [
             0.5,
             "#f7f7f7"
            ],
            [
             0.6,
             "#e6f5d0"
            ],
            [
             0.7,
             "#b8e186"
            ],
            [
             0.8,
             "#7fbc41"
            ],
            [
             0.9,
             "#4d9221"
            ],
            [
             1,
             "#276419"
            ]
           ],
           "sequential": [
            [
             0,
             "#0d0887"
            ],
            [
             0.1111111111111111,
             "#46039f"
            ],
            [
             0.2222222222222222,
             "#7201a8"
            ],
            [
             0.3333333333333333,
             "#9c179e"
            ],
            [
             0.4444444444444444,
             "#bd3786"
            ],
            [
             0.5555555555555556,
             "#d8576b"
            ],
            [
             0.6666666666666666,
             "#ed7953"
            ],
            [
             0.7777777777777778,
             "#fb9f3a"
            ],
            [
             0.8888888888888888,
             "#fdca26"
            ],
            [
             1,
             "#f0f921"
            ]
           ],
           "sequentialminus": [
            [
             0,
             "#0d0887"
            ],
            [
             0.1111111111111111,
             "#46039f"
            ],
            [
             0.2222222222222222,
             "#7201a8"
            ],
            [
             0.3333333333333333,
             "#9c179e"
            ],
            [
             0.4444444444444444,
             "#bd3786"
            ],
            [
             0.5555555555555556,
             "#d8576b"
            ],
            [
             0.6666666666666666,
             "#ed7953"
            ],
            [
             0.7777777777777778,
             "#fb9f3a"
            ],
            [
             0.8888888888888888,
             "#fdca26"
            ],
            [
             1,
             "#f0f921"
            ]
           ]
          },
          "colorway": [
           "#636efa",
           "#EF553B",
           "#00cc96",
           "#ab63fa",
           "#FFA15A",
           "#19d3f3",
           "#FF6692",
           "#B6E880",
           "#FF97FF",
           "#FECB52"
          ],
          "font": {
           "color": "#2a3f5f"
          },
          "geo": {
           "bgcolor": "white",
           "lakecolor": "white",
           "landcolor": "#E5ECF6",
           "showlakes": true,
           "showland": true,
           "subunitcolor": "white"
          },
          "hoverlabel": {
           "align": "left"
          },
          "hovermode": "closest",
          "mapbox": {
           "style": "light"
          },
          "paper_bgcolor": "white",
          "plot_bgcolor": "#E5ECF6",
          "polar": {
           "angularaxis": {
            "gridcolor": "white",
            "linecolor": "white",
            "ticks": ""
           },
           "bgcolor": "#E5ECF6",
           "radialaxis": {
            "gridcolor": "white",
            "linecolor": "white",
            "ticks": ""
           }
          },
          "scene": {
           "xaxis": {
            "backgroundcolor": "#E5ECF6",
            "gridcolor": "white",
            "gridwidth": 2,
            "linecolor": "white",
            "showbackground": true,
            "ticks": "",
            "zerolinecolor": "white"
           },
           "yaxis": {
            "backgroundcolor": "#E5ECF6",
            "gridcolor": "white",
            "gridwidth": 2,
            "linecolor": "white",
            "showbackground": true,
            "ticks": "",
            "zerolinecolor": "white"
           },
           "zaxis": {
            "backgroundcolor": "#E5ECF6",
            "gridcolor": "white",
            "gridwidth": 2,
            "linecolor": "white",
            "showbackground": true,
            "ticks": "",
            "zerolinecolor": "white"
           }
          },
          "shapedefaults": {
           "line": {
            "color": "#2a3f5f"
           }
          },
          "ternary": {
           "aaxis": {
            "gridcolor": "white",
            "linecolor": "white",
            "ticks": ""
           },
           "baxis": {
            "gridcolor": "white",
            "linecolor": "white",
            "ticks": ""
           },
           "bgcolor": "#E5ECF6",
           "caxis": {
            "gridcolor": "white",
            "linecolor": "white",
            "ticks": ""
           }
          },
          "title": {
           "x": 0.05
          },
          "xaxis": {
           "automargin": true,
           "gridcolor": "white",
           "linecolor": "white",
           "ticks": "",
           "title": {
            "standoff": 15
           },
           "zerolinecolor": "white",
           "zerolinewidth": 2
          },
          "yaxis": {
           "automargin": true,
           "gridcolor": "white",
           "linecolor": "white",
           "ticks": "",
           "title": {
            "standoff": 15
           },
           "zerolinecolor": "white",
           "zerolinewidth": 2
          }
         }
        },
        "xaxis": {
         "title": {
          "text": "# of labelled dialogue turns"
         },
         "type": "category"
        },
        "yaxis": {
         "range": [
          0.15,
          0.5
         ],
         "title": {
          "text": "Joint Goal Accuracy"
         }
        }
       }
      },
      "text/html": [
       "<div>                            <div id=\"0fa990e5-2f54-4cb4-a68b-6bb6a6a440b0\" class=\"plotly-graph-div\" style=\"height:525px; width:100%;\"></div>            <script type=\"text/javascript\">                require([\"plotly\"], function(Plotly) {                    window.PLOTLYENV=window.PLOTLYENV || {};                                    if (document.getElementById(\"0fa990e5-2f54-4cb4-a68b-6bb6a6a440b0\")) {                    Plotly.newPlot(                        \"0fa990e5-2f54-4cb4-a68b-6bb6a6a440b0\",                        [{\"line\":{\"color\":\"rgba(99, 110, 250, 0.3)\",\"dash\":\"dash\",\"width\":4.5},\"mode\":\"lines+markers\",\"name\":\"k500-RS\",\"x\":[500,1000,1500,2000,2500,3000],\"y\":[0.1941805,0.34529299999999996,0.3918885,0.405046,0.438619,0.4476395],\"type\":\"scatter\"},{\"line\":{\"color\":\"rgba(239, 85, 59, 0.3)\",\"dash\":\"dash\",\"width\":4.5},\"mode\":\"lines+markers\",\"name\":\"k500-LC\",\"x\":[500,1000,1500,2000,2500,3000],\"y\":[0.2544765,0.382325,0.41427,0.43685549999999995,0.4578135,0.467241],\"type\":\"scatter\"},{\"line\":{\"color\":\"rgba(0, 204, 150, 0.3)\",\"dash\":\"dash\",\"width\":4.5},\"mode\":\"lines+markers\",\"name\":\"k500-ME\",\"x\":[500,1000,1500,2000,2500,3000],\"y\":[0.21534175,0.371236,0.41250675,0.43454974999999996,0.4480125,0.46517250000000004],\"type\":\"scatter\"},{\"line\":{\"color\":\"rgba(171, 99, 250, 0.3)\",\"dash\":\"dashdot\",\"width\":4.5},\"mode\":\"lines+markers\",\"name\":\"k1000-RS\",\"x\":[1000,2000,3000],\"y\":[0.3507185,0.4167115,0.44920000000000004],\"type\":\"scatter\"},{\"line\":{\"color\":\"rgba(255, 161, 90, 0.3)\",\"dash\":\"dashdot\",\"width\":4.5},\"mode\":\"lines+markers\",\"name\":\"k1000-LC\",\"x\":[1000,2000,3000],\"y\":[0.31395799999999996,0.4295985,0.4766685],\"type\":\"scatter\"},{\"line\":{\"color\":\"rgba(25, 211, 243, 0.3)\",\"dash\":\"dashdot\",\"width\":4.5},\"mode\":\"lines+markers\",\"name\":\"k1000-ME\",\"x\":[1000,2000,3000],\"y\":[0.31529199999999996,0.440631,0.45736099999999996],\"type\":\"scatter\"},{\"line\":{\"color\":\"rgba(255, 102, 146, 0.3)\",\"width\":4.5},\"mode\":\"lines+markers\",\"name\":\"k1500-RS\",\"x\":[1500,3000],\"y\":[0.42335849999999997,0.44777500000000003],\"type\":\"scatter\"},{\"line\":{\"color\":\"rgba(182, 232, 128, 0.3)\",\"width\":4.5},\"mode\":\"lines+markers\",\"name\":\"k1500-LC\",\"x\":[1500,3000],\"y\":[0.34983699999999995,0.46432450000000003],\"type\":\"scatter\"},{\"line\":{\"color\":\"rgba(255, 151, 255, 0.3)\",\"width\":4.5},\"mode\":\"lines+markers\",\"name\":\"k1500-ME\",\"x\":[1500,3000],\"y\":[0.39405833333333334,0.4582203333333333],\"type\":\"scatter\"}],                        {\"template\":{\"data\":{\"histogram2dcontour\":[{\"type\":\"histogram2dcontour\",\"colorbar\":{\"outlinewidth\":0,\"ticks\":\"\"},\"colorscale\":[[0.0,\"#0d0887\"],[0.1111111111111111,\"#46039f\"],[0.2222222222222222,\"#7201a8\"],[0.3333333333333333,\"#9c179e\"],[0.4444444444444444,\"#bd3786\"],[0.5555555555555556,\"#d8576b\"],[0.6666666666666666,\"#ed7953\"],[0.7777777777777778,\"#fb9f3a\"],[0.8888888888888888,\"#fdca26\"],[1.0,\"#f0f921\"]]}],\"choropleth\":[{\"type\":\"choropleth\",\"colorbar\":{\"outlinewidth\":0,\"ticks\":\"\"}}],\"histogram2d\":[{\"type\":\"histogram2d\",\"colorbar\":{\"outlinewidth\":0,\"ticks\":\"\"},\"colorscale\":[[0.0,\"#0d0887\"],[0.1111111111111111,\"#46039f\"],[0.2222222222222222,\"#7201a8\"],[0.3333333333333333,\"#9c179e\"],[0.4444444444444444,\"#bd3786\"],[0.5555555555555556,\"#d8576b\"],[0.6666666666666666,\"#ed7953\"],[0.7777777777777778,\"#fb9f3a\"],[0.8888888888888888,\"#fdca26\"],[1.0,\"#f0f921\"]]}],\"heatmap\":[{\"type\":\"heatmap\",\"colorbar\":{\"outlinewidth\":0,\"ticks\":\"\"},\"colorscale\":[[0.0,\"#0d0887\"],[0.1111111111111111,\"#46039f\"],[0.2222222222222222,\"#7201a8\"],[0.3333333333333333,\"#9c179e\"],[0.4444444444444444,\"#bd3786\"],[0.5555555555555556,\"#d8576b\"],[0.6666666666666666,\"#ed7953\"],[0.7777777777777778,\"#fb9f3a\"],[0.8888888888888888,\"#fdca26\"],[1.0,\"#f0f921\"]]}],\"heatmapgl\":[{\"type\":\"heatmapgl\",\"colorbar\":{\"outlinewidth\":0,\"ticks\":\"\"},\"colorscale\":[[0.0,\"#0d0887\"],[0.1111111111111111,\"#46039f\"],[0.2222222222222222,\"#7201a8\"],[0.3333333333333333,\"#9c179e\"],[0.4444444444444444,\"#bd3786\"],[0.5555555555555556,\"#d8576b\"],[0.6666666666666666,\"#ed7953\"],[0.7777777777777778,\"#fb9f3a\"],[0.8888888888888888,\"#fdca26\"],[1.0,\"#f0f921\"]]}],\"contourcarpet\":[{\"type\":\"contourcarpet\",\"colorbar\":{\"outlinewidth\":0,\"ticks\":\"\"}}],\"contour\":[{\"type\":\"contour\",\"colorbar\":{\"outlinewidth\":0,\"ticks\":\"\"},\"colorscale\":[[0.0,\"#0d0887\"],[0.1111111111111111,\"#46039f\"],[0.2222222222222222,\"#7201a8\"],[0.3333333333333333,\"#9c179e\"],[0.4444444444444444,\"#bd3786\"],[0.5555555555555556,\"#d8576b\"],[0.6666666666666666,\"#ed7953\"],[0.7777777777777778,\"#fb9f3a\"],[0.8888888888888888,\"#fdca26\"],[1.0,\"#f0f921\"]]}],\"surface\":[{\"type\":\"surface\",\"colorbar\":{\"outlinewidth\":0,\"ticks\":\"\"},\"colorscale\":[[0.0,\"#0d0887\"],[0.1111111111111111,\"#46039f\"],[0.2222222222222222,\"#7201a8\"],[0.3333333333333333,\"#9c179e\"],[0.4444444444444444,\"#bd3786\"],[0.5555555555555556,\"#d8576b\"],[0.6666666666666666,\"#ed7953\"],[0.7777777777777778,\"#fb9f3a\"],[0.8888888888888888,\"#fdca26\"],[1.0,\"#f0f921\"]]}],\"mesh3d\":[{\"type\":\"mesh3d\",\"colorbar\":{\"outlinewidth\":0,\"ticks\":\"\"}}],\"scatter\":[{\"fillpattern\":{\"fillmode\":\"overlay\",\"size\":10,\"solidity\":0.2},\"type\":\"scatter\"}],\"parcoords\":[{\"type\":\"parcoords\",\"line\":{\"colorbar\":{\"outlinewidth\":0,\"ticks\":\"\"}}}],\"scatterpolargl\":[{\"type\":\"scatterpolargl\",\"marker\":{\"colorbar\":{\"outlinewidth\":0,\"ticks\":\"\"}}}],\"bar\":[{\"error_x\":{\"color\":\"#2a3f5f\"},\"error_y\":{\"color\":\"#2a3f5f\"},\"marker\":{\"line\":{\"color\":\"#E5ECF6\",\"width\":0.5},\"pattern\":{\"fillmode\":\"overlay\",\"size\":10,\"solidity\":0.2}},\"type\":\"bar\"}],\"scattergeo\":[{\"type\":\"scattergeo\",\"marker\":{\"colorbar\":{\"outlinewidth\":0,\"ticks\":\"\"}}}],\"scatterpolar\":[{\"type\":\"scatterpolar\",\"marker\":{\"colorbar\":{\"outlinewidth\":0,\"ticks\":\"\"}}}],\"histogram\":[{\"marker\":{\"pattern\":{\"fillmode\":\"overlay\",\"size\":10,\"solidity\":0.2}},\"type\":\"histogram\"}],\"scattergl\":[{\"type\":\"scattergl\",\"marker\":{\"colorbar\":{\"outlinewidth\":0,\"ticks\":\"\"}}}],\"scatter3d\":[{\"type\":\"scatter3d\",\"line\":{\"colorbar\":{\"outlinewidth\":0,\"ticks\":\"\"}},\"marker\":{\"colorbar\":{\"outlinewidth\":0,\"ticks\":\"\"}}}],\"scattermapbox\":[{\"type\":\"scattermapbox\",\"marker\":{\"colorbar\":{\"outlinewidth\":0,\"ticks\":\"\"}}}],\"scatterternary\":[{\"type\":\"scatterternary\",\"marker\":{\"colorbar\":{\"outlinewidth\":0,\"ticks\":\"\"}}}],\"scattercarpet\":[{\"type\":\"scattercarpet\",\"marker\":{\"colorbar\":{\"outlinewidth\":0,\"ticks\":\"\"}}}],\"carpet\":[{\"aaxis\":{\"endlinecolor\":\"#2a3f5f\",\"gridcolor\":\"white\",\"linecolor\":\"white\",\"minorgridcolor\":\"white\",\"startlinecolor\":\"#2a3f5f\"},\"baxis\":{\"endlinecolor\":\"#2a3f5f\",\"gridcolor\":\"white\",\"linecolor\":\"white\",\"minorgridcolor\":\"white\",\"startlinecolor\":\"#2a3f5f\"},\"type\":\"carpet\"}],\"table\":[{\"cells\":{\"fill\":{\"color\":\"#EBF0F8\"},\"line\":{\"color\":\"white\"}},\"header\":{\"fill\":{\"color\":\"#C8D4E3\"},\"line\":{\"color\":\"white\"}},\"type\":\"table\"}],\"barpolar\":[{\"marker\":{\"line\":{\"color\":\"#E5ECF6\",\"width\":0.5},\"pattern\":{\"fillmode\":\"overlay\",\"size\":10,\"solidity\":0.2}},\"type\":\"barpolar\"}],\"pie\":[{\"automargin\":true,\"type\":\"pie\"}]},\"layout\":{\"autotypenumbers\":\"strict\",\"colorway\":[\"#636efa\",\"#EF553B\",\"#00cc96\",\"#ab63fa\",\"#FFA15A\",\"#19d3f3\",\"#FF6692\",\"#B6E880\",\"#FF97FF\",\"#FECB52\"],\"font\":{\"color\":\"#2a3f5f\"},\"hovermode\":\"closest\",\"hoverlabel\":{\"align\":\"left\"},\"paper_bgcolor\":\"white\",\"plot_bgcolor\":\"#E5ECF6\",\"polar\":{\"bgcolor\":\"#E5ECF6\",\"angularaxis\":{\"gridcolor\":\"white\",\"linecolor\":\"white\",\"ticks\":\"\"},\"radialaxis\":{\"gridcolor\":\"white\",\"linecolor\":\"white\",\"ticks\":\"\"}},\"ternary\":{\"bgcolor\":\"#E5ECF6\",\"aaxis\":{\"gridcolor\":\"white\",\"linecolor\":\"white\",\"ticks\":\"\"},\"baxis\":{\"gridcolor\":\"white\",\"linecolor\":\"white\",\"ticks\":\"\"},\"caxis\":{\"gridcolor\":\"white\",\"linecolor\":\"white\",\"ticks\":\"\"}},\"coloraxis\":{\"colorbar\":{\"outlinewidth\":0,\"ticks\":\"\"}},\"colorscale\":{\"sequential\":[[0.0,\"#0d0887\"],[0.1111111111111111,\"#46039f\"],[0.2222222222222222,\"#7201a8\"],[0.3333333333333333,\"#9c179e\"],[0.4444444444444444,\"#bd3786\"],[0.5555555555555556,\"#d8576b\"],[0.6666666666666666,\"#ed7953\"],[0.7777777777777778,\"#fb9f3a\"],[0.8888888888888888,\"#fdca26\"],[1.0,\"#f0f921\"]],\"sequentialminus\":[[0.0,\"#0d0887\"],[0.1111111111111111,\"#46039f\"],[0.2222222222222222,\"#7201a8\"],[0.3333333333333333,\"#9c179e\"],[0.4444444444444444,\"#bd3786\"],[0.5555555555555556,\"#d8576b\"],[0.6666666666666666,\"#ed7953\"],[0.7777777777777778,\"#fb9f3a\"],[0.8888888888888888,\"#fdca26\"],[1.0,\"#f0f921\"]],\"diverging\":[[0,\"#8e0152\"],[0.1,\"#c51b7d\"],[0.2,\"#de77ae\"],[0.3,\"#f1b6da\"],[0.4,\"#fde0ef\"],[0.5,\"#f7f7f7\"],[0.6,\"#e6f5d0\"],[0.7,\"#b8e186\"],[0.8,\"#7fbc41\"],[0.9,\"#4d9221\"],[1,\"#276419\"]]},\"xaxis\":{\"gridcolor\":\"white\",\"linecolor\":\"white\",\"ticks\":\"\",\"title\":{\"standoff\":15},\"zerolinecolor\":\"white\",\"automargin\":true,\"zerolinewidth\":2},\"yaxis\":{\"gridcolor\":\"white\",\"linecolor\":\"white\",\"ticks\":\"\",\"title\":{\"standoff\":15},\"zerolinecolor\":\"white\",\"automargin\":true,\"zerolinewidth\":2},\"scene\":{\"xaxis\":{\"backgroundcolor\":\"#E5ECF6\",\"gridcolor\":\"white\",\"linecolor\":\"white\",\"showbackground\":true,\"ticks\":\"\",\"zerolinecolor\":\"white\",\"gridwidth\":2},\"yaxis\":{\"backgroundcolor\":\"#E5ECF6\",\"gridcolor\":\"white\",\"linecolor\":\"white\",\"showbackground\":true,\"ticks\":\"\",\"zerolinecolor\":\"white\",\"gridwidth\":2},\"zaxis\":{\"backgroundcolor\":\"#E5ECF6\",\"gridcolor\":\"white\",\"linecolor\":\"white\",\"showbackground\":true,\"ticks\":\"\",\"zerolinecolor\":\"white\",\"gridwidth\":2}},\"shapedefaults\":{\"line\":{\"color\":\"#2a3f5f\"}},\"annotationdefaults\":{\"arrowcolor\":\"#2a3f5f\",\"arrowhead\":0,\"arrowwidth\":1},\"geo\":{\"bgcolor\":\"white\",\"landcolor\":\"#E5ECF6\",\"subunitcolor\":\"white\",\"showland\":true,\"showlakes\":true,\"lakecolor\":\"white\"},\"title\":{\"x\":0.05},\"mapbox\":{\"style\":\"light\"}}},\"xaxis\":{\"type\":\"category\",\"title\":{\"text\":\"# of labelled dialogue turns\"}},\"yaxis\":{\"range\":[0.15,0.5],\"title\":{\"text\":\"Joint Goal Accuracy\"}}},                        {\"responsive\": true}                    ).then(function(){\n",
       "                            \n",
       "var gd = document.getElementById('0fa990e5-2f54-4cb4-a68b-6bb6a6a440b0');\n",
       "var x = new MutationObserver(function (mutations, observer) {{\n",
       "        var display = window.getComputedStyle(gd).display;\n",
       "        if (!display || display === 'none') {{\n",
       "            console.log([gd, 'removed!']);\n",
       "            Plotly.purge(gd);\n",
       "            observer.disconnect();\n",
       "        }}\n",
       "}});\n",
       "\n",
       "// Listen for the removal of the full notebook cells\n",
       "var notebookContainer = gd.closest('#notebook-container');\n",
       "if (notebookContainer) {{\n",
       "    x.observe(notebookContainer, {childList: true});\n",
       "}}\n",
       "\n",
       "// Listen for the clearing of the current output cell\n",
       "var outputEl = gd.closest('.output');\n",
       "if (outputEl) {{\n",
       "    x.observe(outputEl, {childList: true});\n",
       "}}\n",
       "\n",
       "                        })                };                });            </script>        </div>"
      ]
     },
     "metadata": {},
     "output_type": "display_data"
    }
   ],
   "source": [
    "plot_k100_500_1000_joint_acc(kage_mwz20_k500, kage_mwz20_k1000, kage_mwz20_k1500)\n",
    "# plot_k100_500_1000_joint_acc(kage_mwz20_k500, 0, 0)"
   ]
  },
  {
   "cell_type": "code",
   "execution_count": null,
   "metadata": {},
   "outputs": [],
   "source": []
  },
  {
   "cell_type": "code",
   "execution_count": null,
   "metadata": {},
   "outputs": [],
   "source": []
  },
  {
   "cell_type": "code",
   "execution_count": null,
   "metadata": {},
   "outputs": [],
   "source": []
  },
  {
   "cell_type": "code",
   "execution_count": 12,
   "metadata": {},
   "outputs": [
    {
     "data": {
      "text/plain": [
       "joint_acc    0.225855\n",
       "dtype: float64"
      ]
     },
     "execution_count": 12,
     "metadata": {},
     "output_type": "execute_result"
    }
   ],
   "source": [
    "kage_k500_s998_lt_df = pd.DataFrame({\n",
    "    'joint_acc': [0.243082, 0.208627]\n",
    "})\n",
    "kage_k500_s998_lt_df.mean()"
   ]
  },
  {
   "cell_type": "code",
   "execution_count": 24,
   "metadata": {
    "scrolled": false
   },
   "outputs": [
    {
     "name": "stdout",
     "output_type": "stream",
     "text": [
      "============== ./data/mwz20/KAGE/random/k1000/k1000_test_acc.csv ==============\n"
     ]
    },
    {
     "data": {
      "text/html": [
       "<div>\n",
       "<style scoped>\n",
       "    .dataframe tbody tr th:only-of-type {\n",
       "        vertical-align: middle;\n",
       "    }\n",
       "\n",
       "    .dataframe tbody tr th {\n",
       "        vertical-align: top;\n",
       "    }\n",
       "\n",
       "    .dataframe thead th {\n",
       "        text-align: right;\n",
       "    }\n",
       "</style>\n",
       "<table border=\"1\" class=\"dataframe\">\n",
       "  <thead>\n",
       "    <tr style=\"text-align: right;\">\n",
       "      <th></th>\n",
       "      <th>round</th>\n",
       "      <th>test_joint_acc</th>\n",
       "      <th>test_slot_acc</th>\n",
       "      <th>joint_acc_std</th>\n",
       "      <th>slot_acc_std</th>\n",
       "      <th># of labelled dialogue turns</th>\n",
       "    </tr>\n",
       "  </thead>\n",
       "  <tbody>\n",
       "    <tr>\n",
       "      <th>0</th>\n",
       "      <td>0</td>\n",
       "      <td>0.350718</td>\n",
       "      <td>0.953556</td>\n",
       "      <td>0.010242</td>\n",
       "      <td>0.001707</td>\n",
       "      <td>1000</td>\n",
       "    </tr>\n",
       "    <tr>\n",
       "      <th>1</th>\n",
       "      <td>1</td>\n",
       "      <td>0.416712</td>\n",
       "      <td>0.960874</td>\n",
       "      <td>0.004476</td>\n",
       "      <td>0.000624</td>\n",
       "      <td>2000</td>\n",
       "    </tr>\n",
       "    <tr>\n",
       "      <th>2</th>\n",
       "      <td>2</td>\n",
       "      <td>0.449200</td>\n",
       "      <td>0.965161</td>\n",
       "      <td>0.004951</td>\n",
       "      <td>0.000411</td>\n",
       "      <td>3000</td>\n",
       "    </tr>\n",
       "    <tr>\n",
       "      <th>3</th>\n",
       "      <td>3</td>\n",
       "      <td>0.467919</td>\n",
       "      <td>0.966992</td>\n",
       "      <td>0.005765</td>\n",
       "      <td>0.000714</td>\n",
       "      <td>4000</td>\n",
       "    </tr>\n",
       "    <tr>\n",
       "      <th>4</th>\n",
       "      <td>4</td>\n",
       "      <td>0.476397</td>\n",
       "      <td>0.967768</td>\n",
       "      <td>0.000271</td>\n",
       "      <td>0.000400</td>\n",
       "      <td>5000</td>\n",
       "    </tr>\n",
       "    <tr>\n",
       "      <th>5</th>\n",
       "      <td>5</td>\n",
       "      <td>0.481484</td>\n",
       "      <td>0.968505</td>\n",
       "      <td>0.005901</td>\n",
       "      <td>0.000486</td>\n",
       "      <td>6000</td>\n",
       "    </tr>\n",
       "    <tr>\n",
       "      <th>6</th>\n",
       "      <td>6</td>\n",
       "      <td>0.503052</td>\n",
       "      <td>0.970236</td>\n",
       "      <td>0.003595</td>\n",
       "      <td>0.000156</td>\n",
       "      <td>7000</td>\n",
       "    </tr>\n",
       "    <tr>\n",
       "      <th>7</th>\n",
       "      <td>7</td>\n",
       "      <td>0.487927</td>\n",
       "      <td>0.969314</td>\n",
       "      <td>0.007868</td>\n",
       "      <td>0.000450</td>\n",
       "      <td>7888</td>\n",
       "    </tr>\n",
       "  </tbody>\n",
       "</table>\n",
       "</div>"
      ],
      "text/plain": [
       "   round  test_joint_acc  test_slot_acc  joint_acc_std  slot_acc_std  \\\n",
       "0      0        0.350718       0.953556       0.010242      0.001707   \n",
       "1      1        0.416712       0.960874       0.004476      0.000624   \n",
       "2      2        0.449200       0.965161       0.004951      0.000411   \n",
       "3      3        0.467919       0.966992       0.005765      0.000714   \n",
       "4      4        0.476397       0.967768       0.000271      0.000400   \n",
       "5      5        0.481484       0.968505       0.005901      0.000486   \n",
       "6      6        0.503052       0.970236       0.003595      0.000156   \n",
       "7      7        0.487927       0.969314       0.007868      0.000450   \n",
       "\n",
       "   # of labelled dialogue turns  \n",
       "0                          1000  \n",
       "1                          2000  \n",
       "2                          3000  \n",
       "3                          4000  \n",
       "4                          5000  \n",
       "5                          6000  \n",
       "6                          7000  \n",
       "7                          7888  "
      ]
     },
     "metadata": {},
     "output_type": "display_data"
    },
    {
     "name": "stdout",
     "output_type": "stream",
     "text": [
      "============== ./data/mwz20/KAGE/least_confidence/k1000/k1000_test_acc.csv ==============\n"
     ]
    },
    {
     "data": {
      "text/html": [
       "<div>\n",
       "<style scoped>\n",
       "    .dataframe tbody tr th:only-of-type {\n",
       "        vertical-align: middle;\n",
       "    }\n",
       "\n",
       "    .dataframe tbody tr th {\n",
       "        vertical-align: top;\n",
       "    }\n",
       "\n",
       "    .dataframe thead th {\n",
       "        text-align: right;\n",
       "    }\n",
       "</style>\n",
       "<table border=\"1\" class=\"dataframe\">\n",
       "  <thead>\n",
       "    <tr style=\"text-align: right;\">\n",
       "      <th></th>\n",
       "      <th>round</th>\n",
       "      <th>test_joint_acc</th>\n",
       "      <th>test_slot_acc</th>\n",
       "      <th>joint_acc_std</th>\n",
       "      <th>slot_acc_std</th>\n",
       "      <th># of labelled dialogue turns</th>\n",
       "    </tr>\n",
       "  </thead>\n",
       "  <tbody>\n",
       "    <tr>\n",
       "      <th>0</th>\n",
       "      <td>0</td>\n",
       "      <td>0.313958</td>\n",
       "      <td>0.943694</td>\n",
       "      <td>0.001831</td>\n",
       "      <td>0.002336</td>\n",
       "      <td>1000</td>\n",
       "    </tr>\n",
       "    <tr>\n",
       "      <th>1</th>\n",
       "      <td>1</td>\n",
       "      <td>0.429598</td>\n",
       "      <td>0.962505</td>\n",
       "      <td>0.005425</td>\n",
       "      <td>0.000699</td>\n",
       "      <td>2000</td>\n",
       "    </tr>\n",
       "    <tr>\n",
       "      <th>2</th>\n",
       "      <td>2</td>\n",
       "      <td>0.476668</td>\n",
       "      <td>0.968367</td>\n",
       "      <td>0.001086</td>\n",
       "      <td>0.000429</td>\n",
       "      <td>3000</td>\n",
       "    </tr>\n",
       "    <tr>\n",
       "      <th>3</th>\n",
       "      <td>3</td>\n",
       "      <td>0.475719</td>\n",
       "      <td>0.967621</td>\n",
       "      <td>0.006240</td>\n",
       "      <td>0.000235</td>\n",
       "      <td>4000</td>\n",
       "    </tr>\n",
       "    <tr>\n",
       "      <th>4</th>\n",
       "      <td>4</td>\n",
       "      <td>0.489081</td>\n",
       "      <td>0.969420</td>\n",
       "      <td>0.000882</td>\n",
       "      <td>0.000000</td>\n",
       "      <td>5000</td>\n",
       "    </tr>\n",
       "    <tr>\n",
       "      <th>5</th>\n",
       "      <td>5</td>\n",
       "      <td>0.495185</td>\n",
       "      <td>0.970124</td>\n",
       "      <td>0.009292</td>\n",
       "      <td>0.000680</td>\n",
       "      <td>6000</td>\n",
       "    </tr>\n",
       "  </tbody>\n",
       "</table>\n",
       "</div>"
      ],
      "text/plain": [
       "   round  test_joint_acc  test_slot_acc  joint_acc_std  slot_acc_std  \\\n",
       "0      0        0.313958       0.943694       0.001831      0.002336   \n",
       "1      1        0.429598       0.962505       0.005425      0.000699   \n",
       "2      2        0.476668       0.968367       0.001086      0.000429   \n",
       "3      3        0.475719       0.967621       0.006240      0.000235   \n",
       "4      4        0.489081       0.969420       0.000882      0.000000   \n",
       "5      5        0.495185       0.970124       0.009292      0.000680   \n",
       "\n",
       "   # of labelled dialogue turns  \n",
       "0                          1000  \n",
       "1                          2000  \n",
       "2                          3000  \n",
       "3                          4000  \n",
       "4                          5000  \n",
       "5                          6000  "
      ]
     },
     "metadata": {},
     "output_type": "display_data"
    },
    {
     "name": "stdout",
     "output_type": "stream",
     "text": [
      "============== ./data/mwz20/KAGE/max_entropy/k1000/k1000_test_acc.csv ==============\n"
     ]
    },
    {
     "data": {
      "text/html": [
       "<div>\n",
       "<style scoped>\n",
       "    .dataframe tbody tr th:only-of-type {\n",
       "        vertical-align: middle;\n",
       "    }\n",
       "\n",
       "    .dataframe tbody tr th {\n",
       "        vertical-align: top;\n",
       "    }\n",
       "\n",
       "    .dataframe thead th {\n",
       "        text-align: right;\n",
       "    }\n",
       "</style>\n",
       "<table border=\"1\" class=\"dataframe\">\n",
       "  <thead>\n",
       "    <tr style=\"text-align: right;\">\n",
       "      <th></th>\n",
       "      <th>round</th>\n",
       "      <th>test_joint_acc</th>\n",
       "      <th>test_slot_acc</th>\n",
       "      <th>joint_acc_std</th>\n",
       "      <th>slot_acc_std</th>\n",
       "      <th># of labelled dialogue turns</th>\n",
       "    </tr>\n",
       "  </thead>\n",
       "  <tbody>\n",
       "    <tr>\n",
       "      <th>0</th>\n",
       "      <td>0</td>\n",
       "      <td>0.315292</td>\n",
       "      <td>0.944483</td>\n",
       "      <td>0.011198</td>\n",
       "      <td>0.001582</td>\n",
       "      <td>1000</td>\n",
       "    </tr>\n",
       "    <tr>\n",
       "      <th>1</th>\n",
       "      <td>1</td>\n",
       "      <td>0.440631</td>\n",
       "      <td>0.963812</td>\n",
       "      <td>0.008150</td>\n",
       "      <td>0.000255</td>\n",
       "      <td>2000</td>\n",
       "    </tr>\n",
       "    <tr>\n",
       "      <th>2</th>\n",
       "      <td>2</td>\n",
       "      <td>0.457361</td>\n",
       "      <td>0.966205</td>\n",
       "      <td>0.015024</td>\n",
       "      <td>0.001440</td>\n",
       "      <td>3000</td>\n",
       "    </tr>\n",
       "    <tr>\n",
       "      <th>3</th>\n",
       "      <td>3</td>\n",
       "      <td>0.482682</td>\n",
       "      <td>0.968501</td>\n",
       "      <td>0.005417</td>\n",
       "      <td>0.000326</td>\n",
       "      <td>4000</td>\n",
       "    </tr>\n",
       "    <tr>\n",
       "      <th>4</th>\n",
       "      <td>4</td>\n",
       "      <td>0.494574</td>\n",
       "      <td>0.969627</td>\n",
       "      <td>0.006560</td>\n",
       "      <td>0.001014</td>\n",
       "      <td>5000</td>\n",
       "    </tr>\n",
       "    <tr>\n",
       "      <th>5</th>\n",
       "      <td>5</td>\n",
       "      <td>0.503866</td>\n",
       "      <td>0.970666</td>\n",
       "      <td>0.001560</td>\n",
       "      <td>0.000301</td>\n",
       "      <td>6000</td>\n",
       "    </tr>\n",
       "    <tr>\n",
       "      <th>6</th>\n",
       "      <td>6</td>\n",
       "      <td>0.514107</td>\n",
       "      <td>0.971206</td>\n",
       "      <td>0.000000</td>\n",
       "      <td>0.000000</td>\n",
       "      <td>7000</td>\n",
       "    </tr>\n",
       "    <tr>\n",
       "      <th>7</th>\n",
       "      <td>7</td>\n",
       "      <td>0.518448</td>\n",
       "      <td>0.972468</td>\n",
       "      <td>0.000000</td>\n",
       "      <td>0.000000</td>\n",
       "      <td>7888</td>\n",
       "    </tr>\n",
       "  </tbody>\n",
       "</table>\n",
       "</div>"
      ],
      "text/plain": [
       "   round  test_joint_acc  test_slot_acc  joint_acc_std  slot_acc_std  \\\n",
       "0      0        0.315292       0.944483       0.011198      0.001582   \n",
       "1      1        0.440631       0.963812       0.008150      0.000255   \n",
       "2      2        0.457361       0.966205       0.015024      0.001440   \n",
       "3      3        0.482682       0.968501       0.005417      0.000326   \n",
       "4      4        0.494574       0.969627       0.006560      0.001014   \n",
       "5      5        0.503866       0.970666       0.001560      0.000301   \n",
       "6      6        0.514107       0.971206       0.000000      0.000000   \n",
       "7      7        0.518448       0.972468       0.000000      0.000000   \n",
       "\n",
       "   # of labelled dialogue turns  \n",
       "0                          1000  \n",
       "1                          2000  \n",
       "2                          3000  \n",
       "3                          4000  \n",
       "4                          5000  \n",
       "5                          6000  \n",
       "6                          7000  \n",
       "7                          7888  "
      ]
     },
     "metadata": {},
     "output_type": "display_data"
    },
    {
     "data": {
      "application/vnd.plotly.v1+json": {
       "config": {
        "plotlyServerURL": "https://plot.ly"
       },
       "data": [
        {
         "fill": "tozerox",
         "fillcolor": "rgba(99, 110, 250, 0.3)",
         "line": {
          "color": "rgba(255,255,255,0)"
         },
         "mode": "lines",
         "name": "RS",
         "showlegend": false,
         "type": "scatter",
         "x": [
          1000,
          2000,
          3000,
          4000,
          5000,
          6000,
          7000,
          7888,
          7888,
          7000,
          6000,
          5000,
          4000,
          3000,
          2000,
          1000
         ],
         "y": [
          0.36096,
          0.421188,
          0.4541510000000001,
          0.47368399999999994,
          0.476668,
          0.487385,
          0.506647,
          0.495795,
          0.48005999999999993,
          0.499457,
          0.47558300000000003,
          0.47612599999999994,
          0.462154,
          0.444249,
          0.412235,
          0.340477
         ]
        },
        {
         "line": {
          "color": "rgba(99, 110, 250, 0.3)",
          "width": 3
         },
         "mode": "lines+markers",
         "name": "RS",
         "type": "scatter",
         "x": [
          1000,
          2000,
          3000,
          4000,
          5000,
          6000,
          7000,
          7888
         ],
         "y": [
          0.3507185,
          0.4167115,
          0.44920000000000004,
          0.467919,
          0.47639699999999996,
          0.481484,
          0.5030519999999999,
          0.48792749999999996
         ]
        },
        {
         "fill": "tozerox",
         "fillcolor": "rgba(239, 85, 59, 0.3)",
         "line": {
          "color": "rgba(255,255,255,0)"
         },
         "mode": "lines",
         "name": "LC",
         "showlegend": false,
         "type": "scatter",
         "x": [
          1000,
          2000,
          3000,
          4000,
          5000,
          6000,
          6000,
          5000,
          4000,
          3000,
          2000,
          1000
         ],
         "y": [
          0.31578899999999993,
          0.43502399999999997,
          0.477754,
          0.481959,
          0.48996200000000006,
          0.504476,
          0.485893,
          0.488199,
          0.469479,
          0.475583,
          0.424173,
          0.312127
         ]
        },
        {
         "line": {
          "color": "rgba(239, 85, 59, 0.3)",
          "width": 3
         },
         "mode": "lines+markers",
         "name": "LC",
         "type": "scatter",
         "x": [
          1000,
          2000,
          3000,
          4000,
          5000,
          6000
         ],
         "y": [
          0.31395799999999996,
          0.4295985,
          0.4766685,
          0.475719,
          0.48908050000000003,
          0.4951845
         ]
        },
        {
         "fill": "tozerox",
         "fillcolor": "rgba(0, 204, 150, 0.3)",
         "line": {
          "color": "rgba(255,255,255,0)"
         },
         "mode": "lines",
         "name": "ME",
         "showlegend": false,
         "type": "scatter",
         "x": [
          1000,
          2000,
          3000,
          4000,
          5000,
          6000,
          7000,
          7888,
          7888,
          7000,
          6000,
          5000,
          4000,
          3000,
          2000,
          1000
         ],
         "y": [
          0.3264900875450527,
          0.4487809686297965,
          0.4723852602036395,
          0.4880994731895879,
          0.501133723368151,
          0.505426,
          0.514107,
          0.518448,
          0.518448,
          0.514107,
          0.502306,
          0.488014276631849,
          0.47726519347707863,
          0.4423367397963604,
          0.4324810313702035,
          0.3040939124549472
         ]
        },
        {
         "line": {
          "color": "rgba(0, 204, 150, 0.3)",
          "width": 3
         },
         "mode": "lines+markers",
         "name": "ME",
         "type": "scatter",
         "x": [
          1000,
          2000,
          3000,
          4000,
          5000,
          6000,
          7000,
          7888
         ],
         "y": [
          0.31529199999999996,
          0.440631,
          0.45736099999999996,
          0.48268233333333327,
          0.494574,
          0.503866,
          0.514107,
          0.518448
         ]
        }
       ],
       "layout": {
        "template": {
         "data": {
          "bar": [
           {
            "error_x": {
             "color": "#2a3f5f"
            },
            "error_y": {
             "color": "#2a3f5f"
            },
            "marker": {
             "line": {
              "color": "#E5ECF6",
              "width": 0.5
             },
             "pattern": {
              "fillmode": "overlay",
              "size": 10,
              "solidity": 0.2
             }
            },
            "type": "bar"
           }
          ],
          "barpolar": [
           {
            "marker": {
             "line": {
              "color": "#E5ECF6",
              "width": 0.5
             },
             "pattern": {
              "fillmode": "overlay",
              "size": 10,
              "solidity": 0.2
             }
            },
            "type": "barpolar"
           }
          ],
          "carpet": [
           {
            "aaxis": {
             "endlinecolor": "#2a3f5f",
             "gridcolor": "white",
             "linecolor": "white",
             "minorgridcolor": "white",
             "startlinecolor": "#2a3f5f"
            },
            "baxis": {
             "endlinecolor": "#2a3f5f",
             "gridcolor": "white",
             "linecolor": "white",
             "minorgridcolor": "white",
             "startlinecolor": "#2a3f5f"
            },
            "type": "carpet"
           }
          ],
          "choropleth": [
           {
            "colorbar": {
             "outlinewidth": 0,
             "ticks": ""
            },
            "type": "choropleth"
           }
          ],
          "contour": [
           {
            "colorbar": {
             "outlinewidth": 0,
             "ticks": ""
            },
            "colorscale": [
             [
              0,
              "#0d0887"
             ],
             [
              0.1111111111111111,
              "#46039f"
             ],
             [
              0.2222222222222222,
              "#7201a8"
             ],
             [
              0.3333333333333333,
              "#9c179e"
             ],
             [
              0.4444444444444444,
              "#bd3786"
             ],
             [
              0.5555555555555556,
              "#d8576b"
             ],
             [
              0.6666666666666666,
              "#ed7953"
             ],
             [
              0.7777777777777778,
              "#fb9f3a"
             ],
             [
              0.8888888888888888,
              "#fdca26"
             ],
             [
              1,
              "#f0f921"
             ]
            ],
            "type": "contour"
           }
          ],
          "contourcarpet": [
           {
            "colorbar": {
             "outlinewidth": 0,
             "ticks": ""
            },
            "type": "contourcarpet"
           }
          ],
          "heatmap": [
           {
            "colorbar": {
             "outlinewidth": 0,
             "ticks": ""
            },
            "colorscale": [
             [
              0,
              "#0d0887"
             ],
             [
              0.1111111111111111,
              "#46039f"
             ],
             [
              0.2222222222222222,
              "#7201a8"
             ],
             [
              0.3333333333333333,
              "#9c179e"
             ],
             [
              0.4444444444444444,
              "#bd3786"
             ],
             [
              0.5555555555555556,
              "#d8576b"
             ],
             [
              0.6666666666666666,
              "#ed7953"
             ],
             [
              0.7777777777777778,
              "#fb9f3a"
             ],
             [
              0.8888888888888888,
              "#fdca26"
             ],
             [
              1,
              "#f0f921"
             ]
            ],
            "type": "heatmap"
           }
          ],
          "heatmapgl": [
           {
            "colorbar": {
             "outlinewidth": 0,
             "ticks": ""
            },
            "colorscale": [
             [
              0,
              "#0d0887"
             ],
             [
              0.1111111111111111,
              "#46039f"
             ],
             [
              0.2222222222222222,
              "#7201a8"
             ],
             [
              0.3333333333333333,
              "#9c179e"
             ],
             [
              0.4444444444444444,
              "#bd3786"
             ],
             [
              0.5555555555555556,
              "#d8576b"
             ],
             [
              0.6666666666666666,
              "#ed7953"
             ],
             [
              0.7777777777777778,
              "#fb9f3a"
             ],
             [
              0.8888888888888888,
              "#fdca26"
             ],
             [
              1,
              "#f0f921"
             ]
            ],
            "type": "heatmapgl"
           }
          ],
          "histogram": [
           {
            "marker": {
             "pattern": {
              "fillmode": "overlay",
              "size": 10,
              "solidity": 0.2
             }
            },
            "type": "histogram"
           }
          ],
          "histogram2d": [
           {
            "colorbar": {
             "outlinewidth": 0,
             "ticks": ""
            },
            "colorscale": [
             [
              0,
              "#0d0887"
             ],
             [
              0.1111111111111111,
              "#46039f"
             ],
             [
              0.2222222222222222,
              "#7201a8"
             ],
             [
              0.3333333333333333,
              "#9c179e"
             ],
             [
              0.4444444444444444,
              "#bd3786"
             ],
             [
              0.5555555555555556,
              "#d8576b"
             ],
             [
              0.6666666666666666,
              "#ed7953"
             ],
             [
              0.7777777777777778,
              "#fb9f3a"
             ],
             [
              0.8888888888888888,
              "#fdca26"
             ],
             [
              1,
              "#f0f921"
             ]
            ],
            "type": "histogram2d"
           }
          ],
          "histogram2dcontour": [
           {
            "colorbar": {
             "outlinewidth": 0,
             "ticks": ""
            },
            "colorscale": [
             [
              0,
              "#0d0887"
             ],
             [
              0.1111111111111111,
              "#46039f"
             ],
             [
              0.2222222222222222,
              "#7201a8"
             ],
             [
              0.3333333333333333,
              "#9c179e"
             ],
             [
              0.4444444444444444,
              "#bd3786"
             ],
             [
              0.5555555555555556,
              "#d8576b"
             ],
             [
              0.6666666666666666,
              "#ed7953"
             ],
             [
              0.7777777777777778,
              "#fb9f3a"
             ],
             [
              0.8888888888888888,
              "#fdca26"
             ],
             [
              1,
              "#f0f921"
             ]
            ],
            "type": "histogram2dcontour"
           }
          ],
          "mesh3d": [
           {
            "colorbar": {
             "outlinewidth": 0,
             "ticks": ""
            },
            "type": "mesh3d"
           }
          ],
          "parcoords": [
           {
            "line": {
             "colorbar": {
              "outlinewidth": 0,
              "ticks": ""
             }
            },
            "type": "parcoords"
           }
          ],
          "pie": [
           {
            "automargin": true,
            "type": "pie"
           }
          ],
          "scatter": [
           {
            "fillpattern": {
             "fillmode": "overlay",
             "size": 10,
             "solidity": 0.2
            },
            "type": "scatter"
           }
          ],
          "scatter3d": [
           {
            "line": {
             "colorbar": {
              "outlinewidth": 0,
              "ticks": ""
             }
            },
            "marker": {
             "colorbar": {
              "outlinewidth": 0,
              "ticks": ""
             }
            },
            "type": "scatter3d"
           }
          ],
          "scattercarpet": [
           {
            "marker": {
             "colorbar": {
              "outlinewidth": 0,
              "ticks": ""
             }
            },
            "type": "scattercarpet"
           }
          ],
          "scattergeo": [
           {
            "marker": {
             "colorbar": {
              "outlinewidth": 0,
              "ticks": ""
             }
            },
            "type": "scattergeo"
           }
          ],
          "scattergl": [
           {
            "marker": {
             "colorbar": {
              "outlinewidth": 0,
              "ticks": ""
             }
            },
            "type": "scattergl"
           }
          ],
          "scattermapbox": [
           {
            "marker": {
             "colorbar": {
              "outlinewidth": 0,
              "ticks": ""
             }
            },
            "type": "scattermapbox"
           }
          ],
          "scatterpolar": [
           {
            "marker": {
             "colorbar": {
              "outlinewidth": 0,
              "ticks": ""
             }
            },
            "type": "scatterpolar"
           }
          ],
          "scatterpolargl": [
           {
            "marker": {
             "colorbar": {
              "outlinewidth": 0,
              "ticks": ""
             }
            },
            "type": "scatterpolargl"
           }
          ],
          "scatterternary": [
           {
            "marker": {
             "colorbar": {
              "outlinewidth": 0,
              "ticks": ""
             }
            },
            "type": "scatterternary"
           }
          ],
          "surface": [
           {
            "colorbar": {
             "outlinewidth": 0,
             "ticks": ""
            },
            "colorscale": [
             [
              0,
              "#0d0887"
             ],
             [
              0.1111111111111111,
              "#46039f"
             ],
             [
              0.2222222222222222,
              "#7201a8"
             ],
             [
              0.3333333333333333,
              "#9c179e"
             ],
             [
              0.4444444444444444,
              "#bd3786"
             ],
             [
              0.5555555555555556,
              "#d8576b"
             ],
             [
              0.6666666666666666,
              "#ed7953"
             ],
             [
              0.7777777777777778,
              "#fb9f3a"
             ],
             [
              0.8888888888888888,
              "#fdca26"
             ],
             [
              1,
              "#f0f921"
             ]
            ],
            "type": "surface"
           }
          ],
          "table": [
           {
            "cells": {
             "fill": {
              "color": "#EBF0F8"
             },
             "line": {
              "color": "white"
             }
            },
            "header": {
             "fill": {
              "color": "#C8D4E3"
             },
             "line": {
              "color": "white"
             }
            },
            "type": "table"
           }
          ]
         },
         "layout": {
          "annotationdefaults": {
           "arrowcolor": "#2a3f5f",
           "arrowhead": 0,
           "arrowwidth": 1
          },
          "autotypenumbers": "strict",
          "coloraxis": {
           "colorbar": {
            "outlinewidth": 0,
            "ticks": ""
           }
          },
          "colorscale": {
           "diverging": [
            [
             0,
             "#8e0152"
            ],
            [
             0.1,
             "#c51b7d"
            ],
            [
             0.2,
             "#de77ae"
            ],
            [
             0.3,
             "#f1b6da"
            ],
            [
             0.4,
             "#fde0ef"
            ],
            [
             0.5,
             "#f7f7f7"
            ],
            [
             0.6,
             "#e6f5d0"
            ],
            [
             0.7,
             "#b8e186"
            ],
            [
             0.8,
             "#7fbc41"
            ],
            [
             0.9,
             "#4d9221"
            ],
            [
             1,
             "#276419"
            ]
           ],
           "sequential": [
            [
             0,
             "#0d0887"
            ],
            [
             0.1111111111111111,
             "#46039f"
            ],
            [
             0.2222222222222222,
             "#7201a8"
            ],
            [
             0.3333333333333333,
             "#9c179e"
            ],
            [
             0.4444444444444444,
             "#bd3786"
            ],
            [
             0.5555555555555556,
             "#d8576b"
            ],
            [
             0.6666666666666666,
             "#ed7953"
            ],
            [
             0.7777777777777778,
             "#fb9f3a"
            ],
            [
             0.8888888888888888,
             "#fdca26"
            ],
            [
             1,
             "#f0f921"
            ]
           ],
           "sequentialminus": [
            [
             0,
             "#0d0887"
            ],
            [
             0.1111111111111111,
             "#46039f"
            ],
            [
             0.2222222222222222,
             "#7201a8"
            ],
            [
             0.3333333333333333,
             "#9c179e"
            ],
            [
             0.4444444444444444,
             "#bd3786"
            ],
            [
             0.5555555555555556,
             "#d8576b"
            ],
            [
             0.6666666666666666,
             "#ed7953"
            ],
            [
             0.7777777777777778,
             "#fb9f3a"
            ],
            [
             0.8888888888888888,
             "#fdca26"
            ],
            [
             1,
             "#f0f921"
            ]
           ]
          },
          "colorway": [
           "#636efa",
           "#EF553B",
           "#00cc96",
           "#ab63fa",
           "#FFA15A",
           "#19d3f3",
           "#FF6692",
           "#B6E880",
           "#FF97FF",
           "#FECB52"
          ],
          "font": {
           "color": "#2a3f5f"
          },
          "geo": {
           "bgcolor": "white",
           "lakecolor": "white",
           "landcolor": "#E5ECF6",
           "showlakes": true,
           "showland": true,
           "subunitcolor": "white"
          },
          "hoverlabel": {
           "align": "left"
          },
          "hovermode": "closest",
          "mapbox": {
           "style": "light"
          },
          "paper_bgcolor": "white",
          "plot_bgcolor": "#E5ECF6",
          "polar": {
           "angularaxis": {
            "gridcolor": "white",
            "linecolor": "white",
            "ticks": ""
           },
           "bgcolor": "#E5ECF6",
           "radialaxis": {
            "gridcolor": "white",
            "linecolor": "white",
            "ticks": ""
           }
          },
          "scene": {
           "xaxis": {
            "backgroundcolor": "#E5ECF6",
            "gridcolor": "white",
            "gridwidth": 2,
            "linecolor": "white",
            "showbackground": true,
            "ticks": "",
            "zerolinecolor": "white"
           },
           "yaxis": {
            "backgroundcolor": "#E5ECF6",
            "gridcolor": "white",
            "gridwidth": 2,
            "linecolor": "white",
            "showbackground": true,
            "ticks": "",
            "zerolinecolor": "white"
           },
           "zaxis": {
            "backgroundcolor": "#E5ECF6",
            "gridcolor": "white",
            "gridwidth": 2,
            "linecolor": "white",
            "showbackground": true,
            "ticks": "",
            "zerolinecolor": "white"
           }
          },
          "shapedefaults": {
           "line": {
            "color": "#2a3f5f"
           }
          },
          "ternary": {
           "aaxis": {
            "gridcolor": "white",
            "linecolor": "white",
            "ticks": ""
           },
           "baxis": {
            "gridcolor": "white",
            "linecolor": "white",
            "ticks": ""
           },
           "bgcolor": "#E5ECF6",
           "caxis": {
            "gridcolor": "white",
            "linecolor": "white",
            "ticks": ""
           }
          },
          "title": {
           "x": 0.05
          },
          "xaxis": {
           "automargin": true,
           "gridcolor": "white",
           "linecolor": "white",
           "ticks": "",
           "title": {
            "standoff": 15
           },
           "zerolinecolor": "white",
           "zerolinewidth": 2
          },
          "yaxis": {
           "automargin": true,
           "gridcolor": "white",
           "linecolor": "white",
           "ticks": "",
           "title": {
            "standoff": 15
           },
           "zerolinecolor": "white",
           "zerolinewidth": 2
          }
         }
        },
        "xaxis": {
         "title": {
          "text": "# of labelled dialogue turns"
         },
         "type": "category"
        },
        "yaxis": {
         "range": [
          0,
          0.6
         ],
         "title": {
          "text": "Joint Goal Accuracy"
         }
        }
       }
      },
      "text/html": [
       "<div>                            <div id=\"4a8a1c42-ea23-4f91-ba62-92b8dc17ab3c\" class=\"plotly-graph-div\" style=\"height:525px; width:100%;\"></div>            <script type=\"text/javascript\">                require([\"plotly\"], function(Plotly) {                    window.PLOTLYENV=window.PLOTLYENV || {};                                    if (document.getElementById(\"4a8a1c42-ea23-4f91-ba62-92b8dc17ab3c\")) {                    Plotly.newPlot(                        \"4a8a1c42-ea23-4f91-ba62-92b8dc17ab3c\",                        [{\"fill\":\"tozerox\",\"fillcolor\":\"rgba(99, 110, 250, 0.3)\",\"line\":{\"color\":\"rgba(255,255,255,0)\"},\"mode\":\"lines\",\"name\":\"RS\",\"showlegend\":false,\"x\":[1000,2000,3000,4000,5000,6000,7000,7888,7888,7000,6000,5000,4000,3000,2000,1000],\"y\":[0.36096,0.421188,0.4541510000000001,0.47368399999999994,0.476668,0.487385,0.506647,0.495795,0.48005999999999993,0.499457,0.47558300000000003,0.47612599999999994,0.462154,0.444249,0.412235,0.340477],\"type\":\"scatter\"},{\"line\":{\"color\":\"rgba(99, 110, 250, 0.3)\",\"width\":3},\"mode\":\"lines+markers\",\"name\":\"RS\",\"x\":[1000,2000,3000,4000,5000,6000,7000,7888],\"y\":[0.3507185,0.4167115,0.44920000000000004,0.467919,0.47639699999999996,0.481484,0.5030519999999999,0.48792749999999996],\"type\":\"scatter\"},{\"fill\":\"tozerox\",\"fillcolor\":\"rgba(239, 85, 59, 0.3)\",\"line\":{\"color\":\"rgba(255,255,255,0)\"},\"mode\":\"lines\",\"name\":\"LC\",\"showlegend\":false,\"x\":[1000,2000,3000,4000,5000,6000,6000,5000,4000,3000,2000,1000],\"y\":[0.31578899999999993,0.43502399999999997,0.477754,0.481959,0.48996200000000006,0.504476,0.485893,0.488199,0.469479,0.475583,0.424173,0.312127],\"type\":\"scatter\"},{\"line\":{\"color\":\"rgba(239, 85, 59, 0.3)\",\"width\":3},\"mode\":\"lines+markers\",\"name\":\"LC\",\"x\":[1000,2000,3000,4000,5000,6000],\"y\":[0.31395799999999996,0.4295985,0.4766685,0.475719,0.48908050000000003,0.4951845],\"type\":\"scatter\"},{\"fill\":\"tozerox\",\"fillcolor\":\"rgba(0, 204, 150, 0.3)\",\"line\":{\"color\":\"rgba(255,255,255,0)\"},\"mode\":\"lines\",\"name\":\"ME\",\"showlegend\":false,\"x\":[1000,2000,3000,4000,5000,6000,7000,7888,7888,7000,6000,5000,4000,3000,2000,1000],\"y\":[0.3264900875450527,0.4487809686297965,0.4723852602036395,0.4880994731895879,0.501133723368151,0.505426,0.514107,0.518448,0.518448,0.514107,0.502306,0.488014276631849,0.47726519347707863,0.4423367397963604,0.4324810313702035,0.3040939124549472],\"type\":\"scatter\"},{\"line\":{\"color\":\"rgba(0, 204, 150, 0.3)\",\"width\":3},\"mode\":\"lines+markers\",\"name\":\"ME\",\"x\":[1000,2000,3000,4000,5000,6000,7000,7888],\"y\":[0.31529199999999996,0.440631,0.45736099999999996,0.48268233333333327,0.494574,0.503866,0.514107,0.518448],\"type\":\"scatter\"}],                        {\"template\":{\"data\":{\"histogram2dcontour\":[{\"type\":\"histogram2dcontour\",\"colorbar\":{\"outlinewidth\":0,\"ticks\":\"\"},\"colorscale\":[[0.0,\"#0d0887\"],[0.1111111111111111,\"#46039f\"],[0.2222222222222222,\"#7201a8\"],[0.3333333333333333,\"#9c179e\"],[0.4444444444444444,\"#bd3786\"],[0.5555555555555556,\"#d8576b\"],[0.6666666666666666,\"#ed7953\"],[0.7777777777777778,\"#fb9f3a\"],[0.8888888888888888,\"#fdca26\"],[1.0,\"#f0f921\"]]}],\"choropleth\":[{\"type\":\"choropleth\",\"colorbar\":{\"outlinewidth\":0,\"ticks\":\"\"}}],\"histogram2d\":[{\"type\":\"histogram2d\",\"colorbar\":{\"outlinewidth\":0,\"ticks\":\"\"},\"colorscale\":[[0.0,\"#0d0887\"],[0.1111111111111111,\"#46039f\"],[0.2222222222222222,\"#7201a8\"],[0.3333333333333333,\"#9c179e\"],[0.4444444444444444,\"#bd3786\"],[0.5555555555555556,\"#d8576b\"],[0.6666666666666666,\"#ed7953\"],[0.7777777777777778,\"#fb9f3a\"],[0.8888888888888888,\"#fdca26\"],[1.0,\"#f0f921\"]]}],\"heatmap\":[{\"type\":\"heatmap\",\"colorbar\":{\"outlinewidth\":0,\"ticks\":\"\"},\"colorscale\":[[0.0,\"#0d0887\"],[0.1111111111111111,\"#46039f\"],[0.2222222222222222,\"#7201a8\"],[0.3333333333333333,\"#9c179e\"],[0.4444444444444444,\"#bd3786\"],[0.5555555555555556,\"#d8576b\"],[0.6666666666666666,\"#ed7953\"],[0.7777777777777778,\"#fb9f3a\"],[0.8888888888888888,\"#fdca26\"],[1.0,\"#f0f921\"]]}],\"heatmapgl\":[{\"type\":\"heatmapgl\",\"colorbar\":{\"outlinewidth\":0,\"ticks\":\"\"},\"colorscale\":[[0.0,\"#0d0887\"],[0.1111111111111111,\"#46039f\"],[0.2222222222222222,\"#7201a8\"],[0.3333333333333333,\"#9c179e\"],[0.4444444444444444,\"#bd3786\"],[0.5555555555555556,\"#d8576b\"],[0.6666666666666666,\"#ed7953\"],[0.7777777777777778,\"#fb9f3a\"],[0.8888888888888888,\"#fdca26\"],[1.0,\"#f0f921\"]]}],\"contourcarpet\":[{\"type\":\"contourcarpet\",\"colorbar\":{\"outlinewidth\":0,\"ticks\":\"\"}}],\"contour\":[{\"type\":\"contour\",\"colorbar\":{\"outlinewidth\":0,\"ticks\":\"\"},\"colorscale\":[[0.0,\"#0d0887\"],[0.1111111111111111,\"#46039f\"],[0.2222222222222222,\"#7201a8\"],[0.3333333333333333,\"#9c179e\"],[0.4444444444444444,\"#bd3786\"],[0.5555555555555556,\"#d8576b\"],[0.6666666666666666,\"#ed7953\"],[0.7777777777777778,\"#fb9f3a\"],[0.8888888888888888,\"#fdca26\"],[1.0,\"#f0f921\"]]}],\"surface\":[{\"type\":\"surface\",\"colorbar\":{\"outlinewidth\":0,\"ticks\":\"\"},\"colorscale\":[[0.0,\"#0d0887\"],[0.1111111111111111,\"#46039f\"],[0.2222222222222222,\"#7201a8\"],[0.3333333333333333,\"#9c179e\"],[0.4444444444444444,\"#bd3786\"],[0.5555555555555556,\"#d8576b\"],[0.6666666666666666,\"#ed7953\"],[0.7777777777777778,\"#fb9f3a\"],[0.8888888888888888,\"#fdca26\"],[1.0,\"#f0f921\"]]}],\"mesh3d\":[{\"type\":\"mesh3d\",\"colorbar\":{\"outlinewidth\":0,\"ticks\":\"\"}}],\"scatter\":[{\"fillpattern\":{\"fillmode\":\"overlay\",\"size\":10,\"solidity\":0.2},\"type\":\"scatter\"}],\"parcoords\":[{\"type\":\"parcoords\",\"line\":{\"colorbar\":{\"outlinewidth\":0,\"ticks\":\"\"}}}],\"scatterpolargl\":[{\"type\":\"scatterpolargl\",\"marker\":{\"colorbar\":{\"outlinewidth\":0,\"ticks\":\"\"}}}],\"bar\":[{\"error_x\":{\"color\":\"#2a3f5f\"},\"error_y\":{\"color\":\"#2a3f5f\"},\"marker\":{\"line\":{\"color\":\"#E5ECF6\",\"width\":0.5},\"pattern\":{\"fillmode\":\"overlay\",\"size\":10,\"solidity\":0.2}},\"type\":\"bar\"}],\"scattergeo\":[{\"type\":\"scattergeo\",\"marker\":{\"colorbar\":{\"outlinewidth\":0,\"ticks\":\"\"}}}],\"scatterpolar\":[{\"type\":\"scatterpolar\",\"marker\":{\"colorbar\":{\"outlinewidth\":0,\"ticks\":\"\"}}}],\"histogram\":[{\"marker\":{\"pattern\":{\"fillmode\":\"overlay\",\"size\":10,\"solidity\":0.2}},\"type\":\"histogram\"}],\"scattergl\":[{\"type\":\"scattergl\",\"marker\":{\"colorbar\":{\"outlinewidth\":0,\"ticks\":\"\"}}}],\"scatter3d\":[{\"type\":\"scatter3d\",\"line\":{\"colorbar\":{\"outlinewidth\":0,\"ticks\":\"\"}},\"marker\":{\"colorbar\":{\"outlinewidth\":0,\"ticks\":\"\"}}}],\"scattermapbox\":[{\"type\":\"scattermapbox\",\"marker\":{\"colorbar\":{\"outlinewidth\":0,\"ticks\":\"\"}}}],\"scatterternary\":[{\"type\":\"scatterternary\",\"marker\":{\"colorbar\":{\"outlinewidth\":0,\"ticks\":\"\"}}}],\"scattercarpet\":[{\"type\":\"scattercarpet\",\"marker\":{\"colorbar\":{\"outlinewidth\":0,\"ticks\":\"\"}}}],\"carpet\":[{\"aaxis\":{\"endlinecolor\":\"#2a3f5f\",\"gridcolor\":\"white\",\"linecolor\":\"white\",\"minorgridcolor\":\"white\",\"startlinecolor\":\"#2a3f5f\"},\"baxis\":{\"endlinecolor\":\"#2a3f5f\",\"gridcolor\":\"white\",\"linecolor\":\"white\",\"minorgridcolor\":\"white\",\"startlinecolor\":\"#2a3f5f\"},\"type\":\"carpet\"}],\"table\":[{\"cells\":{\"fill\":{\"color\":\"#EBF0F8\"},\"line\":{\"color\":\"white\"}},\"header\":{\"fill\":{\"color\":\"#C8D4E3\"},\"line\":{\"color\":\"white\"}},\"type\":\"table\"}],\"barpolar\":[{\"marker\":{\"line\":{\"color\":\"#E5ECF6\",\"width\":0.5},\"pattern\":{\"fillmode\":\"overlay\",\"size\":10,\"solidity\":0.2}},\"type\":\"barpolar\"}],\"pie\":[{\"automargin\":true,\"type\":\"pie\"}]},\"layout\":{\"autotypenumbers\":\"strict\",\"colorway\":[\"#636efa\",\"#EF553B\",\"#00cc96\",\"#ab63fa\",\"#FFA15A\",\"#19d3f3\",\"#FF6692\",\"#B6E880\",\"#FF97FF\",\"#FECB52\"],\"font\":{\"color\":\"#2a3f5f\"},\"hovermode\":\"closest\",\"hoverlabel\":{\"align\":\"left\"},\"paper_bgcolor\":\"white\",\"plot_bgcolor\":\"#E5ECF6\",\"polar\":{\"bgcolor\":\"#E5ECF6\",\"angularaxis\":{\"gridcolor\":\"white\",\"linecolor\":\"white\",\"ticks\":\"\"},\"radialaxis\":{\"gridcolor\":\"white\",\"linecolor\":\"white\",\"ticks\":\"\"}},\"ternary\":{\"bgcolor\":\"#E5ECF6\",\"aaxis\":{\"gridcolor\":\"white\",\"linecolor\":\"white\",\"ticks\":\"\"},\"baxis\":{\"gridcolor\":\"white\",\"linecolor\":\"white\",\"ticks\":\"\"},\"caxis\":{\"gridcolor\":\"white\",\"linecolor\":\"white\",\"ticks\":\"\"}},\"coloraxis\":{\"colorbar\":{\"outlinewidth\":0,\"ticks\":\"\"}},\"colorscale\":{\"sequential\":[[0.0,\"#0d0887\"],[0.1111111111111111,\"#46039f\"],[0.2222222222222222,\"#7201a8\"],[0.3333333333333333,\"#9c179e\"],[0.4444444444444444,\"#bd3786\"],[0.5555555555555556,\"#d8576b\"],[0.6666666666666666,\"#ed7953\"],[0.7777777777777778,\"#fb9f3a\"],[0.8888888888888888,\"#fdca26\"],[1.0,\"#f0f921\"]],\"sequentialminus\":[[0.0,\"#0d0887\"],[0.1111111111111111,\"#46039f\"],[0.2222222222222222,\"#7201a8\"],[0.3333333333333333,\"#9c179e\"],[0.4444444444444444,\"#bd3786\"],[0.5555555555555556,\"#d8576b\"],[0.6666666666666666,\"#ed7953\"],[0.7777777777777778,\"#fb9f3a\"],[0.8888888888888888,\"#fdca26\"],[1.0,\"#f0f921\"]],\"diverging\":[[0,\"#8e0152\"],[0.1,\"#c51b7d\"],[0.2,\"#de77ae\"],[0.3,\"#f1b6da\"],[0.4,\"#fde0ef\"],[0.5,\"#f7f7f7\"],[0.6,\"#e6f5d0\"],[0.7,\"#b8e186\"],[0.8,\"#7fbc41\"],[0.9,\"#4d9221\"],[1,\"#276419\"]]},\"xaxis\":{\"gridcolor\":\"white\",\"linecolor\":\"white\",\"ticks\":\"\",\"title\":{\"standoff\":15},\"zerolinecolor\":\"white\",\"automargin\":true,\"zerolinewidth\":2},\"yaxis\":{\"gridcolor\":\"white\",\"linecolor\":\"white\",\"ticks\":\"\",\"title\":{\"standoff\":15},\"zerolinecolor\":\"white\",\"automargin\":true,\"zerolinewidth\":2},\"scene\":{\"xaxis\":{\"backgroundcolor\":\"#E5ECF6\",\"gridcolor\":\"white\",\"linecolor\":\"white\",\"showbackground\":true,\"ticks\":\"\",\"zerolinecolor\":\"white\",\"gridwidth\":2},\"yaxis\":{\"backgroundcolor\":\"#E5ECF6\",\"gridcolor\":\"white\",\"linecolor\":\"white\",\"showbackground\":true,\"ticks\":\"\",\"zerolinecolor\":\"white\",\"gridwidth\":2},\"zaxis\":{\"backgroundcolor\":\"#E5ECF6\",\"gridcolor\":\"white\",\"linecolor\":\"white\",\"showbackground\":true,\"ticks\":\"\",\"zerolinecolor\":\"white\",\"gridwidth\":2}},\"shapedefaults\":{\"line\":{\"color\":\"#2a3f5f\"}},\"annotationdefaults\":{\"arrowcolor\":\"#2a3f5f\",\"arrowhead\":0,\"arrowwidth\":1},\"geo\":{\"bgcolor\":\"white\",\"landcolor\":\"#E5ECF6\",\"subunitcolor\":\"white\",\"showland\":true,\"showlakes\":true,\"lakecolor\":\"white\"},\"title\":{\"x\":0.05},\"mapbox\":{\"style\":\"light\"}}},\"xaxis\":{\"type\":\"category\",\"title\":{\"text\":\"# of labelled dialogue turns\"}},\"yaxis\":{\"range\":[0,0.6],\"title\":{\"text\":\"Joint Goal Accuracy\"}}},                        {\"responsive\": true}                    ).then(function(){\n",
       "                            \n",
       "var gd = document.getElementById('4a8a1c42-ea23-4f91-ba62-92b8dc17ab3c');\n",
       "var x = new MutationObserver(function (mutations, observer) {{\n",
       "        var display = window.getComputedStyle(gd).display;\n",
       "        if (!display || display === 'none') {{\n",
       "            console.log([gd, 'removed!']);\n",
       "            Plotly.purge(gd);\n",
       "            observer.disconnect();\n",
       "        }}\n",
       "}});\n",
       "\n",
       "// Listen for the removal of the full notebook cells\n",
       "var notebookContainer = gd.closest('#notebook-container');\n",
       "if (notebookContainer) {{\n",
       "    x.observe(notebookContainer, {childList: true});\n",
       "}}\n",
       "\n",
       "// Listen for the clearing of the current output cell\n",
       "var outputEl = gd.closest('.output');\n",
       "if (outputEl) {{\n",
       "    x.observe(outputEl, {childList: true});\n",
       "}}\n",
       "\n",
       "                        })                };                });            </script>        </div>"
      ]
     },
     "metadata": {},
     "output_type": "display_data"
    }
   ],
   "source": [
    "k = 1000\n",
    "mwz = 20\n",
    "# [full, last_turn, random]\n",
    "if mwz == 20:\n",
    "    baselines = [0, 0.2259, 0]\n",
    "\n",
    "strategies = ['random', 'least_confidence', 'max_entropy']\n",
    "strategy_list = ['RS', 'LC', 'ME']\n",
    "\n",
    "# acc_csv_paths = [f'./data/mwz20/KAGE/{strategy}/k2000/k2000_test_acc.csv' for strategy in strategies]\n",
    "\n",
    "df_list = []\n",
    "for strategy in strategies:\n",
    "    acc_csv_path = f'./data/mwz{mwz}/KAGE/{strategy}/k{k}/k{k}_test_acc.csv'\n",
    "    print(f'============== {acc_csv_path} ==============')\n",
    "    \n",
    "    df = make_merged_df_for_plotting(acc_csv_path)\n",
    "    display(df)\n",
    "    \n",
    "    df_list.append(df)\n",
    "    \n",
    "#     print()\n",
    "    \n",
    "plot_joint_acc_by_round(df_list, strategy_list)    "
   ]
  },
  {
   "cell_type": "code",
   "execution_count": null,
   "metadata": {},
   "outputs": [],
   "source": []
  },
  {
   "cell_type": "code",
   "execution_count": null,
   "metadata": {},
   "outputs": [],
   "source": []
  },
  {
   "cell_type": "code",
   "execution_count": null,
   "metadata": {},
   "outputs": [],
   "source": []
  },
  {
   "cell_type": "code",
   "execution_count": 28,
   "metadata": {},
   "outputs": [],
   "source": [
    "# # ME all avg:\n",
    "# x = pd.DataFrame({\n",
    "#     'test_joint_acc': [0.513384, 0.509812, 0.518448],\n",
    "#     'test_slot_acc': [0.971557, 0.971176, 0.972468]\n",
    "# })\n",
    "# x.describe()"
   ]
  },
  {
   "cell_type": "code",
   "execution_count": 15,
   "metadata": {
    "scrolled": false
   },
   "outputs": [],
   "source": [
    "def print_test_acc_by_path(acc_path_list):\n",
    "    for acc_path in acc_path_list:\n",
    "        print(f'------------ {acc_path} ------------')\n",
    "        get_mean_std_acc_by_path(acc_path)"
   ]
  },
  {
   "cell_type": "code",
   "execution_count": 16,
   "metadata": {
    "scrolled": false
   },
   "outputs": [
    {
     "name": "stdout",
     "output_type": "stream",
     "text": [
      "------------ ./data/mwz20/KAGE/max_entropy/k100/k100_test_acc.csv ------------\n"
     ]
    },
    {
     "data": {
      "text/html": [
       "<div>\n",
       "<style scoped>\n",
       "    .dataframe tbody tr th:only-of-type {\n",
       "        vertical-align: middle;\n",
       "    }\n",
       "\n",
       "    .dataframe tbody tr th {\n",
       "        vertical-align: top;\n",
       "    }\n",
       "\n",
       "    .dataframe thead th {\n",
       "        text-align: right;\n",
       "    }\n",
       "</style>\n",
       "<table border=\"1\" class=\"dataframe\">\n",
       "  <thead>\n",
       "    <tr style=\"text-align: right;\">\n",
       "      <th></th>\n",
       "      <th>test_joint_acc</th>\n",
       "      <th>test_slot_acc</th>\n",
       "    </tr>\n",
       "    <tr>\n",
       "      <th>round</th>\n",
       "      <th></th>\n",
       "      <th></th>\n",
       "    </tr>\n",
       "  </thead>\n",
       "  <tbody>\n",
       "    <tr>\n",
       "      <th>0</th>\n",
       "      <td>0.016820</td>\n",
       "      <td>0.828043</td>\n",
       "    </tr>\n",
       "    <tr>\n",
       "      <th>1</th>\n",
       "      <td>0.028305</td>\n",
       "      <td>0.842245</td>\n",
       "    </tr>\n",
       "    <tr>\n",
       "      <th>2</th>\n",
       "      <td>0.157488</td>\n",
       "      <td>0.913270</td>\n",
       "    </tr>\n",
       "    <tr>\n",
       "      <th>3</th>\n",
       "      <td>0.227030</td>\n",
       "      <td>0.931416</td>\n",
       "    </tr>\n",
       "    <tr>\n",
       "      <th>4</th>\n",
       "      <td>0.276678</td>\n",
       "      <td>0.941997</td>\n",
       "    </tr>\n",
       "    <tr>\n",
       "      <th>5</th>\n",
       "      <td>0.301682</td>\n",
       "      <td>0.946325</td>\n",
       "    </tr>\n",
       "    <tr>\n",
       "      <th>6</th>\n",
       "      <td>0.313709</td>\n",
       "      <td>0.947486</td>\n",
       "    </tr>\n",
       "    <tr>\n",
       "      <th>7</th>\n",
       "      <td>0.345451</td>\n",
       "      <td>0.952891</td>\n",
       "    </tr>\n",
       "    <tr>\n",
       "      <th>8</th>\n",
       "      <td>0.363673</td>\n",
       "      <td>0.954645</td>\n",
       "    </tr>\n",
       "    <tr>\n",
       "      <th>9</th>\n",
       "      <td>0.377193</td>\n",
       "      <td>0.956849</td>\n",
       "    </tr>\n",
       "    <tr>\n",
       "      <th>10</th>\n",
       "      <td>0.391821</td>\n",
       "      <td>0.959328</td>\n",
       "    </tr>\n",
       "    <tr>\n",
       "      <th>11</th>\n",
       "      <td>0.384563</td>\n",
       "      <td>0.957330</td>\n",
       "    </tr>\n",
       "  </tbody>\n",
       "</table>\n",
       "</div>"
      ],
      "text/plain": [
       "       test_joint_acc  test_slot_acc\n",
       "round                               \n",
       "0            0.016820       0.828043\n",
       "1            0.028305       0.842245\n",
       "2            0.157488       0.913270\n",
       "3            0.227030       0.931416\n",
       "4            0.276678       0.941997\n",
       "5            0.301682       0.946325\n",
       "6            0.313709       0.947486\n",
       "7            0.345451       0.952891\n",
       "8            0.363673       0.954645\n",
       "9            0.377193       0.956849\n",
       "10           0.391821       0.959328\n",
       "11           0.384563       0.957330"
      ]
     },
     "metadata": {},
     "output_type": "display_data"
    },
    {
     "data": {
      "text/html": [
       "<div>\n",
       "<style scoped>\n",
       "    .dataframe tbody tr th:only-of-type {\n",
       "        vertical-align: middle;\n",
       "    }\n",
       "\n",
       "    .dataframe tbody tr th {\n",
       "        vertical-align: top;\n",
       "    }\n",
       "\n",
       "    .dataframe thead th {\n",
       "        text-align: right;\n",
       "    }\n",
       "</style>\n",
       "<table border=\"1\" class=\"dataframe\">\n",
       "  <thead>\n",
       "    <tr style=\"text-align: right;\">\n",
       "      <th></th>\n",
       "      <th>test_joint_acc</th>\n",
       "      <th>test_slot_acc</th>\n",
       "    </tr>\n",
       "    <tr>\n",
       "      <th>round</th>\n",
       "      <th></th>\n",
       "      <th></th>\n",
       "    </tr>\n",
       "  </thead>\n",
       "  <tbody>\n",
       "    <tr>\n",
       "      <th>0</th>\n",
       "      <td>0.000000</td>\n",
       "      <td>0.001215</td>\n",
       "    </tr>\n",
       "    <tr>\n",
       "      <th>1</th>\n",
       "      <td>0.016052</td>\n",
       "      <td>0.009581</td>\n",
       "    </tr>\n",
       "    <tr>\n",
       "      <th>2</th>\n",
       "      <td>0.024106</td>\n",
       "      <td>0.007291</td>\n",
       "    </tr>\n",
       "    <tr>\n",
       "      <th>3</th>\n",
       "      <td>0.016890</td>\n",
       "      <td>0.002654</td>\n",
       "    </tr>\n",
       "    <tr>\n",
       "      <th>4</th>\n",
       "      <td>0.004461</td>\n",
       "      <td>0.001628</td>\n",
       "    </tr>\n",
       "    <tr>\n",
       "      <th>5</th>\n",
       "      <td>0.009391</td>\n",
       "      <td>0.001603</td>\n",
       "    </tr>\n",
       "    <tr>\n",
       "      <th>6</th>\n",
       "      <td>0.004798</td>\n",
       "      <td>0.000762</td>\n",
       "    </tr>\n",
       "    <tr>\n",
       "      <th>7</th>\n",
       "      <td>0.000942</td>\n",
       "      <td>0.000507</td>\n",
       "    </tr>\n",
       "    <tr>\n",
       "      <th>8</th>\n",
       "      <td>0.020522</td>\n",
       "      <td>0.002373</td>\n",
       "    </tr>\n",
       "    <tr>\n",
       "      <th>9</th>\n",
       "      <td>0.008512</td>\n",
       "      <td>0.001438</td>\n",
       "    </tr>\n",
       "    <tr>\n",
       "      <th>10</th>\n",
       "      <td>0.013769</td>\n",
       "      <td>0.001709</td>\n",
       "    </tr>\n",
       "    <tr>\n",
       "      <th>11</th>\n",
       "      <td>0.000000</td>\n",
       "      <td>0.000000</td>\n",
       "    </tr>\n",
       "  </tbody>\n",
       "</table>\n",
       "</div>"
      ],
      "text/plain": [
       "       test_joint_acc  test_slot_acc\n",
       "round                               \n",
       "0            0.000000       0.001215\n",
       "1            0.016052       0.009581\n",
       "2            0.024106       0.007291\n",
       "3            0.016890       0.002654\n",
       "4            0.004461       0.001628\n",
       "5            0.009391       0.001603\n",
       "6            0.004798       0.000762\n",
       "7            0.000942       0.000507\n",
       "8            0.020522       0.002373\n",
       "9            0.008512       0.001438\n",
       "10           0.013769       0.001709\n",
       "11           0.000000       0.000000"
      ]
     },
     "metadata": {},
     "output_type": "display_data"
    },
    {
     "name": "stdout",
     "output_type": "stream",
     "text": [
      "------------ ./data/mwz20/KAGE/least_confidence/k100/k100_test_acc.csv ------------\n"
     ]
    },
    {
     "data": {
      "text/html": [
       "<div>\n",
       "<style scoped>\n",
       "    .dataframe tbody tr th:only-of-type {\n",
       "        vertical-align: middle;\n",
       "    }\n",
       "\n",
       "    .dataframe tbody tr th {\n",
       "        vertical-align: top;\n",
       "    }\n",
       "\n",
       "    .dataframe thead th {\n",
       "        text-align: right;\n",
       "    }\n",
       "</style>\n",
       "<table border=\"1\" class=\"dataframe\">\n",
       "  <thead>\n",
       "    <tr style=\"text-align: right;\">\n",
       "      <th></th>\n",
       "      <th>test_joint_acc</th>\n",
       "      <th>test_slot_acc</th>\n",
       "    </tr>\n",
       "    <tr>\n",
       "      <th>round</th>\n",
       "      <th></th>\n",
       "      <th></th>\n",
       "    </tr>\n",
       "  </thead>\n",
       "  <tbody>\n",
       "    <tr>\n",
       "      <th>0</th>\n",
       "      <td>0.017092</td>\n",
       "      <td>0.831158</td>\n",
       "    </tr>\n",
       "    <tr>\n",
       "      <th>1</th>\n",
       "      <td>0.018041</td>\n",
       "      <td>0.833257</td>\n",
       "    </tr>\n",
       "    <tr>\n",
       "      <th>2</th>\n",
       "      <td>0.156201</td>\n",
       "      <td>0.874141</td>\n",
       "    </tr>\n",
       "    <tr>\n",
       "      <th>3</th>\n",
       "      <td>0.178511</td>\n",
       "      <td>0.874035</td>\n",
       "    </tr>\n",
       "    <tr>\n",
       "      <th>4</th>\n",
       "      <td>0.275366</td>\n",
       "      <td>0.941694</td>\n",
       "    </tr>\n",
       "    <tr>\n",
       "      <th>5</th>\n",
       "      <td>0.311110</td>\n",
       "      <td>0.948818</td>\n",
       "    </tr>\n",
       "    <tr>\n",
       "      <th>6</th>\n",
       "      <td>0.328269</td>\n",
       "      <td>0.951841</td>\n",
       "    </tr>\n",
       "    <tr>\n",
       "      <th>7</th>\n",
       "      <td>0.338714</td>\n",
       "      <td>0.953323</td>\n",
       "    </tr>\n",
       "    <tr>\n",
       "      <th>8</th>\n",
       "      <td>0.383071</td>\n",
       "      <td>0.958501</td>\n",
       "    </tr>\n",
       "    <tr>\n",
       "      <th>9</th>\n",
       "      <td>0.383342</td>\n",
       "      <td>0.959138</td>\n",
       "    </tr>\n",
       "    <tr>\n",
       "      <th>10</th>\n",
       "      <td>0.389447</td>\n",
       "      <td>0.959378</td>\n",
       "    </tr>\n",
       "    <tr>\n",
       "      <th>11</th>\n",
       "      <td>0.385784</td>\n",
       "      <td>0.958709</td>\n",
       "    </tr>\n",
       "  </tbody>\n",
       "</table>\n",
       "</div>"
      ],
      "text/plain": [
       "       test_joint_acc  test_slot_acc\n",
       "round                               \n",
       "0            0.017092       0.831158\n",
       "1            0.018041       0.833257\n",
       "2            0.156201       0.874141\n",
       "3            0.178511       0.874035\n",
       "4            0.275366       0.941694\n",
       "5            0.311110       0.948818\n",
       "6            0.328269       0.951841\n",
       "7            0.338714       0.953323\n",
       "8            0.383071       0.958501\n",
       "9            0.383342       0.959138\n",
       "10           0.389447       0.959378\n",
       "11           0.385784       0.958709"
      ]
     },
     "metadata": {},
     "output_type": "display_data"
    },
    {
     "data": {
      "text/html": [
       "<div>\n",
       "<style scoped>\n",
       "    .dataframe tbody tr th:only-of-type {\n",
       "        vertical-align: middle;\n",
       "    }\n",
       "\n",
       "    .dataframe tbody tr th {\n",
       "        vertical-align: top;\n",
       "    }\n",
       "\n",
       "    .dataframe thead th {\n",
       "        text-align: right;\n",
       "    }\n",
       "</style>\n",
       "<table border=\"1\" class=\"dataframe\">\n",
       "  <thead>\n",
       "    <tr style=\"text-align: right;\">\n",
       "      <th></th>\n",
       "      <th>test_joint_acc</th>\n",
       "      <th>test_slot_acc</th>\n",
       "    </tr>\n",
       "    <tr>\n",
       "      <th>round</th>\n",
       "      <th></th>\n",
       "      <th></th>\n",
       "    </tr>\n",
       "  </thead>\n",
       "  <tbody>\n",
       "    <tr>\n",
       "      <th>0</th>\n",
       "      <td>0.000272</td>\n",
       "      <td>0.001768</td>\n",
       "    </tr>\n",
       "    <tr>\n",
       "      <th>1</th>\n",
       "      <td>0.001221</td>\n",
       "      <td>0.005711</td>\n",
       "    </tr>\n",
       "    <tr>\n",
       "      <th>2</th>\n",
       "      <td>0.022859</td>\n",
       "      <td>0.037168</td>\n",
       "    </tr>\n",
       "    <tr>\n",
       "      <th>3</th>\n",
       "      <td>0.010312</td>\n",
       "      <td>0.046498</td>\n",
       "    </tr>\n",
       "    <tr>\n",
       "      <th>4</th>\n",
       "      <td>0.001764</td>\n",
       "      <td>0.000710</td>\n",
       "    </tr>\n",
       "    <tr>\n",
       "      <th>5</th>\n",
       "      <td>0.007800</td>\n",
       "      <td>0.001911</td>\n",
       "    </tr>\n",
       "    <tr>\n",
       "      <th>6</th>\n",
       "      <td>0.015192</td>\n",
       "      <td>0.001903</td>\n",
       "    </tr>\n",
       "    <tr>\n",
       "      <th>7</th>\n",
       "      <td>0.000000</td>\n",
       "      <td>0.000000</td>\n",
       "    </tr>\n",
       "    <tr>\n",
       "      <th>8</th>\n",
       "      <td>0.000000</td>\n",
       "      <td>0.000000</td>\n",
       "    </tr>\n",
       "    <tr>\n",
       "      <th>9</th>\n",
       "      <td>0.000000</td>\n",
       "      <td>0.000000</td>\n",
       "    </tr>\n",
       "    <tr>\n",
       "      <th>10</th>\n",
       "      <td>0.000000</td>\n",
       "      <td>0.000000</td>\n",
       "    </tr>\n",
       "    <tr>\n",
       "      <th>11</th>\n",
       "      <td>0.000000</td>\n",
       "      <td>0.000000</td>\n",
       "    </tr>\n",
       "  </tbody>\n",
       "</table>\n",
       "</div>"
      ],
      "text/plain": [
       "       test_joint_acc  test_slot_acc\n",
       "round                               \n",
       "0            0.000272       0.001768\n",
       "1            0.001221       0.005711\n",
       "2            0.022859       0.037168\n",
       "3            0.010312       0.046498\n",
       "4            0.001764       0.000710\n",
       "5            0.007800       0.001911\n",
       "6            0.015192       0.001903\n",
       "7            0.000000       0.000000\n",
       "8            0.000000       0.000000\n",
       "9            0.000000       0.000000\n",
       "10           0.000000       0.000000\n",
       "11           0.000000       0.000000"
      ]
     },
     "metadata": {},
     "output_type": "display_data"
    },
    {
     "name": "stdout",
     "output_type": "stream",
     "text": [
      "------------ ./data/mwz20/KAGE/random/k100/k100_test_acc.csv ------------\n"
     ]
    },
    {
     "data": {
      "text/html": [
       "<div>\n",
       "<style scoped>\n",
       "    .dataframe tbody tr th:only-of-type {\n",
       "        vertical-align: middle;\n",
       "    }\n",
       "\n",
       "    .dataframe tbody tr th {\n",
       "        vertical-align: top;\n",
       "    }\n",
       "\n",
       "    .dataframe thead th {\n",
       "        text-align: right;\n",
       "    }\n",
       "</style>\n",
       "<table border=\"1\" class=\"dataframe\">\n",
       "  <thead>\n",
       "    <tr style=\"text-align: right;\">\n",
       "      <th></th>\n",
       "      <th>test_joint_acc</th>\n",
       "      <th>test_slot_acc</th>\n",
       "    </tr>\n",
       "    <tr>\n",
       "      <th>round</th>\n",
       "      <th></th>\n",
       "      <th></th>\n",
       "    </tr>\n",
       "  </thead>\n",
       "  <tbody>\n",
       "    <tr>\n",
       "      <th>0</th>\n",
       "      <td>0.016820</td>\n",
       "      <td>0.827523</td>\n",
       "    </tr>\n",
       "    <tr>\n",
       "      <th>1</th>\n",
       "      <td>0.018516</td>\n",
       "      <td>0.839017</td>\n",
       "    </tr>\n",
       "    <tr>\n",
       "      <th>2</th>\n",
       "      <td>0.146907</td>\n",
       "      <td>0.901042</td>\n",
       "    </tr>\n",
       "    <tr>\n",
       "      <th>3</th>\n",
       "      <td>0.154504</td>\n",
       "      <td>0.902469</td>\n",
       "    </tr>\n",
       "    <tr>\n",
       "      <th>4</th>\n",
       "      <td>0.244575</td>\n",
       "      <td>0.934258</td>\n",
       "    </tr>\n",
       "    <tr>\n",
       "      <th>5</th>\n",
       "      <td>0.290423</td>\n",
       "      <td>0.941628</td>\n",
       "    </tr>\n",
       "    <tr>\n",
       "      <th>6</th>\n",
       "      <td>0.303920</td>\n",
       "      <td>0.945989</td>\n",
       "    </tr>\n",
       "    <tr>\n",
       "      <th>7</th>\n",
       "      <td>0.341224</td>\n",
       "      <td>0.952155</td>\n",
       "    </tr>\n",
       "    <tr>\n",
       "      <th>8</th>\n",
       "      <td>0.354720</td>\n",
       "      <td>0.952631</td>\n",
       "    </tr>\n",
       "    <tr>\n",
       "      <th>9</th>\n",
       "      <td>0.358790</td>\n",
       "      <td>0.954865</td>\n",
       "    </tr>\n",
       "    <tr>\n",
       "      <th>10</th>\n",
       "      <td>0.356755</td>\n",
       "      <td>0.954440</td>\n",
       "    </tr>\n",
       "    <tr>\n",
       "      <th>11</th>\n",
       "      <td>0.363945</td>\n",
       "      <td>0.954992</td>\n",
       "    </tr>\n",
       "  </tbody>\n",
       "</table>\n",
       "</div>"
      ],
      "text/plain": [
       "       test_joint_acc  test_slot_acc\n",
       "round                               \n",
       "0            0.016820       0.827523\n",
       "1            0.018516       0.839017\n",
       "2            0.146907       0.901042\n",
       "3            0.154504       0.902469\n",
       "4            0.244575       0.934258\n",
       "5            0.290423       0.941628\n",
       "6            0.303920       0.945989\n",
       "7            0.341224       0.952155\n",
       "8            0.354720       0.952631\n",
       "9            0.358790       0.954865\n",
       "10           0.356755       0.954440\n",
       "11           0.363945       0.954992"
      ]
     },
     "metadata": {},
     "output_type": "display_data"
    },
    {
     "data": {
      "text/html": [
       "<div>\n",
       "<style scoped>\n",
       "    .dataframe tbody tr th:only-of-type {\n",
       "        vertical-align: middle;\n",
       "    }\n",
       "\n",
       "    .dataframe tbody tr th {\n",
       "        vertical-align: top;\n",
       "    }\n",
       "\n",
       "    .dataframe thead th {\n",
       "        text-align: right;\n",
       "    }\n",
       "</style>\n",
       "<table border=\"1\" class=\"dataframe\">\n",
       "  <thead>\n",
       "    <tr style=\"text-align: right;\">\n",
       "      <th></th>\n",
       "      <th>test_joint_acc</th>\n",
       "      <th>test_slot_acc</th>\n",
       "    </tr>\n",
       "    <tr>\n",
       "      <th>round</th>\n",
       "      <th></th>\n",
       "      <th></th>\n",
       "    </tr>\n",
       "  </thead>\n",
       "  <tbody>\n",
       "    <tr>\n",
       "      <th>0</th>\n",
       "      <td>0.000000</td>\n",
       "      <td>0.000000</td>\n",
       "    </tr>\n",
       "    <tr>\n",
       "      <th>1</th>\n",
       "      <td>0.000475</td>\n",
       "      <td>0.001976</td>\n",
       "    </tr>\n",
       "    <tr>\n",
       "      <th>2</th>\n",
       "      <td>0.009631</td>\n",
       "      <td>0.005202</td>\n",
       "    </tr>\n",
       "    <tr>\n",
       "      <th>3</th>\n",
       "      <td>0.041238</td>\n",
       "      <td>0.014732</td>\n",
       "    </tr>\n",
       "    <tr>\n",
       "      <th>4</th>\n",
       "      <td>0.004070</td>\n",
       "      <td>0.002480</td>\n",
       "    </tr>\n",
       "    <tr>\n",
       "      <th>5</th>\n",
       "      <td>0.013836</td>\n",
       "      <td>0.003841</td>\n",
       "    </tr>\n",
       "    <tr>\n",
       "      <th>6</th>\n",
       "      <td>0.002374</td>\n",
       "      <td>0.000719</td>\n",
       "    </tr>\n",
       "    <tr>\n",
       "      <th>7</th>\n",
       "      <td>0.016210</td>\n",
       "      <td>0.001811</td>\n",
       "    </tr>\n",
       "    <tr>\n",
       "      <th>8</th>\n",
       "      <td>0.010580</td>\n",
       "      <td>0.000864</td>\n",
       "    </tr>\n",
       "    <tr>\n",
       "      <th>9</th>\n",
       "      <td>0.002442</td>\n",
       "      <td>0.000172</td>\n",
       "    </tr>\n",
       "    <tr>\n",
       "      <th>10</th>\n",
       "      <td>0.000000</td>\n",
       "      <td>0.000000</td>\n",
       "    </tr>\n",
       "    <tr>\n",
       "      <th>11</th>\n",
       "      <td>0.000000</td>\n",
       "      <td>0.000000</td>\n",
       "    </tr>\n",
       "  </tbody>\n",
       "</table>\n",
       "</div>"
      ],
      "text/plain": [
       "       test_joint_acc  test_slot_acc\n",
       "round                               \n",
       "0            0.000000       0.000000\n",
       "1            0.000475       0.001976\n",
       "2            0.009631       0.005202\n",
       "3            0.041238       0.014732\n",
       "4            0.004070       0.002480\n",
       "5            0.013836       0.003841\n",
       "6            0.002374       0.000719\n",
       "7            0.016210       0.001811\n",
       "8            0.010580       0.000864\n",
       "9            0.002442       0.000172\n",
       "10           0.000000       0.000000\n",
       "11           0.000000       0.000000"
      ]
     },
     "metadata": {},
     "output_type": "display_data"
    }
   ],
   "source": [
    "print_test_acc_by_path(acc_path_list)"
   ]
  },
  {
   "cell_type": "code",
   "execution_count": null,
   "metadata": {},
   "outputs": [],
   "source": []
  },
  {
   "cell_type": "code",
   "execution_count": null,
   "metadata": {},
   "outputs": [],
   "source": []
  },
  {
   "cell_type": "markdown",
   "metadata": {},
   "source": [
    "## Calulate Annotation Cost"
   ]
  },
  {
   "cell_type": "code",
   "execution_count": 17,
   "metadata": {},
   "outputs": [],
   "source": [
    "def cal_turn_percentage(x):\n",
    "    \n",
    "    if int(x['total_turns']) == 0:\n",
    "        return 1\n",
    "    \n",
    "    return int(x['turn_idx'])/int(x['total_turns'])"
   ]
  },
  {
   "cell_type": "code",
   "execution_count": 19,
   "metadata": {},
   "outputs": [],
   "source": [
    "def merge_df(dialogue2len_df, selected_turn_df):\n",
    "    \n",
    "    selected_turn_df['dialogue_id'] = selected_turn_df['selected_turn_id'].apply(lambda x: x.split('-')[0])\n",
    "    selected_turn_df['turn_idx'] = selected_turn_df['selected_turn_id'].apply(lambda x: int(x.split('-')[1]))\n",
    "#     display(selected_turn_df)\n",
    "    \n",
    "    # merge \n",
    "    merged_df = pd.merge(selected_turn_df, dialogue2len_df, on='dialogue_id', how='left')\n",
    "    merged_df['dialogue'] = merged_df.index\n",
    "#     merged_df['total_turns'] = merged_df['total_turns'] - 1\n",
    "    # turn_idx+1 because the index starts from 0\n",
    "    merged_df['turn_idx'] = merged_df['turn_idx'] + 1\n",
    "    \n",
    "    ### metric1: calculate turn percentage\n",
    "    # to see the model tends to select which turn of each dialogue in each round\n",
    "    # should be in [0, 1], 0 means select the first turn, 1 means select the last turn\n",
    "    merged_df['turn_percentage'] = merged_df.apply(lambda x: cal_turn_percentage(x), axis=1)\n",
    "    \n",
    "    ### metric2: # of turns that are read by annotators\n",
    "    # if total_turns is 10, select turn_idx is 3, then annotator needs to read 3/10 turns to \n",
    "    # label the turn_idx=3 turn\n",
    "    annotate_turns_percent = round(merged_df['turn_percentage'].mean(), 4)\n",
    "    std_annotate_turns_percent = round(merged_df['turn_percentage'].std(ddof=0), 4)\n",
    "    print(f'# of turns read by annotators: mean - {annotate_turns_percent} std - {std_annotate_turns_percent}')\n",
    "    \n",
    "    merged_df_wo_budget = merged_df[merged_df['round'] != -1].reset_index(drop=True)\n",
    "    annotate_turns_percent_wo_budget = round(merged_df_wo_budget['turn_percentage'].mean(), 4)\n",
    "    print(f'# of turns read by annotators without budget: {annotate_turns_percent_wo_budget}')\n",
    "    print('--------------------------------------------------')\n",
    "    \n",
    "    merged_df['turn_percentage_by_round'] = merged_df.groupby('round')['turn_percentage'].transform('mean')\n",
    "    annotate_turns_percent_by_round = merged_df.groupby('round')['turn_percentage'].mean()\n",
    "    std_annotate_turns_percent_by_round = merged_df.groupby('round')['turn_percentage'].std(ddof=0)\n",
    "    for idx in annotate_turns_percent_by_round.index:\n",
    "        print(f'# of turns read by annotators by round {idx}: mean - '\n",
    "              f'{round(annotate_turns_percent_by_round[idx], 4)} '\n",
    "              f'std - {round(std_annotate_turns_percent_by_round[idx], 4)}'\n",
    "             \n",
    "             )\n",
    "    \n",
    "    \n",
    "    return merged_df"
   ]
  },
  {
   "cell_type": "code",
   "execution_count": 20,
   "metadata": {},
   "outputs": [],
   "source": [
    "def read_all_by_folder_name(folder_name):\n",
    "    selected_turn_path_list = []\n",
    "    for filename in os.listdir(folder_name):\n",
    "        if not filename.endswith('selected_turn_id.csv'):\n",
    "            continue\n",
    "#         print(filename)\n",
    "        selected_turn_path_list.append(f'{folder_name}/{filename}')\n",
    "#     print(selected_turn_path_list)\n",
    "    \n",
    "    df_list = []\n",
    "    for path in selected_turn_path_list:\n",
    "        df = pd.read_csv(path, usecols=[0,1])\n",
    "        df_list.append(df)\n",
    "        \n",
    "    merged = pd.concat(df_list)\n",
    "    merged_statis = merge_df(mwz20_dialogue2len_df, merged)"
   ]
  },
  {
   "cell_type": "code",
   "execution_count": 21,
   "metadata": {},
   "outputs": [],
   "source": [
    "selected_turn_folder_list = [\n",
    "    # Max Entropy\n",
    "    './data/mwz20/KAGE/max_entropy/k100',\n",
    "    \n",
    "    # Least Confidence\n",
    "    './data/mwz20/KAGE/least_confidence/k100',\n",
    "    \n",
    "    # Random\n",
    "    './data/mwz20/KAGE/random/k100',\n",
    "    \n",
    "    #####################################\n",
    "\n",
    "\n",
    "]"
   ]
  },
  {
   "cell_type": "code",
   "execution_count": 22,
   "metadata": {
    "scrolled": false
   },
   "outputs": [
    {
     "name": "stdout",
     "output_type": "stream",
     "text": [
      "============= ./data/mwz20/KAGE/max_entropy/k100 =============\n",
      "# of turns read by annotators: mean - 0.7232 std - 0.2834\n",
      "# of turns read by annotators without budget: 0.7232\n",
      "--------------------------------------------------\n",
      "# of turns read by annotators by round 0: mean - 0.4561 std - 0.2694\n",
      "# of turns read by annotators by round 1: mean - 0.9452 std - 0.117\n",
      "# of turns read by annotators by round 2: mean - 0.9226 std - 0.141\n",
      "# of turns read by annotators by round 3: mean - 0.7326 std - 0.2727\n",
      "# of turns read by annotators by round 4: mean - 0.7024 std - 0.2906\n",
      "# of turns read by annotators by round 5: mean - 0.7512 std - 0.2569\n",
      "# of turns read by annotators by round 6: mean - 0.7271 std - 0.2713\n",
      "# of turns read by annotators by round 7: mean - 0.6808 std - 0.2805\n",
      "# of turns read by annotators by round 8: mean - 0.6733 std - 0.2789\n",
      "# of turns read by annotators by round 9: mean - 0.6967 std - 0.2729\n",
      "# of turns read by annotators by round 10: mean - 0.7292 std - 0.2558\n",
      "# of turns read by annotators by round 11: mean - 0.5445 std - 0.2838\n",
      "\n",
      "============= ./data/mwz20/KAGE/least_confidence/k100 =============\n",
      "# of turns read by annotators: mean - 0.8458 std - 0.2398\n",
      "# of turns read by annotators without budget: 0.8458\n",
      "--------------------------------------------------\n",
      "# of turns read by annotators by round 0: mean - 0.5954 std - 0.293\n",
      "# of turns read by annotators by round 1: mean - 0.9748 std - 0.0836\n",
      "# of turns read by annotators by round 2: mean - 0.9299 std - 0.2027\n",
      "# of turns read by annotators by round 3: mean - 0.8774 std - 0.211\n",
      "# of turns read by annotators by round 4: mean - 0.8979 std - 0.1891\n",
      "# of turns read by annotators by round 5: mean - 0.8559 std - 0.1741\n",
      "# of turns read by annotators by round 6: mean - 0.795 std - 0.2852\n",
      "# of turns read by annotators by round 7: mean - 0.9388 std - 0.1216\n",
      "# of turns read by annotators by round 8: mean - 0.7799 std - 0.2631\n",
      "# of turns read by annotators by round 9: mean - 0.8795 std - 0.1865\n",
      "# of turns read by annotators by round 10: mean - 0.8031 std - 0.2333\n",
      "# of turns read by annotators by round 11: mean - 0.8162 std - 0.2561\n",
      "\n",
      "============= ./data/mwz20/KAGE/random/k100 =============\n",
      "# of turns read by annotators: mean - 0.5887 std - 0.2857\n",
      "# of turns read by annotators without budget: 0.5887\n",
      "--------------------------------------------------\n",
      "# of turns read by annotators by round 0: mean - 0.577 std - 0.2782\n",
      "# of turns read by annotators by round 1: mean - 0.6176 std - 0.2727\n",
      "# of turns read by annotators by round 2: mean - 0.5596 std - 0.2888\n",
      "# of turns read by annotators by round 3: mean - 0.5547 std - 0.2739\n",
      "# of turns read by annotators by round 4: mean - 0.5826 std - 0.2876\n",
      "# of turns read by annotators by round 5: mean - 0.6079 std - 0.2961\n",
      "# of turns read by annotators by round 6: mean - 0.6103 std - 0.2988\n",
      "# of turns read by annotators by round 7: mean - 0.5957 std - 0.2929\n",
      "# of turns read by annotators by round 8: mean - 0.5858 std - 0.3028\n",
      "# of turns read by annotators by round 9: mean - 0.5884 std - 0.27\n",
      "# of turns read by annotators by round 10: mean - 0.6253 std - 0.2675\n",
      "# of turns read by annotators by round 11: mean - 0.5658 std - 0.2722\n",
      "\n"
     ]
    }
   ],
   "source": [
    "for selected_turn_folder in selected_turn_folder_list:\n",
    "    print(f'============= {selected_turn_folder} =============')\n",
    "    read_all_by_folder_name(selected_turn_folder)\n",
    "    print()"
   ]
  },
  {
   "cell_type": "code",
   "execution_count": null,
   "metadata": {},
   "outputs": [],
   "source": []
  },
  {
   "cell_type": "code",
   "execution_count": 123,
   "metadata": {},
   "outputs": [],
   "source": []
  },
  {
   "cell_type": "code",
   "execution_count": null,
   "metadata": {},
   "outputs": [],
   "source": []
  },
  {
   "cell_type": "code",
   "execution_count": null,
   "metadata": {},
   "outputs": [],
   "source": []
  },
  {
   "cell_type": "code",
   "execution_count": null,
   "metadata": {},
   "outputs": [],
   "source": []
  },
  {
   "cell_type": "code",
   "execution_count": null,
   "metadata": {},
   "outputs": [],
   "source": []
  },
  {
   "cell_type": "code",
   "execution_count": 45,
   "metadata": {},
   "outputs": [
    {
     "data": {
      "text/html": [
       "<div>\n",
       "<style scoped>\n",
       "    .dataframe tbody tr th:only-of-type {\n",
       "        vertical-align: middle;\n",
       "    }\n",
       "\n",
       "    .dataframe tbody tr th {\n",
       "        vertical-align: top;\n",
       "    }\n",
       "\n",
       "    .dataframe thead th {\n",
       "        text-align: right;\n",
       "    }\n",
       "</style>\n",
       "<table border=\"1\" class=\"dataframe\">\n",
       "  <thead>\n",
       "    <tr style=\"text-align: right;\">\n",
       "      <th></th>\n",
       "      <th>round</th>\n",
       "      <th>selected_turn_id</th>\n",
       "    </tr>\n",
       "  </thead>\n",
       "  <tbody>\n",
       "    <tr>\n",
       "      <th>0</th>\n",
       "      <td>0</td>\n",
       "      <td>MUL1950-7</td>\n",
       "    </tr>\n",
       "    <tr>\n",
       "      <th>1</th>\n",
       "      <td>0</td>\n",
       "      <td>PMUL3752-3</td>\n",
       "    </tr>\n",
       "    <tr>\n",
       "      <th>2</th>\n",
       "      <td>0</td>\n",
       "      <td>PMUL3020-0</td>\n",
       "    </tr>\n",
       "    <tr>\n",
       "      <th>3</th>\n",
       "      <td>0</td>\n",
       "      <td>PMUL1571-0</td>\n",
       "    </tr>\n",
       "    <tr>\n",
       "      <th>4</th>\n",
       "      <td>0</td>\n",
       "      <td>MUL0429-1</td>\n",
       "    </tr>\n",
       "    <tr>\n",
       "      <th>...</th>\n",
       "      <td>...</td>\n",
       "      <td>...</td>\n",
       "    </tr>\n",
       "    <tr>\n",
       "      <th>7883</th>\n",
       "      <td>3</td>\n",
       "      <td>WOZ20634-1</td>\n",
       "    </tr>\n",
       "    <tr>\n",
       "      <th>7884</th>\n",
       "      <td>3</td>\n",
       "      <td>WOZ20649-2</td>\n",
       "    </tr>\n",
       "    <tr>\n",
       "      <th>7885</th>\n",
       "      <td>3</td>\n",
       "      <td>WOZ20667-1</td>\n",
       "    </tr>\n",
       "    <tr>\n",
       "      <th>7886</th>\n",
       "      <td>3</td>\n",
       "      <td>WOZ20672-4</td>\n",
       "    </tr>\n",
       "    <tr>\n",
       "      <th>7887</th>\n",
       "      <td>3</td>\n",
       "      <td>WOZ20675-1</td>\n",
       "    </tr>\n",
       "  </tbody>\n",
       "</table>\n",
       "<p>23664 rows × 2 columns</p>\n",
       "</div>"
      ],
      "text/plain": [
       "      round selected_turn_id\n",
       "0         0        MUL1950-7\n",
       "1         0       PMUL3752-3\n",
       "2         0       PMUL3020-0\n",
       "3         0       PMUL1571-0\n",
       "4         0        MUL0429-1\n",
       "...     ...              ...\n",
       "7883      3       WOZ20634-1\n",
       "7884      3       WOZ20649-2\n",
       "7885      3       WOZ20667-1\n",
       "7886      3       WOZ20672-4\n",
       "7887      3       WOZ20675-1\n",
       "\n",
       "[23664 rows x 2 columns]"
      ]
     },
     "execution_count": 45,
     "metadata": {},
     "output_type": "execute_result"
    }
   ],
   "source": [
    "# only read first two cols because columns number does not match for the final round\n",
    "k2000S202 = pd.read_csv('./data/mwz20/KAGE/max_entropy/k2000/k2000S202_selected_turn_id.csv',usecols=[0,1])\n",
    "k2000S588 = pd.read_csv('./data/mwz20/KAGE/max_entropy/k2000/k2000S588_selected_turn_id.csv',usecols=[0,1])\n",
    "k2000S813 = pd.read_csv('./data/mwz20/KAGE/max_entropy/k2000/k2000S813_selected_turn_id.csv',usecols=[0,1])\n",
    "k2000_merged = pd.concat([k2000S202, k2000S588, k2000S813])\n",
    "k2000_merged"
   ]
  },
  {
   "cell_type": "code",
   "execution_count": 46,
   "metadata": {},
   "outputs": [
    {
     "name": "stdout",
     "output_type": "stream",
     "text": [
      "# of turns read by annotators: mean - 0.6258 std - 0.2852\n",
      "# of turns read by annotators without budget: 0.6258\n",
      "--------------------------------------------------\n",
      "# of turns read by annotators by round 0: mean - 0.5782 std - 0.2997\n",
      "# of turns read by annotators by round 1: mean - 0.6536 std - 0.2946\n",
      "# of turns read by annotators by round 2: mean - 0.6409 std - 0.2671\n",
      "# of turns read by annotators by round 3: mean - 0.6308 std - 0.2715\n"
     ]
    },
    {
     "data": {
      "text/html": [
       "<div>\n",
       "<style scoped>\n",
       "    .dataframe tbody tr th:only-of-type {\n",
       "        vertical-align: middle;\n",
       "    }\n",
       "\n",
       "    .dataframe tbody tr th {\n",
       "        vertical-align: top;\n",
       "    }\n",
       "\n",
       "    .dataframe thead th {\n",
       "        text-align: right;\n",
       "    }\n",
       "</style>\n",
       "<table border=\"1\" class=\"dataframe\">\n",
       "  <thead>\n",
       "    <tr style=\"text-align: right;\">\n",
       "      <th></th>\n",
       "      <th>round</th>\n",
       "      <th>selected_turn_id</th>\n",
       "      <th>dialogue_id</th>\n",
       "      <th>turn_idx</th>\n",
       "      <th>total_turns</th>\n",
       "      <th>dialogue</th>\n",
       "      <th>turn_percentage</th>\n",
       "      <th>turn_percentage_by_round</th>\n",
       "    </tr>\n",
       "  </thead>\n",
       "  <tbody>\n",
       "    <tr>\n",
       "      <th>0</th>\n",
       "      <td>0</td>\n",
       "      <td>MUL1950-7</td>\n",
       "      <td>MUL1950</td>\n",
       "      <td>8</td>\n",
       "      <td>8</td>\n",
       "      <td>0</td>\n",
       "      <td>1.000000</td>\n",
       "      <td>0.578239</td>\n",
       "    </tr>\n",
       "    <tr>\n",
       "      <th>1</th>\n",
       "      <td>0</td>\n",
       "      <td>PMUL3752-3</td>\n",
       "      <td>PMUL3752</td>\n",
       "      <td>4</td>\n",
       "      <td>8</td>\n",
       "      <td>1</td>\n",
       "      <td>0.500000</td>\n",
       "      <td>0.578239</td>\n",
       "    </tr>\n",
       "    <tr>\n",
       "      <th>2</th>\n",
       "      <td>0</td>\n",
       "      <td>PMUL3020-0</td>\n",
       "      <td>PMUL3020</td>\n",
       "      <td>1</td>\n",
       "      <td>10</td>\n",
       "      <td>2</td>\n",
       "      <td>0.100000</td>\n",
       "      <td>0.578239</td>\n",
       "    </tr>\n",
       "    <tr>\n",
       "      <th>3</th>\n",
       "      <td>0</td>\n",
       "      <td>PMUL1571-0</td>\n",
       "      <td>PMUL1571</td>\n",
       "      <td>1</td>\n",
       "      <td>8</td>\n",
       "      <td>3</td>\n",
       "      <td>0.125000</td>\n",
       "      <td>0.578239</td>\n",
       "    </tr>\n",
       "    <tr>\n",
       "      <th>4</th>\n",
       "      <td>0</td>\n",
       "      <td>MUL0429-1</td>\n",
       "      <td>MUL0429</td>\n",
       "      <td>2</td>\n",
       "      <td>8</td>\n",
       "      <td>4</td>\n",
       "      <td>0.250000</td>\n",
       "      <td>0.578239</td>\n",
       "    </tr>\n",
       "    <tr>\n",
       "      <th>...</th>\n",
       "      <td>...</td>\n",
       "      <td>...</td>\n",
       "      <td>...</td>\n",
       "      <td>...</td>\n",
       "      <td>...</td>\n",
       "      <td>...</td>\n",
       "      <td>...</td>\n",
       "      <td>...</td>\n",
       "    </tr>\n",
       "    <tr>\n",
       "      <th>23659</th>\n",
       "      <td>3</td>\n",
       "      <td>WOZ20634-1</td>\n",
       "      <td>WOZ20634</td>\n",
       "      <td>2</td>\n",
       "      <td>7</td>\n",
       "      <td>23659</td>\n",
       "      <td>0.285714</td>\n",
       "      <td>0.630771</td>\n",
       "    </tr>\n",
       "    <tr>\n",
       "      <th>23660</th>\n",
       "      <td>3</td>\n",
       "      <td>WOZ20649-2</td>\n",
       "      <td>WOZ20649</td>\n",
       "      <td>3</td>\n",
       "      <td>3</td>\n",
       "      <td>23660</td>\n",
       "      <td>1.000000</td>\n",
       "      <td>0.630771</td>\n",
       "    </tr>\n",
       "    <tr>\n",
       "      <th>23661</th>\n",
       "      <td>3</td>\n",
       "      <td>WOZ20667-1</td>\n",
       "      <td>WOZ20667</td>\n",
       "      <td>2</td>\n",
       "      <td>4</td>\n",
       "      <td>23661</td>\n",
       "      <td>0.500000</td>\n",
       "      <td>0.630771</td>\n",
       "    </tr>\n",
       "    <tr>\n",
       "      <th>23662</th>\n",
       "      <td>3</td>\n",
       "      <td>WOZ20672-4</td>\n",
       "      <td>WOZ20672</td>\n",
       "      <td>5</td>\n",
       "      <td>5</td>\n",
       "      <td>23662</td>\n",
       "      <td>1.000000</td>\n",
       "      <td>0.630771</td>\n",
       "    </tr>\n",
       "    <tr>\n",
       "      <th>23663</th>\n",
       "      <td>3</td>\n",
       "      <td>WOZ20675-1</td>\n",
       "      <td>WOZ20675</td>\n",
       "      <td>2</td>\n",
       "      <td>5</td>\n",
       "      <td>23663</td>\n",
       "      <td>0.400000</td>\n",
       "      <td>0.630771</td>\n",
       "    </tr>\n",
       "  </tbody>\n",
       "</table>\n",
       "<p>23664 rows × 8 columns</p>\n",
       "</div>"
      ],
      "text/plain": [
       "       round selected_turn_id dialogue_id  turn_idx  total_turns  dialogue  \\\n",
       "0          0        MUL1950-7     MUL1950         8            8         0   \n",
       "1          0       PMUL3752-3    PMUL3752         4            8         1   \n",
       "2          0       PMUL3020-0    PMUL3020         1           10         2   \n",
       "3          0       PMUL1571-0    PMUL1571         1            8         3   \n",
       "4          0        MUL0429-1     MUL0429         2            8         4   \n",
       "...      ...              ...         ...       ...          ...       ...   \n",
       "23659      3       WOZ20634-1    WOZ20634         2            7     23659   \n",
       "23660      3       WOZ20649-2    WOZ20649         3            3     23660   \n",
       "23661      3       WOZ20667-1    WOZ20667         2            4     23661   \n",
       "23662      3       WOZ20672-4    WOZ20672         5            5     23662   \n",
       "23663      3       WOZ20675-1    WOZ20675         2            5     23663   \n",
       "\n",
       "       turn_percentage  turn_percentage_by_round  \n",
       "0             1.000000                  0.578239  \n",
       "1             0.500000                  0.578239  \n",
       "2             0.100000                  0.578239  \n",
       "3             0.125000                  0.578239  \n",
       "4             0.250000                  0.578239  \n",
       "...                ...                       ...  \n",
       "23659         0.285714                  0.630771  \n",
       "23660         1.000000                  0.630771  \n",
       "23661         0.500000                  0.630771  \n",
       "23662         1.000000                  0.630771  \n",
       "23663         0.400000                  0.630771  \n",
       "\n",
       "[23664 rows x 8 columns]"
      ]
     },
     "execution_count": 46,
     "metadata": {},
     "output_type": "execute_result"
    }
   ],
   "source": [
    "k2000_merged_statis = merge_df(mwz20_dialogue2len_df, k2000_merged)\n",
    "k2000_merged_statis"
   ]
  },
  {
   "cell_type": "code",
   "execution_count": 47,
   "metadata": {
    "scrolled": true
   },
   "outputs": [
    {
     "data": {
      "text/html": [
       "<div>\n",
       "<style scoped>\n",
       "    .dataframe tbody tr th:only-of-type {\n",
       "        vertical-align: middle;\n",
       "    }\n",
       "\n",
       "    .dataframe tbody tr th {\n",
       "        vertical-align: top;\n",
       "    }\n",
       "\n",
       "    .dataframe thead th {\n",
       "        text-align: right;\n",
       "    }\n",
       "</style>\n",
       "<table border=\"1\" class=\"dataframe\">\n",
       "  <thead>\n",
       "    <tr style=\"text-align: right;\">\n",
       "      <th></th>\n",
       "      <th>round</th>\n",
       "      <th>selected_turn_id</th>\n",
       "      <th>dialogue_id</th>\n",
       "      <th>turn_idx</th>\n",
       "      <th>total_turns</th>\n",
       "      <th>dialogue</th>\n",
       "      <th>turn_percentage</th>\n",
       "      <th>turn_percentage_by_round</th>\n",
       "    </tr>\n",
       "  </thead>\n",
       "  <tbody>\n",
       "    <tr>\n",
       "      <th>0</th>\n",
       "      <td>0</td>\n",
       "      <td>MUL1950-7</td>\n",
       "      <td>MUL1950</td>\n",
       "      <td>8</td>\n",
       "      <td>8</td>\n",
       "      <td>0</td>\n",
       "      <td>1.00</td>\n",
       "      <td>0.578239</td>\n",
       "    </tr>\n",
       "    <tr>\n",
       "      <th>12295</th>\n",
       "      <td>2</td>\n",
       "      <td>MUL1950-3</td>\n",
       "      <td>MUL1950</td>\n",
       "      <td>4</td>\n",
       "      <td>8</td>\n",
       "      <td>12295</td>\n",
       "      <td>0.50</td>\n",
       "      <td>0.640939</td>\n",
       "    </tr>\n",
       "    <tr>\n",
       "      <th>16179</th>\n",
       "      <td>0</td>\n",
       "      <td>MUL1950-5</td>\n",
       "      <td>MUL1950</td>\n",
       "      <td>6</td>\n",
       "      <td>8</td>\n",
       "      <td>16179</td>\n",
       "      <td>0.75</td>\n",
       "      <td>0.578239</td>\n",
       "    </tr>\n",
       "  </tbody>\n",
       "</table>\n",
       "</div>"
      ],
      "text/plain": [
       "       round selected_turn_id dialogue_id  turn_idx  total_turns  dialogue  \\\n",
       "0          0        MUL1950-7     MUL1950         8            8         0   \n",
       "12295      2        MUL1950-3     MUL1950         4            8     12295   \n",
       "16179      0        MUL1950-5     MUL1950         6            8     16179   \n",
       "\n",
       "       turn_percentage  turn_percentage_by_round  \n",
       "0                 1.00                  0.578239  \n",
       "12295             0.50                  0.640939  \n",
       "16179             0.75                  0.578239  "
      ]
     },
     "execution_count": 47,
     "metadata": {},
     "output_type": "execute_result"
    }
   ],
   "source": [
    "k2000_merged_statis[k2000_merged_statis['dialogue_id'] == 'MUL1950']"
   ]
  },
  {
   "cell_type": "code",
   "execution_count": 48,
   "metadata": {},
   "outputs": [
    {
     "data": {
      "text/html": [
       "<div>\n",
       "<style scoped>\n",
       "    .dataframe tbody tr th:only-of-type {\n",
       "        vertical-align: middle;\n",
       "    }\n",
       "\n",
       "    .dataframe tbody tr th {\n",
       "        vertical-align: top;\n",
       "    }\n",
       "\n",
       "    .dataframe thead th {\n",
       "        text-align: right;\n",
       "    }\n",
       "</style>\n",
       "<table border=\"1\" class=\"dataframe\">\n",
       "  <thead>\n",
       "    <tr style=\"text-align: right;\">\n",
       "      <th></th>\n",
       "      <th>round</th>\n",
       "      <th>selected_turn_id</th>\n",
       "      <th>dialogue_id</th>\n",
       "      <th>turn_idx</th>\n",
       "      <th>total_turns</th>\n",
       "      <th>dialogue</th>\n",
       "      <th>turn_percentage</th>\n",
       "      <th>turn_percentage_by_round</th>\n",
       "    </tr>\n",
       "  </thead>\n",
       "  <tbody>\n",
       "    <tr>\n",
       "      <th>1</th>\n",
       "      <td>0</td>\n",
       "      <td>PMUL3752-3</td>\n",
       "      <td>PMUL3752</td>\n",
       "      <td>4</td>\n",
       "      <td>8</td>\n",
       "      <td>1</td>\n",
       "      <td>0.500</td>\n",
       "      <td>0.578239</td>\n",
       "    </tr>\n",
       "    <tr>\n",
       "      <th>10550</th>\n",
       "      <td>1</td>\n",
       "      <td>PMUL3752-2</td>\n",
       "      <td>PMUL3752</td>\n",
       "      <td>3</td>\n",
       "      <td>8</td>\n",
       "      <td>10550</td>\n",
       "      <td>0.375</td>\n",
       "      <td>0.653631</td>\n",
       "    </tr>\n",
       "    <tr>\n",
       "      <th>21623</th>\n",
       "      <td>2</td>\n",
       "      <td>PMUL3752-1</td>\n",
       "      <td>PMUL3752</td>\n",
       "      <td>2</td>\n",
       "      <td>8</td>\n",
       "      <td>21623</td>\n",
       "      <td>0.250</td>\n",
       "      <td>0.640939</td>\n",
       "    </tr>\n",
       "  </tbody>\n",
       "</table>\n",
       "</div>"
      ],
      "text/plain": [
       "       round selected_turn_id dialogue_id  turn_idx  total_turns  dialogue  \\\n",
       "1          0       PMUL3752-3    PMUL3752         4            8         1   \n",
       "10550      1       PMUL3752-2    PMUL3752         3            8     10550   \n",
       "21623      2       PMUL3752-1    PMUL3752         2            8     21623   \n",
       "\n",
       "       turn_percentage  turn_percentage_by_round  \n",
       "1                0.500                  0.578239  \n",
       "10550            0.375                  0.653631  \n",
       "21623            0.250                  0.640939  "
      ]
     },
     "execution_count": 48,
     "metadata": {},
     "output_type": "execute_result"
    }
   ],
   "source": [
    "k2000_merged_statis[k2000_merged_statis['dialogue_id'] == 'PMUL3752']"
   ]
  },
  {
   "cell_type": "code",
   "execution_count": 49,
   "metadata": {},
   "outputs": [
    {
     "data": {
      "text/html": [
       "<div>\n",
       "<style scoped>\n",
       "    .dataframe tbody tr th:only-of-type {\n",
       "        vertical-align: middle;\n",
       "    }\n",
       "\n",
       "    .dataframe tbody tr th {\n",
       "        vertical-align: top;\n",
       "    }\n",
       "\n",
       "    .dataframe thead th {\n",
       "        text-align: right;\n",
       "    }\n",
       "</style>\n",
       "<table border=\"1\" class=\"dataframe\">\n",
       "  <thead>\n",
       "    <tr style=\"text-align: right;\">\n",
       "      <th></th>\n",
       "      <th>round</th>\n",
       "      <th>selected_turn_id</th>\n",
       "      <th>dialogue_id</th>\n",
       "      <th>turn_idx</th>\n",
       "      <th>total_turns</th>\n",
       "      <th>dialogue</th>\n",
       "      <th>turn_percentage</th>\n",
       "      <th>turn_percentage_by_round</th>\n",
       "    </tr>\n",
       "  </thead>\n",
       "  <tbody>\n",
       "    <tr>\n",
       "      <th>5136</th>\n",
       "      <td>2</td>\n",
       "      <td>WOZ20634-0</td>\n",
       "      <td>WOZ20634</td>\n",
       "      <td>1</td>\n",
       "      <td>7</td>\n",
       "      <td>5136</td>\n",
       "      <td>0.142857</td>\n",
       "      <td>0.640939</td>\n",
       "    </tr>\n",
       "    <tr>\n",
       "      <th>11515</th>\n",
       "      <td>1</td>\n",
       "      <td>WOZ20634-2</td>\n",
       "      <td>WOZ20634</td>\n",
       "      <td>3</td>\n",
       "      <td>7</td>\n",
       "      <td>11515</td>\n",
       "      <td>0.428571</td>\n",
       "      <td>0.653631</td>\n",
       "    </tr>\n",
       "    <tr>\n",
       "      <th>23659</th>\n",
       "      <td>3</td>\n",
       "      <td>WOZ20634-1</td>\n",
       "      <td>WOZ20634</td>\n",
       "      <td>2</td>\n",
       "      <td>7</td>\n",
       "      <td>23659</td>\n",
       "      <td>0.285714</td>\n",
       "      <td>0.630771</td>\n",
       "    </tr>\n",
       "  </tbody>\n",
       "</table>\n",
       "</div>"
      ],
      "text/plain": [
       "       round selected_turn_id dialogue_id  turn_idx  total_turns  dialogue  \\\n",
       "5136       2       WOZ20634-0    WOZ20634         1            7      5136   \n",
       "11515      1       WOZ20634-2    WOZ20634         3            7     11515   \n",
       "23659      3       WOZ20634-1    WOZ20634         2            7     23659   \n",
       "\n",
       "       turn_percentage  turn_percentage_by_round  \n",
       "5136          0.142857                  0.640939  \n",
       "11515         0.428571                  0.653631  \n",
       "23659         0.285714                  0.630771  "
      ]
     },
     "execution_count": 49,
     "metadata": {},
     "output_type": "execute_result"
    }
   ],
   "source": [
    "k2000_merged_statis[k2000_merged_statis['dialogue_id'] == 'WOZ20634']"
   ]
  },
  {
   "cell_type": "code",
   "execution_count": 50,
   "metadata": {},
   "outputs": [
    {
     "data": {
      "text/html": [
       "<div>\n",
       "<style scoped>\n",
       "    .dataframe tbody tr th:only-of-type {\n",
       "        vertical-align: middle;\n",
       "    }\n",
       "\n",
       "    .dataframe tbody tr th {\n",
       "        vertical-align: top;\n",
       "    }\n",
       "\n",
       "    .dataframe thead th {\n",
       "        text-align: right;\n",
       "    }\n",
       "</style>\n",
       "<table border=\"1\" class=\"dataframe\">\n",
       "  <thead>\n",
       "    <tr style=\"text-align: right;\">\n",
       "      <th></th>\n",
       "      <th>round</th>\n",
       "      <th>selected_turn_id</th>\n",
       "      <th>dialogue_id</th>\n",
       "      <th>turn_idx</th>\n",
       "      <th>total_turns</th>\n",
       "      <th>dialogue</th>\n",
       "      <th>turn_percentage</th>\n",
       "      <th>turn_percentage_by_round</th>\n",
       "    </tr>\n",
       "  </thead>\n",
       "  <tbody>\n",
       "    <tr>\n",
       "      <th>641</th>\n",
       "      <td>0</td>\n",
       "      <td>WOZ20672-1</td>\n",
       "      <td>WOZ20672</td>\n",
       "      <td>2</td>\n",
       "      <td>5</td>\n",
       "      <td>641</td>\n",
       "      <td>0.4</td>\n",
       "      <td>0.578239</td>\n",
       "    </tr>\n",
       "    <tr>\n",
       "      <th>15775</th>\n",
       "      <td>3</td>\n",
       "      <td>WOZ20672-2</td>\n",
       "      <td>WOZ20672</td>\n",
       "      <td>3</td>\n",
       "      <td>5</td>\n",
       "      <td>15775</td>\n",
       "      <td>0.6</td>\n",
       "      <td>0.630771</td>\n",
       "    </tr>\n",
       "    <tr>\n",
       "      <th>23662</th>\n",
       "      <td>3</td>\n",
       "      <td>WOZ20672-4</td>\n",
       "      <td>WOZ20672</td>\n",
       "      <td>5</td>\n",
       "      <td>5</td>\n",
       "      <td>23662</td>\n",
       "      <td>1.0</td>\n",
       "      <td>0.630771</td>\n",
       "    </tr>\n",
       "  </tbody>\n",
       "</table>\n",
       "</div>"
      ],
      "text/plain": [
       "       round selected_turn_id dialogue_id  turn_idx  total_turns  dialogue  \\\n",
       "641        0       WOZ20672-1    WOZ20672         2            5       641   \n",
       "15775      3       WOZ20672-2    WOZ20672         3            5     15775   \n",
       "23662      3       WOZ20672-4    WOZ20672         5            5     23662   \n",
       "\n",
       "       turn_percentage  turn_percentage_by_round  \n",
       "641                0.4                  0.578239  \n",
       "15775              0.6                  0.630771  \n",
       "23662              1.0                  0.630771  "
      ]
     },
     "execution_count": 50,
     "metadata": {},
     "output_type": "execute_result"
    }
   ],
   "source": [
    "k2000_merged_statis[k2000_merged_statis['dialogue_id'] == 'WOZ20672']"
   ]
  },
  {
   "cell_type": "markdown",
   "metadata": {},
   "source": [
    "PMUL3752 这个例子从turn_idx=4开始就不会增加新的state，因此我们的模型可以很好的找到这个turn的临界值去标记。 同时，round=0标记的是turn=3，因为turn=3是state最多，最难预测的，随着round的进行，模型已经学习了一定的能力，因此标记会越来越靠前。\n",
    "\n",
    "同样，MUL1950在turn_idx=4开始，state就增加的很少，因此turn_idx=3的时候，state达到峰值，此时去标记最划算。\n",
    "\n",
    "可以统计一下每个turn的total state，看看截止到哪个turn之后，总state最多，标记哪个turn最划算。"
   ]
  },
  {
   "cell_type": "code",
   "execution_count": null,
   "metadata": {},
   "outputs": [],
   "source": []
  },
  {
   "cell_type": "code",
   "execution_count": null,
   "metadata": {},
   "outputs": [],
   "source": []
  },
  {
   "cell_type": "code",
   "execution_count": 24,
   "metadata": {},
   "outputs": [
    {
     "data": {
      "text/html": [
       "<div>\n",
       "<style scoped>\n",
       "    .dataframe tbody tr th:only-of-type {\n",
       "        vertical-align: middle;\n",
       "    }\n",
       "\n",
       "    .dataframe tbody tr th {\n",
       "        vertical-align: top;\n",
       "    }\n",
       "\n",
       "    .dataframe thead th {\n",
       "        text-align: right;\n",
       "    }\n",
       "</style>\n",
       "<table border=\"1\" class=\"dataframe\">\n",
       "  <thead>\n",
       "    <tr style=\"text-align: right;\">\n",
       "      <th></th>\n",
       "      <th></th>\n",
       "      <th>total_turns</th>\n",
       "    </tr>\n",
       "    <tr>\n",
       "      <th>dialogue_id</th>\n",
       "      <th>turn_idx</th>\n",
       "      <th></th>\n",
       "    </tr>\n",
       "  </thead>\n",
       "  <tbody>\n",
       "    <tr>\n",
       "      <th rowspan=\"3\" valign=\"top\">MUL0001</th>\n",
       "      <th>7</th>\n",
       "      <td>1</td>\n",
       "    </tr>\n",
       "    <tr>\n",
       "      <th>9</th>\n",
       "      <td>1</td>\n",
       "    </tr>\n",
       "    <tr>\n",
       "      <th>10</th>\n",
       "      <td>1</td>\n",
       "    </tr>\n",
       "    <tr>\n",
       "      <th rowspan=\"2\" valign=\"top\">MUL0002</th>\n",
       "      <th>6</th>\n",
       "      <td>1</td>\n",
       "    </tr>\n",
       "    <tr>\n",
       "      <th>7</th>\n",
       "      <td>2</td>\n",
       "    </tr>\n",
       "    <tr>\n",
       "      <th>...</th>\n",
       "      <th>...</th>\n",
       "      <td>...</td>\n",
       "    </tr>\n",
       "    <tr>\n",
       "      <th rowspan=\"2\" valign=\"top\">WOZ20674</th>\n",
       "      <th>2</th>\n",
       "      <td>1</td>\n",
       "    </tr>\n",
       "    <tr>\n",
       "      <th>4</th>\n",
       "      <td>2</td>\n",
       "    </tr>\n",
       "    <tr>\n",
       "      <th rowspan=\"3\" valign=\"top\">WOZ20675</th>\n",
       "      <th>2</th>\n",
       "      <td>1</td>\n",
       "    </tr>\n",
       "    <tr>\n",
       "      <th>3</th>\n",
       "      <td>1</td>\n",
       "    </tr>\n",
       "    <tr>\n",
       "      <th>4</th>\n",
       "      <td>1</td>\n",
       "    </tr>\n",
       "  </tbody>\n",
       "</table>\n",
       "<p>18980 rows × 1 columns</p>\n",
       "</div>"
      ],
      "text/plain": [
       "                      total_turns\n",
       "dialogue_id turn_idx             \n",
       "MUL0001     7                   1\n",
       "            9                   1\n",
       "            10                  1\n",
       "MUL0002     6                   1\n",
       "            7                   2\n",
       "...                           ...\n",
       "WOZ20674    2                   1\n",
       "            4                   2\n",
       "WOZ20675    2                   1\n",
       "            3                   1\n",
       "            4                   1\n",
       "\n",
       "[18980 rows x 1 columns]"
      ]
     },
     "execution_count": 24,
     "metadata": {},
     "output_type": "execute_result"
    }
   ],
   "source": [
    "k2000_merged_statis[['dialogue_id', 'turn_idx', 'total_turns']].groupby(['dialogue_id','turn_idx']).count()"
   ]
  },
  {
   "cell_type": "code",
   "execution_count": null,
   "metadata": {},
   "outputs": [],
   "source": []
  },
  {
   "cell_type": "markdown",
   "metadata": {},
   "source": [
    "For each round, the number of reading cost is decreasing, indicating that the annotation reduction by using AL.\n",
    "\n",
    "The first round may be random, because the model has not seen any data"
   ]
  },
  {
   "cell_type": "code",
   "execution_count": 25,
   "metadata": {},
   "outputs": [
    {
     "name": "stdout",
     "output_type": "stream",
     "text": [
      "# of turns read by annotators: mean - 0.6361 std - 0.2943\n",
      "# of turns read by annotators without budget: 0.6361\n",
      "--------------------------------------------------\n",
      "# of turns read by annotators by round 0: mean - 0.41 std - 0.2391\n",
      "# of turns read by annotators by round 1: mean - 0.7741 std - 0.2668\n",
      "# of turns read by annotators by round 2: mean - 0.6718 std - 0.2712\n",
      "# of turns read by annotators by round 3: mean - 0.6915 std - 0.2632\n"
     ]
    },
    {
     "data": {
      "text/html": [
       "<div>\n",
       "<style scoped>\n",
       "    .dataframe tbody tr th:only-of-type {\n",
       "        vertical-align: middle;\n",
       "    }\n",
       "\n",
       "    .dataframe tbody tr th {\n",
       "        vertical-align: top;\n",
       "    }\n",
       "\n",
       "    .dataframe thead th {\n",
       "        text-align: right;\n",
       "    }\n",
       "</style>\n",
       "<table border=\"1\" class=\"dataframe\">\n",
       "  <thead>\n",
       "    <tr style=\"text-align: right;\">\n",
       "      <th></th>\n",
       "      <th>round</th>\n",
       "      <th>selected_turn_id</th>\n",
       "      <th>dialogue_id</th>\n",
       "      <th>turn_idx</th>\n",
       "      <th>total_turns</th>\n",
       "      <th>dialogue</th>\n",
       "      <th>turn_percentage</th>\n",
       "      <th>turn_percentage_by_round</th>\n",
       "    </tr>\n",
       "  </thead>\n",
       "  <tbody>\n",
       "    <tr>\n",
       "      <th>0</th>\n",
       "      <td>0</td>\n",
       "      <td>MUL1950-7</td>\n",
       "      <td>MUL1950</td>\n",
       "      <td>8</td>\n",
       "      <td>8</td>\n",
       "      <td>0</td>\n",
       "      <td>1.000000</td>\n",
       "      <td>0.409967</td>\n",
       "    </tr>\n",
       "    <tr>\n",
       "      <th>1</th>\n",
       "      <td>0</td>\n",
       "      <td>PMUL3752-3</td>\n",
       "      <td>PMUL3752</td>\n",
       "      <td>4</td>\n",
       "      <td>8</td>\n",
       "      <td>1</td>\n",
       "      <td>0.500000</td>\n",
       "      <td>0.409967</td>\n",
       "    </tr>\n",
       "    <tr>\n",
       "      <th>2</th>\n",
       "      <td>0</td>\n",
       "      <td>PMUL3020-0</td>\n",
       "      <td>PMUL3020</td>\n",
       "      <td>1</td>\n",
       "      <td>10</td>\n",
       "      <td>2</td>\n",
       "      <td>0.100000</td>\n",
       "      <td>0.409967</td>\n",
       "    </tr>\n",
       "    <tr>\n",
       "      <th>3</th>\n",
       "      <td>0</td>\n",
       "      <td>PMUL1571-0</td>\n",
       "      <td>PMUL1571</td>\n",
       "      <td>1</td>\n",
       "      <td>8</td>\n",
       "      <td>3</td>\n",
       "      <td>0.125000</td>\n",
       "      <td>0.409967</td>\n",
       "    </tr>\n",
       "    <tr>\n",
       "      <th>4</th>\n",
       "      <td>0</td>\n",
       "      <td>MUL0429-1</td>\n",
       "      <td>MUL0429</td>\n",
       "      <td>2</td>\n",
       "      <td>8</td>\n",
       "      <td>4</td>\n",
       "      <td>0.250000</td>\n",
       "      <td>0.409967</td>\n",
       "    </tr>\n",
       "    <tr>\n",
       "      <th>...</th>\n",
       "      <td>...</td>\n",
       "      <td>...</td>\n",
       "      <td>...</td>\n",
       "      <td>...</td>\n",
       "      <td>...</td>\n",
       "      <td>...</td>\n",
       "      <td>...</td>\n",
       "      <td>...</td>\n",
       "    </tr>\n",
       "    <tr>\n",
       "      <th>7883</th>\n",
       "      <td>3</td>\n",
       "      <td>WOZ20641-0</td>\n",
       "      <td>WOZ20641</td>\n",
       "      <td>1</td>\n",
       "      <td>4</td>\n",
       "      <td>7883</td>\n",
       "      <td>0.250000</td>\n",
       "      <td>0.691537</td>\n",
       "    </tr>\n",
       "    <tr>\n",
       "      <th>7884</th>\n",
       "      <td>3</td>\n",
       "      <td>WOZ20661-2</td>\n",
       "      <td>WOZ20661</td>\n",
       "      <td>3</td>\n",
       "      <td>4</td>\n",
       "      <td>7884</td>\n",
       "      <td>0.750000</td>\n",
       "      <td>0.691537</td>\n",
       "    </tr>\n",
       "    <tr>\n",
       "      <th>7885</th>\n",
       "      <td>3</td>\n",
       "      <td>WOZ20662-3</td>\n",
       "      <td>WOZ20662</td>\n",
       "      <td>4</td>\n",
       "      <td>4</td>\n",
       "      <td>7885</td>\n",
       "      <td>1.000000</td>\n",
       "      <td>0.691537</td>\n",
       "    </tr>\n",
       "    <tr>\n",
       "      <th>7886</th>\n",
       "      <td>3</td>\n",
       "      <td>WOZ20664-0</td>\n",
       "      <td>WOZ20664</td>\n",
       "      <td>1</td>\n",
       "      <td>6</td>\n",
       "      <td>7886</td>\n",
       "      <td>0.166667</td>\n",
       "      <td>0.691537</td>\n",
       "    </tr>\n",
       "    <tr>\n",
       "      <th>7887</th>\n",
       "      <td>3</td>\n",
       "      <td>WOZ20670-2</td>\n",
       "      <td>WOZ20670</td>\n",
       "      <td>3</td>\n",
       "      <td>4</td>\n",
       "      <td>7887</td>\n",
       "      <td>0.750000</td>\n",
       "      <td>0.691537</td>\n",
       "    </tr>\n",
       "  </tbody>\n",
       "</table>\n",
       "<p>7888 rows × 8 columns</p>\n",
       "</div>"
      ],
      "text/plain": [
       "      round selected_turn_id dialogue_id  turn_idx  total_turns  dialogue  \\\n",
       "0         0        MUL1950-7     MUL1950         8            8         0   \n",
       "1         0       PMUL3752-3    PMUL3752         4            8         1   \n",
       "2         0       PMUL3020-0    PMUL3020         1           10         2   \n",
       "3         0       PMUL1571-0    PMUL1571         1            8         3   \n",
       "4         0        MUL0429-1     MUL0429         2            8         4   \n",
       "...     ...              ...         ...       ...          ...       ...   \n",
       "7883      3       WOZ20641-0    WOZ20641         1            4      7883   \n",
       "7884      3       WOZ20661-2    WOZ20661         3            4      7884   \n",
       "7885      3       WOZ20662-3    WOZ20662         4            4      7885   \n",
       "7886      3       WOZ20664-0    WOZ20664         1            6      7886   \n",
       "7887      3       WOZ20670-2    WOZ20670         3            4      7887   \n",
       "\n",
       "      turn_percentage  turn_percentage_by_round  \n",
       "0            1.000000                  0.409967  \n",
       "1            0.500000                  0.409967  \n",
       "2            0.100000                  0.409967  \n",
       "3            0.125000                  0.409967  \n",
       "4            0.250000                  0.409967  \n",
       "...               ...                       ...  \n",
       "7883         0.250000                  0.691537  \n",
       "7884         0.750000                  0.691537  \n",
       "7885         1.000000                  0.691537  \n",
       "7886         0.166667                  0.691537  \n",
       "7887         0.750000                  0.691537  \n",
       "\n",
       "[7888 rows x 8 columns]"
      ]
     },
     "execution_count": 25,
     "metadata": {},
     "output_type": "execute_result"
    }
   ],
   "source": [
    "merge_df(mwz20_dialogue2len_df, k2000S202)"
   ]
  },
  {
   "cell_type": "code",
   "execution_count": 26,
   "metadata": {},
   "outputs": [
    {
     "name": "stdout",
     "output_type": "stream",
     "text": [
      "# of turns read by annotators: mean - 0.6035 std - 0.2811\n",
      "# of turns read by annotators without budget: 0.6035\n",
      "--------------------------------------------------\n",
      "# of turns read by annotators by round 0: mean - 0.5449 std - 0.2966\n",
      "# of turns read by annotators by round 1: mean - 0.6467 std - 0.2957\n",
      "# of turns read by annotators by round 2: mean - 0.6509 std - 0.2505\n",
      "# of turns read by annotators by round 3: mean - 0.5697 std - 0.2622\n"
     ]
    },
    {
     "data": {
      "text/html": [
       "<div>\n",
       "<style scoped>\n",
       "    .dataframe tbody tr th:only-of-type {\n",
       "        vertical-align: middle;\n",
       "    }\n",
       "\n",
       "    .dataframe tbody tr th {\n",
       "        vertical-align: top;\n",
       "    }\n",
       "\n",
       "    .dataframe thead th {\n",
       "        text-align: right;\n",
       "    }\n",
       "</style>\n",
       "<table border=\"1\" class=\"dataframe\">\n",
       "  <thead>\n",
       "    <tr style=\"text-align: right;\">\n",
       "      <th></th>\n",
       "      <th>round</th>\n",
       "      <th>selected_turn_id</th>\n",
       "      <th>dialogue_id</th>\n",
       "      <th>turn_idx</th>\n",
       "      <th>total_turns</th>\n",
       "      <th>dialogue</th>\n",
       "      <th>turn_percentage</th>\n",
       "      <th>turn_percentage_by_round</th>\n",
       "    </tr>\n",
       "  </thead>\n",
       "  <tbody>\n",
       "    <tr>\n",
       "      <th>0</th>\n",
       "      <td>0</td>\n",
       "      <td>PMUL1855-1</td>\n",
       "      <td>PMUL1855</td>\n",
       "      <td>2</td>\n",
       "      <td>9</td>\n",
       "      <td>0</td>\n",
       "      <td>0.222222</td>\n",
       "      <td>0.544864</td>\n",
       "    </tr>\n",
       "    <tr>\n",
       "      <th>1</th>\n",
       "      <td>0</td>\n",
       "      <td>MUL0059-1</td>\n",
       "      <td>MUL0059</td>\n",
       "      <td>2</td>\n",
       "      <td>9</td>\n",
       "      <td>1</td>\n",
       "      <td>0.222222</td>\n",
       "      <td>0.544864</td>\n",
       "    </tr>\n",
       "    <tr>\n",
       "      <th>2</th>\n",
       "      <td>0</td>\n",
       "      <td>MUL2516-4</td>\n",
       "      <td>MUL2516</td>\n",
       "      <td>5</td>\n",
       "      <td>6</td>\n",
       "      <td>2</td>\n",
       "      <td>0.833333</td>\n",
       "      <td>0.544864</td>\n",
       "    </tr>\n",
       "    <tr>\n",
       "      <th>3</th>\n",
       "      <td>0</td>\n",
       "      <td>MUL2019-2</td>\n",
       "      <td>MUL2019</td>\n",
       "      <td>3</td>\n",
       "      <td>8</td>\n",
       "      <td>3</td>\n",
       "      <td>0.375000</td>\n",
       "      <td>0.544864</td>\n",
       "    </tr>\n",
       "    <tr>\n",
       "      <th>4</th>\n",
       "      <td>0</td>\n",
       "      <td>MUL1582-3</td>\n",
       "      <td>MUL1582</td>\n",
       "      <td>4</td>\n",
       "      <td>7</td>\n",
       "      <td>4</td>\n",
       "      <td>0.571429</td>\n",
       "      <td>0.544864</td>\n",
       "    </tr>\n",
       "    <tr>\n",
       "      <th>...</th>\n",
       "      <td>...</td>\n",
       "      <td>...</td>\n",
       "      <td>...</td>\n",
       "      <td>...</td>\n",
       "      <td>...</td>\n",
       "      <td>...</td>\n",
       "      <td>...</td>\n",
       "      <td>...</td>\n",
       "    </tr>\n",
       "    <tr>\n",
       "      <th>7883</th>\n",
       "      <td>3</td>\n",
       "      <td>WOZ20649-0</td>\n",
       "      <td>WOZ20649</td>\n",
       "      <td>1</td>\n",
       "      <td>3</td>\n",
       "      <td>7883</td>\n",
       "      <td>0.333333</td>\n",
       "      <td>0.569677</td>\n",
       "    </tr>\n",
       "    <tr>\n",
       "      <th>7884</th>\n",
       "      <td>3</td>\n",
       "      <td>WOZ20656-1</td>\n",
       "      <td>WOZ20656</td>\n",
       "      <td>2</td>\n",
       "      <td>4</td>\n",
       "      <td>7884</td>\n",
       "      <td>0.500000</td>\n",
       "      <td>0.569677</td>\n",
       "    </tr>\n",
       "    <tr>\n",
       "      <th>7885</th>\n",
       "      <td>3</td>\n",
       "      <td>WOZ20662-3</td>\n",
       "      <td>WOZ20662</td>\n",
       "      <td>4</td>\n",
       "      <td>4</td>\n",
       "      <td>7885</td>\n",
       "      <td>1.000000</td>\n",
       "      <td>0.569677</td>\n",
       "    </tr>\n",
       "    <tr>\n",
       "      <th>7886</th>\n",
       "      <td>3</td>\n",
       "      <td>WOZ20666-0</td>\n",
       "      <td>WOZ20666</td>\n",
       "      <td>1</td>\n",
       "      <td>3</td>\n",
       "      <td>7886</td>\n",
       "      <td>0.333333</td>\n",
       "      <td>0.569677</td>\n",
       "    </tr>\n",
       "    <tr>\n",
       "      <th>7887</th>\n",
       "      <td>3</td>\n",
       "      <td>WOZ20672-2</td>\n",
       "      <td>WOZ20672</td>\n",
       "      <td>3</td>\n",
       "      <td>5</td>\n",
       "      <td>7887</td>\n",
       "      <td>0.600000</td>\n",
       "      <td>0.569677</td>\n",
       "    </tr>\n",
       "  </tbody>\n",
       "</table>\n",
       "<p>7888 rows × 8 columns</p>\n",
       "</div>"
      ],
      "text/plain": [
       "      round selected_turn_id dialogue_id  turn_idx  total_turns  dialogue  \\\n",
       "0         0       PMUL1855-1    PMUL1855         2            9         0   \n",
       "1         0        MUL0059-1     MUL0059         2            9         1   \n",
       "2         0        MUL2516-4     MUL2516         5            6         2   \n",
       "3         0        MUL2019-2     MUL2019         3            8         3   \n",
       "4         0        MUL1582-3     MUL1582         4            7         4   \n",
       "...     ...              ...         ...       ...          ...       ...   \n",
       "7883      3       WOZ20649-0    WOZ20649         1            3      7883   \n",
       "7884      3       WOZ20656-1    WOZ20656         2            4      7884   \n",
       "7885      3       WOZ20662-3    WOZ20662         4            4      7885   \n",
       "7886      3       WOZ20666-0    WOZ20666         1            3      7886   \n",
       "7887      3       WOZ20672-2    WOZ20672         3            5      7887   \n",
       "\n",
       "      turn_percentage  turn_percentage_by_round  \n",
       "0            0.222222                  0.544864  \n",
       "1            0.222222                  0.544864  \n",
       "2            0.833333                  0.544864  \n",
       "3            0.375000                  0.544864  \n",
       "4            0.571429                  0.544864  \n",
       "...               ...                       ...  \n",
       "7883         0.333333                  0.569677  \n",
       "7884         0.500000                  0.569677  \n",
       "7885         1.000000                  0.569677  \n",
       "7886         0.333333                  0.569677  \n",
       "7887         0.600000                  0.569677  \n",
       "\n",
       "[7888 rows x 8 columns]"
      ]
     },
     "execution_count": 26,
     "metadata": {},
     "output_type": "execute_result"
    }
   ],
   "source": [
    "merge_df(mwz20_dialogue2len_df, k2000S588)"
   ]
  },
  {
   "cell_type": "code",
   "execution_count": 27,
   "metadata": {},
   "outputs": [
    {
     "name": "stdout",
     "output_type": "stream",
     "text": [
      "# of turns read by annotators: mean - 0.6379 std - 0.2787\n",
      "# of turns read by annotators without budget: 0.6379\n",
      "--------------------------------------------------\n",
      "# of turns read by annotators by round 0: mean - 0.7799 std - 0.233\n",
      "# of turns read by annotators by round 1: mean - 0.5401 std - 0.2726\n",
      "# of turns read by annotators by round 2: mean - 0.6001 std - 0.2741\n",
      "# of turns read by annotators by round 3: mean - 0.6311 std - 0.2751\n"
     ]
    },
    {
     "data": {
      "text/html": [
       "<div>\n",
       "<style scoped>\n",
       "    .dataframe tbody tr th:only-of-type {\n",
       "        vertical-align: middle;\n",
       "    }\n",
       "\n",
       "    .dataframe tbody tr th {\n",
       "        vertical-align: top;\n",
       "    }\n",
       "\n",
       "    .dataframe thead th {\n",
       "        text-align: right;\n",
       "    }\n",
       "</style>\n",
       "<table border=\"1\" class=\"dataframe\">\n",
       "  <thead>\n",
       "    <tr style=\"text-align: right;\">\n",
       "      <th></th>\n",
       "      <th>round</th>\n",
       "      <th>selected_turn_id</th>\n",
       "      <th>dialogue_id</th>\n",
       "      <th>turn_idx</th>\n",
       "      <th>total_turns</th>\n",
       "      <th>dialogue</th>\n",
       "      <th>turn_percentage</th>\n",
       "      <th>turn_percentage_by_round</th>\n",
       "    </tr>\n",
       "  </thead>\n",
       "  <tbody>\n",
       "    <tr>\n",
       "      <th>0</th>\n",
       "      <td>0</td>\n",
       "      <td>PMUL3578-8</td>\n",
       "      <td>PMUL3578</td>\n",
       "      <td>9</td>\n",
       "      <td>9</td>\n",
       "      <td>0</td>\n",
       "      <td>1.000000</td>\n",
       "      <td>0.779885</td>\n",
       "    </tr>\n",
       "    <tr>\n",
       "      <th>1</th>\n",
       "      <td>0</td>\n",
       "      <td>MUL1534-6</td>\n",
       "      <td>MUL1534</td>\n",
       "      <td>7</td>\n",
       "      <td>7</td>\n",
       "      <td>1</td>\n",
       "      <td>1.000000</td>\n",
       "      <td>0.779885</td>\n",
       "    </tr>\n",
       "    <tr>\n",
       "      <th>2</th>\n",
       "      <td>0</td>\n",
       "      <td>MUL2038-2</td>\n",
       "      <td>MUL2038</td>\n",
       "      <td>3</td>\n",
       "      <td>9</td>\n",
       "      <td>2</td>\n",
       "      <td>0.333333</td>\n",
       "      <td>0.779885</td>\n",
       "    </tr>\n",
       "    <tr>\n",
       "      <th>3</th>\n",
       "      <td>0</td>\n",
       "      <td>MUL1665-6</td>\n",
       "      <td>MUL1665</td>\n",
       "      <td>7</td>\n",
       "      <td>9</td>\n",
       "      <td>3</td>\n",
       "      <td>0.777778</td>\n",
       "      <td>0.779885</td>\n",
       "    </tr>\n",
       "    <tr>\n",
       "      <th>4</th>\n",
       "      <td>0</td>\n",
       "      <td>SNG01160-5</td>\n",
       "      <td>SNG01160</td>\n",
       "      <td>6</td>\n",
       "      <td>6</td>\n",
       "      <td>4</td>\n",
       "      <td>1.000000</td>\n",
       "      <td>0.779885</td>\n",
       "    </tr>\n",
       "    <tr>\n",
       "      <th>...</th>\n",
       "      <td>...</td>\n",
       "      <td>...</td>\n",
       "      <td>...</td>\n",
       "      <td>...</td>\n",
       "      <td>...</td>\n",
       "      <td>...</td>\n",
       "      <td>...</td>\n",
       "      <td>...</td>\n",
       "    </tr>\n",
       "    <tr>\n",
       "      <th>7883</th>\n",
       "      <td>3</td>\n",
       "      <td>WOZ20634-1</td>\n",
       "      <td>WOZ20634</td>\n",
       "      <td>2</td>\n",
       "      <td>7</td>\n",
       "      <td>7883</td>\n",
       "      <td>0.285714</td>\n",
       "      <td>0.631100</td>\n",
       "    </tr>\n",
       "    <tr>\n",
       "      <th>7884</th>\n",
       "      <td>3</td>\n",
       "      <td>WOZ20649-2</td>\n",
       "      <td>WOZ20649</td>\n",
       "      <td>3</td>\n",
       "      <td>3</td>\n",
       "      <td>7884</td>\n",
       "      <td>1.000000</td>\n",
       "      <td>0.631100</td>\n",
       "    </tr>\n",
       "    <tr>\n",
       "      <th>7885</th>\n",
       "      <td>3</td>\n",
       "      <td>WOZ20667-1</td>\n",
       "      <td>WOZ20667</td>\n",
       "      <td>2</td>\n",
       "      <td>4</td>\n",
       "      <td>7885</td>\n",
       "      <td>0.500000</td>\n",
       "      <td>0.631100</td>\n",
       "    </tr>\n",
       "    <tr>\n",
       "      <th>7886</th>\n",
       "      <td>3</td>\n",
       "      <td>WOZ20672-4</td>\n",
       "      <td>WOZ20672</td>\n",
       "      <td>5</td>\n",
       "      <td>5</td>\n",
       "      <td>7886</td>\n",
       "      <td>1.000000</td>\n",
       "      <td>0.631100</td>\n",
       "    </tr>\n",
       "    <tr>\n",
       "      <th>7887</th>\n",
       "      <td>3</td>\n",
       "      <td>WOZ20675-1</td>\n",
       "      <td>WOZ20675</td>\n",
       "      <td>2</td>\n",
       "      <td>5</td>\n",
       "      <td>7887</td>\n",
       "      <td>0.400000</td>\n",
       "      <td>0.631100</td>\n",
       "    </tr>\n",
       "  </tbody>\n",
       "</table>\n",
       "<p>7888 rows × 8 columns</p>\n",
       "</div>"
      ],
      "text/plain": [
       "      round selected_turn_id dialogue_id  turn_idx  total_turns  dialogue  \\\n",
       "0         0       PMUL3578-8    PMUL3578         9            9         0   \n",
       "1         0        MUL1534-6     MUL1534         7            7         1   \n",
       "2         0        MUL2038-2     MUL2038         3            9         2   \n",
       "3         0        MUL1665-6     MUL1665         7            9         3   \n",
       "4         0       SNG01160-5    SNG01160         6            6         4   \n",
       "...     ...              ...         ...       ...          ...       ...   \n",
       "7883      3       WOZ20634-1    WOZ20634         2            7      7883   \n",
       "7884      3       WOZ20649-2    WOZ20649         3            3      7884   \n",
       "7885      3       WOZ20667-1    WOZ20667         2            4      7885   \n",
       "7886      3       WOZ20672-4    WOZ20672         5            5      7886   \n",
       "7887      3       WOZ20675-1    WOZ20675         2            5      7887   \n",
       "\n",
       "      turn_percentage  turn_percentage_by_round  \n",
       "0            1.000000                  0.779885  \n",
       "1            1.000000                  0.779885  \n",
       "2            0.333333                  0.779885  \n",
       "3            0.777778                  0.779885  \n",
       "4            1.000000                  0.779885  \n",
       "...               ...                       ...  \n",
       "7883         0.285714                  0.631100  \n",
       "7884         1.000000                  0.631100  \n",
       "7885         0.500000                  0.631100  \n",
       "7886         1.000000                  0.631100  \n",
       "7887         0.400000                  0.631100  \n",
       "\n",
       "[7888 rows x 8 columns]"
      ]
     },
     "execution_count": 27,
     "metadata": {},
     "output_type": "execute_result"
    }
   ],
   "source": [
    "merge_df(mwz20_dialogue2len_df, k2000S813)"
   ]
  },
  {
   "cell_type": "code",
   "execution_count": null,
   "metadata": {},
   "outputs": [],
   "source": []
  },
  {
   "cell_type": "code",
   "execution_count": null,
   "metadata": {},
   "outputs": [],
   "source": []
  },
  {
   "cell_type": "code",
   "execution_count": 62,
   "metadata": {},
   "outputs": [
    {
     "data": {
      "text/html": [
       "<div>\n",
       "<style scoped>\n",
       "    .dataframe tbody tr th:only-of-type {\n",
       "        vertical-align: middle;\n",
       "    }\n",
       "\n",
       "    .dataframe tbody tr th {\n",
       "        vertical-align: top;\n",
       "    }\n",
       "\n",
       "    .dataframe thead th {\n",
       "        text-align: right;\n",
       "    }\n",
       "</style>\n",
       "<table border=\"1\" class=\"dataframe\">\n",
       "  <thead>\n",
       "    <tr style=\"text-align: right;\">\n",
       "      <th></th>\n",
       "      <th>round</th>\n",
       "      <th>selected_turn_id</th>\n",
       "    </tr>\n",
       "  </thead>\n",
       "  <tbody>\n",
       "    <tr>\n",
       "      <th>0</th>\n",
       "      <td>0</td>\n",
       "      <td>MUL1950-7</td>\n",
       "    </tr>\n",
       "    <tr>\n",
       "      <th>1</th>\n",
       "      <td>0</td>\n",
       "      <td>PMUL3752-3</td>\n",
       "    </tr>\n",
       "    <tr>\n",
       "      <th>2</th>\n",
       "      <td>0</td>\n",
       "      <td>PMUL3020-0</td>\n",
       "    </tr>\n",
       "    <tr>\n",
       "      <th>3</th>\n",
       "      <td>0</td>\n",
       "      <td>PMUL1571-0</td>\n",
       "    </tr>\n",
       "    <tr>\n",
       "      <th>4</th>\n",
       "      <td>0</td>\n",
       "      <td>MUL0429-1</td>\n",
       "    </tr>\n",
       "    <tr>\n",
       "      <th>...</th>\n",
       "      <td>...</td>\n",
       "      <td>...</td>\n",
       "    </tr>\n",
       "    <tr>\n",
       "      <th>7883</th>\n",
       "      <td>3</td>\n",
       "      <td>WOZ20641-0</td>\n",
       "    </tr>\n",
       "    <tr>\n",
       "      <th>7884</th>\n",
       "      <td>3</td>\n",
       "      <td>WOZ20661-2</td>\n",
       "    </tr>\n",
       "    <tr>\n",
       "      <th>7885</th>\n",
       "      <td>3</td>\n",
       "      <td>WOZ20662-3</td>\n",
       "    </tr>\n",
       "    <tr>\n",
       "      <th>7886</th>\n",
       "      <td>3</td>\n",
       "      <td>WOZ20664-0</td>\n",
       "    </tr>\n",
       "    <tr>\n",
       "      <th>7887</th>\n",
       "      <td>3</td>\n",
       "      <td>WOZ20670-2</td>\n",
       "    </tr>\n",
       "  </tbody>\n",
       "</table>\n",
       "<p>7888 rows × 2 columns</p>\n",
       "</div>"
      ],
      "text/plain": [
       "      round selected_turn_id\n",
       "0         0        MUL1950-7\n",
       "1         0       PMUL3752-3\n",
       "2         0       PMUL3020-0\n",
       "3         0       PMUL1571-0\n",
       "4         0        MUL0429-1\n",
       "...     ...              ...\n",
       "7883      3       WOZ20641-0\n",
       "7884      3       WOZ20661-2\n",
       "7885      3       WOZ20662-3\n",
       "7886      3       WOZ20664-0\n",
       "7887      3       WOZ20670-2\n",
       "\n",
       "[7888 rows x 2 columns]"
      ]
     },
     "execution_count": 62,
     "metadata": {},
     "output_type": "execute_result"
    }
   ],
   "source": [
    "k2000S202"
   ]
  },
  {
   "cell_type": "code",
   "execution_count": 53,
   "metadata": {},
   "outputs": [
    {
     "name": "stdout",
     "output_type": "stream",
     "text": [
      "D2000S588_selected_turn_id.csv\n",
      "D2000S202_selected_turn_id.csv\n",
      ".DS_Store\n",
      "D2000_test_acc.csv\n",
      "D2000S813_selected_turn_id.csv\n"
     ]
    }
   ],
   "source": [
    "# for filename in os.listdir('./data/mwz20/KAGE/max_entropy/k2000'):\n",
    "#     print(filename)\n",
    "# #     if filename.endswith(\".asm\") or filename.endswith(\".py\"): \n",
    "# #          # print(os.path.join(directory, filename))\n",
    "# #         continue\n",
    "# #     else:\n",
    "# #         continue"
   ]
  },
  {
   "cell_type": "code",
   "execution_count": null,
   "metadata": {},
   "outputs": [],
   "source": []
  }
 ],
 "metadata": {
  "kernelspec": {
   "display_name": "Python 3.9.13 ('plot')",
   "language": "python",
   "name": "python3"
  },
  "language_info": {
   "codemirror_mode": {
    "name": "ipython",
    "version": 3
   },
   "file_extension": ".py",
   "mimetype": "text/x-python",
   "name": "python",
   "nbconvert_exporter": "python",
   "pygments_lexer": "ipython3",
   "version": "3.9.13"
  },
  "vscode": {
   "interpreter": {
    "hash": "e274192c72cf6c1b74cab0e79d1b0ba04cadcdabf4185167e3080c8f42a66f1f"
   }
  }
 },
 "nbformat": 4,
 "nbformat_minor": 4
}
