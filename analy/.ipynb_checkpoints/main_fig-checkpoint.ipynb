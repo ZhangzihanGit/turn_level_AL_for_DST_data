{
 "cells": [
  {
   "cell_type": "code",
   "execution_count": 1,
   "metadata": {},
   "outputs": [],
   "source": [
    "# !pip install python-poppler"
   ]
  },
  {
   "cell_type": "code",
   "execution_count": 2,
   "metadata": {},
   "outputs": [],
   "source": [
    "import os\n",
    "import numpy as np\n",
    "import pandas as pd\n",
    "import plotly\n",
    "import plotly.graph_objs as go\n",
    "import plotly.express as px\n",
    "from plotly.subplots import make_subplots\n",
    "import plotly.io as pio\n",
    "pio.kaleido.scope.default_format = \"svg\"\n",
    "from IPython.display import display, HTML"
   ]
  },
  {
   "cell_type": "code",
   "execution_count": null,
   "metadata": {},
   "outputs": [],
   "source": []
  },
  {
   "cell_type": "markdown",
   "metadata": {},
   "source": [
    "https://community.plotly.com/t/export-plotly-figure-such-that-when-i-include-it-in-latex-file-it-compiles-the-text-with-the-same-font-as-the-document/49274/2"
   ]
  },
  {
   "cell_type": "code",
   "execution_count": null,
   "metadata": {},
   "outputs": [],
   "source": []
  },
  {
   "cell_type": "markdown",
   "metadata": {},
   "source": [
    "# MWZ2.0/2.1 statistics"
   ]
  },
  {
   "cell_type": "code",
   "execution_count": 3,
   "metadata": {},
   "outputs": [],
   "source": [
    "kage_dialogue2len_path = './data/mwz20/train_dialogue2len.csv'\n",
    "pptod_dialogue2len_path = './data/mwz20/pptod_train_dialogue2len.csv'"
   ]
  },
  {
   "cell_type": "code",
   "execution_count": 4,
   "metadata": {},
   "outputs": [
    {
     "data": {
      "text/plain": [
       "count    7888.000000\n",
       "mean        6.968940\n",
       "std         2.588889\n",
       "min         1.000000\n",
       "25%         5.000000\n",
       "50%         7.000000\n",
       "75%         9.000000\n",
       "max        22.000000\n",
       "Name: total_turns, dtype: float64"
      ]
     },
     "execution_count": 4,
     "metadata": {},
     "output_type": "execute_result"
    }
   ],
   "source": [
    "kage_dialogue2len_df = pd.read_csv(kage_dialogue2len_path)\n",
    "# display(kage_dialogue2len_df)\n",
    "kage_dialogue2len_df['total_turns'].describe()"
   ]
  },
  {
   "cell_type": "markdown",
   "metadata": {},
   "source": [
    "Min, Max, and Avergae number of turns per dialogue in MWZ2.0"
   ]
  },
  {
   "cell_type": "code",
   "execution_count": 5,
   "metadata": {},
   "outputs": [
    {
     "data": {
      "text/plain": [
       "count    7901.000000\n",
       "mean        6.966587\n",
       "std         2.588367\n",
       "min         1.000000\n",
       "25%         5.000000\n",
       "50%         7.000000\n",
       "75%         9.000000\n",
       "max        22.000000\n",
       "Name: total_turns, dtype: float64"
      ]
     },
     "execution_count": 5,
     "metadata": {},
     "output_type": "execute_result"
    }
   ],
   "source": [
    "pptod_dialogue2len_df = pd.read_csv(pptod_dialogue2len_path)\n",
    "# display(pptod_dialogue2len_df)\n",
    "pptod_dialogue2len_df['total_turns'].describe()"
   ]
  },
  {
   "cell_type": "markdown",
   "metadata": {},
   "source": [
    "## Path of MWZ20/21 KAGE"
   ]
  },
  {
   "cell_type": "code",
   "execution_count": 6,
   "metadata": {},
   "outputs": [],
   "source": [
    "acc_path_list = [\n",
    "    # Max Entropy\n",
    "    './data/mwz20/KAGE/max_entropy/k2000/k2000_test_acc.csv',\n",
    "#     './data/mwz20/KAGE/max_entropy/k1500/k1500_test_acc.csv',\n",
    "#     './data/mwz20/KAGE/max_entropy/k1000/k1000_test_acc.csv',\n",
    "#     './data/mwz20/KAGE/max_entropy/k500/k500_test_acc.csv',\n",
    "    \n",
    "    # Least Confidence\n",
    "    './data/mwz20/KAGE/least_confidence/k2000/k2000_test_acc.csv',\n",
    "#     './data/mwz20/KAGE/least_confidence/k1500/k1500_test_acc.csv',\n",
    "#     './data/mwz20/KAGE/least_confidence/k1000/k1000_test_acc.csv',\n",
    "#     './data/mwz20/KAGE/least_confidence/k500/k500_test_acc.csv',\n",
    "    \n",
    "    # Random\n",
    "    './data/mwz20/KAGE/random/k2000/k2000_test_acc.csv',\n",
    "#     './data/mwz20/KAGE/random/k1500/k1500_test_acc.csv',\n",
    "#     './data/mwz20/KAGE/random/k1000/k1000_test_acc.csv',\n",
    "#     './data/mwz20/KAGE/random/k500/k500_test_acc.csv',\n",
    "    \n",
    "    ######################################################\n",
    "    \n",
    "    # Max Entropy\n",
    "    './data/mwz21/KAGE/max_entropy/k2000/k2000_test_acc.csv',\n",
    "    \n",
    "    # Least Confidence\n",
    "    './data/mwz21/KAGE/least_confidence/k2000/k2000_test_acc.csv',\n",
    "    \n",
    "    # Random\n",
    "    './data/mwz21/KAGE/random/k2000/k2000_test_acc.csv',\n",
    "    \n",
    "    ######################################################\n",
    "    \n",
    "    # Max Entropy\n",
    "    './data/mwz20/PPTOD/max_entropy/k2000/k2000_test_acc.csv',\n",
    "    \n",
    "    # Least Confidence\n",
    "    './data/mwz20/PPTOD/least_confidence/k2000/k2000_test_acc.csv',\n",
    "    \n",
    "    # Random\n",
    "    './data/mwz20/PPTOD/random/k2000/k2000_test_acc.csv',\n",
    "    \n",
    "    ######################################################\n",
    "    \n",
    "#     # Max Entropy\n",
    "#     './data/mwz21/PPTOD/max_entropy/k2000/k2000_test_acc.csv',\n",
    "    \n",
    "#     # Least Confidence\n",
    "#     './data/mwz21/PPTOD/least_confidence/k2000/k2000_test_acc.csv',\n",
    "    \n",
    "#     # Random\n",
    "    './data/mwz21/PPTOD/random/k2000/k2000_test_acc.csv',\n",
    "\n",
    "]"
   ]
  },
  {
   "cell_type": "code",
   "execution_count": 7,
   "metadata": {},
   "outputs": [],
   "source": [
    "def add_data_size_col(df, test_acc_csv_path):\n",
    "    # add number of instances\n",
    "    if '2000' in test_acc_csv_path:\n",
    "        df['# of labelled dialogue turns'] = df['round'] * 2000 + 2000\n",
    "    elif '1500' in test_acc_csv_path:\n",
    "        df['# of labelled dialogue turns'] = df['round'] * 1500 + 1500\n",
    "    elif '1000' in test_acc_csv_path:\n",
    "        df['# of labelled dialogue turns'] = df['round'] * 1000 + 1000\n",
    "    elif '500' in test_acc_csv_path:\n",
    "        df['# of labelled dialogue turns'] = df['round'] * 500 + 500\n",
    "    elif '100' in test_acc_csv_path:\n",
    "        df['# of labelled dialogue turns'] = df['round'] * 100 + 100\n",
    "    \n",
    "    df['# of labelled dialogue turns'] = df['# of labelled dialogue turns'].apply(lambda x: 7888 if x > 7888 else x)\n",
    "    \n",
    "    return df"
   ]
  },
  {
   "cell_type": "code",
   "execution_count": 8,
   "metadata": {},
   "outputs": [],
   "source": [
    "def get_mean_std_acc_by_path(test_acc_csv_path):\n",
    "    '''\n",
    "    Get mean and std of acc\n",
    "    '''\n",
    "    \n",
    "    df = pd.read_csv(test_acc_csv_path)\n",
    "    df = add_data_size_col(df, test_acc_csv_path)\n",
    "    \n",
    "    if 'PPTOD' in test_acc_csv_path:\n",
    "        # for PPTOD, divide by 100\n",
    "        df['test_joint_acc'] = df['test_joint_acc'] / 100\n",
    "        display(df.groupby('round')[['test_joint_acc']].mean())\n",
    "        display(df.groupby('round')[['test_joint_acc']].std(ddof=0))\n",
    "    else:\n",
    "        display(df.groupby('round')[['test_joint_acc', 'test_slot_acc']].mean())\n",
    "        display(df.groupby('round')[['test_joint_acc', 'test_slot_acc']].std(ddof=0))\n",
    "    #     display(df)"
   ]
  },
  {
   "cell_type": "code",
   "execution_count": null,
   "metadata": {},
   "outputs": [],
   "source": []
  },
  {
   "cell_type": "markdown",
   "metadata": {},
   "source": [
    "## Plot"
   ]
  },
  {
   "cell_type": "code",
   "execution_count": 9,
   "metadata": {},
   "outputs": [],
   "source": [
    "# Make sure the colors run in cycles if there are more lines than colors\n",
    "def next_col(cols):\n",
    "    while True:\n",
    "        for col in cols:\n",
    "            yield col"
   ]
  },
  {
   "cell_type": "code",
   "execution_count": 10,
   "metadata": {},
   "outputs": [],
   "source": [
    "def get_colCycle():\n",
    "    # define colors as a list \n",
    "    colors = px.colors.qualitative.Plotly\n",
    "\n",
    "    # convert plotly hex colors to rgba to enable transparency adjustments\n",
    "    def hex_rgba(hex, transparency):\n",
    "        col_hex = hex.lstrip('#')\n",
    "        col_rgb = list(int(col_hex[i:i+2], 16) for i in (0, 2, 4))\n",
    "        col_rgb.extend([transparency])\n",
    "        areacol = tuple(col_rgb)\n",
    "        return areacol\n",
    "\n",
    "    # rgba = [hex_rgba(c, transparency=0.2) for c in colors]\n",
    "    rgba = [hex_rgba(c, transparency=0.3) for c in colors]\n",
    "    colCycle = ['rgba'+str(elem) for elem in rgba]\n",
    "\n",
    "#     print(colCycle)\n",
    "    \n",
    "    return colCycle"
   ]
  },
  {
   "cell_type": "code",
   "execution_count": 11,
   "metadata": {},
   "outputs": [],
   "source": [
    "def plot_joint_acc_by_round(df_list, strategy_list, baselines):\n",
    "    \n",
    "    full_baseline, lt_baseline, rand_baseline = baselines\n",
    "    \n",
    "    if full_baseline == 0:\n",
    "        not_full_line = True\n",
    "    else:\n",
    "        not_full_line = False\n",
    "    \n",
    "    fig = go.Figure()\n",
    "    \n",
    "    colCycle = get_colCycle()\n",
    "    line_color=next_col(cols=colCycle)\n",
    "    \n",
    "    \n",
    "    for i, df in enumerate(df_list):\n",
    "    \n",
    "        y_upper = list(df[\"test_joint_acc\"] + df[\"joint_acc_std\"])\n",
    "        y_lower = list(df[\"test_joint_acc\"] - df[\"joint_acc_std\"])\n",
    "        y_lower = y_lower[::-1]\n",
    "\n",
    "        x_std = list(df[\"# of labelled dialogue turns\"])\n",
    "        x_std = x_std + x_std[::-1]\n",
    "\n",
    "        new_col = next(line_color)\n",
    "        \n",
    "        fig.add_trace(\n",
    "            go.Scatter(\n",
    "                x=x_std, \n",
    "                y=y_upper + y_lower, \n",
    "                fill='tozerox',\n",
    "                fillcolor=new_col,\n",
    "                line=dict(color='rgba(255,255,255,0)'),\n",
    "                name=strategy_list[i],\n",
    "                mode=\"lines\",\n",
    "                showlegend=False,\n",
    "            )\n",
    "        )\n",
    "\n",
    "        fig.add_trace(\n",
    "            go.Scatter(\n",
    "                x=df[\"# of labelled dialogue turns\"], \n",
    "                y=df[\"test_joint_acc\"], \n",
    "                line=dict(color=new_col, width=3),\n",
    "                mode=\"lines+markers\",\n",
    "                name=strategy_list[i]\n",
    "            )\n",
    "        )\n",
    "        \n",
    "        # Last Turn\n",
    "        fig.add_hline(\n",
    "            y=lt_baseline, \n",
    "            line_width=1, \n",
    "            line_dash=\"dot\", # dash\n",
    "            line_color=\"green\",\n",
    "            annotation_text=\"Last Turn(14.4%)\", \n",
    "            annotation_position=\"top left\",\n",
    "        )\n",
    "        \n",
    "        if not not_full_line:\n",
    "            # Full Data\n",
    "            fig.add_hline(\n",
    "                y=full_baseline, \n",
    "                line_width=1, \n",
    "                line_dash=\"dot\", # dash\n",
    "                line_color=\"red\",\n",
    "                annotation_text=\"Full Data(100%)\", \n",
    "                annotation_position=\"top left\"\n",
    "            )\n",
    "        \n",
    "    \n",
    "    \n",
    "    fig.update_xaxes(type='category')\n",
    "    fig.update_layout(\n",
    "        yaxis_range=[0.2, 0.6],\n",
    "#         title=\"Plot Title\",\n",
    "#         legend_title=\"Legend Title\",\n",
    "        xaxis_title=\"# of labelled dialogue turns\",\n",
    "        yaxis_title=\"Joint Goal Accuracy\",\n",
    "#         font=dict(\n",
    "#             family=\"Courier New, monospace\",\n",
    "#             size=18,\n",
    "#             color=\"RebeccaPurple\"\n",
    "#         )\n",
    "    )\n",
    "    \n",
    "#     fig.update_traces(textposition=\"top center\")\n",
    "    \n",
    "#     fig.show()\n",
    "    return fig"
   ]
  },
  {
   "cell_type": "code",
   "execution_count": 12,
   "metadata": {},
   "outputs": [],
   "source": [
    "def make_merged_df_for_plotting(test_acc_csv_path):\n",
    "    acc_df = pd.read_csv(test_acc_csv_path)\n",
    "    \n",
    "    if 'PPTOD' in test_acc_csv_path:\n",
    "        # for PPTOD, divide by 100\n",
    "        acc_df['test_joint_acc'] = acc_df['test_joint_acc'] / 100\n",
    "\n",
    "        mean = acc_df.groupby('round')[['test_joint_acc']].mean().reset_index()\n",
    "        std = acc_df.groupby('round')[['test_joint_acc']].std(ddof=0).reset_index()\n",
    "        std = std.rename(columns={\n",
    "            'test_joint_acc': 'joint_acc_std'\n",
    "        })\n",
    "    else:\n",
    "        mean = acc_df.groupby('round')[['test_joint_acc', 'test_slot_acc']].mean().reset_index()\n",
    "        std = acc_df.groupby('round')[['test_joint_acc', 'test_slot_acc']].std(ddof=0).reset_index()\n",
    "        std = std.rename(columns={\n",
    "            'test_joint_acc': 'joint_acc_std',\n",
    "            'test_slot_acc': 'slot_acc_std'\n",
    "        })\n",
    "    \n",
    "#     display(mean)\n",
    "#     display(std)\n",
    "    \n",
    "    merged = pd.merge(mean, std, on='round')\n",
    "    merged = add_data_size_col(merged, test_acc_csv_path)\n",
    "    \n",
    "    return merged"
   ]
  },
  {
   "cell_type": "code",
   "execution_count": 13,
   "metadata": {},
   "outputs": [],
   "source": [
    "def prepare_subplot_inputs(k, mwz, model):\n",
    "    \n",
    "    strategies = ['random', 'least_confidence', 'max_entropy']\n",
    "    strategy_list = ['RS', 'LC', 'ME']\n",
    "    \n",
    "    baselines = []\n",
    "    # [full, last_turn, random]\n",
    "    if model == 'KAGE':\n",
    "        if mwz == 20:\n",
    "            baselines = [0.5486, 0.5043, 0.4937]\n",
    "        elif mwz == 21:\n",
    "            baselines = [0, 0.4912, 0.4898]\n",
    "    elif model == 'PPTOD':\n",
    "        if mwz == 20:\n",
    "            baselines = [0.5337, 0.4383, 0.4461]\n",
    "        elif mwz == 21:\n",
    "            baselines = [0.5710, 0.4594, 0.4721]\n",
    "    \n",
    "    df_list = []\n",
    "    for strategy in strategies:\n",
    "        acc_csv_path = f'./data/mwz{mwz}/{model}/{strategy}/k{k}/k{k}_test_acc.csv'\n",
    "        print(f'============== {acc_csv_path} ==============')\n",
    "\n",
    "        df = make_merged_df_for_plotting(acc_csv_path)\n",
    "        display(df)\n",
    "\n",
    "        df_list.append(df)\n",
    "\n",
    "\n",
    "    print(f'baselines: {baselines}')\n",
    "    \n",
    "    return df_list, strategy_list, baselines"
   ]
  },
  {
   "cell_type": "code",
   "execution_count": 14,
   "metadata": {
    "scrolled": false
   },
   "outputs": [
    {
     "name": "stdout",
     "output_type": "stream",
     "text": [
      "============== ./data/mwz20/KAGE/random/k2000/k2000_test_acc.csv ==============\n"
     ]
    },
    {
     "data": {
      "text/html": [
       "<div>\n",
       "<style scoped>\n",
       "    .dataframe tbody tr th:only-of-type {\n",
       "        vertical-align: middle;\n",
       "    }\n",
       "\n",
       "    .dataframe tbody tr th {\n",
       "        vertical-align: top;\n",
       "    }\n",
       "\n",
       "    .dataframe thead th {\n",
       "        text-align: right;\n",
       "    }\n",
       "</style>\n",
       "<table border=\"1\" class=\"dataframe\">\n",
       "  <thead>\n",
       "    <tr style=\"text-align: right;\">\n",
       "      <th></th>\n",
       "      <th>round</th>\n",
       "      <th>test_joint_acc</th>\n",
       "      <th>test_slot_acc</th>\n",
       "      <th>joint_acc_std</th>\n",
       "      <th>slot_acc_std</th>\n",
       "      <th># of labelled dialogue turns</th>\n",
       "    </tr>\n",
       "  </thead>\n",
       "  <tbody>\n",
       "    <tr>\n",
       "      <th>0</th>\n",
       "      <td>0</td>\n",
       "      <td>0.425258</td>\n",
       "      <td>0.961175</td>\n",
       "      <td>0.007732</td>\n",
       "      <td>0.000843</td>\n",
       "      <td>2000</td>\n",
       "    </tr>\n",
       "    <tr>\n",
       "      <th>1</th>\n",
       "      <td>1</td>\n",
       "      <td>0.459237</td>\n",
       "      <td>0.966656</td>\n",
       "      <td>0.001696</td>\n",
       "      <td>0.000007</td>\n",
       "      <td>4000</td>\n",
       "    </tr>\n",
       "    <tr>\n",
       "      <th>2</th>\n",
       "      <td>2</td>\n",
       "      <td>0.488606</td>\n",
       "      <td>0.969459</td>\n",
       "      <td>0.008681</td>\n",
       "      <td>0.000228</td>\n",
       "      <td>6000</td>\n",
       "    </tr>\n",
       "    <tr>\n",
       "      <th>3</th>\n",
       "      <td>3</td>\n",
       "      <td>0.503663</td>\n",
       "      <td>0.971113</td>\n",
       "      <td>0.005154</td>\n",
       "      <td>0.000644</td>\n",
       "      <td>7888</td>\n",
       "    </tr>\n",
       "  </tbody>\n",
       "</table>\n",
       "</div>"
      ],
      "text/plain": [
       "   round  test_joint_acc  test_slot_acc  joint_acc_std  slot_acc_std  \\\n",
       "0      0        0.425258       0.961175       0.007732      0.000843   \n",
       "1      1        0.459237       0.966656       0.001696      0.000007   \n",
       "2      2        0.488606       0.969459       0.008681      0.000228   \n",
       "3      3        0.503663       0.971113       0.005154      0.000644   \n",
       "\n",
       "   # of labelled dialogue turns  \n",
       "0                          2000  \n",
       "1                          4000  \n",
       "2                          6000  \n",
       "3                          7888  "
      ]
     },
     "metadata": {},
     "output_type": "display_data"
    },
    {
     "name": "stdout",
     "output_type": "stream",
     "text": [
      "============== ./data/mwz20/KAGE/least_confidence/k2000/k2000_test_acc.csv ==============\n"
     ]
    },
    {
     "data": {
      "text/html": [
       "<div>\n",
       "<style scoped>\n",
       "    .dataframe tbody tr th:only-of-type {\n",
       "        vertical-align: middle;\n",
       "    }\n",
       "\n",
       "    .dataframe tbody tr th {\n",
       "        vertical-align: top;\n",
       "    }\n",
       "\n",
       "    .dataframe thead th {\n",
       "        text-align: right;\n",
       "    }\n",
       "</style>\n",
       "<table border=\"1\" class=\"dataframe\">\n",
       "  <thead>\n",
       "    <tr style=\"text-align: right;\">\n",
       "      <th></th>\n",
       "      <th>round</th>\n",
       "      <th>test_joint_acc</th>\n",
       "      <th>test_slot_acc</th>\n",
       "      <th>joint_acc_std</th>\n",
       "      <th>slot_acc_std</th>\n",
       "      <th># of labelled dialogue turns</th>\n",
       "    </tr>\n",
       "  </thead>\n",
       "  <tbody>\n",
       "    <tr>\n",
       "      <th>0</th>\n",
       "      <td>0</td>\n",
       "      <td>0.376356</td>\n",
       "      <td>0.947755</td>\n",
       "      <td>0.072233</td>\n",
       "      <td>0.016339</td>\n",
       "      <td>2000</td>\n",
       "    </tr>\n",
       "    <tr>\n",
       "      <th>1</th>\n",
       "      <td>1</td>\n",
       "      <td>0.471175</td>\n",
       "      <td>0.967464</td>\n",
       "      <td>0.010377</td>\n",
       "      <td>0.001581</td>\n",
       "      <td>4000</td>\n",
       "    </tr>\n",
       "    <tr>\n",
       "      <th>2</th>\n",
       "      <td>2</td>\n",
       "      <td>0.487521</td>\n",
       "      <td>0.969556</td>\n",
       "      <td>0.006104</td>\n",
       "      <td>0.000850</td>\n",
       "      <td>6000</td>\n",
       "    </tr>\n",
       "    <tr>\n",
       "      <th>3</th>\n",
       "      <td>3</td>\n",
       "      <td>0.505629</td>\n",
       "      <td>0.971027</td>\n",
       "      <td>0.000746</td>\n",
       "      <td>0.000083</td>\n",
       "      <td>7888</td>\n",
       "    </tr>\n",
       "  </tbody>\n",
       "</table>\n",
       "</div>"
      ],
      "text/plain": [
       "   round  test_joint_acc  test_slot_acc  joint_acc_std  slot_acc_std  \\\n",
       "0      0        0.376356       0.947755       0.072233      0.016339   \n",
       "1      1        0.471175       0.967464       0.010377      0.001581   \n",
       "2      2        0.487521       0.969556       0.006104      0.000850   \n",
       "3      3        0.505629       0.971027       0.000746      0.000083   \n",
       "\n",
       "   # of labelled dialogue turns  \n",
       "0                          2000  \n",
       "1                          4000  \n",
       "2                          6000  \n",
       "3                          7888  "
      ]
     },
     "metadata": {},
     "output_type": "display_data"
    },
    {
     "name": "stdout",
     "output_type": "stream",
     "text": [
      "============== ./data/mwz20/KAGE/max_entropy/k2000/k2000_test_acc.csv ==============\n"
     ]
    },
    {
     "data": {
      "text/html": [
       "<div>\n",
       "<style scoped>\n",
       "    .dataframe tbody tr th:only-of-type {\n",
       "        vertical-align: middle;\n",
       "    }\n",
       "\n",
       "    .dataframe tbody tr th {\n",
       "        vertical-align: top;\n",
       "    }\n",
       "\n",
       "    .dataframe thead th {\n",
       "        text-align: right;\n",
       "    }\n",
       "</style>\n",
       "<table border=\"1\" class=\"dataframe\">\n",
       "  <thead>\n",
       "    <tr style=\"text-align: right;\">\n",
       "      <th></th>\n",
       "      <th>round</th>\n",
       "      <th>test_joint_acc</th>\n",
       "      <th>test_slot_acc</th>\n",
       "      <th>joint_acc_std</th>\n",
       "      <th>slot_acc_std</th>\n",
       "      <th># of labelled dialogue turns</th>\n",
       "    </tr>\n",
       "  </thead>\n",
       "  <tbody>\n",
       "    <tr>\n",
       "      <th>0</th>\n",
       "      <td>0</td>\n",
       "      <td>0.405770</td>\n",
       "      <td>0.959173</td>\n",
       "      <td>0.022105</td>\n",
       "      <td>0.004563</td>\n",
       "      <td>2000</td>\n",
       "    </tr>\n",
       "    <tr>\n",
       "      <th>1</th>\n",
       "      <td>1</td>\n",
       "      <td>0.469479</td>\n",
       "      <td>0.967684</td>\n",
       "      <td>0.005184</td>\n",
       "      <td>0.000304</td>\n",
       "      <td>4000</td>\n",
       "    </tr>\n",
       "    <tr>\n",
       "      <th>2</th>\n",
       "      <td>2</td>\n",
       "      <td>0.508410</td>\n",
       "      <td>0.971095</td>\n",
       "      <td>0.003771</td>\n",
       "      <td>0.000258</td>\n",
       "      <td>6000</td>\n",
       "    </tr>\n",
       "    <tr>\n",
       "      <th>3</th>\n",
       "      <td>3</td>\n",
       "      <td>0.513384</td>\n",
       "      <td>0.971557</td>\n",
       "      <td>0.005040</td>\n",
       "      <td>0.000552</td>\n",
       "      <td>7888</td>\n",
       "    </tr>\n",
       "  </tbody>\n",
       "</table>\n",
       "</div>"
      ],
      "text/plain": [
       "   round  test_joint_acc  test_slot_acc  joint_acc_std  slot_acc_std  \\\n",
       "0      0        0.405770       0.959173       0.022105      0.004563   \n",
       "1      1        0.469479       0.967684       0.005184      0.000304   \n",
       "2      2        0.508410       0.971095       0.003771      0.000258   \n",
       "3      3        0.513384       0.971557       0.005040      0.000552   \n",
       "\n",
       "   # of labelled dialogue turns  \n",
       "0                          2000  \n",
       "1                          4000  \n",
       "2                          6000  \n",
       "3                          7888  "
      ]
     },
     "metadata": {},
     "output_type": "display_data"
    },
    {
     "name": "stdout",
     "output_type": "stream",
     "text": [
      "baselines: [0.5486, 0.5043, 0.4937]\n",
      "============== ./data/mwz21/KAGE/random/k2000/k2000_test_acc.csv ==============\n"
     ]
    },
    {
     "data": {
      "text/html": [
       "<div>\n",
       "<style scoped>\n",
       "    .dataframe tbody tr th:only-of-type {\n",
       "        vertical-align: middle;\n",
       "    }\n",
       "\n",
       "    .dataframe tbody tr th {\n",
       "        vertical-align: top;\n",
       "    }\n",
       "\n",
       "    .dataframe thead th {\n",
       "        text-align: right;\n",
       "    }\n",
       "</style>\n",
       "<table border=\"1\" class=\"dataframe\">\n",
       "  <thead>\n",
       "    <tr style=\"text-align: right;\">\n",
       "      <th></th>\n",
       "      <th>round</th>\n",
       "      <th>test_joint_acc</th>\n",
       "      <th>test_slot_acc</th>\n",
       "      <th>joint_acc_std</th>\n",
       "      <th>slot_acc_std</th>\n",
       "      <th># of labelled dialogue turns</th>\n",
       "    </tr>\n",
       "  </thead>\n",
       "  <tbody>\n",
       "    <tr>\n",
       "      <th>0</th>\n",
       "      <td>0</td>\n",
       "      <td>0.403434</td>\n",
       "      <td>0.959932</td>\n",
       "      <td>0.006718</td>\n",
       "      <td>0.000866</td>\n",
       "      <td>2000</td>\n",
       "    </tr>\n",
       "    <tr>\n",
       "      <th>1</th>\n",
       "      <td>1</td>\n",
       "      <td>0.452022</td>\n",
       "      <td>0.966031</td>\n",
       "      <td>0.002375</td>\n",
       "      <td>0.000346</td>\n",
       "      <td>4000</td>\n",
       "    </tr>\n",
       "    <tr>\n",
       "      <th>2</th>\n",
       "      <td>2</td>\n",
       "      <td>0.459894</td>\n",
       "      <td>0.967585</td>\n",
       "      <td>0.004954</td>\n",
       "      <td>0.000018</td>\n",
       "      <td>6000</td>\n",
       "    </tr>\n",
       "    <tr>\n",
       "      <th>3</th>\n",
       "      <td>3</td>\n",
       "      <td>0.469802</td>\n",
       "      <td>0.968149</td>\n",
       "      <td>0.006447</td>\n",
       "      <td>0.000744</td>\n",
       "      <td>7888</td>\n",
       "    </tr>\n",
       "  </tbody>\n",
       "</table>\n",
       "</div>"
      ],
      "text/plain": [
       "   round  test_joint_acc  test_slot_acc  joint_acc_std  slot_acc_std  \\\n",
       "0      0        0.403434       0.959932       0.006718      0.000866   \n",
       "1      1        0.452022       0.966031       0.002375      0.000346   \n",
       "2      2        0.459894       0.967585       0.004954      0.000018   \n",
       "3      3        0.469802       0.968149       0.006447      0.000744   \n",
       "\n",
       "   # of labelled dialogue turns  \n",
       "0                          2000  \n",
       "1                          4000  \n",
       "2                          6000  \n",
       "3                          7888  "
      ]
     },
     "metadata": {},
     "output_type": "display_data"
    },
    {
     "name": "stdout",
     "output_type": "stream",
     "text": [
      "============== ./data/mwz21/KAGE/least_confidence/k2000/k2000_test_acc.csv ==============\n"
     ]
    },
    {
     "data": {
      "text/html": [
       "<div>\n",
       "<style scoped>\n",
       "    .dataframe tbody tr th:only-of-type {\n",
       "        vertical-align: middle;\n",
       "    }\n",
       "\n",
       "    .dataframe tbody tr th {\n",
       "        vertical-align: top;\n",
       "    }\n",
       "\n",
       "    .dataframe thead th {\n",
       "        text-align: right;\n",
       "    }\n",
       "</style>\n",
       "<table border=\"1\" class=\"dataframe\">\n",
       "  <thead>\n",
       "    <tr style=\"text-align: right;\">\n",
       "      <th></th>\n",
       "      <th>round</th>\n",
       "      <th>test_joint_acc</th>\n",
       "      <th>test_slot_acc</th>\n",
       "      <th>joint_acc_std</th>\n",
       "      <th>slot_acc_std</th>\n",
       "      <th># of labelled dialogue turns</th>\n",
       "    </tr>\n",
       "  </thead>\n",
       "  <tbody>\n",
       "    <tr>\n",
       "      <th>0</th>\n",
       "      <td>0</td>\n",
       "      <td>0.403840</td>\n",
       "      <td>0.960799</td>\n",
       "      <td>0.005632</td>\n",
       "      <td>0.001746</td>\n",
       "      <td>2000</td>\n",
       "    </tr>\n",
       "    <tr>\n",
       "      <th>1</th>\n",
       "      <td>1</td>\n",
       "      <td>0.467359</td>\n",
       "      <td>0.967581</td>\n",
       "      <td>0.004004</td>\n",
       "      <td>0.000475</td>\n",
       "      <td>4000</td>\n",
       "    </tr>\n",
       "    <tr>\n",
       "      <th>2</th>\n",
       "      <td>2</td>\n",
       "      <td>0.478081</td>\n",
       "      <td>0.969099</td>\n",
       "      <td>0.006447</td>\n",
       "      <td>0.000300</td>\n",
       "      <td>6000</td>\n",
       "    </tr>\n",
       "    <tr>\n",
       "      <th>3</th>\n",
       "      <td>3</td>\n",
       "      <td>0.481338</td>\n",
       "      <td>0.969406</td>\n",
       "      <td>0.001968</td>\n",
       "      <td>0.000020</td>\n",
       "      <td>7888</td>\n",
       "    </tr>\n",
       "  </tbody>\n",
       "</table>\n",
       "</div>"
      ],
      "text/plain": [
       "   round  test_joint_acc  test_slot_acc  joint_acc_std  slot_acc_std  \\\n",
       "0      0        0.403840       0.960799       0.005632      0.001746   \n",
       "1      1        0.467359       0.967581       0.004004      0.000475   \n",
       "2      2        0.478081       0.969099       0.006447      0.000300   \n",
       "3      3        0.481338       0.969406       0.001968      0.000020   \n",
       "\n",
       "   # of labelled dialogue turns  \n",
       "0                          2000  \n",
       "1                          4000  \n",
       "2                          6000  \n",
       "3                          7888  "
      ]
     },
     "metadata": {},
     "output_type": "display_data"
    },
    {
     "name": "stdout",
     "output_type": "stream",
     "text": [
      "============== ./data/mwz21/KAGE/max_entropy/k2000/k2000_test_acc.csv ==============\n"
     ]
    },
    {
     "data": {
      "text/html": [
       "<div>\n",
       "<style scoped>\n",
       "    .dataframe tbody tr th:only-of-type {\n",
       "        vertical-align: middle;\n",
       "    }\n",
       "\n",
       "    .dataframe tbody tr th {\n",
       "        vertical-align: top;\n",
       "    }\n",
       "\n",
       "    .dataframe thead th {\n",
       "        text-align: right;\n",
       "    }\n",
       "</style>\n",
       "<table border=\"1\" class=\"dataframe\">\n",
       "  <thead>\n",
       "    <tr style=\"text-align: right;\">\n",
       "      <th></th>\n",
       "      <th>round</th>\n",
       "      <th>test_joint_acc</th>\n",
       "      <th>test_slot_acc</th>\n",
       "      <th>joint_acc_std</th>\n",
       "      <th>slot_acc_std</th>\n",
       "      <th># of labelled dialogue turns</th>\n",
       "    </tr>\n",
       "  </thead>\n",
       "  <tbody>\n",
       "    <tr>\n",
       "      <th>0</th>\n",
       "      <td>0</td>\n",
       "      <td>0.386537</td>\n",
       "      <td>0.957480</td>\n",
       "      <td>0.011943</td>\n",
       "      <td>0.002508</td>\n",
       "      <td>2000</td>\n",
       "    </tr>\n",
       "    <tr>\n",
       "      <th>1</th>\n",
       "      <td>1</td>\n",
       "      <td>0.457723</td>\n",
       "      <td>0.966246</td>\n",
       "      <td>0.004682</td>\n",
       "      <td>0.000167</td>\n",
       "      <td>4000</td>\n",
       "    </tr>\n",
       "    <tr>\n",
       "      <th>2</th>\n",
       "      <td>2</td>\n",
       "      <td>0.478963</td>\n",
       "      <td>0.968585</td>\n",
       "      <td>0.006786</td>\n",
       "      <td>0.000507</td>\n",
       "      <td>6000</td>\n",
       "    </tr>\n",
       "    <tr>\n",
       "      <th>3</th>\n",
       "      <td>3</td>\n",
       "      <td>0.499865</td>\n",
       "      <td>0.971259</td>\n",
       "      <td>0.010994</td>\n",
       "      <td>0.001018</td>\n",
       "      <td>7888</td>\n",
       "    </tr>\n",
       "  </tbody>\n",
       "</table>\n",
       "</div>"
      ],
      "text/plain": [
       "   round  test_joint_acc  test_slot_acc  joint_acc_std  slot_acc_std  \\\n",
       "0      0        0.386537       0.957480       0.011943      0.002508   \n",
       "1      1        0.457723       0.966246       0.004682      0.000167   \n",
       "2      2        0.478963       0.968585       0.006786      0.000507   \n",
       "3      3        0.499865       0.971259       0.010994      0.001018   \n",
       "\n",
       "   # of labelled dialogue turns  \n",
       "0                          2000  \n",
       "1                          4000  \n",
       "2                          6000  \n",
       "3                          7888  "
      ]
     },
     "metadata": {},
     "output_type": "display_data"
    },
    {
     "name": "stdout",
     "output_type": "stream",
     "text": [
      "baselines: [0, 0.4912, 0.4898]\n",
      "============== ./data/mwz20/PPTOD/random/k2000/k2000_test_acc.csv ==============\n"
     ]
    },
    {
     "data": {
      "text/html": [
       "<div>\n",
       "<style scoped>\n",
       "    .dataframe tbody tr th:only-of-type {\n",
       "        vertical-align: middle;\n",
       "    }\n",
       "\n",
       "    .dataframe tbody tr th {\n",
       "        vertical-align: top;\n",
       "    }\n",
       "\n",
       "    .dataframe thead th {\n",
       "        text-align: right;\n",
       "    }\n",
       "</style>\n",
       "<table border=\"1\" class=\"dataframe\">\n",
       "  <thead>\n",
       "    <tr style=\"text-align: right;\">\n",
       "      <th></th>\n",
       "      <th>round</th>\n",
       "      <th>test_joint_acc</th>\n",
       "      <th>joint_acc_std</th>\n",
       "      <th># of labelled dialogue turns</th>\n",
       "    </tr>\n",
       "  </thead>\n",
       "  <tbody>\n",
       "    <tr>\n",
       "      <th>0</th>\n",
       "      <td>0</td>\n",
       "      <td>0.382189</td>\n",
       "      <td>0.000068</td>\n",
       "      <td>2000</td>\n",
       "    </tr>\n",
       "    <tr>\n",
       "      <th>1</th>\n",
       "      <td>1</td>\n",
       "      <td>0.410201</td>\n",
       "      <td>0.013565</td>\n",
       "      <td>4000</td>\n",
       "    </tr>\n",
       "    <tr>\n",
       "      <th>2</th>\n",
       "      <td>2</td>\n",
       "      <td>0.430819</td>\n",
       "      <td>0.003527</td>\n",
       "      <td>6000</td>\n",
       "    </tr>\n",
       "    <tr>\n",
       "      <th>3</th>\n",
       "      <td>3</td>\n",
       "      <td>0.437127</td>\n",
       "      <td>0.008071</td>\n",
       "      <td>7888</td>\n",
       "    </tr>\n",
       "  </tbody>\n",
       "</table>\n",
       "</div>"
      ],
      "text/plain": [
       "   round  test_joint_acc  joint_acc_std  # of labelled dialogue turns\n",
       "0      0        0.382189       0.000068                          2000\n",
       "1      1        0.410201       0.013565                          4000\n",
       "2      2        0.430819       0.003527                          6000\n",
       "3      3        0.437127       0.008071                          7888"
      ]
     },
     "metadata": {},
     "output_type": "display_data"
    },
    {
     "name": "stdout",
     "output_type": "stream",
     "text": [
      "============== ./data/mwz20/PPTOD/least_confidence/k2000/k2000_test_acc.csv ==============\n"
     ]
    },
    {
     "data": {
      "text/html": [
       "<div>\n",
       "<style scoped>\n",
       "    .dataframe tbody tr th:only-of-type {\n",
       "        vertical-align: middle;\n",
       "    }\n",
       "\n",
       "    .dataframe tbody tr th {\n",
       "        vertical-align: top;\n",
       "    }\n",
       "\n",
       "    .dataframe thead th {\n",
       "        text-align: right;\n",
       "    }\n",
       "</style>\n",
       "<table border=\"1\" class=\"dataframe\">\n",
       "  <thead>\n",
       "    <tr style=\"text-align: right;\">\n",
       "      <th></th>\n",
       "      <th>round</th>\n",
       "      <th>test_joint_acc</th>\n",
       "      <th>joint_acc_std</th>\n",
       "      <th># of labelled dialogue turns</th>\n",
       "    </tr>\n",
       "  </thead>\n",
       "  <tbody>\n",
       "    <tr>\n",
       "      <th>0</th>\n",
       "      <td>0</td>\n",
       "      <td>0.354585</td>\n",
       "      <td>0.048833</td>\n",
       "      <td>2000</td>\n",
       "    </tr>\n",
       "    <tr>\n",
       "      <th>1</th>\n",
       "      <td>1</td>\n",
       "      <td>0.447165</td>\n",
       "      <td>0.010648</td>\n",
       "      <td>4000</td>\n",
       "    </tr>\n",
       "    <tr>\n",
       "      <th>2</th>\n",
       "      <td>2</td>\n",
       "      <td>0.451506</td>\n",
       "      <td>0.013497</td>\n",
       "      <td>6000</td>\n",
       "    </tr>\n",
       "    <tr>\n",
       "      <th>3</th>\n",
       "      <td>3</td>\n",
       "      <td>0.457949</td>\n",
       "      <td>0.003527</td>\n",
       "      <td>7888</td>\n",
       "    </tr>\n",
       "  </tbody>\n",
       "</table>\n",
       "</div>"
      ],
      "text/plain": [
       "   round  test_joint_acc  joint_acc_std  # of labelled dialogue turns\n",
       "0      0        0.354585       0.048833                          2000\n",
       "1      1        0.447165       0.010648                          4000\n",
       "2      2        0.451506       0.013497                          6000\n",
       "3      3        0.457949       0.003527                          7888"
      ]
     },
     "metadata": {},
     "output_type": "display_data"
    },
    {
     "name": "stdout",
     "output_type": "stream",
     "text": [
      "============== ./data/mwz20/PPTOD/max_entropy/k2000/k2000_test_acc.csv ==============\n"
     ]
    },
    {
     "data": {
      "text/html": [
       "<div>\n",
       "<style scoped>\n",
       "    .dataframe tbody tr th:only-of-type {\n",
       "        vertical-align: middle;\n",
       "    }\n",
       "\n",
       "    .dataframe tbody tr th {\n",
       "        vertical-align: top;\n",
       "    }\n",
       "\n",
       "    .dataframe thead th {\n",
       "        text-align: right;\n",
       "    }\n",
       "</style>\n",
       "<table border=\"1\" class=\"dataframe\">\n",
       "  <thead>\n",
       "    <tr style=\"text-align: right;\">\n",
       "      <th></th>\n",
       "      <th>round</th>\n",
       "      <th>test_joint_acc</th>\n",
       "      <th>joint_acc_std</th>\n",
       "      <th># of labelled dialogue turns</th>\n",
       "    </tr>\n",
       "  </thead>\n",
       "  <tbody>\n",
       "    <tr>\n",
       "      <th>0</th>\n",
       "      <td>0</td>\n",
       "      <td>0.375407</td>\n",
       "      <td>0.006172</td>\n",
       "      <td>2000</td>\n",
       "    </tr>\n",
       "    <tr>\n",
       "      <th>1</th>\n",
       "      <td>1</td>\n",
       "      <td>0.428039</td>\n",
       "      <td>0.008071</td>\n",
       "      <td>4000</td>\n",
       "    </tr>\n",
       "    <tr>\n",
       "      <th>2</th>\n",
       "      <td>2</td>\n",
       "      <td>0.457610</td>\n",
       "      <td>0.002374</td>\n",
       "      <td>6000</td>\n",
       "    </tr>\n",
       "    <tr>\n",
       "      <th>3</th>\n",
       "      <td>3</td>\n",
       "      <td>0.469208</td>\n",
       "      <td>0.007868</td>\n",
       "      <td>7888</td>\n",
       "    </tr>\n",
       "  </tbody>\n",
       "</table>\n",
       "</div>"
      ],
      "text/plain": [
       "   round  test_joint_acc  joint_acc_std  # of labelled dialogue turns\n",
       "0      0        0.375407       0.006172                          2000\n",
       "1      1        0.428039       0.008071                          4000\n",
       "2      2        0.457610       0.002374                          6000\n",
       "3      3        0.469208       0.007868                          7888"
      ]
     },
     "metadata": {},
     "output_type": "display_data"
    },
    {
     "name": "stdout",
     "output_type": "stream",
     "text": [
      "baselines: [0.5337, 0.4383, 0.4461]\n",
      "============== ./data/mwz21/PPTOD/random/k2000/k2000_test_acc.csv ==============\n"
     ]
    },
    {
     "data": {
      "text/html": [
       "<div>\n",
       "<style scoped>\n",
       "    .dataframe tbody tr th:only-of-type {\n",
       "        vertical-align: middle;\n",
       "    }\n",
       "\n",
       "    .dataframe tbody tr th {\n",
       "        vertical-align: top;\n",
       "    }\n",
       "\n",
       "    .dataframe thead th {\n",
       "        text-align: right;\n",
       "    }\n",
       "</style>\n",
       "<table border=\"1\" class=\"dataframe\">\n",
       "  <thead>\n",
       "    <tr style=\"text-align: right;\">\n",
       "      <th></th>\n",
       "      <th>round</th>\n",
       "      <th>test_joint_acc</th>\n",
       "      <th>joint_acc_std</th>\n",
       "      <th># of labelled dialogue turns</th>\n",
       "    </tr>\n",
       "  </thead>\n",
       "  <tbody>\n",
       "    <tr>\n",
       "      <th>0</th>\n",
       "      <td>0</td>\n",
       "      <td>0.388399</td>\n",
       "      <td>0.008480</td>\n",
       "      <td>2000</td>\n",
       "    </tr>\n",
       "    <tr>\n",
       "      <th>1</th>\n",
       "      <td>1</td>\n",
       "      <td>0.413094</td>\n",
       "      <td>0.000068</td>\n",
       "      <td>4000</td>\n",
       "    </tr>\n",
       "    <tr>\n",
       "      <th>2</th>\n",
       "      <td>2</td>\n",
       "      <td>0.463161</td>\n",
       "      <td>0.010109</td>\n",
       "      <td>6000</td>\n",
       "    </tr>\n",
       "    <tr>\n",
       "      <th>3</th>\n",
       "      <td>3</td>\n",
       "      <td>0.469607</td>\n",
       "      <td>0.001764</td>\n",
       "      <td>7888</td>\n",
       "    </tr>\n",
       "  </tbody>\n",
       "</table>\n",
       "</div>"
      ],
      "text/plain": [
       "   round  test_joint_acc  joint_acc_std  # of labelled dialogue turns\n",
       "0      0        0.388399       0.008480                          2000\n",
       "1      1        0.413094       0.000068                          4000\n",
       "2      2        0.463161       0.010109                          6000\n",
       "3      3        0.469607       0.001764                          7888"
      ]
     },
     "metadata": {},
     "output_type": "display_data"
    },
    {
     "name": "stdout",
     "output_type": "stream",
     "text": [
      "============== ./data/mwz21/PPTOD/least_confidence/k2000/k2000_test_acc.csv ==============\n"
     ]
    },
    {
     "data": {
      "text/html": [
       "<div>\n",
       "<style scoped>\n",
       "    .dataframe tbody tr th:only-of-type {\n",
       "        vertical-align: middle;\n",
       "    }\n",
       "\n",
       "    .dataframe tbody tr th {\n",
       "        vertical-align: top;\n",
       "    }\n",
       "\n",
       "    .dataframe thead th {\n",
       "        text-align: right;\n",
       "    }\n",
       "</style>\n",
       "<table border=\"1\" class=\"dataframe\">\n",
       "  <thead>\n",
       "    <tr style=\"text-align: right;\">\n",
       "      <th></th>\n",
       "      <th>round</th>\n",
       "      <th>test_joint_acc</th>\n",
       "      <th>joint_acc_std</th>\n",
       "      <th># of labelled dialogue turns</th>\n",
       "    </tr>\n",
       "  </thead>\n",
       "  <tbody>\n",
       "    <tr>\n",
       "      <th>0</th>\n",
       "      <td>0</td>\n",
       "      <td>0.394301</td>\n",
       "      <td>0.004206</td>\n",
       "      <td>2000</td>\n",
       "    </tr>\n",
       "    <tr>\n",
       "      <th>1</th>\n",
       "      <td>1</td>\n",
       "      <td>0.440706</td>\n",
       "      <td>0.003528</td>\n",
       "      <td>4000</td>\n",
       "    </tr>\n",
       "    <tr>\n",
       "      <th>2</th>\n",
       "      <td>2</td>\n",
       "      <td>0.463569</td>\n",
       "      <td>0.003596</td>\n",
       "      <td>6000</td>\n",
       "    </tr>\n",
       "    <tr>\n",
       "      <th>3</th>\n",
       "      <td>3</td>\n",
       "      <td>0.473745</td>\n",
       "      <td>0.003189</td>\n",
       "      <td>7888</td>\n",
       "    </tr>\n",
       "  </tbody>\n",
       "</table>\n",
       "</div>"
      ],
      "text/plain": [
       "   round  test_joint_acc  joint_acc_std  # of labelled dialogue turns\n",
       "0      0        0.394301       0.004206                          2000\n",
       "1      1        0.440706       0.003528                          4000\n",
       "2      2        0.463569       0.003596                          6000\n",
       "3      3        0.473745       0.003189                          7888"
      ]
     },
     "metadata": {},
     "output_type": "display_data"
    },
    {
     "name": "stdout",
     "output_type": "stream",
     "text": [
      "============== ./data/mwz21/PPTOD/max_entropy/k2000/k2000_test_acc.csv ==============\n"
     ]
    },
    {
     "data": {
      "text/html": [
       "<div>\n",
       "<style scoped>\n",
       "    .dataframe tbody tr th:only-of-type {\n",
       "        vertical-align: middle;\n",
       "    }\n",
       "\n",
       "    .dataframe tbody tr th {\n",
       "        vertical-align: top;\n",
       "    }\n",
       "\n",
       "    .dataframe thead th {\n",
       "        text-align: right;\n",
       "    }\n",
       "</style>\n",
       "<table border=\"1\" class=\"dataframe\">\n",
       "  <thead>\n",
       "    <tr style=\"text-align: right;\">\n",
       "      <th></th>\n",
       "      <th>round</th>\n",
       "      <th>test_joint_acc</th>\n",
       "      <th>joint_acc_std</th>\n",
       "      <th># of labelled dialogue turns</th>\n",
       "    </tr>\n",
       "  </thead>\n",
       "  <tbody>\n",
       "    <tr>\n",
       "      <th>0</th>\n",
       "      <td>0</td>\n",
       "      <td>0.340977</td>\n",
       "      <td>0.010312</td>\n",
       "      <td>2000</td>\n",
       "    </tr>\n",
       "    <tr>\n",
       "      <th>1</th>\n",
       "      <td>1</td>\n",
       "      <td>0.440638</td>\n",
       "      <td>0.007395</td>\n",
       "      <td>4000</td>\n",
       "    </tr>\n",
       "    <tr>\n",
       "      <th>2</th>\n",
       "      <td>2</td>\n",
       "      <td>0.479240</td>\n",
       "      <td>0.006784</td>\n",
       "      <td>6000</td>\n",
       "    </tr>\n",
       "    <tr>\n",
       "      <th>3</th>\n",
       "      <td>3</td>\n",
       "      <td>0.482090</td>\n",
       "      <td>0.010041</td>\n",
       "      <td>7888</td>\n",
       "    </tr>\n",
       "  </tbody>\n",
       "</table>\n",
       "</div>"
      ],
      "text/plain": [
       "   round  test_joint_acc  joint_acc_std  # of labelled dialogue turns\n",
       "0      0        0.340977       0.010312                          2000\n",
       "1      1        0.440638       0.007395                          4000\n",
       "2      2        0.479240       0.006784                          6000\n",
       "3      3        0.482090       0.010041                          7888"
      ]
     },
     "metadata": {},
     "output_type": "display_data"
    },
    {
     "name": "stdout",
     "output_type": "stream",
     "text": [
      "baselines: [0.571, 0.4594, 0.4721]\n"
     ]
    }
   ],
   "source": [
    "kage_mwz20_k2000 = prepare_subplot_inputs(2000, 20, 'KAGE')\n",
    "kage_mwz21_k2000 = prepare_subplot_inputs(2000, 21, 'KAGE')\n",
    "pptod_mwz20_k2000 = prepare_subplot_inputs(2000, 20, 'PPTOD')\n",
    "pptod_mwz21_k2000 = prepare_subplot_inputs(2000, 21, 'PPTOD')"
   ]
  },
  {
   "cell_type": "code",
   "execution_count": 21,
   "metadata": {},
   "outputs": [],
   "source": [
    "def plot_4_joint_acc_by_round(kage_mwz20_k2000, kage_mwz21_k2000, pptod_mwz20_k2000, pptod_mwz21_k2000):\n",
    "    \n",
    "    ################ 2 row x 2 col\n",
    "    \n",
    "    kage_mwz20_df_list, strategy_list, kage_mwz20_baselines = kage_mwz20_k2000\n",
    "    kage_mwz21_df_list, _, kage_mwz21_baselines = kage_mwz21_k2000\n",
    "    pptod_mwz20_df_list, _, pptod_mwz20_baselines = pptod_mwz20_k2000\n",
    "    pptod_mwz21_df_list, _, pptod_mwz21_baselines = pptod_mwz21_k2000\n",
    "    \n",
    "    \n",
    "    kage_mwz20_full_baseline, kage_mwz20_lt_baseline, kage_mwz20_rand_baseline = kage_mwz20_baselines\n",
    "    kage_mwz21_full_baseline, kage_mwz21_lt_baseline, kage_mwz21_rand_baseline = kage_mwz21_baselines\n",
    "    pptod_mwz20_full_baseline, pptod_mwz20_lt_baseline, pptod_mwz20_rand_baseline = pptod_mwz20_baselines\n",
    "    pptod_mwz21_full_baseline, pptod_mwz21_lt_baseline, pptod_mwz21_rand_baseline = pptod_mwz21_baselines\n",
    "    \n",
    "    \n",
    "#     fig = go.Figure()\n",
    "\n",
    "    fig = make_subplots(\n",
    "        rows=2, cols=2,\n",
    "        subplot_titles=(\n",
    "            \"KAGE-GPT2 on MultiWOZ 2.0\", \n",
    "            \"PPTOD_base on MultiWOZ 2.0\",\n",
    "            \"KAGE-GPT2 on MultiWOZ 2.1\", \n",
    "            \"PPTOD_base on MultiWOZ 2.1\",\n",
    "        ),\n",
    "        vertical_spacing=0.1,\n",
    "        horizontal_spacing=0.05,\n",
    "    )\n",
    "    \n",
    "    colCycle = get_colCycle()\n",
    "    line_color=next_col(cols=colCycle)\n",
    "    \n",
    "    ### KAGE MWZ20 ###\n",
    "    for i, df in enumerate(kage_mwz20_df_list):\n",
    "    \n",
    "        y_upper = list(df[\"test_joint_acc\"] + df[\"joint_acc_std\"])\n",
    "        y_lower = list(df[\"test_joint_acc\"] - df[\"joint_acc_std\"])\n",
    "        y_lower = y_lower[::-1]\n",
    "\n",
    "        x_std = list(df[\"# of labelled dialogue turns\"])\n",
    "        x_std = x_std + x_std[::-1]\n",
    "\n",
    "        new_col = next(line_color)\n",
    "        \n",
    "        fig.add_trace(\n",
    "            go.Scatter(\n",
    "                x=x_std, \n",
    "                y=y_upper + y_lower, \n",
    "                fill='tozerox',\n",
    "                fillcolor=new_col,\n",
    "                line=dict(color='rgba(255,255,255,0)'),\n",
    "                name=strategy_list[i],\n",
    "                mode=\"lines\",\n",
    "                showlegend=False,\n",
    "            ),\n",
    "            row=1, col=1\n",
    "        )\n",
    "\n",
    "        fig.add_trace(\n",
    "            go.Scatter(\n",
    "                x=df[\"# of labelled dialogue turns\"], \n",
    "                y=df[\"test_joint_acc\"], \n",
    "                line=dict(color=new_col, width=3),\n",
    "                mode=\"lines+markers\",\n",
    "                name=strategy_list[i],\n",
    "            ),\n",
    "            row=1, col=1\n",
    "        )\n",
    "        \n",
    "        # Last Turn\n",
    "        fig.add_hline(\n",
    "            y=kage_mwz20_lt_baseline, \n",
    "            line_width=1.5, \n",
    "            line_dash=\"dot\", # dash\n",
    "            line_color=\"green\",\n",
    "            annotation_text=\"Last Turn(14.4%)\", \n",
    "            annotation_position=\"top left\",\n",
    "            annotation_font_size=10,\n",
    "            annotation_font_color=\"rgba(98, 85, 92, 0.8)\",\n",
    "            row=1, col=1\n",
    "        )\n",
    "        \n",
    "        # Full Data\n",
    "        fig.add_hline(\n",
    "            y=kage_mwz20_full_baseline, \n",
    "            line_width=1.5, \n",
    "            line_dash=\"dot\", # dash\n",
    "            line_color=\"red\",\n",
    "            annotation_text=\"Full Data(100%)\", \n",
    "            annotation_position=\"top left\",\n",
    "            annotation_font_size=10,\n",
    "            annotation_font_color=\"rgba(98, 85, 92, 0.8)\",\n",
    "            row=1, col=1\n",
    "        )\n",
    "    \n",
    "    # reset\n",
    "    line_color=next_col(cols=colCycle)\n",
    "    ### KAGE MWZ21 ###\n",
    "    for i, df in enumerate(kage_mwz21_df_list):\n",
    "    \n",
    "        y_upper = list(df[\"test_joint_acc\"] + df[\"joint_acc_std\"])\n",
    "        y_lower = list(df[\"test_joint_acc\"] - df[\"joint_acc_std\"])\n",
    "        y_lower = y_lower[::-1]\n",
    "\n",
    "        x_std = list(df[\"# of labelled dialogue turns\"])\n",
    "        x_std = x_std + x_std[::-1]\n",
    "\n",
    "        new_col = next(line_color)\n",
    "        \n",
    "        fig.add_trace(\n",
    "            go.Scatter(\n",
    "                x=x_std, \n",
    "                y=y_upper + y_lower, \n",
    "                fill='tozerox',\n",
    "                fillcolor=new_col,\n",
    "                line=dict(color='rgba(255,255,255,0)'),\n",
    "#                 name=strategy_list[i],\n",
    "                mode=\"lines\",\n",
    "                showlegend=False,\n",
    "            ),\n",
    "            row=2, col=1\n",
    "        )\n",
    "\n",
    "        fig.add_trace(\n",
    "            go.Scatter(\n",
    "                x=df[\"# of labelled dialogue turns\"], \n",
    "                y=df[\"test_joint_acc\"], \n",
    "                line=dict(color=new_col, width=3),\n",
    "                mode=\"lines+markers\",\n",
    "                showlegend=False,\n",
    "#                 name=strategy_list[i],\n",
    "            ),\n",
    "            row=2, col=1\n",
    "        )\n",
    "        \n",
    "        # Last Turn\n",
    "        fig.add_hline(\n",
    "            y=kage_mwz21_lt_baseline, \n",
    "            line_width=1.5, \n",
    "            line_dash=\"dot\", # dash\n",
    "            line_color=\"green\",\n",
    "            annotation_text=\"Last Turn(14.4%)\", \n",
    "            annotation_position=\"top left\",\n",
    "            annotation_font_size=10,\n",
    "            annotation_font_color=\"rgba(98, 85, 92, 0.8)\",\n",
    "            row=2, col=1\n",
    "        )\n",
    "        \n",
    "#         # Full Data\n",
    "#         fig.add_hline(\n",
    "#             y=kage_mwz21_full_baseline, \n",
    "#             line_width=1, \n",
    "#             line_dash=\"dot\", # dash\n",
    "#             line_color=\"red\",\n",
    "#             annotation_text=\"Full Data(100%)\", \n",
    "#             annotation_position=\"top left\",\n",
    "#             row=1, col=2\n",
    "#         )\n",
    "            \n",
    "    # reset\n",
    "    line_color=next_col(cols=colCycle)\n",
    "    ### PPTOD MWZ20 ###\n",
    "    for i, df in enumerate(pptod_mwz20_df_list):\n",
    "    \n",
    "        y_upper = list(df[\"test_joint_acc\"] + df[\"joint_acc_std\"])\n",
    "        y_lower = list(df[\"test_joint_acc\"] - df[\"joint_acc_std\"])\n",
    "        y_lower = y_lower[::-1]\n",
    "\n",
    "        x_std = list(df[\"# of labelled dialogue turns\"])\n",
    "        x_std = x_std + x_std[::-1]\n",
    "\n",
    "        new_col = next(line_color)\n",
    "        \n",
    "        fig.add_trace(\n",
    "            go.Scatter(\n",
    "                x=x_std, \n",
    "                y=y_upper + y_lower, \n",
    "                fill='tozerox',\n",
    "                fillcolor=new_col,\n",
    "                line=dict(color='rgba(255,255,255,0)'),\n",
    "#                 name=strategy_list[i],\n",
    "                mode=\"lines\",\n",
    "                showlegend=False,\n",
    "            ),\n",
    "            row=1, col=2\n",
    "        )\n",
    "\n",
    "        fig.add_trace(\n",
    "            go.Scatter(\n",
    "                x=df[\"# of labelled dialogue turns\"], \n",
    "                y=df[\"test_joint_acc\"], \n",
    "                line=dict(color=new_col, width=3),\n",
    "                mode=\"lines+markers\",\n",
    "                showlegend=False,\n",
    "#                 name=strategy_list[i],\n",
    "            ),\n",
    "            row=1, col=2\n",
    "        )\n",
    "        \n",
    "        # Last Turn\n",
    "        fig.add_hline(\n",
    "            y=pptod_mwz20_lt_baseline, \n",
    "            line_width=1.5, \n",
    "            line_dash=\"dot\", # dash\n",
    "            line_color=\"green\",\n",
    "            annotation_text=\"Last Turn(14.4%)\", \n",
    "            annotation_position=\"top left\",\n",
    "            annotation_font_size=10,\n",
    "            annotation_font_color=\"rgba(98, 85, 92, 0.8)\",\n",
    "            row=1, col=2\n",
    "        )\n",
    "        \n",
    "        # Full Data\n",
    "        fig.add_hline(\n",
    "            y=pptod_mwz20_full_baseline, \n",
    "            line_width=1.5, \n",
    "            line_dash=\"dot\", # dash\n",
    "            line_color=\"red\",\n",
    "            annotation_text=\"Full Data(100%)\", \n",
    "            annotation_position=\"top left\",\n",
    "            annotation_font_size=10,\n",
    "            annotation_font_color=\"rgba(98, 85, 92, 0.8)\",\n",
    "            row=1, col=2\n",
    "        )\n",
    "        \n",
    "    # reset\n",
    "    line_color=next_col(cols=colCycle)\n",
    "    ### PPTOD MWZ21 ###\n",
    "    for i, df in enumerate(pptod_mwz21_df_list):\n",
    "    \n",
    "        y_upper = list(df[\"test_joint_acc\"] + df[\"joint_acc_std\"])\n",
    "        y_lower = list(df[\"test_joint_acc\"] - df[\"joint_acc_std\"])\n",
    "        y_lower = y_lower[::-1]\n",
    "\n",
    "        x_std = list(df[\"# of labelled dialogue turns\"])\n",
    "        x_std = x_std + x_std[::-1]\n",
    "\n",
    "        new_col = next(line_color)\n",
    "        \n",
    "        fig.add_trace(\n",
    "            go.Scatter(\n",
    "                x=x_std, \n",
    "                y=y_upper + y_lower, \n",
    "                fill='tozerox',\n",
    "                fillcolor=new_col,\n",
    "                line=dict(color='rgba(255,255,255,0)'),\n",
    "#                 name=strategy_list[i],\n",
    "                mode=\"lines\",\n",
    "                showlegend=False,\n",
    "            ),\n",
    "            row=2, col=2\n",
    "        )\n",
    "\n",
    "        fig.add_trace(\n",
    "            go.Scatter(\n",
    "                x=df[\"# of labelled dialogue turns\"], \n",
    "                y=df[\"test_joint_acc\"], \n",
    "                line=dict(color=new_col, width=3),\n",
    "                mode=\"lines+markers\",\n",
    "                showlegend=False,\n",
    "#                 name=strategy_list[i],\n",
    "            ),\n",
    "            row=2, col=2\n",
    "        )\n",
    "        \n",
    "        # Last Turn\n",
    "        fig.add_hline(\n",
    "            y=pptod_mwz21_lt_baseline, \n",
    "            line_width=1.5, \n",
    "            line_dash=\"dot\", # dash\n",
    "            line_color=\"green\",\n",
    "            annotation_text=\"Last Turn(14.4%)\", \n",
    "            annotation_position=\"top left\",\n",
    "            annotation_font_size=10,\n",
    "            annotation_font_color=\"rgba(98, 85, 92, 0.8)\",\n",
    "            row=2, col=2\n",
    "        )\n",
    "        \n",
    "        # Full Data\n",
    "        fig.add_hline(\n",
    "            y=pptod_mwz21_full_baseline, \n",
    "            line_width=1.5, \n",
    "            line_dash=\"dot\", # dash\n",
    "            line_color=\"red\",\n",
    "            annotation_text=\"Full Data(100%)\", \n",
    "            annotation_position=\"top left\",\n",
    "            annotation_font_size=10,\n",
    "            annotation_font_color=\"rgba(98, 85, 92, 0.8)\",\n",
    "            row=2, col=2\n",
    "        )\n",
    "        \n",
    "    \n",
    "    fig.update_xaxes(type=\"category\", row=1, col=1)\n",
    "    fig.update_xaxes(type=\"category\", row=1, col=2)\n",
    "    fig.update_xaxes(title_text=\"# of labelled dialogue turns\", type=\"category\", row=2, col=1)\n",
    "    fig.update_xaxes(title_text=\"# of labelled dialogue turns\", type=\"category\", row=2, col=2)\n",
    "    \n",
    "#     fig.update_yaxes(ticksuffix = \" \")\n",
    "    fig.update_yaxes(title_text=\"Joint Goal Accuracy\", range=[0.25, 0.6], row=1, col=1)\n",
    "    fig.update_yaxes(range=[0.25, 0.55], row=1, col=2)\n",
    "    fig.update_yaxes(title_text=\"Joint Goal Accuracy\", range=[0.35, 0.55], row=2, col=1)\n",
    "    fig.update_yaxes(range=[0.3, 0.6], row=2, col=2)\n",
    "    \n",
    "    fig.update_layout(\n",
    "        height=500,\n",
    "        margin_l=5, margin_t=20, margin_b=5, margin_r=5\n",
    "#         yaxis_range=[0.2, 0.6],\n",
    "#         title=\"Plot Title\",\n",
    "#         legend_title=\"Legend Title\",\n",
    "#         xaxis_title=\"# of labelled dialogue turns\",\n",
    "#         yaxis_title=\"Joint Goal Accuracy\",\n",
    "#         font=dict(\n",
    "#             family=\"Courier New, monospace\",\n",
    "#             size=18,\n",
    "#             color=\"RebeccaPurple\"\n",
    "#         )\n",
    "    )\n",
    "    \n",
    "#     fig.update_traces(textposition=\"top center\")\n",
    "    \n",
    "#     fig.show()\n",
    "    return fig"
   ]
  },
  {
   "cell_type": "code",
   "execution_count": 25,
   "metadata": {
    "scrolled": false
   },
   "outputs": [
    {
     "data": {
      "application/vnd.plotly.v1+json": {
       "config": {
        "plotlyServerURL": "https://plot.ly"
       },
       "data": [
        {
         "fill": "tozerox",
         "fillcolor": "rgba(99, 110, 250, 0.3)",
         "line": {
          "color": "rgba(255,255,255,0)"
         },
         "mode": "lines",
         "name": "RS",
         "showlegend": false,
         "type": "scatter",
         "x": [
          2000,
          4000,
          6000,
          7888,
          7888,
          6000,
          4000,
          2000
         ],
         "xaxis": "x",
         "y": [
          0.43299,
          0.460933,
          0.49728700000000003,
          0.508817,
          0.498508,
          0.479924,
          0.45754199999999995,
          0.41752600000000006
         ],
         "yaxis": "y"
        },
        {
         "line": {
          "color": "rgba(99, 110, 250, 0.3)",
          "width": 3
         },
         "mode": "lines+markers",
         "name": "RS",
         "type": "scatter",
         "x": [
          2000,
          4000,
          6000,
          7888
         ],
         "xaxis": "x",
         "y": [
          0.425258,
          0.45923749999999997,
          0.4886055,
          0.5036625
         ],
         "yaxis": "y"
        },
        {
         "fill": "tozerox",
         "fillcolor": "rgba(239, 85, 59, 0.3)",
         "line": {
          "color": "rgba(255,255,255,0)"
         },
         "mode": "lines",
         "name": "LC",
         "showlegend": false,
         "type": "scatter",
         "x": [
          2000,
          4000,
          6000,
          7888,
          7888,
          6000,
          4000,
          2000
         ],
         "xaxis": "x",
         "y": [
          0.448589,
          0.481552,
          0.493625,
          0.506375,
          0.504883,
          0.48141600000000007,
          0.46079800000000004,
          0.30412399999999995
         ],
         "yaxis": "y"
        },
        {
         "line": {
          "color": "rgba(239, 85, 59, 0.3)",
          "width": 3
         },
         "mode": "lines+markers",
         "name": "LC",
         "type": "scatter",
         "x": [
          2000,
          4000,
          6000,
          7888
         ],
         "xaxis": "x",
         "y": [
          0.3763565,
          0.471175,
          0.4875205,
          0.505629
         ],
         "yaxis": "y"
        },
        {
         "fill": "tozerox",
         "fillcolor": "rgba(0, 204, 150, 0.3)",
         "line": {
          "color": "rgba(255,255,255,0)"
         },
         "mode": "lines",
         "name": "ME",
         "showlegend": false,
         "type": "scatter",
         "x": [
          2000,
          4000,
          6000,
          7888,
          7888,
          6000,
          4000,
          2000
         ],
         "xaxis": "x",
         "y": [
          0.42787436638314225,
          0.47466379784012885,
          0.5121808761177198,
          0.5184231855149518,
          0.5083441478183813,
          0.504639790548947,
          0.46429486882653787,
          0.38366496695019103
         ],
         "yaxis": "y"
        },
        {
         "line": {
          "color": "rgba(0, 204, 150, 0.3)",
          "width": 3
         },
         "mode": "lines+markers",
         "name": "ME",
         "type": "scatter",
         "x": [
          2000,
          4000,
          6000,
          7888
         ],
         "xaxis": "x",
         "y": [
          0.40576966666666664,
          0.46947933333333336,
          0.5084103333333334,
          0.5133836666666666
         ],
         "yaxis": "y"
        },
        {
         "fill": "tozerox",
         "fillcolor": "rgba(99, 110, 250, 0.3)",
         "line": {
          "color": "rgba(255,255,255,0)"
         },
         "mode": "lines",
         "showlegend": false,
         "type": "scatter",
         "x": [
          2000,
          4000,
          6000,
          7888,
          7888,
          6000,
          4000,
          2000
         ],
         "xaxis": "x3",
         "y": [
          0.410152,
          0.454397,
          0.464848,
          0.476249,
          0.463355,
          0.45494000000000007,
          0.4496470000000001,
          0.396716
         ],
         "yaxis": "y3"
        },
        {
         "line": {
          "color": "rgba(99, 110, 250, 0.3)",
          "width": 3
         },
         "mode": "lines+markers",
         "showlegend": false,
         "type": "scatter",
         "x": [
          2000,
          4000,
          6000,
          7888
         ],
         "xaxis": "x3",
         "y": [
          0.403434,
          0.45202200000000003,
          0.459894,
          0.469802
         ],
         "yaxis": "y3"
        },
        {
         "fill": "tozerox",
         "fillcolor": "rgba(239, 85, 59, 0.3)",
         "line": {
          "color": "rgba(255,255,255,0)"
         },
         "mode": "lines",
         "showlegend": false,
         "type": "scatter",
         "x": [
          2000,
          4000,
          6000,
          7888,
          7888,
          6000,
          4000,
          2000
         ],
         "xaxis": "x3",
         "y": [
          0.409473,
          0.471363,
          0.484528,
          0.483306,
          0.4793700000000001,
          0.47163399999999994,
          0.46335499999999996,
          0.398208
         ],
         "yaxis": "y3"
        },
        {
         "line": {
          "color": "rgba(239, 85, 59, 0.3)",
          "width": 3
         },
         "mode": "lines+markers",
         "showlegend": false,
         "type": "scatter",
         "x": [
          2000,
          4000,
          6000,
          7888
         ],
         "xaxis": "x3",
         "y": [
          0.4038405,
          0.46735899999999997,
          0.478081,
          0.48133800000000004
         ],
         "yaxis": "y3"
        },
        {
         "fill": "tozerox",
         "fillcolor": "rgba(0, 204, 150, 0.3)",
         "line": {
          "color": "rgba(255,255,255,0)"
         },
         "mode": "lines",
         "showlegend": false,
         "type": "scatter",
         "x": [
          2000,
          4000,
          6000,
          7888,
          7888,
          6000,
          4000,
          2000
         ],
         "xaxis": "x3",
         "y": [
          0.39848,
          0.462405,
          0.485749,
          0.510858,
          0.48887100000000006,
          0.47217700000000007,
          0.45304000000000005,
          0.374593
         ],
         "yaxis": "y3"
        },
        {
         "line": {
          "color": "rgba(0, 204, 150, 0.3)",
          "width": 3
         },
         "mode": "lines+markers",
         "showlegend": false,
         "type": "scatter",
         "x": [
          2000,
          4000,
          6000,
          7888
         ],
         "xaxis": "x3",
         "y": [
          0.3865365,
          0.45772250000000003,
          0.478963,
          0.49986450000000004
         ],
         "yaxis": "y3"
        },
        {
         "fill": "tozerox",
         "fillcolor": "rgba(99, 110, 250, 0.3)",
         "line": {
          "color": "rgba(255,255,255,0)"
         },
         "mode": "lines",
         "showlegend": false,
         "type": "scatter",
         "x": [
          2000,
          4000,
          6000,
          7888,
          7888,
          6000,
          4000,
          2000
         ],
         "xaxis": "x2",
         "y": [
          0.38225718940000003,
          0.42376559960000004,
          0.4343461747,
          0.4451980467,
          0.42905588710000003,
          0.4272924579,
          0.3966359197,
          0.382121541
         ],
         "yaxis": "y2"
        },
        {
         "line": {
          "color": "rgba(99, 110, 250, 0.3)",
          "width": 3
         },
         "mode": "lines+markers",
         "showlegend": false,
         "type": "scatter",
         "x": [
          2000,
          4000,
          6000,
          7888
         ],
         "xaxis": "x2",
         "y": [
          0.3821893652,
          0.41020075965,
          0.4308193163,
          0.4371269669
         ],
         "yaxis": "y2"
        },
        {
         "fill": "tozerox",
         "fillcolor": "rgba(239, 85, 59, 0.3)",
         "line": {
          "color": "rgba(255,255,255,0)"
         },
         "mode": "lines",
         "showlegend": false,
         "type": "scatter",
         "x": [
          2000,
          4000,
          6000,
          7888,
          7888,
          6000,
          4000,
          2000
         ],
         "xaxis": "x2",
         "y": [
          0.40341833969999996,
          0.4578133478,
          0.465002713,
          0.4614758546,
          0.4544221378,
          0.4380086815,
          0.4365165491,
          0.30575149209999997
         ],
         "yaxis": "y2"
        },
        {
         "line": {
          "color": "rgba(239, 85, 59, 0.3)",
          "width": 3
         },
         "mode": "lines+markers",
         "showlegend": false,
         "type": "scatter",
         "x": [
          2000,
          4000,
          6000,
          7888
         ],
         "xaxis": "x2",
         "y": [
          0.35458491589999996,
          0.44716494845,
          0.45150569725,
          0.4579489962
         ],
         "yaxis": "y2"
        },
        {
         "fill": "tozerox",
         "fillcolor": "rgba(0, 204, 150, 0.3)",
         "line": {
          "color": "rgba(255,255,255,0)"
         },
         "mode": "lines",
         "showlegend": false,
         "type": "scatter",
         "x": [
          2000,
          4000,
          6000,
          7888,
          7888,
          6000,
          4000,
          2000
         ],
         "xaxis": "x2",
         "y": [
          0.38157894740000003,
          0.4361096039,
          0.4599837222,
          0.4770754205,
          0.4613402062,
          0.45523602820000003,
          0.4199674444,
          0.3692349430000001
         ],
         "yaxis": "y2"
        },
        {
         "line": {
          "color": "rgba(0, 204, 150, 0.3)",
          "width": 3
         },
         "mode": "lines+markers",
         "showlegend": false,
         "type": "scatter",
         "x": [
          2000,
          4000,
          6000,
          7888
         ],
         "xaxis": "x2",
         "y": [
          0.37540694520000006,
          0.42803852415,
          0.4576098752,
          0.46920781335
         ],
         "yaxis": "y2"
        },
        {
         "fill": "tozerox",
         "fillcolor": "rgba(99, 110, 250, 0.3)",
         "line": {
          "color": "rgba(255,255,255,0)"
         },
         "mode": "lines",
         "showlegend": false,
         "type": "scatter",
         "x": [
          2000,
          4000,
          6000,
          7888,
          7888,
          6000,
          4000,
          2000
         ],
         "xaxis": "x4",
         "y": [
          0.3968792401999999,
          0.4131614653999999,
          0.4732700136,
          0.4713704206,
          0.4678426052,
          0.45305291720000007,
          0.41302578019999997,
          0.3799185889
         ],
         "yaxis": "y4"
        },
        {
         "line": {
          "color": "rgba(99, 110, 250, 0.3)",
          "width": 3
         },
         "mode": "lines+markers",
         "showlegend": false,
         "type": "scatter",
         "x": [
          2000,
          4000,
          6000,
          7888
         ],
         "xaxis": "x4",
         "y": [
          0.38839891455,
          0.41309362279999995,
          0.4631614654,
          0.4696065129
         ],
         "yaxis": "y4"
        },
        {
         "fill": "tozerox",
         "fillcolor": "rgba(239, 85, 59, 0.3)",
         "line": {
          "color": "rgba(255,255,255,0)"
         },
         "mode": "lines",
         "showlegend": false,
         "type": "scatter",
         "x": [
          2000,
          4000,
          6000,
          7888,
          7888,
          6000,
          4000,
          2000
         ],
         "xaxis": "x4",
         "y": [
          0.39850746270000004,
          0.44423337859999995,
          0.4671641791,
          0.4769335142,
          0.4705563094,
          0.459972863,
          0.4371777476,
          0.39009497959999995
         ],
         "yaxis": "y4"
        },
        {
         "line": {
          "color": "rgba(239, 85, 59, 0.3)",
          "width": 3
         },
         "mode": "lines+markers",
         "showlegend": false,
         "type": "scatter",
         "x": [
          2000,
          4000,
          6000,
          7888
         ],
         "xaxis": "x4",
         "y": [
          0.39430122115,
          0.4407055631,
          0.46356852105,
          0.4737449118
         ],
         "yaxis": "y4"
        },
        {
         "fill": "tozerox",
         "fillcolor": "rgba(0, 204, 150, 0.3)",
         "line": {
          "color": "rgba(255,255,255,0)"
         },
         "mode": "lines",
         "showlegend": false,
         "type": "scatter",
         "x": [
          2000,
          4000,
          6000,
          7888,
          7888,
          6000,
          4000,
          2000
         ],
         "xaxis": "x4",
         "y": [
          0.3512890095000001,
          0.44803256450000006,
          0.4860244233,
          0.4921302578,
          0.47204884669999997,
          0.47245590229999995,
          0.43324287650000004,
          0.33066485749999996
         ],
         "yaxis": "y4"
        },
        {
         "line": {
          "color": "rgba(0, 204, 150, 0.3)",
          "width": 3
         },
         "mode": "lines+markers",
         "showlegend": false,
         "type": "scatter",
         "x": [
          2000,
          4000,
          6000,
          7888
         ],
         "xaxis": "x4",
         "y": [
          0.3409769335,
          0.44063772050000005,
          0.4792401628,
          0.48208955225
         ],
         "yaxis": "y4"
        }
       ],
       "layout": {
        "annotations": [
         {
          "font": {
           "size": 16
          },
          "showarrow": false,
          "text": "KAGE-GPT2 on MultiWOZ 2.0",
          "x": 0.2375,
          "xanchor": "center",
          "xref": "paper",
          "y": 1,
          "yanchor": "bottom",
          "yref": "paper"
         },
         {
          "font": {
           "size": 16
          },
          "showarrow": false,
          "text": "PPTOD_base on MultiWOZ 2.0",
          "x": 0.7625,
          "xanchor": "center",
          "xref": "paper",
          "y": 1,
          "yanchor": "bottom",
          "yref": "paper"
         },
         {
          "font": {
           "size": 16
          },
          "showarrow": false,
          "text": "KAGE-GPT2 on MultiWOZ 2.1",
          "x": 0.2375,
          "xanchor": "center",
          "xref": "paper",
          "y": 0.45,
          "yanchor": "bottom",
          "yref": "paper"
         },
         {
          "font": {
           "size": 16
          },
          "showarrow": false,
          "text": "PPTOD_base on MultiWOZ 2.1",
          "x": 0.7625,
          "xanchor": "center",
          "xref": "paper",
          "y": 0.45,
          "yanchor": "bottom",
          "yref": "paper"
         },
         {
          "font": {
           "color": "rgba(98, 85, 92, 0.8)",
           "size": 10
          },
          "showarrow": false,
          "text": "Last Turn(14.4%)",
          "x": 0,
          "xanchor": "left",
          "xref": "x domain",
          "y": 0.5043,
          "yanchor": "bottom",
          "yref": "y"
         },
         {
          "font": {
           "color": "rgba(98, 85, 92, 0.8)",
           "size": 10
          },
          "showarrow": false,
          "text": "Full Data(100%)",
          "x": 0,
          "xanchor": "left",
          "xref": "x domain",
          "y": 0.5486,
          "yanchor": "bottom",
          "yref": "y"
         },
         {
          "font": {
           "color": "rgba(98, 85, 92, 0.8)",
           "size": 10
          },
          "showarrow": false,
          "text": "Last Turn(14.4%)",
          "x": 0,
          "xanchor": "left",
          "xref": "x domain",
          "y": 0.5043,
          "yanchor": "bottom",
          "yref": "y"
         },
         {
          "font": {
           "color": "rgba(98, 85, 92, 0.8)",
           "size": 10
          },
          "showarrow": false,
          "text": "Full Data(100%)",
          "x": 0,
          "xanchor": "left",
          "xref": "x domain",
          "y": 0.5486,
          "yanchor": "bottom",
          "yref": "y"
         },
         {
          "font": {
           "color": "rgba(98, 85, 92, 0.8)",
           "size": 10
          },
          "showarrow": false,
          "text": "Last Turn(14.4%)",
          "x": 0,
          "xanchor": "left",
          "xref": "x domain",
          "y": 0.5043,
          "yanchor": "bottom",
          "yref": "y"
         },
         {
          "font": {
           "color": "rgba(98, 85, 92, 0.8)",
           "size": 10
          },
          "showarrow": false,
          "text": "Full Data(100%)",
          "x": 0,
          "xanchor": "left",
          "xref": "x domain",
          "y": 0.5486,
          "yanchor": "bottom",
          "yref": "y"
         },
         {
          "font": {
           "color": "rgba(98, 85, 92, 0.8)",
           "size": 10
          },
          "showarrow": false,
          "text": "Last Turn(14.4%)",
          "x": 0,
          "xanchor": "left",
          "xref": "x3 domain",
          "y": 0.4912,
          "yanchor": "bottom",
          "yref": "y3"
         },
         {
          "font": {
           "color": "rgba(98, 85, 92, 0.8)",
           "size": 10
          },
          "showarrow": false,
          "text": "Last Turn(14.4%)",
          "x": 0,
          "xanchor": "left",
          "xref": "x3 domain",
          "y": 0.4912,
          "yanchor": "bottom",
          "yref": "y3"
         },
         {
          "font": {
           "color": "rgba(98, 85, 92, 0.8)",
           "size": 10
          },
          "showarrow": false,
          "text": "Last Turn(14.4%)",
          "x": 0,
          "xanchor": "left",
          "xref": "x3 domain",
          "y": 0.4912,
          "yanchor": "bottom",
          "yref": "y3"
         },
         {
          "font": {
           "color": "rgba(98, 85, 92, 0.8)",
           "size": 10
          },
          "showarrow": false,
          "text": "Last Turn(14.4%)",
          "x": 0,
          "xanchor": "left",
          "xref": "x2 domain",
          "y": 0.4383,
          "yanchor": "bottom",
          "yref": "y2"
         },
         {
          "font": {
           "color": "rgba(98, 85, 92, 0.8)",
           "size": 10
          },
          "showarrow": false,
          "text": "Full Data(100%)",
          "x": 0,
          "xanchor": "left",
          "xref": "x2 domain",
          "y": 0.5337,
          "yanchor": "bottom",
          "yref": "y2"
         },
         {
          "font": {
           "color": "rgba(98, 85, 92, 0.8)",
           "size": 10
          },
          "showarrow": false,
          "text": "Last Turn(14.4%)",
          "x": 0,
          "xanchor": "left",
          "xref": "x2 domain",
          "y": 0.4383,
          "yanchor": "bottom",
          "yref": "y2"
         },
         {
          "font": {
           "color": "rgba(98, 85, 92, 0.8)",
           "size": 10
          },
          "showarrow": false,
          "text": "Full Data(100%)",
          "x": 0,
          "xanchor": "left",
          "xref": "x2 domain",
          "y": 0.5337,
          "yanchor": "bottom",
          "yref": "y2"
         },
         {
          "font": {
           "color": "rgba(98, 85, 92, 0.8)",
           "size": 10
          },
          "showarrow": false,
          "text": "Last Turn(14.4%)",
          "x": 0,
          "xanchor": "left",
          "xref": "x2 domain",
          "y": 0.4383,
          "yanchor": "bottom",
          "yref": "y2"
         },
         {
          "font": {
           "color": "rgba(98, 85, 92, 0.8)",
           "size": 10
          },
          "showarrow": false,
          "text": "Full Data(100%)",
          "x": 0,
          "xanchor": "left",
          "xref": "x2 domain",
          "y": 0.5337,
          "yanchor": "bottom",
          "yref": "y2"
         },
         {
          "font": {
           "color": "rgba(98, 85, 92, 0.8)",
           "size": 10
          },
          "showarrow": false,
          "text": "Last Turn(14.4%)",
          "x": 0,
          "xanchor": "left",
          "xref": "x4 domain",
          "y": 0.4594,
          "yanchor": "bottom",
          "yref": "y4"
         },
         {
          "font": {
           "color": "rgba(98, 85, 92, 0.8)",
           "size": 10
          },
          "showarrow": false,
          "text": "Full Data(100%)",
          "x": 0,
          "xanchor": "left",
          "xref": "x4 domain",
          "y": 0.571,
          "yanchor": "bottom",
          "yref": "y4"
         },
         {
          "font": {
           "color": "rgba(98, 85, 92, 0.8)",
           "size": 10
          },
          "showarrow": false,
          "text": "Last Turn(14.4%)",
          "x": 0,
          "xanchor": "left",
          "xref": "x4 domain",
          "y": 0.4594,
          "yanchor": "bottom",
          "yref": "y4"
         },
         {
          "font": {
           "color": "rgba(98, 85, 92, 0.8)",
           "size": 10
          },
          "showarrow": false,
          "text": "Full Data(100%)",
          "x": 0,
          "xanchor": "left",
          "xref": "x4 domain",
          "y": 0.571,
          "yanchor": "bottom",
          "yref": "y4"
         },
         {
          "font": {
           "color": "rgba(98, 85, 92, 0.8)",
           "size": 10
          },
          "showarrow": false,
          "text": "Last Turn(14.4%)",
          "x": 0,
          "xanchor": "left",
          "xref": "x4 domain",
          "y": 0.4594,
          "yanchor": "bottom",
          "yref": "y4"
         },
         {
          "font": {
           "color": "rgba(98, 85, 92, 0.8)",
           "size": 10
          },
          "showarrow": false,
          "text": "Full Data(100%)",
          "x": 0,
          "xanchor": "left",
          "xref": "x4 domain",
          "y": 0.571,
          "yanchor": "bottom",
          "yref": "y4"
         }
        ],
        "height": 500,
        "margin": {
         "b": 5,
         "l": 5,
         "r": 5,
         "t": 20
        },
        "shapes": [
         {
          "line": {
           "color": "green",
           "dash": "dot",
           "width": 1.5
          },
          "type": "line",
          "x0": 0,
          "x1": 1,
          "xref": "x domain",
          "y0": 0.5043,
          "y1": 0.5043,
          "yref": "y"
         },
         {
          "line": {
           "color": "red",
           "dash": "dot",
           "width": 1.5
          },
          "type": "line",
          "x0": 0,
          "x1": 1,
          "xref": "x domain",
          "y0": 0.5486,
          "y1": 0.5486,
          "yref": "y"
         },
         {
          "line": {
           "color": "green",
           "dash": "dot",
           "width": 1.5
          },
          "type": "line",
          "x0": 0,
          "x1": 1,
          "xref": "x domain",
          "y0": 0.5043,
          "y1": 0.5043,
          "yref": "y"
         },
         {
          "line": {
           "color": "red",
           "dash": "dot",
           "width": 1.5
          },
          "type": "line",
          "x0": 0,
          "x1": 1,
          "xref": "x domain",
          "y0": 0.5486,
          "y1": 0.5486,
          "yref": "y"
         },
         {
          "line": {
           "color": "green",
           "dash": "dot",
           "width": 1.5
          },
          "type": "line",
          "x0": 0,
          "x1": 1,
          "xref": "x domain",
          "y0": 0.5043,
          "y1": 0.5043,
          "yref": "y"
         },
         {
          "line": {
           "color": "red",
           "dash": "dot",
           "width": 1.5
          },
          "type": "line",
          "x0": 0,
          "x1": 1,
          "xref": "x domain",
          "y0": 0.5486,
          "y1": 0.5486,
          "yref": "y"
         },
         {
          "line": {
           "color": "green",
           "dash": "dot",
           "width": 1.5
          },
          "type": "line",
          "x0": 0,
          "x1": 1,
          "xref": "x3 domain",
          "y0": 0.4912,
          "y1": 0.4912,
          "yref": "y3"
         },
         {
          "line": {
           "color": "green",
           "dash": "dot",
           "width": 1.5
          },
          "type": "line",
          "x0": 0,
          "x1": 1,
          "xref": "x3 domain",
          "y0": 0.4912,
          "y1": 0.4912,
          "yref": "y3"
         },
         {
          "line": {
           "color": "green",
           "dash": "dot",
           "width": 1.5
          },
          "type": "line",
          "x0": 0,
          "x1": 1,
          "xref": "x3 domain",
          "y0": 0.4912,
          "y1": 0.4912,
          "yref": "y3"
         },
         {
          "line": {
           "color": "green",
           "dash": "dot",
           "width": 1.5
          },
          "type": "line",
          "x0": 0,
          "x1": 1,
          "xref": "x2 domain",
          "y0": 0.4383,
          "y1": 0.4383,
          "yref": "y2"
         },
         {
          "line": {
           "color": "red",
           "dash": "dot",
           "width": 1.5
          },
          "type": "line",
          "x0": 0,
          "x1": 1,
          "xref": "x2 domain",
          "y0": 0.5337,
          "y1": 0.5337,
          "yref": "y2"
         },
         {
          "line": {
           "color": "green",
           "dash": "dot",
           "width": 1.5
          },
          "type": "line",
          "x0": 0,
          "x1": 1,
          "xref": "x2 domain",
          "y0": 0.4383,
          "y1": 0.4383,
          "yref": "y2"
         },
         {
          "line": {
           "color": "red",
           "dash": "dot",
           "width": 1.5
          },
          "type": "line",
          "x0": 0,
          "x1": 1,
          "xref": "x2 domain",
          "y0": 0.5337,
          "y1": 0.5337,
          "yref": "y2"
         },
         {
          "line": {
           "color": "green",
           "dash": "dot",
           "width": 1.5
          },
          "type": "line",
          "x0": 0,
          "x1": 1,
          "xref": "x2 domain",
          "y0": 0.4383,
          "y1": 0.4383,
          "yref": "y2"
         },
         {
          "line": {
           "color": "red",
           "dash": "dot",
           "width": 1.5
          },
          "type": "line",
          "x0": 0,
          "x1": 1,
          "xref": "x2 domain",
          "y0": 0.5337,
          "y1": 0.5337,
          "yref": "y2"
         },
         {
          "line": {
           "color": "green",
           "dash": "dot",
           "width": 1.5
          },
          "type": "line",
          "x0": 0,
          "x1": 1,
          "xref": "x4 domain",
          "y0": 0.4594,
          "y1": 0.4594,
          "yref": "y4"
         },
         {
          "line": {
           "color": "red",
           "dash": "dot",
           "width": 1.5
          },
          "type": "line",
          "x0": 0,
          "x1": 1,
          "xref": "x4 domain",
          "y0": 0.571,
          "y1": 0.571,
          "yref": "y4"
         },
         {
          "line": {
           "color": "green",
           "dash": "dot",
           "width": 1.5
          },
          "type": "line",
          "x0": 0,
          "x1": 1,
          "xref": "x4 domain",
          "y0": 0.4594,
          "y1": 0.4594,
          "yref": "y4"
         },
         {
          "line": {
           "color": "red",
           "dash": "dot",
           "width": 1.5
          },
          "type": "line",
          "x0": 0,
          "x1": 1,
          "xref": "x4 domain",
          "y0": 0.571,
          "y1": 0.571,
          "yref": "y4"
         },
         {
          "line": {
           "color": "green",
           "dash": "dot",
           "width": 1.5
          },
          "type": "line",
          "x0": 0,
          "x1": 1,
          "xref": "x4 domain",
          "y0": 0.4594,
          "y1": 0.4594,
          "yref": "y4"
         },
         {
          "line": {
           "color": "red",
           "dash": "dot",
           "width": 1.5
          },
          "type": "line",
          "x0": 0,
          "x1": 1,
          "xref": "x4 domain",
          "y0": 0.571,
          "y1": 0.571,
          "yref": "y4"
         }
        ],
        "template": {
         "data": {
          "bar": [
           {
            "error_x": {
             "color": "#2a3f5f"
            },
            "error_y": {
             "color": "#2a3f5f"
            },
            "marker": {
             "line": {
              "color": "#E5ECF6",
              "width": 0.5
             },
             "pattern": {
              "fillmode": "overlay",
              "size": 10,
              "solidity": 0.2
             }
            },
            "type": "bar"
           }
          ],
          "barpolar": [
           {
            "marker": {
             "line": {
              "color": "#E5ECF6",
              "width": 0.5
             },
             "pattern": {
              "fillmode": "overlay",
              "size": 10,
              "solidity": 0.2
             }
            },
            "type": "barpolar"
           }
          ],
          "carpet": [
           {
            "aaxis": {
             "endlinecolor": "#2a3f5f",
             "gridcolor": "white",
             "linecolor": "white",
             "minorgridcolor": "white",
             "startlinecolor": "#2a3f5f"
            },
            "baxis": {
             "endlinecolor": "#2a3f5f",
             "gridcolor": "white",
             "linecolor": "white",
             "minorgridcolor": "white",
             "startlinecolor": "#2a3f5f"
            },
            "type": "carpet"
           }
          ],
          "choropleth": [
           {
            "colorbar": {
             "outlinewidth": 0,
             "ticks": ""
            },
            "type": "choropleth"
           }
          ],
          "contour": [
           {
            "colorbar": {
             "outlinewidth": 0,
             "ticks": ""
            },
            "colorscale": [
             [
              0,
              "#0d0887"
             ],
             [
              0.1111111111111111,
              "#46039f"
             ],
             [
              0.2222222222222222,
              "#7201a8"
             ],
             [
              0.3333333333333333,
              "#9c179e"
             ],
             [
              0.4444444444444444,
              "#bd3786"
             ],
             [
              0.5555555555555556,
              "#d8576b"
             ],
             [
              0.6666666666666666,
              "#ed7953"
             ],
             [
              0.7777777777777778,
              "#fb9f3a"
             ],
             [
              0.8888888888888888,
              "#fdca26"
             ],
             [
              1,
              "#f0f921"
             ]
            ],
            "type": "contour"
           }
          ],
          "contourcarpet": [
           {
            "colorbar": {
             "outlinewidth": 0,
             "ticks": ""
            },
            "type": "contourcarpet"
           }
          ],
          "heatmap": [
           {
            "colorbar": {
             "outlinewidth": 0,
             "ticks": ""
            },
            "colorscale": [
             [
              0,
              "#0d0887"
             ],
             [
              0.1111111111111111,
              "#46039f"
             ],
             [
              0.2222222222222222,
              "#7201a8"
             ],
             [
              0.3333333333333333,
              "#9c179e"
             ],
             [
              0.4444444444444444,
              "#bd3786"
             ],
             [
              0.5555555555555556,
              "#d8576b"
             ],
             [
              0.6666666666666666,
              "#ed7953"
             ],
             [
              0.7777777777777778,
              "#fb9f3a"
             ],
             [
              0.8888888888888888,
              "#fdca26"
             ],
             [
              1,
              "#f0f921"
             ]
            ],
            "type": "heatmap"
           }
          ],
          "heatmapgl": [
           {
            "colorbar": {
             "outlinewidth": 0,
             "ticks": ""
            },
            "colorscale": [
             [
              0,
              "#0d0887"
             ],
             [
              0.1111111111111111,
              "#46039f"
             ],
             [
              0.2222222222222222,
              "#7201a8"
             ],
             [
              0.3333333333333333,
              "#9c179e"
             ],
             [
              0.4444444444444444,
              "#bd3786"
             ],
             [
              0.5555555555555556,
              "#d8576b"
             ],
             [
              0.6666666666666666,
              "#ed7953"
             ],
             [
              0.7777777777777778,
              "#fb9f3a"
             ],
             [
              0.8888888888888888,
              "#fdca26"
             ],
             [
              1,
              "#f0f921"
             ]
            ],
            "type": "heatmapgl"
           }
          ],
          "histogram": [
           {
            "marker": {
             "pattern": {
              "fillmode": "overlay",
              "size": 10,
              "solidity": 0.2
             }
            },
            "type": "histogram"
           }
          ],
          "histogram2d": [
           {
            "colorbar": {
             "outlinewidth": 0,
             "ticks": ""
            },
            "colorscale": [
             [
              0,
              "#0d0887"
             ],
             [
              0.1111111111111111,
              "#46039f"
             ],
             [
              0.2222222222222222,
              "#7201a8"
             ],
             [
              0.3333333333333333,
              "#9c179e"
             ],
             [
              0.4444444444444444,
              "#bd3786"
             ],
             [
              0.5555555555555556,
              "#d8576b"
             ],
             [
              0.6666666666666666,
              "#ed7953"
             ],
             [
              0.7777777777777778,
              "#fb9f3a"
             ],
             [
              0.8888888888888888,
              "#fdca26"
             ],
             [
              1,
              "#f0f921"
             ]
            ],
            "type": "histogram2d"
           }
          ],
          "histogram2dcontour": [
           {
            "colorbar": {
             "outlinewidth": 0,
             "ticks": ""
            },
            "colorscale": [
             [
              0,
              "#0d0887"
             ],
             [
              0.1111111111111111,
              "#46039f"
             ],
             [
              0.2222222222222222,
              "#7201a8"
             ],
             [
              0.3333333333333333,
              "#9c179e"
             ],
             [
              0.4444444444444444,
              "#bd3786"
             ],
             [
              0.5555555555555556,
              "#d8576b"
             ],
             [
              0.6666666666666666,
              "#ed7953"
             ],
             [
              0.7777777777777778,
              "#fb9f3a"
             ],
             [
              0.8888888888888888,
              "#fdca26"
             ],
             [
              1,
              "#f0f921"
             ]
            ],
            "type": "histogram2dcontour"
           }
          ],
          "mesh3d": [
           {
            "colorbar": {
             "outlinewidth": 0,
             "ticks": ""
            },
            "type": "mesh3d"
           }
          ],
          "parcoords": [
           {
            "line": {
             "colorbar": {
              "outlinewidth": 0,
              "ticks": ""
             }
            },
            "type": "parcoords"
           }
          ],
          "pie": [
           {
            "automargin": true,
            "type": "pie"
           }
          ],
          "scatter": [
           {
            "fillpattern": {
             "fillmode": "overlay",
             "size": 10,
             "solidity": 0.2
            },
            "type": "scatter"
           }
          ],
          "scatter3d": [
           {
            "line": {
             "colorbar": {
              "outlinewidth": 0,
              "ticks": ""
             }
            },
            "marker": {
             "colorbar": {
              "outlinewidth": 0,
              "ticks": ""
             }
            },
            "type": "scatter3d"
           }
          ],
          "scattercarpet": [
           {
            "marker": {
             "colorbar": {
              "outlinewidth": 0,
              "ticks": ""
             }
            },
            "type": "scattercarpet"
           }
          ],
          "scattergeo": [
           {
            "marker": {
             "colorbar": {
              "outlinewidth": 0,
              "ticks": ""
             }
            },
            "type": "scattergeo"
           }
          ],
          "scattergl": [
           {
            "marker": {
             "colorbar": {
              "outlinewidth": 0,
              "ticks": ""
             }
            },
            "type": "scattergl"
           }
          ],
          "scattermapbox": [
           {
            "marker": {
             "colorbar": {
              "outlinewidth": 0,
              "ticks": ""
             }
            },
            "type": "scattermapbox"
           }
          ],
          "scatterpolar": [
           {
            "marker": {
             "colorbar": {
              "outlinewidth": 0,
              "ticks": ""
             }
            },
            "type": "scatterpolar"
           }
          ],
          "scatterpolargl": [
           {
            "marker": {
             "colorbar": {
              "outlinewidth": 0,
              "ticks": ""
             }
            },
            "type": "scatterpolargl"
           }
          ],
          "scatterternary": [
           {
            "marker": {
             "colorbar": {
              "outlinewidth": 0,
              "ticks": ""
             }
            },
            "type": "scatterternary"
           }
          ],
          "surface": [
           {
            "colorbar": {
             "outlinewidth": 0,
             "ticks": ""
            },
            "colorscale": [
             [
              0,
              "#0d0887"
             ],
             [
              0.1111111111111111,
              "#46039f"
             ],
             [
              0.2222222222222222,
              "#7201a8"
             ],
             [
              0.3333333333333333,
              "#9c179e"
             ],
             [
              0.4444444444444444,
              "#bd3786"
             ],
             [
              0.5555555555555556,
              "#d8576b"
             ],
             [
              0.6666666666666666,
              "#ed7953"
             ],
             [
              0.7777777777777778,
              "#fb9f3a"
             ],
             [
              0.8888888888888888,
              "#fdca26"
             ],
             [
              1,
              "#f0f921"
             ]
            ],
            "type": "surface"
           }
          ],
          "table": [
           {
            "cells": {
             "fill": {
              "color": "#EBF0F8"
             },
             "line": {
              "color": "white"
             }
            },
            "header": {
             "fill": {
              "color": "#C8D4E3"
             },
             "line": {
              "color": "white"
             }
            },
            "type": "table"
           }
          ]
         },
         "layout": {
          "annotationdefaults": {
           "arrowcolor": "#2a3f5f",
           "arrowhead": 0,
           "arrowwidth": 1
          },
          "autotypenumbers": "strict",
          "coloraxis": {
           "colorbar": {
            "outlinewidth": 0,
            "ticks": ""
           }
          },
          "colorscale": {
           "diverging": [
            [
             0,
             "#8e0152"
            ],
            [
             0.1,
             "#c51b7d"
            ],
            [
             0.2,
             "#de77ae"
            ],
            [
             0.3,
             "#f1b6da"
            ],
            [
             0.4,
             "#fde0ef"
            ],
            [
             0.5,
             "#f7f7f7"
            ],
            [
             0.6,
             "#e6f5d0"
            ],
            [
             0.7,
             "#b8e186"
            ],
            [
             0.8,
             "#7fbc41"
            ],
            [
             0.9,
             "#4d9221"
            ],
            [
             1,
             "#276419"
            ]
           ],
           "sequential": [
            [
             0,
             "#0d0887"
            ],
            [
             0.1111111111111111,
             "#46039f"
            ],
            [
             0.2222222222222222,
             "#7201a8"
            ],
            [
             0.3333333333333333,
             "#9c179e"
            ],
            [
             0.4444444444444444,
             "#bd3786"
            ],
            [
             0.5555555555555556,
             "#d8576b"
            ],
            [
             0.6666666666666666,
             "#ed7953"
            ],
            [
             0.7777777777777778,
             "#fb9f3a"
            ],
            [
             0.8888888888888888,
             "#fdca26"
            ],
            [
             1,
             "#f0f921"
            ]
           ],
           "sequentialminus": [
            [
             0,
             "#0d0887"
            ],
            [
             0.1111111111111111,
             "#46039f"
            ],
            [
             0.2222222222222222,
             "#7201a8"
            ],
            [
             0.3333333333333333,
             "#9c179e"
            ],
            [
             0.4444444444444444,
             "#bd3786"
            ],
            [
             0.5555555555555556,
             "#d8576b"
            ],
            [
             0.6666666666666666,
             "#ed7953"
            ],
            [
             0.7777777777777778,
             "#fb9f3a"
            ],
            [
             0.8888888888888888,
             "#fdca26"
            ],
            [
             1,
             "#f0f921"
            ]
           ]
          },
          "colorway": [
           "#636efa",
           "#EF553B",
           "#00cc96",
           "#ab63fa",
           "#FFA15A",
           "#19d3f3",
           "#FF6692",
           "#B6E880",
           "#FF97FF",
           "#FECB52"
          ],
          "font": {
           "color": "#2a3f5f"
          },
          "geo": {
           "bgcolor": "white",
           "lakecolor": "white",
           "landcolor": "#E5ECF6",
           "showlakes": true,
           "showland": true,
           "subunitcolor": "white"
          },
          "hoverlabel": {
           "align": "left"
          },
          "hovermode": "closest",
          "mapbox": {
           "style": "light"
          },
          "paper_bgcolor": "white",
          "plot_bgcolor": "#E5ECF6",
          "polar": {
           "angularaxis": {
            "gridcolor": "white",
            "linecolor": "white",
            "ticks": ""
           },
           "bgcolor": "#E5ECF6",
           "radialaxis": {
            "gridcolor": "white",
            "linecolor": "white",
            "ticks": ""
           }
          },
          "scene": {
           "xaxis": {
            "backgroundcolor": "#E5ECF6",
            "gridcolor": "white",
            "gridwidth": 2,
            "linecolor": "white",
            "showbackground": true,
            "ticks": "",
            "zerolinecolor": "white"
           },
           "yaxis": {
            "backgroundcolor": "#E5ECF6",
            "gridcolor": "white",
            "gridwidth": 2,
            "linecolor": "white",
            "showbackground": true,
            "ticks": "",
            "zerolinecolor": "white"
           },
           "zaxis": {
            "backgroundcolor": "#E5ECF6",
            "gridcolor": "white",
            "gridwidth": 2,
            "linecolor": "white",
            "showbackground": true,
            "ticks": "",
            "zerolinecolor": "white"
           }
          },
          "shapedefaults": {
           "line": {
            "color": "#2a3f5f"
           }
          },
          "ternary": {
           "aaxis": {
            "gridcolor": "white",
            "linecolor": "white",
            "ticks": ""
           },
           "baxis": {
            "gridcolor": "white",
            "linecolor": "white",
            "ticks": ""
           },
           "bgcolor": "#E5ECF6",
           "caxis": {
            "gridcolor": "white",
            "linecolor": "white",
            "ticks": ""
           }
          },
          "title": {
           "x": 0.05
          },
          "xaxis": {
           "automargin": true,
           "gridcolor": "white",
           "linecolor": "white",
           "ticks": "",
           "title": {
            "standoff": 15
           },
           "zerolinecolor": "white",
           "zerolinewidth": 2
          },
          "yaxis": {
           "automargin": true,
           "gridcolor": "white",
           "linecolor": "white",
           "ticks": "",
           "title": {
            "standoff": 15
           },
           "zerolinecolor": "white",
           "zerolinewidth": 2
          }
         }
        },
        "xaxis": {
         "anchor": "y",
         "domain": [
          0,
          0.475
         ],
         "type": "category"
        },
        "xaxis2": {
         "anchor": "y2",
         "domain": [
          0.525,
          1
         ],
         "type": "category"
        },
        "xaxis3": {
         "anchor": "y3",
         "domain": [
          0,
          0.475
         ],
         "title": {
          "text": "# of labelled dialogue turns"
         },
         "type": "category"
        },
        "xaxis4": {
         "anchor": "y4",
         "domain": [
          0.525,
          1
         ],
         "title": {
          "text": "# of labelled dialogue turns"
         },
         "type": "category"
        },
        "yaxis": {
         "anchor": "x",
         "domain": [
          0.55,
          1
         ],
         "range": [
          0.25,
          0.6
         ],
         "title": {
          "text": "Joint Goal Accuracy"
         }
        },
        "yaxis2": {
         "anchor": "x2",
         "domain": [
          0.55,
          1
         ],
         "range": [
          0.25,
          0.55
         ]
        },
        "yaxis3": {
         "anchor": "x3",
         "domain": [
          0,
          0.45
         ],
         "range": [
          0.35,
          0.55
         ],
         "title": {
          "text": "Joint Goal Accuracy"
         }
        },
        "yaxis4": {
         "anchor": "x4",
         "domain": [
          0,
          0.45
         ],
         "range": [
          0.3,
          0.6
         ]
        }
       }
      },
      "text/html": [
       "<div>                            <div id=\"f3ee4777-beca-49b8-a7ef-ad59193db7fd\" class=\"plotly-graph-div\" style=\"height:500px; width:100%;\"></div>            <script type=\"text/javascript\">                require([\"plotly\"], function(Plotly) {                    window.PLOTLYENV=window.PLOTLYENV || {};                                    if (document.getElementById(\"f3ee4777-beca-49b8-a7ef-ad59193db7fd\")) {                    Plotly.newPlot(                        \"f3ee4777-beca-49b8-a7ef-ad59193db7fd\",                        [{\"fill\":\"tozerox\",\"fillcolor\":\"rgba(99, 110, 250, 0.3)\",\"line\":{\"color\":\"rgba(255,255,255,0)\"},\"mode\":\"lines\",\"name\":\"RS\",\"showlegend\":false,\"x\":[2000,4000,6000,7888,7888,6000,4000,2000],\"y\":[0.43299,0.460933,0.49728700000000003,0.508817,0.498508,0.479924,0.45754199999999995,0.41752600000000006],\"type\":\"scatter\",\"xaxis\":\"x\",\"yaxis\":\"y\"},{\"line\":{\"color\":\"rgba(99, 110, 250, 0.3)\",\"width\":3},\"mode\":\"lines+markers\",\"name\":\"RS\",\"x\":[2000,4000,6000,7888],\"y\":[0.425258,0.45923749999999997,0.4886055,0.5036625],\"type\":\"scatter\",\"xaxis\":\"x\",\"yaxis\":\"y\"},{\"fill\":\"tozerox\",\"fillcolor\":\"rgba(239, 85, 59, 0.3)\",\"line\":{\"color\":\"rgba(255,255,255,0)\"},\"mode\":\"lines\",\"name\":\"LC\",\"showlegend\":false,\"x\":[2000,4000,6000,7888,7888,6000,4000,2000],\"y\":[0.448589,0.481552,0.493625,0.506375,0.504883,0.48141600000000007,0.46079800000000004,0.30412399999999995],\"type\":\"scatter\",\"xaxis\":\"x\",\"yaxis\":\"y\"},{\"line\":{\"color\":\"rgba(239, 85, 59, 0.3)\",\"width\":3},\"mode\":\"lines+markers\",\"name\":\"LC\",\"x\":[2000,4000,6000,7888],\"y\":[0.3763565,0.471175,0.4875205,0.505629],\"type\":\"scatter\",\"xaxis\":\"x\",\"yaxis\":\"y\"},{\"fill\":\"tozerox\",\"fillcolor\":\"rgba(0, 204, 150, 0.3)\",\"line\":{\"color\":\"rgba(255,255,255,0)\"},\"mode\":\"lines\",\"name\":\"ME\",\"showlegend\":false,\"x\":[2000,4000,6000,7888,7888,6000,4000,2000],\"y\":[0.42787436638314225,0.47466379784012885,0.5121808761177198,0.5184231855149518,0.5083441478183813,0.504639790548947,0.46429486882653787,0.38366496695019103],\"type\":\"scatter\",\"xaxis\":\"x\",\"yaxis\":\"y\"},{\"line\":{\"color\":\"rgba(0, 204, 150, 0.3)\",\"width\":3},\"mode\":\"lines+markers\",\"name\":\"ME\",\"x\":[2000,4000,6000,7888],\"y\":[0.40576966666666664,0.46947933333333336,0.5084103333333334,0.5133836666666666],\"type\":\"scatter\",\"xaxis\":\"x\",\"yaxis\":\"y\"},{\"fill\":\"tozerox\",\"fillcolor\":\"rgba(99, 110, 250, 0.3)\",\"line\":{\"color\":\"rgba(255,255,255,0)\"},\"mode\":\"lines\",\"showlegend\":false,\"x\":[2000,4000,6000,7888,7888,6000,4000,2000],\"y\":[0.410152,0.454397,0.464848,0.476249,0.463355,0.45494000000000007,0.4496470000000001,0.396716],\"type\":\"scatter\",\"xaxis\":\"x3\",\"yaxis\":\"y3\"},{\"line\":{\"color\":\"rgba(99, 110, 250, 0.3)\",\"width\":3},\"mode\":\"lines+markers\",\"showlegend\":false,\"x\":[2000,4000,6000,7888],\"y\":[0.403434,0.45202200000000003,0.459894,0.469802],\"type\":\"scatter\",\"xaxis\":\"x3\",\"yaxis\":\"y3\"},{\"fill\":\"tozerox\",\"fillcolor\":\"rgba(239, 85, 59, 0.3)\",\"line\":{\"color\":\"rgba(255,255,255,0)\"},\"mode\":\"lines\",\"showlegend\":false,\"x\":[2000,4000,6000,7888,7888,6000,4000,2000],\"y\":[0.409473,0.471363,0.484528,0.483306,0.4793700000000001,0.47163399999999994,0.46335499999999996,0.398208],\"type\":\"scatter\",\"xaxis\":\"x3\",\"yaxis\":\"y3\"},{\"line\":{\"color\":\"rgba(239, 85, 59, 0.3)\",\"width\":3},\"mode\":\"lines+markers\",\"showlegend\":false,\"x\":[2000,4000,6000,7888],\"y\":[0.4038405,0.46735899999999997,0.478081,0.48133800000000004],\"type\":\"scatter\",\"xaxis\":\"x3\",\"yaxis\":\"y3\"},{\"fill\":\"tozerox\",\"fillcolor\":\"rgba(0, 204, 150, 0.3)\",\"line\":{\"color\":\"rgba(255,255,255,0)\"},\"mode\":\"lines\",\"showlegend\":false,\"x\":[2000,4000,6000,7888,7888,6000,4000,2000],\"y\":[0.39848,0.462405,0.485749,0.510858,0.48887100000000006,0.47217700000000007,0.45304000000000005,0.374593],\"type\":\"scatter\",\"xaxis\":\"x3\",\"yaxis\":\"y3\"},{\"line\":{\"color\":\"rgba(0, 204, 150, 0.3)\",\"width\":3},\"mode\":\"lines+markers\",\"showlegend\":false,\"x\":[2000,4000,6000,7888],\"y\":[0.3865365,0.45772250000000003,0.478963,0.49986450000000004],\"type\":\"scatter\",\"xaxis\":\"x3\",\"yaxis\":\"y3\"},{\"fill\":\"tozerox\",\"fillcolor\":\"rgba(99, 110, 250, 0.3)\",\"line\":{\"color\":\"rgba(255,255,255,0)\"},\"mode\":\"lines\",\"showlegend\":false,\"x\":[2000,4000,6000,7888,7888,6000,4000,2000],\"y\":[0.38225718940000003,0.42376559960000004,0.4343461747,0.4451980467,0.42905588710000003,0.4272924579,0.3966359197,0.382121541],\"type\":\"scatter\",\"xaxis\":\"x2\",\"yaxis\":\"y2\"},{\"line\":{\"color\":\"rgba(99, 110, 250, 0.3)\",\"width\":3},\"mode\":\"lines+markers\",\"showlegend\":false,\"x\":[2000,4000,6000,7888],\"y\":[0.3821893652,0.41020075965,0.4308193163,0.4371269669],\"type\":\"scatter\",\"xaxis\":\"x2\",\"yaxis\":\"y2\"},{\"fill\":\"tozerox\",\"fillcolor\":\"rgba(239, 85, 59, 0.3)\",\"line\":{\"color\":\"rgba(255,255,255,0)\"},\"mode\":\"lines\",\"showlegend\":false,\"x\":[2000,4000,6000,7888,7888,6000,4000,2000],\"y\":[0.40341833969999996,0.4578133478,0.465002713,0.4614758546,0.4544221378,0.4380086815,0.4365165491,0.30575149209999997],\"type\":\"scatter\",\"xaxis\":\"x2\",\"yaxis\":\"y2\"},{\"line\":{\"color\":\"rgba(239, 85, 59, 0.3)\",\"width\":3},\"mode\":\"lines+markers\",\"showlegend\":false,\"x\":[2000,4000,6000,7888],\"y\":[0.35458491589999996,0.44716494845,0.45150569725,0.4579489962],\"type\":\"scatter\",\"xaxis\":\"x2\",\"yaxis\":\"y2\"},{\"fill\":\"tozerox\",\"fillcolor\":\"rgba(0, 204, 150, 0.3)\",\"line\":{\"color\":\"rgba(255,255,255,0)\"},\"mode\":\"lines\",\"showlegend\":false,\"x\":[2000,4000,6000,7888,7888,6000,4000,2000],\"y\":[0.38157894740000003,0.4361096039,0.4599837222,0.4770754205,0.4613402062,0.45523602820000003,0.4199674444,0.3692349430000001],\"type\":\"scatter\",\"xaxis\":\"x2\",\"yaxis\":\"y2\"},{\"line\":{\"color\":\"rgba(0, 204, 150, 0.3)\",\"width\":3},\"mode\":\"lines+markers\",\"showlegend\":false,\"x\":[2000,4000,6000,7888],\"y\":[0.37540694520000006,0.42803852415,0.4576098752,0.46920781335],\"type\":\"scatter\",\"xaxis\":\"x2\",\"yaxis\":\"y2\"},{\"fill\":\"tozerox\",\"fillcolor\":\"rgba(99, 110, 250, 0.3)\",\"line\":{\"color\":\"rgba(255,255,255,0)\"},\"mode\":\"lines\",\"showlegend\":false,\"x\":[2000,4000,6000,7888,7888,6000,4000,2000],\"y\":[0.3968792401999999,0.4131614653999999,0.4732700136,0.4713704206,0.4678426052,0.45305291720000007,0.41302578019999997,0.3799185889],\"type\":\"scatter\",\"xaxis\":\"x4\",\"yaxis\":\"y4\"},{\"line\":{\"color\":\"rgba(99, 110, 250, 0.3)\",\"width\":3},\"mode\":\"lines+markers\",\"showlegend\":false,\"x\":[2000,4000,6000,7888],\"y\":[0.38839891455,0.41309362279999995,0.4631614654,0.4696065129],\"type\":\"scatter\",\"xaxis\":\"x4\",\"yaxis\":\"y4\"},{\"fill\":\"tozerox\",\"fillcolor\":\"rgba(239, 85, 59, 0.3)\",\"line\":{\"color\":\"rgba(255,255,255,0)\"},\"mode\":\"lines\",\"showlegend\":false,\"x\":[2000,4000,6000,7888,7888,6000,4000,2000],\"y\":[0.39850746270000004,0.44423337859999995,0.4671641791,0.4769335142,0.4705563094,0.459972863,0.4371777476,0.39009497959999995],\"type\":\"scatter\",\"xaxis\":\"x4\",\"yaxis\":\"y4\"},{\"line\":{\"color\":\"rgba(239, 85, 59, 0.3)\",\"width\":3},\"mode\":\"lines+markers\",\"showlegend\":false,\"x\":[2000,4000,6000,7888],\"y\":[0.39430122115,0.4407055631,0.46356852105,0.4737449118],\"type\":\"scatter\",\"xaxis\":\"x4\",\"yaxis\":\"y4\"},{\"fill\":\"tozerox\",\"fillcolor\":\"rgba(0, 204, 150, 0.3)\",\"line\":{\"color\":\"rgba(255,255,255,0)\"},\"mode\":\"lines\",\"showlegend\":false,\"x\":[2000,4000,6000,7888,7888,6000,4000,2000],\"y\":[0.3512890095000001,0.44803256450000006,0.4860244233,0.4921302578,0.47204884669999997,0.47245590229999995,0.43324287650000004,0.33066485749999996],\"type\":\"scatter\",\"xaxis\":\"x4\",\"yaxis\":\"y4\"},{\"line\":{\"color\":\"rgba(0, 204, 150, 0.3)\",\"width\":3},\"mode\":\"lines+markers\",\"showlegend\":false,\"x\":[2000,4000,6000,7888],\"y\":[0.3409769335,0.44063772050000005,0.4792401628,0.48208955225],\"type\":\"scatter\",\"xaxis\":\"x4\",\"yaxis\":\"y4\"}],                        {\"template\":{\"data\":{\"histogram2dcontour\":[{\"type\":\"histogram2dcontour\",\"colorbar\":{\"outlinewidth\":0,\"ticks\":\"\"},\"colorscale\":[[0.0,\"#0d0887\"],[0.1111111111111111,\"#46039f\"],[0.2222222222222222,\"#7201a8\"],[0.3333333333333333,\"#9c179e\"],[0.4444444444444444,\"#bd3786\"],[0.5555555555555556,\"#d8576b\"],[0.6666666666666666,\"#ed7953\"],[0.7777777777777778,\"#fb9f3a\"],[0.8888888888888888,\"#fdca26\"],[1.0,\"#f0f921\"]]}],\"choropleth\":[{\"type\":\"choropleth\",\"colorbar\":{\"outlinewidth\":0,\"ticks\":\"\"}}],\"histogram2d\":[{\"type\":\"histogram2d\",\"colorbar\":{\"outlinewidth\":0,\"ticks\":\"\"},\"colorscale\":[[0.0,\"#0d0887\"],[0.1111111111111111,\"#46039f\"],[0.2222222222222222,\"#7201a8\"],[0.3333333333333333,\"#9c179e\"],[0.4444444444444444,\"#bd3786\"],[0.5555555555555556,\"#d8576b\"],[0.6666666666666666,\"#ed7953\"],[0.7777777777777778,\"#fb9f3a\"],[0.8888888888888888,\"#fdca26\"],[1.0,\"#f0f921\"]]}],\"heatmap\":[{\"type\":\"heatmap\",\"colorbar\":{\"outlinewidth\":0,\"ticks\":\"\"},\"colorscale\":[[0.0,\"#0d0887\"],[0.1111111111111111,\"#46039f\"],[0.2222222222222222,\"#7201a8\"],[0.3333333333333333,\"#9c179e\"],[0.4444444444444444,\"#bd3786\"],[0.5555555555555556,\"#d8576b\"],[0.6666666666666666,\"#ed7953\"],[0.7777777777777778,\"#fb9f3a\"],[0.8888888888888888,\"#fdca26\"],[1.0,\"#f0f921\"]]}],\"heatmapgl\":[{\"type\":\"heatmapgl\",\"colorbar\":{\"outlinewidth\":0,\"ticks\":\"\"},\"colorscale\":[[0.0,\"#0d0887\"],[0.1111111111111111,\"#46039f\"],[0.2222222222222222,\"#7201a8\"],[0.3333333333333333,\"#9c179e\"],[0.4444444444444444,\"#bd3786\"],[0.5555555555555556,\"#d8576b\"],[0.6666666666666666,\"#ed7953\"],[0.7777777777777778,\"#fb9f3a\"],[0.8888888888888888,\"#fdca26\"],[1.0,\"#f0f921\"]]}],\"contourcarpet\":[{\"type\":\"contourcarpet\",\"colorbar\":{\"outlinewidth\":0,\"ticks\":\"\"}}],\"contour\":[{\"type\":\"contour\",\"colorbar\":{\"outlinewidth\":0,\"ticks\":\"\"},\"colorscale\":[[0.0,\"#0d0887\"],[0.1111111111111111,\"#46039f\"],[0.2222222222222222,\"#7201a8\"],[0.3333333333333333,\"#9c179e\"],[0.4444444444444444,\"#bd3786\"],[0.5555555555555556,\"#d8576b\"],[0.6666666666666666,\"#ed7953\"],[0.7777777777777778,\"#fb9f3a\"],[0.8888888888888888,\"#fdca26\"],[1.0,\"#f0f921\"]]}],\"surface\":[{\"type\":\"surface\",\"colorbar\":{\"outlinewidth\":0,\"ticks\":\"\"},\"colorscale\":[[0.0,\"#0d0887\"],[0.1111111111111111,\"#46039f\"],[0.2222222222222222,\"#7201a8\"],[0.3333333333333333,\"#9c179e\"],[0.4444444444444444,\"#bd3786\"],[0.5555555555555556,\"#d8576b\"],[0.6666666666666666,\"#ed7953\"],[0.7777777777777778,\"#fb9f3a\"],[0.8888888888888888,\"#fdca26\"],[1.0,\"#f0f921\"]]}],\"mesh3d\":[{\"type\":\"mesh3d\",\"colorbar\":{\"outlinewidth\":0,\"ticks\":\"\"}}],\"scatter\":[{\"fillpattern\":{\"fillmode\":\"overlay\",\"size\":10,\"solidity\":0.2},\"type\":\"scatter\"}],\"parcoords\":[{\"type\":\"parcoords\",\"line\":{\"colorbar\":{\"outlinewidth\":0,\"ticks\":\"\"}}}],\"scatterpolargl\":[{\"type\":\"scatterpolargl\",\"marker\":{\"colorbar\":{\"outlinewidth\":0,\"ticks\":\"\"}}}],\"bar\":[{\"error_x\":{\"color\":\"#2a3f5f\"},\"error_y\":{\"color\":\"#2a3f5f\"},\"marker\":{\"line\":{\"color\":\"#E5ECF6\",\"width\":0.5},\"pattern\":{\"fillmode\":\"overlay\",\"size\":10,\"solidity\":0.2}},\"type\":\"bar\"}],\"scattergeo\":[{\"type\":\"scattergeo\",\"marker\":{\"colorbar\":{\"outlinewidth\":0,\"ticks\":\"\"}}}],\"scatterpolar\":[{\"type\":\"scatterpolar\",\"marker\":{\"colorbar\":{\"outlinewidth\":0,\"ticks\":\"\"}}}],\"histogram\":[{\"marker\":{\"pattern\":{\"fillmode\":\"overlay\",\"size\":10,\"solidity\":0.2}},\"type\":\"histogram\"}],\"scattergl\":[{\"type\":\"scattergl\",\"marker\":{\"colorbar\":{\"outlinewidth\":0,\"ticks\":\"\"}}}],\"scatter3d\":[{\"type\":\"scatter3d\",\"line\":{\"colorbar\":{\"outlinewidth\":0,\"ticks\":\"\"}},\"marker\":{\"colorbar\":{\"outlinewidth\":0,\"ticks\":\"\"}}}],\"scattermapbox\":[{\"type\":\"scattermapbox\",\"marker\":{\"colorbar\":{\"outlinewidth\":0,\"ticks\":\"\"}}}],\"scatterternary\":[{\"type\":\"scatterternary\",\"marker\":{\"colorbar\":{\"outlinewidth\":0,\"ticks\":\"\"}}}],\"scattercarpet\":[{\"type\":\"scattercarpet\",\"marker\":{\"colorbar\":{\"outlinewidth\":0,\"ticks\":\"\"}}}],\"carpet\":[{\"aaxis\":{\"endlinecolor\":\"#2a3f5f\",\"gridcolor\":\"white\",\"linecolor\":\"white\",\"minorgridcolor\":\"white\",\"startlinecolor\":\"#2a3f5f\"},\"baxis\":{\"endlinecolor\":\"#2a3f5f\",\"gridcolor\":\"white\",\"linecolor\":\"white\",\"minorgridcolor\":\"white\",\"startlinecolor\":\"#2a3f5f\"},\"type\":\"carpet\"}],\"table\":[{\"cells\":{\"fill\":{\"color\":\"#EBF0F8\"},\"line\":{\"color\":\"white\"}},\"header\":{\"fill\":{\"color\":\"#C8D4E3\"},\"line\":{\"color\":\"white\"}},\"type\":\"table\"}],\"barpolar\":[{\"marker\":{\"line\":{\"color\":\"#E5ECF6\",\"width\":0.5},\"pattern\":{\"fillmode\":\"overlay\",\"size\":10,\"solidity\":0.2}},\"type\":\"barpolar\"}],\"pie\":[{\"automargin\":true,\"type\":\"pie\"}]},\"layout\":{\"autotypenumbers\":\"strict\",\"colorway\":[\"#636efa\",\"#EF553B\",\"#00cc96\",\"#ab63fa\",\"#FFA15A\",\"#19d3f3\",\"#FF6692\",\"#B6E880\",\"#FF97FF\",\"#FECB52\"],\"font\":{\"color\":\"#2a3f5f\"},\"hovermode\":\"closest\",\"hoverlabel\":{\"align\":\"left\"},\"paper_bgcolor\":\"white\",\"plot_bgcolor\":\"#E5ECF6\",\"polar\":{\"bgcolor\":\"#E5ECF6\",\"angularaxis\":{\"gridcolor\":\"white\",\"linecolor\":\"white\",\"ticks\":\"\"},\"radialaxis\":{\"gridcolor\":\"white\",\"linecolor\":\"white\",\"ticks\":\"\"}},\"ternary\":{\"bgcolor\":\"#E5ECF6\",\"aaxis\":{\"gridcolor\":\"white\",\"linecolor\":\"white\",\"ticks\":\"\"},\"baxis\":{\"gridcolor\":\"white\",\"linecolor\":\"white\",\"ticks\":\"\"},\"caxis\":{\"gridcolor\":\"white\",\"linecolor\":\"white\",\"ticks\":\"\"}},\"coloraxis\":{\"colorbar\":{\"outlinewidth\":0,\"ticks\":\"\"}},\"colorscale\":{\"sequential\":[[0.0,\"#0d0887\"],[0.1111111111111111,\"#46039f\"],[0.2222222222222222,\"#7201a8\"],[0.3333333333333333,\"#9c179e\"],[0.4444444444444444,\"#bd3786\"],[0.5555555555555556,\"#d8576b\"],[0.6666666666666666,\"#ed7953\"],[0.7777777777777778,\"#fb9f3a\"],[0.8888888888888888,\"#fdca26\"],[1.0,\"#f0f921\"]],\"sequentialminus\":[[0.0,\"#0d0887\"],[0.1111111111111111,\"#46039f\"],[0.2222222222222222,\"#7201a8\"],[0.3333333333333333,\"#9c179e\"],[0.4444444444444444,\"#bd3786\"],[0.5555555555555556,\"#d8576b\"],[0.6666666666666666,\"#ed7953\"],[0.7777777777777778,\"#fb9f3a\"],[0.8888888888888888,\"#fdca26\"],[1.0,\"#f0f921\"]],\"diverging\":[[0,\"#8e0152\"],[0.1,\"#c51b7d\"],[0.2,\"#de77ae\"],[0.3,\"#f1b6da\"],[0.4,\"#fde0ef\"],[0.5,\"#f7f7f7\"],[0.6,\"#e6f5d0\"],[0.7,\"#b8e186\"],[0.8,\"#7fbc41\"],[0.9,\"#4d9221\"],[1,\"#276419\"]]},\"xaxis\":{\"gridcolor\":\"white\",\"linecolor\":\"white\",\"ticks\":\"\",\"title\":{\"standoff\":15},\"zerolinecolor\":\"white\",\"automargin\":true,\"zerolinewidth\":2},\"yaxis\":{\"gridcolor\":\"white\",\"linecolor\":\"white\",\"ticks\":\"\",\"title\":{\"standoff\":15},\"zerolinecolor\":\"white\",\"automargin\":true,\"zerolinewidth\":2},\"scene\":{\"xaxis\":{\"backgroundcolor\":\"#E5ECF6\",\"gridcolor\":\"white\",\"linecolor\":\"white\",\"showbackground\":true,\"ticks\":\"\",\"zerolinecolor\":\"white\",\"gridwidth\":2},\"yaxis\":{\"backgroundcolor\":\"#E5ECF6\",\"gridcolor\":\"white\",\"linecolor\":\"white\",\"showbackground\":true,\"ticks\":\"\",\"zerolinecolor\":\"white\",\"gridwidth\":2},\"zaxis\":{\"backgroundcolor\":\"#E5ECF6\",\"gridcolor\":\"white\",\"linecolor\":\"white\",\"showbackground\":true,\"ticks\":\"\",\"zerolinecolor\":\"white\",\"gridwidth\":2}},\"shapedefaults\":{\"line\":{\"color\":\"#2a3f5f\"}},\"annotationdefaults\":{\"arrowcolor\":\"#2a3f5f\",\"arrowhead\":0,\"arrowwidth\":1},\"geo\":{\"bgcolor\":\"white\",\"landcolor\":\"#E5ECF6\",\"subunitcolor\":\"white\",\"showland\":true,\"showlakes\":true,\"lakecolor\":\"white\"},\"title\":{\"x\":0.05},\"mapbox\":{\"style\":\"light\"}}},\"xaxis\":{\"anchor\":\"y\",\"domain\":[0.0,0.475],\"type\":\"category\"},\"yaxis\":{\"anchor\":\"x\",\"domain\":[0.55,1.0],\"title\":{\"text\":\"Joint Goal Accuracy\"},\"range\":[0.25,0.6]},\"xaxis2\":{\"anchor\":\"y2\",\"domain\":[0.525,1.0],\"type\":\"category\"},\"yaxis2\":{\"anchor\":\"x2\",\"domain\":[0.55,1.0],\"range\":[0.25,0.55]},\"xaxis3\":{\"anchor\":\"y3\",\"domain\":[0.0,0.475],\"title\":{\"text\":\"# of labelled dialogue turns\"},\"type\":\"category\"},\"yaxis3\":{\"anchor\":\"x3\",\"domain\":[0.0,0.45],\"title\":{\"text\":\"Joint Goal Accuracy\"},\"range\":[0.35,0.55]},\"xaxis4\":{\"anchor\":\"y4\",\"domain\":[0.525,1.0],\"title\":{\"text\":\"# of labelled dialogue turns\"},\"type\":\"category\"},\"yaxis4\":{\"anchor\":\"x4\",\"domain\":[0.0,0.45],\"range\":[0.3,0.6]},\"annotations\":[{\"font\":{\"size\":16},\"showarrow\":false,\"text\":\"KAGE-GPT2 on MultiWOZ 2.0\",\"x\":0.2375,\"xanchor\":\"center\",\"xref\":\"paper\",\"y\":1.0,\"yanchor\":\"bottom\",\"yref\":\"paper\"},{\"font\":{\"size\":16},\"showarrow\":false,\"text\":\"PPTOD_base on MultiWOZ 2.0\",\"x\":0.7625,\"xanchor\":\"center\",\"xref\":\"paper\",\"y\":1.0,\"yanchor\":\"bottom\",\"yref\":\"paper\"},{\"font\":{\"size\":16},\"showarrow\":false,\"text\":\"KAGE-GPT2 on MultiWOZ 2.1\",\"x\":0.2375,\"xanchor\":\"center\",\"xref\":\"paper\",\"y\":0.45,\"yanchor\":\"bottom\",\"yref\":\"paper\"},{\"font\":{\"size\":16},\"showarrow\":false,\"text\":\"PPTOD_base on MultiWOZ 2.1\",\"x\":0.7625,\"xanchor\":\"center\",\"xref\":\"paper\",\"y\":0.45,\"yanchor\":\"bottom\",\"yref\":\"paper\"},{\"font\":{\"color\":\"rgba(98, 85, 92, 0.8)\",\"size\":10},\"showarrow\":false,\"text\":\"Last Turn(14.4%)\",\"x\":0,\"xanchor\":\"left\",\"xref\":\"x domain\",\"y\":0.5043,\"yanchor\":\"bottom\",\"yref\":\"y\"},{\"font\":{\"color\":\"rgba(98, 85, 92, 0.8)\",\"size\":10},\"showarrow\":false,\"text\":\"Full Data(100%)\",\"x\":0,\"xanchor\":\"left\",\"xref\":\"x domain\",\"y\":0.5486,\"yanchor\":\"bottom\",\"yref\":\"y\"},{\"font\":{\"color\":\"rgba(98, 85, 92, 0.8)\",\"size\":10},\"showarrow\":false,\"text\":\"Last Turn(14.4%)\",\"x\":0,\"xanchor\":\"left\",\"xref\":\"x domain\",\"y\":0.5043,\"yanchor\":\"bottom\",\"yref\":\"y\"},{\"font\":{\"color\":\"rgba(98, 85, 92, 0.8)\",\"size\":10},\"showarrow\":false,\"text\":\"Full Data(100%)\",\"x\":0,\"xanchor\":\"left\",\"xref\":\"x domain\",\"y\":0.5486,\"yanchor\":\"bottom\",\"yref\":\"y\"},{\"font\":{\"color\":\"rgba(98, 85, 92, 0.8)\",\"size\":10},\"showarrow\":false,\"text\":\"Last Turn(14.4%)\",\"x\":0,\"xanchor\":\"left\",\"xref\":\"x domain\",\"y\":0.5043,\"yanchor\":\"bottom\",\"yref\":\"y\"},{\"font\":{\"color\":\"rgba(98, 85, 92, 0.8)\",\"size\":10},\"showarrow\":false,\"text\":\"Full Data(100%)\",\"x\":0,\"xanchor\":\"left\",\"xref\":\"x domain\",\"y\":0.5486,\"yanchor\":\"bottom\",\"yref\":\"y\"},{\"font\":{\"color\":\"rgba(98, 85, 92, 0.8)\",\"size\":10},\"showarrow\":false,\"text\":\"Last Turn(14.4%)\",\"x\":0,\"xanchor\":\"left\",\"xref\":\"x3 domain\",\"y\":0.4912,\"yanchor\":\"bottom\",\"yref\":\"y3\"},{\"font\":{\"color\":\"rgba(98, 85, 92, 0.8)\",\"size\":10},\"showarrow\":false,\"text\":\"Last Turn(14.4%)\",\"x\":0,\"xanchor\":\"left\",\"xref\":\"x3 domain\",\"y\":0.4912,\"yanchor\":\"bottom\",\"yref\":\"y3\"},{\"font\":{\"color\":\"rgba(98, 85, 92, 0.8)\",\"size\":10},\"showarrow\":false,\"text\":\"Last Turn(14.4%)\",\"x\":0,\"xanchor\":\"left\",\"xref\":\"x3 domain\",\"y\":0.4912,\"yanchor\":\"bottom\",\"yref\":\"y3\"},{\"font\":{\"color\":\"rgba(98, 85, 92, 0.8)\",\"size\":10},\"showarrow\":false,\"text\":\"Last Turn(14.4%)\",\"x\":0,\"xanchor\":\"left\",\"xref\":\"x2 domain\",\"y\":0.4383,\"yanchor\":\"bottom\",\"yref\":\"y2\"},{\"font\":{\"color\":\"rgba(98, 85, 92, 0.8)\",\"size\":10},\"showarrow\":false,\"text\":\"Full Data(100%)\",\"x\":0,\"xanchor\":\"left\",\"xref\":\"x2 domain\",\"y\":0.5337,\"yanchor\":\"bottom\",\"yref\":\"y2\"},{\"font\":{\"color\":\"rgba(98, 85, 92, 0.8)\",\"size\":10},\"showarrow\":false,\"text\":\"Last Turn(14.4%)\",\"x\":0,\"xanchor\":\"left\",\"xref\":\"x2 domain\",\"y\":0.4383,\"yanchor\":\"bottom\",\"yref\":\"y2\"},{\"font\":{\"color\":\"rgba(98, 85, 92, 0.8)\",\"size\":10},\"showarrow\":false,\"text\":\"Full Data(100%)\",\"x\":0,\"xanchor\":\"left\",\"xref\":\"x2 domain\",\"y\":0.5337,\"yanchor\":\"bottom\",\"yref\":\"y2\"},{\"font\":{\"color\":\"rgba(98, 85, 92, 0.8)\",\"size\":10},\"showarrow\":false,\"text\":\"Last Turn(14.4%)\",\"x\":0,\"xanchor\":\"left\",\"xref\":\"x2 domain\",\"y\":0.4383,\"yanchor\":\"bottom\",\"yref\":\"y2\"},{\"font\":{\"color\":\"rgba(98, 85, 92, 0.8)\",\"size\":10},\"showarrow\":false,\"text\":\"Full Data(100%)\",\"x\":0,\"xanchor\":\"left\",\"xref\":\"x2 domain\",\"y\":0.5337,\"yanchor\":\"bottom\",\"yref\":\"y2\"},{\"font\":{\"color\":\"rgba(98, 85, 92, 0.8)\",\"size\":10},\"showarrow\":false,\"text\":\"Last Turn(14.4%)\",\"x\":0,\"xanchor\":\"left\",\"xref\":\"x4 domain\",\"y\":0.4594,\"yanchor\":\"bottom\",\"yref\":\"y4\"},{\"font\":{\"color\":\"rgba(98, 85, 92, 0.8)\",\"size\":10},\"showarrow\":false,\"text\":\"Full Data(100%)\",\"x\":0,\"xanchor\":\"left\",\"xref\":\"x4 domain\",\"y\":0.571,\"yanchor\":\"bottom\",\"yref\":\"y4\"},{\"font\":{\"color\":\"rgba(98, 85, 92, 0.8)\",\"size\":10},\"showarrow\":false,\"text\":\"Last Turn(14.4%)\",\"x\":0,\"xanchor\":\"left\",\"xref\":\"x4 domain\",\"y\":0.4594,\"yanchor\":\"bottom\",\"yref\":\"y4\"},{\"font\":{\"color\":\"rgba(98, 85, 92, 0.8)\",\"size\":10},\"showarrow\":false,\"text\":\"Full Data(100%)\",\"x\":0,\"xanchor\":\"left\",\"xref\":\"x4 domain\",\"y\":0.571,\"yanchor\":\"bottom\",\"yref\":\"y4\"},{\"font\":{\"color\":\"rgba(98, 85, 92, 0.8)\",\"size\":10},\"showarrow\":false,\"text\":\"Last Turn(14.4%)\",\"x\":0,\"xanchor\":\"left\",\"xref\":\"x4 domain\",\"y\":0.4594,\"yanchor\":\"bottom\",\"yref\":\"y4\"},{\"font\":{\"color\":\"rgba(98, 85, 92, 0.8)\",\"size\":10},\"showarrow\":false,\"text\":\"Full Data(100%)\",\"x\":0,\"xanchor\":\"left\",\"xref\":\"x4 domain\",\"y\":0.571,\"yanchor\":\"bottom\",\"yref\":\"y4\"}],\"shapes\":[{\"line\":{\"color\":\"green\",\"dash\":\"dot\",\"width\":1.5},\"type\":\"line\",\"x0\":0,\"x1\":1,\"xref\":\"x domain\",\"y0\":0.5043,\"y1\":0.5043,\"yref\":\"y\"},{\"line\":{\"color\":\"red\",\"dash\":\"dot\",\"width\":1.5},\"type\":\"line\",\"x0\":0,\"x1\":1,\"xref\":\"x domain\",\"y0\":0.5486,\"y1\":0.5486,\"yref\":\"y\"},{\"line\":{\"color\":\"green\",\"dash\":\"dot\",\"width\":1.5},\"type\":\"line\",\"x0\":0,\"x1\":1,\"xref\":\"x domain\",\"y0\":0.5043,\"y1\":0.5043,\"yref\":\"y\"},{\"line\":{\"color\":\"red\",\"dash\":\"dot\",\"width\":1.5},\"type\":\"line\",\"x0\":0,\"x1\":1,\"xref\":\"x domain\",\"y0\":0.5486,\"y1\":0.5486,\"yref\":\"y\"},{\"line\":{\"color\":\"green\",\"dash\":\"dot\",\"width\":1.5},\"type\":\"line\",\"x0\":0,\"x1\":1,\"xref\":\"x domain\",\"y0\":0.5043,\"y1\":0.5043,\"yref\":\"y\"},{\"line\":{\"color\":\"red\",\"dash\":\"dot\",\"width\":1.5},\"type\":\"line\",\"x0\":0,\"x1\":1,\"xref\":\"x domain\",\"y0\":0.5486,\"y1\":0.5486,\"yref\":\"y\"},{\"line\":{\"color\":\"green\",\"dash\":\"dot\",\"width\":1.5},\"type\":\"line\",\"x0\":0,\"x1\":1,\"xref\":\"x3 domain\",\"y0\":0.4912,\"y1\":0.4912,\"yref\":\"y3\"},{\"line\":{\"color\":\"green\",\"dash\":\"dot\",\"width\":1.5},\"type\":\"line\",\"x0\":0,\"x1\":1,\"xref\":\"x3 domain\",\"y0\":0.4912,\"y1\":0.4912,\"yref\":\"y3\"},{\"line\":{\"color\":\"green\",\"dash\":\"dot\",\"width\":1.5},\"type\":\"line\",\"x0\":0,\"x1\":1,\"xref\":\"x3 domain\",\"y0\":0.4912,\"y1\":0.4912,\"yref\":\"y3\"},{\"line\":{\"color\":\"green\",\"dash\":\"dot\",\"width\":1.5},\"type\":\"line\",\"x0\":0,\"x1\":1,\"xref\":\"x2 domain\",\"y0\":0.4383,\"y1\":0.4383,\"yref\":\"y2\"},{\"line\":{\"color\":\"red\",\"dash\":\"dot\",\"width\":1.5},\"type\":\"line\",\"x0\":0,\"x1\":1,\"xref\":\"x2 domain\",\"y0\":0.5337,\"y1\":0.5337,\"yref\":\"y2\"},{\"line\":{\"color\":\"green\",\"dash\":\"dot\",\"width\":1.5},\"type\":\"line\",\"x0\":0,\"x1\":1,\"xref\":\"x2 domain\",\"y0\":0.4383,\"y1\":0.4383,\"yref\":\"y2\"},{\"line\":{\"color\":\"red\",\"dash\":\"dot\",\"width\":1.5},\"type\":\"line\",\"x0\":0,\"x1\":1,\"xref\":\"x2 domain\",\"y0\":0.5337,\"y1\":0.5337,\"yref\":\"y2\"},{\"line\":{\"color\":\"green\",\"dash\":\"dot\",\"width\":1.5},\"type\":\"line\",\"x0\":0,\"x1\":1,\"xref\":\"x2 domain\",\"y0\":0.4383,\"y1\":0.4383,\"yref\":\"y2\"},{\"line\":{\"color\":\"red\",\"dash\":\"dot\",\"width\":1.5},\"type\":\"line\",\"x0\":0,\"x1\":1,\"xref\":\"x2 domain\",\"y0\":0.5337,\"y1\":0.5337,\"yref\":\"y2\"},{\"line\":{\"color\":\"green\",\"dash\":\"dot\",\"width\":1.5},\"type\":\"line\",\"x0\":0,\"x1\":1,\"xref\":\"x4 domain\",\"y0\":0.4594,\"y1\":0.4594,\"yref\":\"y4\"},{\"line\":{\"color\":\"red\",\"dash\":\"dot\",\"width\":1.5},\"type\":\"line\",\"x0\":0,\"x1\":1,\"xref\":\"x4 domain\",\"y0\":0.571,\"y1\":0.571,\"yref\":\"y4\"},{\"line\":{\"color\":\"green\",\"dash\":\"dot\",\"width\":1.5},\"type\":\"line\",\"x0\":0,\"x1\":1,\"xref\":\"x4 domain\",\"y0\":0.4594,\"y1\":0.4594,\"yref\":\"y4\"},{\"line\":{\"color\":\"red\",\"dash\":\"dot\",\"width\":1.5},\"type\":\"line\",\"x0\":0,\"x1\":1,\"xref\":\"x4 domain\",\"y0\":0.571,\"y1\":0.571,\"yref\":\"y4\"},{\"line\":{\"color\":\"green\",\"dash\":\"dot\",\"width\":1.5},\"type\":\"line\",\"x0\":0,\"x1\":1,\"xref\":\"x4 domain\",\"y0\":0.4594,\"y1\":0.4594,\"yref\":\"y4\"},{\"line\":{\"color\":\"red\",\"dash\":\"dot\",\"width\":1.5},\"type\":\"line\",\"x0\":0,\"x1\":1,\"xref\":\"x4 domain\",\"y0\":0.571,\"y1\":0.571,\"yref\":\"y4\"}],\"margin\":{\"l\":5,\"t\":20,\"b\":5,\"r\":5},\"height\":500},                        {\"responsive\": true}                    ).then(function(){\n",
       "                            \n",
       "var gd = document.getElementById('f3ee4777-beca-49b8-a7ef-ad59193db7fd');\n",
       "var x = new MutationObserver(function (mutations, observer) {{\n",
       "        var display = window.getComputedStyle(gd).display;\n",
       "        if (!display || display === 'none') {{\n",
       "            console.log([gd, 'removed!']);\n",
       "            Plotly.purge(gd);\n",
       "            observer.disconnect();\n",
       "        }}\n",
       "}});\n",
       "\n",
       "// Listen for the removal of the full notebook cells\n",
       "var notebookContainer = gd.closest('#notebook-container');\n",
       "if (notebookContainer) {{\n",
       "    x.observe(notebookContainer, {childList: true});\n",
       "}}\n",
       "\n",
       "// Listen for the clearing of the current output cell\n",
       "var outputEl = gd.closest('.output');\n",
       "if (outputEl) {{\n",
       "    x.observe(outputEl, {childList: true});\n",
       "}}\n",
       "\n",
       "                        })                };                });            </script>        </div>"
      ]
     },
     "metadata": {},
     "output_type": "display_data"
    }
   ],
   "source": [
    "plot_4_joint_acc_by_round(kage_mwz20_k2000, kage_mwz21_k2000, pptod_mwz20_k2000, pptod_mwz21_k2000)\n",
    "\n",
    "# k2000_4plot = plot_4_joint_acc_by_round(kage_mwz20_k2000, kage_mwz21_k2000, pptod_mwz20_k2000, pptod_mwz21_k2000)\n",
    "# pio.write_image(k2000_4plot, \"./data/plot/k2000_4plots.pdf\", width=700, height=450)\n",
    "\n"
   ]
  },
  {
   "cell_type": "code",
   "execution_count": null,
   "metadata": {},
   "outputs": [],
   "source": []
  },
  {
   "cell_type": "code",
   "execution_count": null,
   "metadata": {},
   "outputs": [],
   "source": []
  },
  {
   "cell_type": "code",
   "execution_count": 42,
   "metadata": {},
   "outputs": [],
   "source": [
    "def row1col4_plot_4_joint_acc_by_round(kage_mwz20_k2000, kage_mwz21_k2000, pptod_mwz20_k2000):\n",
    "    ################ 1 row x 4 col\n",
    "    \n",
    "    kage_mwz20_df_list, strategy_list, kage_mwz20_baselines = kage_mwz20_k2000\n",
    "    kage_mwz21_df_list, _, kage_mwz21_baselines = kage_mwz21_k2000\n",
    "    pptod_mwz20_df_list, _, pptod_mwz20_baselines = pptod_mwz20_k2000\n",
    "    \n",
    "    \n",
    "    kage_mwz20_full_baseline, kage_mwz20_lt_baseline, kage_mwz20_rand_baseline = kage_mwz20_baselines\n",
    "    kage_mwz21_full_baseline, kage_mwz21_lt_baseline, kage_mwz21_rand_baseline = kage_mwz21_baselines\n",
    "    pptod_mwz20_full_baseline, pptod_mwz20_lt_baseline, pptod_mwz20_rand_baseline = pptod_mwz20_baselines\n",
    "    \n",
    "    \n",
    "#     fig = go.Figure()\n",
    "\n",
    "    fig = make_subplots(\n",
    "        rows=1, cols=4,\n",
    "        subplot_titles=(\n",
    "            \"KAGE-GPT2+ME on MultiWOZ 2.0\", \n",
    "            \"PPTOD+ME on MultiWOZ 2.0\",\n",
    "            \"KAGE-GPT2+ME on MultiWOZ 2.1\", \n",
    "            \"PPTOD+ME on MultiWOZ 2.1\",\n",
    "        ),\n",
    "        vertical_spacing=0.1,\n",
    "        horizontal_spacing=0.05,\n",
    "    )\n",
    "    \n",
    "    colCycle = get_colCycle()\n",
    "    line_color=next_col(cols=colCycle)\n",
    "    \n",
    "    ### KAGE MWZ20 ###\n",
    "    for i, df in enumerate(kage_mwz20_df_list):\n",
    "    \n",
    "        y_upper = list(df[\"test_joint_acc\"] + df[\"joint_acc_std\"])\n",
    "        y_lower = list(df[\"test_joint_acc\"] - df[\"joint_acc_std\"])\n",
    "        y_lower = y_lower[::-1]\n",
    "\n",
    "        x_std = list(df[\"# of labelled dialogue turns\"])\n",
    "        x_std = x_std + x_std[::-1]\n",
    "\n",
    "        new_col = next(line_color)\n",
    "        \n",
    "        fig.add_trace(\n",
    "            go.Scatter(\n",
    "                x=x_std, \n",
    "                y=y_upper + y_lower, \n",
    "                fill='tozerox',\n",
    "                fillcolor=new_col,\n",
    "                line=dict(color='rgba(255,255,255,0)'),\n",
    "                name=strategy_list[i],\n",
    "                mode=\"lines\",\n",
    "                showlegend=False,\n",
    "            ),\n",
    "            row=1, col=1\n",
    "        )\n",
    "\n",
    "        fig.add_trace(\n",
    "            go.Scatter(\n",
    "                x=df[\"# of labelled dialogue turns\"], \n",
    "                y=df[\"test_joint_acc\"], \n",
    "                line=dict(color=new_col, width=3),\n",
    "                mode=\"lines+markers\",\n",
    "                name=strategy_list[i],\n",
    "            ),\n",
    "            row=1, col=1\n",
    "        )\n",
    "        \n",
    "        # Last Turn\n",
    "        fig.add_hline(\n",
    "            y=kage_mwz20_lt_baseline, \n",
    "            line_width=1.5, \n",
    "            line_dash=\"dot\", # dash\n",
    "            line_color=\"green\",\n",
    "            annotation_text=\"Last Turn(14.4%)\", \n",
    "            annotation_position=\"top left\",\n",
    "            annotation_font_size=10,\n",
    "            annotation_font_color=\"rgba(98, 85, 92, 0.8)\",\n",
    "            row=1, col=1\n",
    "        )\n",
    "        \n",
    "        # Full Data\n",
    "        fig.add_hline(\n",
    "            y=kage_mwz20_full_baseline, \n",
    "            line_width=1.5, \n",
    "            line_dash=\"dot\", # dash\n",
    "            line_color=\"red\",\n",
    "            annotation_text=\"Full Data(100%)\", \n",
    "            annotation_position=\"top left\",\n",
    "            annotation_font_size=10,\n",
    "            annotation_font_color=\"rgba(98, 85, 92, 0.8)\",\n",
    "            row=1, col=1\n",
    "        )\n",
    "    \n",
    "    # reset\n",
    "    line_color=next_col(cols=colCycle)\n",
    "    ### KAGE MWZ21 ###\n",
    "    for i, df in enumerate(kage_mwz21_df_list):\n",
    "    \n",
    "        y_upper = list(df[\"test_joint_acc\"] + df[\"joint_acc_std\"])\n",
    "        y_lower = list(df[\"test_joint_acc\"] - df[\"joint_acc_std\"])\n",
    "        y_lower = y_lower[::-1]\n",
    "\n",
    "        x_std = list(df[\"# of labelled dialogue turns\"])\n",
    "        x_std = x_std + x_std[::-1]\n",
    "\n",
    "        new_col = next(line_color)\n",
    "        \n",
    "        fig.add_trace(\n",
    "            go.Scatter(\n",
    "                x=x_std, \n",
    "                y=y_upper + y_lower, \n",
    "                fill='tozerox',\n",
    "                fillcolor=new_col,\n",
    "                line=dict(color='rgba(255,255,255,0)'),\n",
    "#                 name=strategy_list[i],\n",
    "                mode=\"lines\",\n",
    "                showlegend=False,\n",
    "            ),\n",
    "            row=1, col=3\n",
    "        )\n",
    "\n",
    "        fig.add_trace(\n",
    "            go.Scatter(\n",
    "                x=df[\"# of labelled dialogue turns\"], \n",
    "                y=df[\"test_joint_acc\"], \n",
    "                line=dict(color=new_col, width=3),\n",
    "                mode=\"lines+markers\",\n",
    "                showlegend=False,\n",
    "#                 name=strategy_list[i],\n",
    "            ),\n",
    "            row=1, col=3\n",
    "        )\n",
    "        \n",
    "        # Last Turn\n",
    "        fig.add_hline(\n",
    "            y=kage_mwz21_lt_baseline, \n",
    "            line_width=1.5, \n",
    "            line_dash=\"dot\", # dash\n",
    "            line_color=\"green\",\n",
    "            annotation_text=\"Last Turn(14.4%)\", \n",
    "            annotation_position=\"top left\",\n",
    "            annotation_font_size=10,\n",
    "            annotation_font_color=\"rgba(98, 85, 92, 0.8)\",\n",
    "            row=1, col=3\n",
    "        )\n",
    "        \n",
    "#         # Full Data\n",
    "#         fig.add_hline(\n",
    "#             y=kage_mwz21_full_baseline, \n",
    "#             line_width=1, \n",
    "#             line_dash=\"dot\", # dash\n",
    "#             line_color=\"red\",\n",
    "#             annotation_text=\"Full Data(100%)\", \n",
    "#             annotation_position=\"top left\",\n",
    "#             row=1, col=2\n",
    "#         )\n",
    "            \n",
    "    # reset\n",
    "    line_color=next_col(cols=colCycle)\n",
    "    ### PPTOD MWZ20 ###\n",
    "    for i, df in enumerate(pptod_mwz20_df_list):\n",
    "    \n",
    "        y_upper = list(df[\"test_joint_acc\"] + df[\"joint_acc_std\"])\n",
    "        y_lower = list(df[\"test_joint_acc\"] - df[\"joint_acc_std\"])\n",
    "        y_lower = y_lower[::-1]\n",
    "\n",
    "        x_std = list(df[\"# of labelled dialogue turns\"])\n",
    "        x_std = x_std + x_std[::-1]\n",
    "\n",
    "        new_col = next(line_color)\n",
    "        \n",
    "        fig.add_trace(\n",
    "            go.Scatter(\n",
    "                x=x_std, \n",
    "                y=y_upper + y_lower, \n",
    "                fill='tozerox',\n",
    "                fillcolor=new_col,\n",
    "                line=dict(color='rgba(255,255,255,0)'),\n",
    "#                 name=strategy_list[i],\n",
    "                mode=\"lines\",\n",
    "                showlegend=False,\n",
    "            ),\n",
    "            row=1, col=2\n",
    "        )\n",
    "\n",
    "        fig.add_trace(\n",
    "            go.Scatter(\n",
    "                x=df[\"# of labelled dialogue turns\"], \n",
    "                y=df[\"test_joint_acc\"], \n",
    "                line=dict(color=new_col, width=3),\n",
    "                mode=\"lines+markers\",\n",
    "                showlegend=False,\n",
    "#                 name=strategy_list[i],\n",
    "            ),\n",
    "            row=1, col=2\n",
    "        )\n",
    "        \n",
    "        # Last Turn\n",
    "        fig.add_hline(\n",
    "            y=pptod_mwz20_lt_baseline, \n",
    "            line_width=1.5, \n",
    "            line_dash=\"dot\", # dash\n",
    "            line_color=\"green\",\n",
    "            annotation_text=\"Last Turn(14.4%)\", \n",
    "            annotation_position=\"top left\",\n",
    "            annotation_font_size=10,\n",
    "            annotation_font_color=\"rgba(98, 85, 92, 0.8)\",\n",
    "            row=1, col=2\n",
    "        )\n",
    "        \n",
    "        # Full Data\n",
    "        fig.add_hline(\n",
    "            y=pptod_mwz20_full_baseline, \n",
    "            line_width=1.5, \n",
    "            line_dash=\"dot\", # dash\n",
    "            line_color=\"red\",\n",
    "            annotation_text=\"Full Data(100%)\", \n",
    "            annotation_position=\"top left\",\n",
    "            annotation_font_size=10,\n",
    "            annotation_font_color=\"rgba(98, 85, 92, 0.8)\",\n",
    "            row=1, col=2\n",
    "        )\n",
    "        \n",
    "    # reset\n",
    "    line_color=next_col(cols=colCycle)\n",
    "    ### PPTOD MWZ21 ###\n",
    "    for i, df in enumerate(pptod_mwz20_df_list):\n",
    "    \n",
    "        y_upper = list(df[\"test_joint_acc\"] + df[\"joint_acc_std\"])\n",
    "        y_lower = list(df[\"test_joint_acc\"] - df[\"joint_acc_std\"])\n",
    "        y_lower = y_lower[::-1]\n",
    "\n",
    "        x_std = list(df[\"# of labelled dialogue turns\"])\n",
    "        x_std = x_std + x_std[::-1]\n",
    "\n",
    "        new_col = next(line_color)\n",
    "        \n",
    "        fig.add_trace(\n",
    "            go.Scatter(\n",
    "                x=x_std, \n",
    "                y=y_upper + y_lower, \n",
    "                fill='tozerox',\n",
    "                fillcolor=new_col,\n",
    "                line=dict(color='rgba(255,255,255,0)'),\n",
    "#                 name=strategy_list[i],\n",
    "                mode=\"lines\",\n",
    "                showlegend=False,\n",
    "            ),\n",
    "            row=1, col=4\n",
    "        )\n",
    "\n",
    "        fig.add_trace(\n",
    "            go.Scatter(\n",
    "                x=df[\"# of labelled dialogue turns\"], \n",
    "                y=df[\"test_joint_acc\"], \n",
    "                line=dict(color=new_col, width=3),\n",
    "                mode=\"lines+markers\",\n",
    "                showlegend=False,\n",
    "#                 name=strategy_list[i],\n",
    "            ),\n",
    "            row=1, col=4\n",
    "        )\n",
    "        \n",
    "        # Last Turn\n",
    "        fig.add_hline(\n",
    "            y=pptod_mwz20_lt_baseline, \n",
    "            line_width=1.5, \n",
    "            line_dash=\"dot\", # dash\n",
    "            line_color=\"green\",\n",
    "            annotation_text=\"Last Turn(14.4%)\", \n",
    "            annotation_position=\"top left\",\n",
    "            annotation_font_size=10,\n",
    "            annotation_font_color=\"rgba(98, 85, 92, 0.8)\",\n",
    "            row=1, col=4\n",
    "        )\n",
    "        \n",
    "        # Full Data\n",
    "        fig.add_hline(\n",
    "            y=pptod_mwz20_full_baseline, \n",
    "            line_width=1.5, \n",
    "            line_dash=\"dot\", # dash\n",
    "            line_color=\"red\",\n",
    "            annotation_text=\"Full Data(100%)\", \n",
    "            annotation_position=\"top left\",\n",
    "            annotation_font_size=10,\n",
    "            annotation_font_color=\"rgba(98, 85, 92, 0.8)\",\n",
    "            row=1, col=4\n",
    "        )\n",
    "        \n",
    "    \n",
    "    fig.update_xaxes(title_text=\"# of labelled dialogue turns\", type=\"category\", row=1, col=1)\n",
    "    fig.update_xaxes(title_text=\"# of labelled dialogue turns\", type=\"category\", row=1, col=2)\n",
    "    fig.update_xaxes(title_text=\"# of labelled dialogue turns\", type=\"category\", row=1, col=3)\n",
    "    fig.update_xaxes(title_text=\"# of labelled dialogue turns\", type=\"category\", row=1, col=4)\n",
    "    \n",
    "#     fig.update_yaxes(ticksuffix = \" \")\n",
    "    fig.update_yaxes(title_text=\"Joint Goal Accuracy\", range=[0.25, 0.6], row=1, col=1)\n",
    "    fig.update_yaxes(range=[0.25, 0.55], row=1, col=2)\n",
    "    fig.update_yaxes(range=[0.35, 0.55], row=1, col=3)\n",
    "    fig.update_yaxes(range=[0.2, 0.6], row=1, col=4)\n",
    "    \n",
    "    fig.update_layout(\n",
    "        height=300,\n",
    "        width=1400,\n",
    "        margin_l=5, margin_t=20, margin_b=5, margin_r=5\n",
    "#         yaxis_range=[0.2, 0.6],\n",
    "#         title=\"Plot Title\",\n",
    "#         legend_title=\"Legend Title\",\n",
    "#         xaxis_title=\"# of labelled dialogue turns\",\n",
    "#         yaxis_title=\"Joint Goal Accuracy\",\n",
    "#         font=dict(\n",
    "#             family=\"Courier New, monospace\",\n",
    "#             size=18,\n",
    "#             color=\"RebeccaPurple\"\n",
    "#         )\n",
    "    )\n",
    "    \n",
    "#     fig.update_traces(textposition=\"top center\")\n",
    "    \n",
    "#     fig.show()\n",
    "    return fig"
   ]
  },
  {
   "cell_type": "code",
   "execution_count": 46,
   "metadata": {},
   "outputs": [
    {
     "data": {
      "application/vnd.plotly.v1+json": {
       "config": {
        "plotlyServerURL": "https://plot.ly"
       },
       "data": [
        {
         "fill": "tozerox",
         "fillcolor": "rgba(99, 110, 250, 0.3)",
         "line": {
          "color": "rgba(255,255,255,0)"
         },
         "mode": "lines",
         "name": "RS",
         "showlegend": false,
         "type": "scatter",
         "x": [
          2000,
          4000,
          6000,
          7888,
          7888,
          6000,
          4000,
          2000
         ],
         "xaxis": "x",
         "y": [
          0.43619269926426874,
          0.46163529909500356,
          0.500882995041742,
          0.5109520638072521,
          0.4963729361927479,
          0.476328004958258,
          0.45683970090499637,
          0.4143233007357313
         ],
         "yaxis": "y"
        },
        {
         "line": {
          "color": "rgba(99, 110, 250, 0.3)",
          "width": 3
         },
         "mode": "lines+markers",
         "name": "RS",
         "type": "scatter",
         "x": [
          2000,
          4000,
          6000,
          7888
         ],
         "xaxis": "x",
         "y": [
          0.425258,
          0.45923749999999997,
          0.4886055,
          0.5036625
         ],
         "yaxis": "y"
        },
        {
         "fill": "tozerox",
         "fillcolor": "rgba(239, 85, 59, 0.3)",
         "line": {
          "color": "rgba(255,255,255,0)"
         },
         "mode": "lines",
         "name": "LC",
         "showlegend": false,
         "type": "scatter",
         "x": [
          2000,
          4000,
          6000,
          7888,
          7888,
          6000,
          4000,
          2000
         ],
         "xaxis": "x",
         "y": [
          0.4785086811441146,
          0.4858502941367456,
          0.49615356669150656,
          0.5066840033175304,
          0.5045739966824696,
          0.4788874333084935,
          0.45649970586325445,
          0.27420431885588537
         ],
         "yaxis": "y"
        },
        {
         "line": {
          "color": "rgba(239, 85, 59, 0.3)",
          "width": 3
         },
         "mode": "lines+markers",
         "name": "LC",
         "type": "scatter",
         "x": [
          2000,
          4000,
          6000,
          7888
         ],
         "xaxis": "x",
         "y": [
          0.3763565,
          0.471175,
          0.4875205,
          0.505629
         ],
         "yaxis": "y"
        },
        {
         "fill": "tozerox",
         "fillcolor": "rgba(0, 204, 150, 0.3)",
         "line": {
          "color": "rgba(255,255,255,0)"
         },
         "mode": "lines",
         "name": "ME",
         "showlegend": false,
         "type": "scatter",
         "x": [
          2000,
          4000,
          6000,
          7888,
          7888,
          6000,
          4000,
          2000
         ],
         "xaxis": "x",
         "y": [
          0.4328422842780712,
          0.4758289796489429,
          0.5130282862708733,
          0.5195557915303852,
          0.5072115418029479,
          0.5037923803957935,
          0.46312968701772383,
          0.3786970490552621
         ],
         "yaxis": "y"
        },
        {
         "line": {
          "color": "rgba(0, 204, 150, 0.3)",
          "width": 3
         },
         "mode": "lines+markers",
         "name": "ME",
         "type": "scatter",
         "x": [
          2000,
          4000,
          6000,
          7888
         ],
         "xaxis": "x",
         "y": [
          0.40576966666666664,
          0.46947933333333336,
          0.5084103333333334,
          0.5133836666666666
         ],
         "yaxis": "y"
        },
        {
         "fill": "tozerox",
         "fillcolor": "rgba(99, 110, 250, 0.3)",
         "line": {
          "color": "rgba(255,255,255,0)"
         },
         "mode": "lines",
         "showlegend": false,
         "type": "scatter",
         "x": [
          2000,
          4000,
          6000,
          7888,
          7888,
          6000,
          4000,
          2000
         ],
         "xaxis": "x3",
         "y": [
          0.4129346867120225,
          0.4553807572106361,
          0.4669000139879963,
          0.4789194348366193,
          0.4606845651633807,
          0.45288798601200375,
          0.448663242789364,
          0.39393331328797754
         ],
         "yaxis": "y3"
        },
        {
         "line": {
          "color": "rgba(99, 110, 250, 0.3)",
          "width": 3
         },
         "mode": "lines+markers",
         "showlegend": false,
         "type": "scatter",
         "x": [
          2000,
          4000,
          6000,
          7888
         ],
         "xaxis": "x3",
         "y": [
          0.403434,
          0.45202200000000003,
          0.459894,
          0.469802
         ],
         "yaxis": "y3"
        },
        {
         "fill": "tozerox",
         "fillcolor": "rgba(239, 85, 59, 0.3)",
         "line": {
          "color": "rgba(255,255,255,0)"
         },
         "mode": "lines",
         "showlegend": false,
         "type": "scatter",
         "x": [
          2000,
          4000,
          6000,
          7888,
          7888,
          6000,
          4000,
          2000
         ],
         "xaxis": "x3",
         "y": [
          0.4118060578900664,
          0.47302151110374185,
          0.48719843483661934,
          0.48412117229075025,
          0.47855482770924984,
          0.4689635651633806,
          0.4616964888962581,
          0.39587494210993357
         ],
         "yaxis": "y3"
        },
        {
         "line": {
          "color": "rgba(239, 85, 59, 0.3)",
          "width": 3
         },
         "mode": "lines+markers",
         "showlegend": false,
         "type": "scatter",
         "x": [
          2000,
          4000,
          6000,
          7888
         ],
         "xaxis": "x3",
         "y": [
          0.4038405,
          0.46735899999999997,
          0.478081,
          0.48133800000000004
         ],
         "yaxis": "y3"
        },
        {
         "fill": "tozerox",
         "fillcolor": "rgba(0, 204, 150, 0.3)",
         "line": {
          "color": "rgba(255,255,255,0)"
         },
         "mode": "lines",
         "showlegend": false,
         "type": "scatter",
         "x": [
          2000,
          4000,
          6000,
          7888,
          7888,
          6000,
          4000,
          2000
         ],
         "xaxis": "x3",
         "y": [
          0.40342715968220305,
          0.46434455500581207,
          0.4885598532342638,
          0.5154116567979486,
          0.48431734320205144,
          0.46936614676573624,
          0.451100444994188,
          0.36964584031779696
         ],
         "yaxis": "y3"
        },
        {
         "line": {
          "color": "rgba(0, 204, 150, 0.3)",
          "width": 3
         },
         "mode": "lines+markers",
         "showlegend": false,
         "type": "scatter",
         "x": [
          2000,
          4000,
          6000,
          7888
         ],
         "xaxis": "x3",
         "y": [
          0.3865365,
          0.45772250000000003,
          0.478963,
          0.49986450000000004
         ],
         "yaxis": "y3"
        },
        {
         "fill": "tozerox",
         "fillcolor": "rgba(99, 110, 250, 0.3)",
         "line": {
          "color": "rgba(255,255,255,0)"
         },
         "mode": "lines",
         "showlegend": false,
         "type": "scatter",
         "x": [
          2000,
          4000,
          6000,
          7888,
          7888,
          6000,
          4000,
          2000
         ],
         "xaxis": "x2",
         "y": [
          0.38228528310349713,
          0.4293843402787104,
          0.43580704728184944,
          0.44854119741615556,
          0.4257127363838445,
          0.4258315853181505,
          0.39101717902128963,
          0.3820934472965029
         ],
         "yaxis": "y2"
        },
        {
         "line": {
          "color": "rgba(99, 110, 250, 0.3)",
          "width": 3
         },
         "mode": "lines+markers",
         "showlegend": false,
         "type": "scatter",
         "x": [
          2000,
          4000,
          6000,
          7888
         ],
         "xaxis": "x2",
         "y": [
          0.3821893652,
          0.41020075965,
          0.4308193163,
          0.4371269669
         ],
         "yaxis": "y2"
        },
        {
         "fill": "tozerox",
         "fillcolor": "rgba(239, 85, 59, 0.3)",
         "line": {
          "color": "rgba(255,255,255,0)"
         },
         "mode": "lines",
         "showlegend": false,
         "type": "scatter",
         "x": [
          2000,
          4000,
          6000,
          7888,
          7888,
          6000,
          4000,
          2000
         ],
         "xaxis": "x2",
         "y": [
          0.4236458061350731,
          0.46222405922833487,
          0.4705933599752133,
          0.46293672718184947,
          0.45296126521815055,
          0.4324180345247867,
          0.4321058376716651,
          0.28552402566492685
         ],
         "yaxis": "y2"
        },
        {
         "line": {
          "color": "rgba(239, 85, 59, 0.3)",
          "width": 3
         },
         "mode": "lines+markers",
         "showlegend": false,
         "type": "scatter",
         "x": [
          2000,
          4000,
          6000,
          7888
         ],
         "xaxis": "x2",
         "y": [
          0.35458491589999996,
          0.44716494845,
          0.45150569725,
          0.4579489962
         ],
         "yaxis": "y2"
        },
        {
         "fill": "tozerox",
         "fillcolor": "rgba(0, 204, 150, 0.3)",
         "line": {
          "color": "rgba(255,255,255,0)"
         },
         "mode": "lines",
         "showlegend": false,
         "type": "scatter",
         "x": [
          2000,
          4000,
          6000,
          7888,
          7888,
          6000,
          4000,
          2000
         ],
         "xaxis": "x2",
         "y": [
          0.38413547441823664,
          0.43945275459544486,
          0.4609670018223987,
          0.48033429008495354,
          0.45808133661504646,
          0.45425274857760134,
          0.4166242937045551,
          0.3666784159817635
         ],
         "yaxis": "y2"
        },
        {
         "line": {
          "color": "rgba(0, 204, 150, 0.3)",
          "width": 3
         },
         "mode": "lines+markers",
         "showlegend": false,
         "type": "scatter",
         "x": [
          2000,
          4000,
          6000,
          7888
         ],
         "xaxis": "x2",
         "y": [
          0.37540694520000006,
          0.42803852415,
          0.4576098752,
          0.46920781335
         ],
         "yaxis": "y2"
        },
        {
         "fill": "tozerox",
         "fillcolor": "rgba(99, 110, 250, 0.3)",
         "line": {
          "color": "rgba(255,255,255,0)"
         },
         "mode": "lines",
         "showlegend": false,
         "type": "scatter",
         "x": [
          2000,
          4000,
          6000,
          7888,
          7888,
          6000,
          4000,
          2000
         ],
         "xaxis": "x4",
         "y": [
          0.38228528310349713,
          0.4293843402787104,
          0.43580704728184944,
          0.44854119741615556,
          0.4257127363838445,
          0.4258315853181505,
          0.39101717902128963,
          0.3820934472965029
         ],
         "yaxis": "y4"
        },
        {
         "line": {
          "color": "rgba(99, 110, 250, 0.3)",
          "width": 3
         },
         "mode": "lines+markers",
         "showlegend": false,
         "type": "scatter",
         "x": [
          2000,
          4000,
          6000,
          7888
         ],
         "xaxis": "x4",
         "y": [
          0.3821893652,
          0.41020075965,
          0.4308193163,
          0.4371269669
         ],
         "yaxis": "y4"
        },
        {
         "fill": "tozerox",
         "fillcolor": "rgba(239, 85, 59, 0.3)",
         "line": {
          "color": "rgba(255,255,255,0)"
         },
         "mode": "lines",
         "showlegend": false,
         "type": "scatter",
         "x": [
          2000,
          4000,
          6000,
          7888,
          7888,
          6000,
          4000,
          2000
         ],
         "xaxis": "x4",
         "y": [
          0.4236458061350731,
          0.46222405922833487,
          0.4705933599752133,
          0.46293672718184947,
          0.45296126521815055,
          0.4324180345247867,
          0.4321058376716651,
          0.28552402566492685
         ],
         "yaxis": "y4"
        },
        {
         "line": {
          "color": "rgba(239, 85, 59, 0.3)",
          "width": 3
         },
         "mode": "lines+markers",
         "showlegend": false,
         "type": "scatter",
         "x": [
          2000,
          4000,
          6000,
          7888
         ],
         "xaxis": "x4",
         "y": [
          0.35458491589999996,
          0.44716494845,
          0.45150569725,
          0.4579489962
         ],
         "yaxis": "y4"
        },
        {
         "fill": "tozerox",
         "fillcolor": "rgba(0, 204, 150, 0.3)",
         "line": {
          "color": "rgba(255,255,255,0)"
         },
         "mode": "lines",
         "showlegend": false,
         "type": "scatter",
         "x": [
          2000,
          4000,
          6000,
          7888,
          7888,
          6000,
          4000,
          2000
         ],
         "xaxis": "x4",
         "y": [
          0.38413547441823664,
          0.43945275459544486,
          0.4609670018223987,
          0.48033429008495354,
          0.45808133661504646,
          0.45425274857760134,
          0.4166242937045551,
          0.3666784159817635
         ],
         "yaxis": "y4"
        },
        {
         "line": {
          "color": "rgba(0, 204, 150, 0.3)",
          "width": 3
         },
         "mode": "lines+markers",
         "showlegend": false,
         "type": "scatter",
         "x": [
          2000,
          4000,
          6000,
          7888
         ],
         "xaxis": "x4",
         "y": [
          0.37540694520000006,
          0.42803852415,
          0.4576098752,
          0.46920781335
         ],
         "yaxis": "y4"
        }
       ],
       "layout": {
        "annotations": [
         {
          "font": {
           "size": 16
          },
          "showarrow": false,
          "text": "KAGE-GPT2+ME on MultiWOZ 2.0",
          "x": 0.10625,
          "xanchor": "center",
          "xref": "paper",
          "y": 1,
          "yanchor": "bottom",
          "yref": "paper"
         },
         {
          "font": {
           "size": 16
          },
          "showarrow": false,
          "text": "PPTOD+ME on MultiWOZ 2.0",
          "x": 0.36875,
          "xanchor": "center",
          "xref": "paper",
          "y": 1,
          "yanchor": "bottom",
          "yref": "paper"
         },
         {
          "font": {
           "size": 16
          },
          "showarrow": false,
          "text": "KAGE-GPT2+ME on MultiWOZ 2.1",
          "x": 0.6312500000000001,
          "xanchor": "center",
          "xref": "paper",
          "y": 1,
          "yanchor": "bottom",
          "yref": "paper"
         },
         {
          "font": {
           "size": 16
          },
          "showarrow": false,
          "text": "PPTOD+ME on MultiWOZ 2.1",
          "x": 0.89375,
          "xanchor": "center",
          "xref": "paper",
          "y": 1,
          "yanchor": "bottom",
          "yref": "paper"
         },
         {
          "font": {
           "color": "rgba(98, 85, 92, 0.8)",
           "size": 10
          },
          "showarrow": false,
          "text": "Last Turn(14.4%)",
          "x": 0,
          "xanchor": "left",
          "xref": "x domain",
          "y": 0.5043,
          "yanchor": "bottom",
          "yref": "y"
         },
         {
          "font": {
           "color": "rgba(98, 85, 92, 0.8)",
           "size": 10
          },
          "showarrow": false,
          "text": "Full Data(100%)",
          "x": 0,
          "xanchor": "left",
          "xref": "x domain",
          "y": 0.5486,
          "yanchor": "bottom",
          "yref": "y"
         },
         {
          "font": {
           "color": "rgba(98, 85, 92, 0.8)",
           "size": 10
          },
          "showarrow": false,
          "text": "Last Turn(14.4%)",
          "x": 0,
          "xanchor": "left",
          "xref": "x domain",
          "y": 0.5043,
          "yanchor": "bottom",
          "yref": "y"
         },
         {
          "font": {
           "color": "rgba(98, 85, 92, 0.8)",
           "size": 10
          },
          "showarrow": false,
          "text": "Full Data(100%)",
          "x": 0,
          "xanchor": "left",
          "xref": "x domain",
          "y": 0.5486,
          "yanchor": "bottom",
          "yref": "y"
         },
         {
          "font": {
           "color": "rgba(98, 85, 92, 0.8)",
           "size": 10
          },
          "showarrow": false,
          "text": "Last Turn(14.4%)",
          "x": 0,
          "xanchor": "left",
          "xref": "x domain",
          "y": 0.5043,
          "yanchor": "bottom",
          "yref": "y"
         },
         {
          "font": {
           "color": "rgba(98, 85, 92, 0.8)",
           "size": 10
          },
          "showarrow": false,
          "text": "Full Data(100%)",
          "x": 0,
          "xanchor": "left",
          "xref": "x domain",
          "y": 0.5486,
          "yanchor": "bottom",
          "yref": "y"
         },
         {
          "font": {
           "color": "rgba(98, 85, 92, 0.8)",
           "size": 10
          },
          "showarrow": false,
          "text": "Last Turn(14.4%)",
          "x": 0,
          "xanchor": "left",
          "xref": "x3 domain",
          "y": 0.4912,
          "yanchor": "bottom",
          "yref": "y3"
         },
         {
          "font": {
           "color": "rgba(98, 85, 92, 0.8)",
           "size": 10
          },
          "showarrow": false,
          "text": "Last Turn(14.4%)",
          "x": 0,
          "xanchor": "left",
          "xref": "x3 domain",
          "y": 0.4912,
          "yanchor": "bottom",
          "yref": "y3"
         },
         {
          "font": {
           "color": "rgba(98, 85, 92, 0.8)",
           "size": 10
          },
          "showarrow": false,
          "text": "Last Turn(14.4%)",
          "x": 0,
          "xanchor": "left",
          "xref": "x3 domain",
          "y": 0.4912,
          "yanchor": "bottom",
          "yref": "y3"
         },
         {
          "font": {
           "color": "rgba(98, 85, 92, 0.8)",
           "size": 10
          },
          "showarrow": false,
          "text": "Last Turn(14.4%)",
          "x": 0,
          "xanchor": "left",
          "xref": "x2 domain",
          "y": 0.4383,
          "yanchor": "bottom",
          "yref": "y2"
         },
         {
          "font": {
           "color": "rgba(98, 85, 92, 0.8)",
           "size": 10
          },
          "showarrow": false,
          "text": "Full Data(100%)",
          "x": 0,
          "xanchor": "left",
          "xref": "x2 domain",
          "y": 0.5337,
          "yanchor": "bottom",
          "yref": "y2"
         },
         {
          "font": {
           "color": "rgba(98, 85, 92, 0.8)",
           "size": 10
          },
          "showarrow": false,
          "text": "Last Turn(14.4%)",
          "x": 0,
          "xanchor": "left",
          "xref": "x2 domain",
          "y": 0.4383,
          "yanchor": "bottom",
          "yref": "y2"
         },
         {
          "font": {
           "color": "rgba(98, 85, 92, 0.8)",
           "size": 10
          },
          "showarrow": false,
          "text": "Full Data(100%)",
          "x": 0,
          "xanchor": "left",
          "xref": "x2 domain",
          "y": 0.5337,
          "yanchor": "bottom",
          "yref": "y2"
         },
         {
          "font": {
           "color": "rgba(98, 85, 92, 0.8)",
           "size": 10
          },
          "showarrow": false,
          "text": "Last Turn(14.4%)",
          "x": 0,
          "xanchor": "left",
          "xref": "x2 domain",
          "y": 0.4383,
          "yanchor": "bottom",
          "yref": "y2"
         },
         {
          "font": {
           "color": "rgba(98, 85, 92, 0.8)",
           "size": 10
          },
          "showarrow": false,
          "text": "Full Data(100%)",
          "x": 0,
          "xanchor": "left",
          "xref": "x2 domain",
          "y": 0.5337,
          "yanchor": "bottom",
          "yref": "y2"
         },
         {
          "font": {
           "color": "rgba(98, 85, 92, 0.8)",
           "size": 10
          },
          "showarrow": false,
          "text": "Last Turn(14.4%)",
          "x": 0,
          "xanchor": "left",
          "xref": "x4 domain",
          "y": 0.4383,
          "yanchor": "bottom",
          "yref": "y4"
         },
         {
          "font": {
           "color": "rgba(98, 85, 92, 0.8)",
           "size": 10
          },
          "showarrow": false,
          "text": "Full Data(100%)",
          "x": 0,
          "xanchor": "left",
          "xref": "x4 domain",
          "y": 0.5337,
          "yanchor": "bottom",
          "yref": "y4"
         },
         {
          "font": {
           "color": "rgba(98, 85, 92, 0.8)",
           "size": 10
          },
          "showarrow": false,
          "text": "Last Turn(14.4%)",
          "x": 0,
          "xanchor": "left",
          "xref": "x4 domain",
          "y": 0.4383,
          "yanchor": "bottom",
          "yref": "y4"
         },
         {
          "font": {
           "color": "rgba(98, 85, 92, 0.8)",
           "size": 10
          },
          "showarrow": false,
          "text": "Full Data(100%)",
          "x": 0,
          "xanchor": "left",
          "xref": "x4 domain",
          "y": 0.5337,
          "yanchor": "bottom",
          "yref": "y4"
         },
         {
          "font": {
           "color": "rgba(98, 85, 92, 0.8)",
           "size": 10
          },
          "showarrow": false,
          "text": "Last Turn(14.4%)",
          "x": 0,
          "xanchor": "left",
          "xref": "x4 domain",
          "y": 0.4383,
          "yanchor": "bottom",
          "yref": "y4"
         },
         {
          "font": {
           "color": "rgba(98, 85, 92, 0.8)",
           "size": 10
          },
          "showarrow": false,
          "text": "Full Data(100%)",
          "x": 0,
          "xanchor": "left",
          "xref": "x4 domain",
          "y": 0.5337,
          "yanchor": "bottom",
          "yref": "y4"
         }
        ],
        "height": 300,
        "margin": {
         "b": 5,
         "l": 5,
         "r": 5,
         "t": 20
        },
        "shapes": [
         {
          "line": {
           "color": "green",
           "dash": "dot",
           "width": 1.5
          },
          "type": "line",
          "x0": 0,
          "x1": 1,
          "xref": "x domain",
          "y0": 0.5043,
          "y1": 0.5043,
          "yref": "y"
         },
         {
          "line": {
           "color": "red",
           "dash": "dot",
           "width": 1.5
          },
          "type": "line",
          "x0": 0,
          "x1": 1,
          "xref": "x domain",
          "y0": 0.5486,
          "y1": 0.5486,
          "yref": "y"
         },
         {
          "line": {
           "color": "green",
           "dash": "dot",
           "width": 1.5
          },
          "type": "line",
          "x0": 0,
          "x1": 1,
          "xref": "x domain",
          "y0": 0.5043,
          "y1": 0.5043,
          "yref": "y"
         },
         {
          "line": {
           "color": "red",
           "dash": "dot",
           "width": 1.5
          },
          "type": "line",
          "x0": 0,
          "x1": 1,
          "xref": "x domain",
          "y0": 0.5486,
          "y1": 0.5486,
          "yref": "y"
         },
         {
          "line": {
           "color": "green",
           "dash": "dot",
           "width": 1.5
          },
          "type": "line",
          "x0": 0,
          "x1": 1,
          "xref": "x domain",
          "y0": 0.5043,
          "y1": 0.5043,
          "yref": "y"
         },
         {
          "line": {
           "color": "red",
           "dash": "dot",
           "width": 1.5
          },
          "type": "line",
          "x0": 0,
          "x1": 1,
          "xref": "x domain",
          "y0": 0.5486,
          "y1": 0.5486,
          "yref": "y"
         },
         {
          "line": {
           "color": "green",
           "dash": "dot",
           "width": 1.5
          },
          "type": "line",
          "x0": 0,
          "x1": 1,
          "xref": "x3 domain",
          "y0": 0.4912,
          "y1": 0.4912,
          "yref": "y3"
         },
         {
          "line": {
           "color": "green",
           "dash": "dot",
           "width": 1.5
          },
          "type": "line",
          "x0": 0,
          "x1": 1,
          "xref": "x3 domain",
          "y0": 0.4912,
          "y1": 0.4912,
          "yref": "y3"
         },
         {
          "line": {
           "color": "green",
           "dash": "dot",
           "width": 1.5
          },
          "type": "line",
          "x0": 0,
          "x1": 1,
          "xref": "x3 domain",
          "y0": 0.4912,
          "y1": 0.4912,
          "yref": "y3"
         },
         {
          "line": {
           "color": "green",
           "dash": "dot",
           "width": 1.5
          },
          "type": "line",
          "x0": 0,
          "x1": 1,
          "xref": "x2 domain",
          "y0": 0.4383,
          "y1": 0.4383,
          "yref": "y2"
         },
         {
          "line": {
           "color": "red",
           "dash": "dot",
           "width": 1
          },
          "type": "line",
          "x0": 0,
          "x1": 1,
          "xref": "x2 domain",
          "y0": 0.5337,
          "y1": 0.5337,
          "yref": "y2"
         },
         {
          "line": {
           "color": "green",
           "dash": "dot",
           "width": 1.5
          },
          "type": "line",
          "x0": 0,
          "x1": 1,
          "xref": "x2 domain",
          "y0": 0.4383,
          "y1": 0.4383,
          "yref": "y2"
         },
         {
          "line": {
           "color": "red",
           "dash": "dot",
           "width": 1
          },
          "type": "line",
          "x0": 0,
          "x1": 1,
          "xref": "x2 domain",
          "y0": 0.5337,
          "y1": 0.5337,
          "yref": "y2"
         },
         {
          "line": {
           "color": "green",
           "dash": "dot",
           "width": 1.5
          },
          "type": "line",
          "x0": 0,
          "x1": 1,
          "xref": "x2 domain",
          "y0": 0.4383,
          "y1": 0.4383,
          "yref": "y2"
         },
         {
          "line": {
           "color": "red",
           "dash": "dot",
           "width": 1
          },
          "type": "line",
          "x0": 0,
          "x1": 1,
          "xref": "x2 domain",
          "y0": 0.5337,
          "y1": 0.5337,
          "yref": "y2"
         },
         {
          "line": {
           "color": "green",
           "dash": "dot",
           "width": 1.5
          },
          "type": "line",
          "x0": 0,
          "x1": 1,
          "xref": "x4 domain",
          "y0": 0.4383,
          "y1": 0.4383,
          "yref": "y4"
         },
         {
          "line": {
           "color": "red",
           "dash": "dot",
           "width": 1.5
          },
          "type": "line",
          "x0": 0,
          "x1": 1,
          "xref": "x4 domain",
          "y0": 0.5337,
          "y1": 0.5337,
          "yref": "y4"
         },
         {
          "line": {
           "color": "green",
           "dash": "dot",
           "width": 1.5
          },
          "type": "line",
          "x0": 0,
          "x1": 1,
          "xref": "x4 domain",
          "y0": 0.4383,
          "y1": 0.4383,
          "yref": "y4"
         },
         {
          "line": {
           "color": "red",
           "dash": "dot",
           "width": 1.5
          },
          "type": "line",
          "x0": 0,
          "x1": 1,
          "xref": "x4 domain",
          "y0": 0.5337,
          "y1": 0.5337,
          "yref": "y4"
         },
         {
          "line": {
           "color": "green",
           "dash": "dot",
           "width": 1.5
          },
          "type": "line",
          "x0": 0,
          "x1": 1,
          "xref": "x4 domain",
          "y0": 0.4383,
          "y1": 0.4383,
          "yref": "y4"
         },
         {
          "line": {
           "color": "red",
           "dash": "dot",
           "width": 1.5
          },
          "type": "line",
          "x0": 0,
          "x1": 1,
          "xref": "x4 domain",
          "y0": 0.5337,
          "y1": 0.5337,
          "yref": "y4"
         }
        ],
        "template": {
         "data": {
          "bar": [
           {
            "error_x": {
             "color": "#2a3f5f"
            },
            "error_y": {
             "color": "#2a3f5f"
            },
            "marker": {
             "line": {
              "color": "#E5ECF6",
              "width": 0.5
             },
             "pattern": {
              "fillmode": "overlay",
              "size": 10,
              "solidity": 0.2
             }
            },
            "type": "bar"
           }
          ],
          "barpolar": [
           {
            "marker": {
             "line": {
              "color": "#E5ECF6",
              "width": 0.5
             },
             "pattern": {
              "fillmode": "overlay",
              "size": 10,
              "solidity": 0.2
             }
            },
            "type": "barpolar"
           }
          ],
          "carpet": [
           {
            "aaxis": {
             "endlinecolor": "#2a3f5f",
             "gridcolor": "white",
             "linecolor": "white",
             "minorgridcolor": "white",
             "startlinecolor": "#2a3f5f"
            },
            "baxis": {
             "endlinecolor": "#2a3f5f",
             "gridcolor": "white",
             "linecolor": "white",
             "minorgridcolor": "white",
             "startlinecolor": "#2a3f5f"
            },
            "type": "carpet"
           }
          ],
          "choropleth": [
           {
            "colorbar": {
             "outlinewidth": 0,
             "ticks": ""
            },
            "type": "choropleth"
           }
          ],
          "contour": [
           {
            "colorbar": {
             "outlinewidth": 0,
             "ticks": ""
            },
            "colorscale": [
             [
              0,
              "#0d0887"
             ],
             [
              0.1111111111111111,
              "#46039f"
             ],
             [
              0.2222222222222222,
              "#7201a8"
             ],
             [
              0.3333333333333333,
              "#9c179e"
             ],
             [
              0.4444444444444444,
              "#bd3786"
             ],
             [
              0.5555555555555556,
              "#d8576b"
             ],
             [
              0.6666666666666666,
              "#ed7953"
             ],
             [
              0.7777777777777778,
              "#fb9f3a"
             ],
             [
              0.8888888888888888,
              "#fdca26"
             ],
             [
              1,
              "#f0f921"
             ]
            ],
            "type": "contour"
           }
          ],
          "contourcarpet": [
           {
            "colorbar": {
             "outlinewidth": 0,
             "ticks": ""
            },
            "type": "contourcarpet"
           }
          ],
          "heatmap": [
           {
            "colorbar": {
             "outlinewidth": 0,
             "ticks": ""
            },
            "colorscale": [
             [
              0,
              "#0d0887"
             ],
             [
              0.1111111111111111,
              "#46039f"
             ],
             [
              0.2222222222222222,
              "#7201a8"
             ],
             [
              0.3333333333333333,
              "#9c179e"
             ],
             [
              0.4444444444444444,
              "#bd3786"
             ],
             [
              0.5555555555555556,
              "#d8576b"
             ],
             [
              0.6666666666666666,
              "#ed7953"
             ],
             [
              0.7777777777777778,
              "#fb9f3a"
             ],
             [
              0.8888888888888888,
              "#fdca26"
             ],
             [
              1,
              "#f0f921"
             ]
            ],
            "type": "heatmap"
           }
          ],
          "heatmapgl": [
           {
            "colorbar": {
             "outlinewidth": 0,
             "ticks": ""
            },
            "colorscale": [
             [
              0,
              "#0d0887"
             ],
             [
              0.1111111111111111,
              "#46039f"
             ],
             [
              0.2222222222222222,
              "#7201a8"
             ],
             [
              0.3333333333333333,
              "#9c179e"
             ],
             [
              0.4444444444444444,
              "#bd3786"
             ],
             [
              0.5555555555555556,
              "#d8576b"
             ],
             [
              0.6666666666666666,
              "#ed7953"
             ],
             [
              0.7777777777777778,
              "#fb9f3a"
             ],
             [
              0.8888888888888888,
              "#fdca26"
             ],
             [
              1,
              "#f0f921"
             ]
            ],
            "type": "heatmapgl"
           }
          ],
          "histogram": [
           {
            "marker": {
             "pattern": {
              "fillmode": "overlay",
              "size": 10,
              "solidity": 0.2
             }
            },
            "type": "histogram"
           }
          ],
          "histogram2d": [
           {
            "colorbar": {
             "outlinewidth": 0,
             "ticks": ""
            },
            "colorscale": [
             [
              0,
              "#0d0887"
             ],
             [
              0.1111111111111111,
              "#46039f"
             ],
             [
              0.2222222222222222,
              "#7201a8"
             ],
             [
              0.3333333333333333,
              "#9c179e"
             ],
             [
              0.4444444444444444,
              "#bd3786"
             ],
             [
              0.5555555555555556,
              "#d8576b"
             ],
             [
              0.6666666666666666,
              "#ed7953"
             ],
             [
              0.7777777777777778,
              "#fb9f3a"
             ],
             [
              0.8888888888888888,
              "#fdca26"
             ],
             [
              1,
              "#f0f921"
             ]
            ],
            "type": "histogram2d"
           }
          ],
          "histogram2dcontour": [
           {
            "colorbar": {
             "outlinewidth": 0,
             "ticks": ""
            },
            "colorscale": [
             [
              0,
              "#0d0887"
             ],
             [
              0.1111111111111111,
              "#46039f"
             ],
             [
              0.2222222222222222,
              "#7201a8"
             ],
             [
              0.3333333333333333,
              "#9c179e"
             ],
             [
              0.4444444444444444,
              "#bd3786"
             ],
             [
              0.5555555555555556,
              "#d8576b"
             ],
             [
              0.6666666666666666,
              "#ed7953"
             ],
             [
              0.7777777777777778,
              "#fb9f3a"
             ],
             [
              0.8888888888888888,
              "#fdca26"
             ],
             [
              1,
              "#f0f921"
             ]
            ],
            "type": "histogram2dcontour"
           }
          ],
          "mesh3d": [
           {
            "colorbar": {
             "outlinewidth": 0,
             "ticks": ""
            },
            "type": "mesh3d"
           }
          ],
          "parcoords": [
           {
            "line": {
             "colorbar": {
              "outlinewidth": 0,
              "ticks": ""
             }
            },
            "type": "parcoords"
           }
          ],
          "pie": [
           {
            "automargin": true,
            "type": "pie"
           }
          ],
          "scatter": [
           {
            "fillpattern": {
             "fillmode": "overlay",
             "size": 10,
             "solidity": 0.2
            },
            "type": "scatter"
           }
          ],
          "scatter3d": [
           {
            "line": {
             "colorbar": {
              "outlinewidth": 0,
              "ticks": ""
             }
            },
            "marker": {
             "colorbar": {
              "outlinewidth": 0,
              "ticks": ""
             }
            },
            "type": "scatter3d"
           }
          ],
          "scattercarpet": [
           {
            "marker": {
             "colorbar": {
              "outlinewidth": 0,
              "ticks": ""
             }
            },
            "type": "scattercarpet"
           }
          ],
          "scattergeo": [
           {
            "marker": {
             "colorbar": {
              "outlinewidth": 0,
              "ticks": ""
             }
            },
            "type": "scattergeo"
           }
          ],
          "scattergl": [
           {
            "marker": {
             "colorbar": {
              "outlinewidth": 0,
              "ticks": ""
             }
            },
            "type": "scattergl"
           }
          ],
          "scattermapbox": [
           {
            "marker": {
             "colorbar": {
              "outlinewidth": 0,
              "ticks": ""
             }
            },
            "type": "scattermapbox"
           }
          ],
          "scatterpolar": [
           {
            "marker": {
             "colorbar": {
              "outlinewidth": 0,
              "ticks": ""
             }
            },
            "type": "scatterpolar"
           }
          ],
          "scatterpolargl": [
           {
            "marker": {
             "colorbar": {
              "outlinewidth": 0,
              "ticks": ""
             }
            },
            "type": "scatterpolargl"
           }
          ],
          "scatterternary": [
           {
            "marker": {
             "colorbar": {
              "outlinewidth": 0,
              "ticks": ""
             }
            },
            "type": "scatterternary"
           }
          ],
          "surface": [
           {
            "colorbar": {
             "outlinewidth": 0,
             "ticks": ""
            },
            "colorscale": [
             [
              0,
              "#0d0887"
             ],
             [
              0.1111111111111111,
              "#46039f"
             ],
             [
              0.2222222222222222,
              "#7201a8"
             ],
             [
              0.3333333333333333,
              "#9c179e"
             ],
             [
              0.4444444444444444,
              "#bd3786"
             ],
             [
              0.5555555555555556,
              "#d8576b"
             ],
             [
              0.6666666666666666,
              "#ed7953"
             ],
             [
              0.7777777777777778,
              "#fb9f3a"
             ],
             [
              0.8888888888888888,
              "#fdca26"
             ],
             [
              1,
              "#f0f921"
             ]
            ],
            "type": "surface"
           }
          ],
          "table": [
           {
            "cells": {
             "fill": {
              "color": "#EBF0F8"
             },
             "line": {
              "color": "white"
             }
            },
            "header": {
             "fill": {
              "color": "#C8D4E3"
             },
             "line": {
              "color": "white"
             }
            },
            "type": "table"
           }
          ]
         },
         "layout": {
          "annotationdefaults": {
           "arrowcolor": "#2a3f5f",
           "arrowhead": 0,
           "arrowwidth": 1
          },
          "autotypenumbers": "strict",
          "coloraxis": {
           "colorbar": {
            "outlinewidth": 0,
            "ticks": ""
           }
          },
          "colorscale": {
           "diverging": [
            [
             0,
             "#8e0152"
            ],
            [
             0.1,
             "#c51b7d"
            ],
            [
             0.2,
             "#de77ae"
            ],
            [
             0.3,
             "#f1b6da"
            ],
            [
             0.4,
             "#fde0ef"
            ],
            [
             0.5,
             "#f7f7f7"
            ],
            [
             0.6,
             "#e6f5d0"
            ],
            [
             0.7,
             "#b8e186"
            ],
            [
             0.8,
             "#7fbc41"
            ],
            [
             0.9,
             "#4d9221"
            ],
            [
             1,
             "#276419"
            ]
           ],
           "sequential": [
            [
             0,
             "#0d0887"
            ],
            [
             0.1111111111111111,
             "#46039f"
            ],
            [
             0.2222222222222222,
             "#7201a8"
            ],
            [
             0.3333333333333333,
             "#9c179e"
            ],
            [
             0.4444444444444444,
             "#bd3786"
            ],
            [
             0.5555555555555556,
             "#d8576b"
            ],
            [
             0.6666666666666666,
             "#ed7953"
            ],
            [
             0.7777777777777778,
             "#fb9f3a"
            ],
            [
             0.8888888888888888,
             "#fdca26"
            ],
            [
             1,
             "#f0f921"
            ]
           ],
           "sequentialminus": [
            [
             0,
             "#0d0887"
            ],
            [
             0.1111111111111111,
             "#46039f"
            ],
            [
             0.2222222222222222,
             "#7201a8"
            ],
            [
             0.3333333333333333,
             "#9c179e"
            ],
            [
             0.4444444444444444,
             "#bd3786"
            ],
            [
             0.5555555555555556,
             "#d8576b"
            ],
            [
             0.6666666666666666,
             "#ed7953"
            ],
            [
             0.7777777777777778,
             "#fb9f3a"
            ],
            [
             0.8888888888888888,
             "#fdca26"
            ],
            [
             1,
             "#f0f921"
            ]
           ]
          },
          "colorway": [
           "#636efa",
           "#EF553B",
           "#00cc96",
           "#ab63fa",
           "#FFA15A",
           "#19d3f3",
           "#FF6692",
           "#B6E880",
           "#FF97FF",
           "#FECB52"
          ],
          "font": {
           "color": "#2a3f5f"
          },
          "geo": {
           "bgcolor": "white",
           "lakecolor": "white",
           "landcolor": "#E5ECF6",
           "showlakes": true,
           "showland": true,
           "subunitcolor": "white"
          },
          "hoverlabel": {
           "align": "left"
          },
          "hovermode": "closest",
          "mapbox": {
           "style": "light"
          },
          "paper_bgcolor": "white",
          "plot_bgcolor": "#E5ECF6",
          "polar": {
           "angularaxis": {
            "gridcolor": "white",
            "linecolor": "white",
            "ticks": ""
           },
           "bgcolor": "#E5ECF6",
           "radialaxis": {
            "gridcolor": "white",
            "linecolor": "white",
            "ticks": ""
           }
          },
          "scene": {
           "xaxis": {
            "backgroundcolor": "#E5ECF6",
            "gridcolor": "white",
            "gridwidth": 2,
            "linecolor": "white",
            "showbackground": true,
            "ticks": "",
            "zerolinecolor": "white"
           },
           "yaxis": {
            "backgroundcolor": "#E5ECF6",
            "gridcolor": "white",
            "gridwidth": 2,
            "linecolor": "white",
            "showbackground": true,
            "ticks": "",
            "zerolinecolor": "white"
           },
           "zaxis": {
            "backgroundcolor": "#E5ECF6",
            "gridcolor": "white",
            "gridwidth": 2,
            "linecolor": "white",
            "showbackground": true,
            "ticks": "",
            "zerolinecolor": "white"
           }
          },
          "shapedefaults": {
           "line": {
            "color": "#2a3f5f"
           }
          },
          "ternary": {
           "aaxis": {
            "gridcolor": "white",
            "linecolor": "white",
            "ticks": ""
           },
           "baxis": {
            "gridcolor": "white",
            "linecolor": "white",
            "ticks": ""
           },
           "bgcolor": "#E5ECF6",
           "caxis": {
            "gridcolor": "white",
            "linecolor": "white",
            "ticks": ""
           }
          },
          "title": {
           "x": 0.05
          },
          "xaxis": {
           "automargin": true,
           "gridcolor": "white",
           "linecolor": "white",
           "ticks": "",
           "title": {
            "standoff": 15
           },
           "zerolinecolor": "white",
           "zerolinewidth": 2
          },
          "yaxis": {
           "automargin": true,
           "gridcolor": "white",
           "linecolor": "white",
           "ticks": "",
           "title": {
            "standoff": 15
           },
           "zerolinecolor": "white",
           "zerolinewidth": 2
          }
         }
        },
        "width": 1400,
        "xaxis": {
         "anchor": "y",
         "domain": [
          0,
          0.2125
         ],
         "title": {
          "text": "# of labelled dialogue turns"
         },
         "type": "category"
        },
        "xaxis2": {
         "anchor": "y2",
         "domain": [
          0.2625,
          0.475
         ],
         "title": {
          "text": "# of labelled dialogue turns"
         },
         "type": "category"
        },
        "xaxis3": {
         "anchor": "y3",
         "domain": [
          0.525,
          0.7375
         ],
         "title": {
          "text": "# of labelled dialogue turns"
         },
         "type": "category"
        },
        "xaxis4": {
         "anchor": "y4",
         "domain": [
          0.7875,
          1
         ],
         "title": {
          "text": "# of labelled dialogue turns"
         },
         "type": "category"
        },
        "yaxis": {
         "anchor": "x",
         "domain": [
          0,
          1
         ],
         "range": [
          0.25,
          0.6
         ],
         "title": {
          "text": "Joint Goal Accuracy"
         }
        },
        "yaxis2": {
         "anchor": "x2",
         "domain": [
          0,
          1
         ],
         "range": [
          0.25,
          0.55
         ]
        },
        "yaxis3": {
         "anchor": "x3",
         "domain": [
          0,
          1
         ],
         "range": [
          0.35,
          0.55
         ]
        },
        "yaxis4": {
         "anchor": "x4",
         "domain": [
          0,
          1
         ],
         "range": [
          0.2,
          0.6
         ]
        }
       }
      },
      "text/html": [
       "<div>                            <div id=\"f7b5fc73-f466-4d59-9166-5fd4f1bd4bb6\" class=\"plotly-graph-div\" style=\"height:300px; width:1400px;\"></div>            <script type=\"text/javascript\">                require([\"plotly\"], function(Plotly) {                    window.PLOTLYENV=window.PLOTLYENV || {};                                    if (document.getElementById(\"f7b5fc73-f466-4d59-9166-5fd4f1bd4bb6\")) {                    Plotly.newPlot(                        \"f7b5fc73-f466-4d59-9166-5fd4f1bd4bb6\",                        [{\"fill\":\"tozerox\",\"fillcolor\":\"rgba(99, 110, 250, 0.3)\",\"line\":{\"color\":\"rgba(255,255,255,0)\"},\"mode\":\"lines\",\"name\":\"RS\",\"showlegend\":false,\"x\":[2000,4000,6000,7888,7888,6000,4000,2000],\"y\":[0.43619269926426874,0.46163529909500356,0.500882995041742,0.5109520638072521,0.4963729361927479,0.476328004958258,0.45683970090499637,0.4143233007357313],\"type\":\"scatter\",\"xaxis\":\"x\",\"yaxis\":\"y\"},{\"line\":{\"color\":\"rgba(99, 110, 250, 0.3)\",\"width\":3},\"mode\":\"lines+markers\",\"name\":\"RS\",\"x\":[2000,4000,6000,7888],\"y\":[0.425258,0.45923749999999997,0.4886055,0.5036625],\"type\":\"scatter\",\"xaxis\":\"x\",\"yaxis\":\"y\"},{\"fill\":\"tozerox\",\"fillcolor\":\"rgba(239, 85, 59, 0.3)\",\"line\":{\"color\":\"rgba(255,255,255,0)\"},\"mode\":\"lines\",\"name\":\"LC\",\"showlegend\":false,\"x\":[2000,4000,6000,7888,7888,6000,4000,2000],\"y\":[0.4785086811441146,0.4858502941367456,0.49615356669150656,0.5066840033175304,0.5045739966824696,0.4788874333084935,0.45649970586325445,0.27420431885588537],\"type\":\"scatter\",\"xaxis\":\"x\",\"yaxis\":\"y\"},{\"line\":{\"color\":\"rgba(239, 85, 59, 0.3)\",\"width\":3},\"mode\":\"lines+markers\",\"name\":\"LC\",\"x\":[2000,4000,6000,7888],\"y\":[0.3763565,0.471175,0.4875205,0.505629],\"type\":\"scatter\",\"xaxis\":\"x\",\"yaxis\":\"y\"},{\"fill\":\"tozerox\",\"fillcolor\":\"rgba(0, 204, 150, 0.3)\",\"line\":{\"color\":\"rgba(255,255,255,0)\"},\"mode\":\"lines\",\"name\":\"ME\",\"showlegend\":false,\"x\":[2000,4000,6000,7888,7888,6000,4000,2000],\"y\":[0.4328422842780712,0.4758289796489429,0.5130282862708733,0.5195557915303852,0.5072115418029479,0.5037923803957935,0.46312968701772383,0.3786970490552621],\"type\":\"scatter\",\"xaxis\":\"x\",\"yaxis\":\"y\"},{\"line\":{\"color\":\"rgba(0, 204, 150, 0.3)\",\"width\":3},\"mode\":\"lines+markers\",\"name\":\"ME\",\"x\":[2000,4000,6000,7888],\"y\":[0.40576966666666664,0.46947933333333336,0.5084103333333334,0.5133836666666666],\"type\":\"scatter\",\"xaxis\":\"x\",\"yaxis\":\"y\"},{\"fill\":\"tozerox\",\"fillcolor\":\"rgba(99, 110, 250, 0.3)\",\"line\":{\"color\":\"rgba(255,255,255,0)\"},\"mode\":\"lines\",\"showlegend\":false,\"x\":[2000,4000,6000,7888,7888,6000,4000,2000],\"y\":[0.4129346867120225,0.4553807572106361,0.4669000139879963,0.4789194348366193,0.4606845651633807,0.45288798601200375,0.448663242789364,0.39393331328797754],\"type\":\"scatter\",\"xaxis\":\"x3\",\"yaxis\":\"y3\"},{\"line\":{\"color\":\"rgba(99, 110, 250, 0.3)\",\"width\":3},\"mode\":\"lines+markers\",\"showlegend\":false,\"x\":[2000,4000,6000,7888],\"y\":[0.403434,0.45202200000000003,0.459894,0.469802],\"type\":\"scatter\",\"xaxis\":\"x3\",\"yaxis\":\"y3\"},{\"fill\":\"tozerox\",\"fillcolor\":\"rgba(239, 85, 59, 0.3)\",\"line\":{\"color\":\"rgba(255,255,255,0)\"},\"mode\":\"lines\",\"showlegend\":false,\"x\":[2000,4000,6000,7888,7888,6000,4000,2000],\"y\":[0.4118060578900664,0.47302151110374185,0.48719843483661934,0.48412117229075025,0.47855482770924984,0.4689635651633806,0.4616964888962581,0.39587494210993357],\"type\":\"scatter\",\"xaxis\":\"x3\",\"yaxis\":\"y3\"},{\"line\":{\"color\":\"rgba(239, 85, 59, 0.3)\",\"width\":3},\"mode\":\"lines+markers\",\"showlegend\":false,\"x\":[2000,4000,6000,7888],\"y\":[0.4038405,0.46735899999999997,0.478081,0.48133800000000004],\"type\":\"scatter\",\"xaxis\":\"x3\",\"yaxis\":\"y3\"},{\"fill\":\"tozerox\",\"fillcolor\":\"rgba(0, 204, 150, 0.3)\",\"line\":{\"color\":\"rgba(255,255,255,0)\"},\"mode\":\"lines\",\"showlegend\":false,\"x\":[2000,4000,6000,7888,7888,6000,4000,2000],\"y\":[0.40342715968220305,0.46434455500581207,0.4885598532342638,0.5154116567979486,0.48431734320205144,0.46936614676573624,0.451100444994188,0.36964584031779696],\"type\":\"scatter\",\"xaxis\":\"x3\",\"yaxis\":\"y3\"},{\"line\":{\"color\":\"rgba(0, 204, 150, 0.3)\",\"width\":3},\"mode\":\"lines+markers\",\"showlegend\":false,\"x\":[2000,4000,6000,7888],\"y\":[0.3865365,0.45772250000000003,0.478963,0.49986450000000004],\"type\":\"scatter\",\"xaxis\":\"x3\",\"yaxis\":\"y3\"},{\"fill\":\"tozerox\",\"fillcolor\":\"rgba(99, 110, 250, 0.3)\",\"line\":{\"color\":\"rgba(255,255,255,0)\"},\"mode\":\"lines\",\"showlegend\":false,\"x\":[2000,4000,6000,7888,7888,6000,4000,2000],\"y\":[0.38228528310349713,0.4293843402787104,0.43580704728184944,0.44854119741615556,0.4257127363838445,0.4258315853181505,0.39101717902128963,0.3820934472965029],\"type\":\"scatter\",\"xaxis\":\"x2\",\"yaxis\":\"y2\"},{\"line\":{\"color\":\"rgba(99, 110, 250, 0.3)\",\"width\":3},\"mode\":\"lines+markers\",\"showlegend\":false,\"x\":[2000,4000,6000,7888],\"y\":[0.3821893652,0.41020075965,0.4308193163,0.4371269669],\"type\":\"scatter\",\"xaxis\":\"x2\",\"yaxis\":\"y2\"},{\"fill\":\"tozerox\",\"fillcolor\":\"rgba(239, 85, 59, 0.3)\",\"line\":{\"color\":\"rgba(255,255,255,0)\"},\"mode\":\"lines\",\"showlegend\":false,\"x\":[2000,4000,6000,7888,7888,6000,4000,2000],\"y\":[0.4236458061350731,0.46222405922833487,0.4705933599752133,0.46293672718184947,0.45296126521815055,0.4324180345247867,0.4321058376716651,0.28552402566492685],\"type\":\"scatter\",\"xaxis\":\"x2\",\"yaxis\":\"y2\"},{\"line\":{\"color\":\"rgba(239, 85, 59, 0.3)\",\"width\":3},\"mode\":\"lines+markers\",\"showlegend\":false,\"x\":[2000,4000,6000,7888],\"y\":[0.35458491589999996,0.44716494845,0.45150569725,0.4579489962],\"type\":\"scatter\",\"xaxis\":\"x2\",\"yaxis\":\"y2\"},{\"fill\":\"tozerox\",\"fillcolor\":\"rgba(0, 204, 150, 0.3)\",\"line\":{\"color\":\"rgba(255,255,255,0)\"},\"mode\":\"lines\",\"showlegend\":false,\"x\":[2000,4000,6000,7888,7888,6000,4000,2000],\"y\":[0.38413547441823664,0.43945275459544486,0.4609670018223987,0.48033429008495354,0.45808133661504646,0.45425274857760134,0.4166242937045551,0.3666784159817635],\"type\":\"scatter\",\"xaxis\":\"x2\",\"yaxis\":\"y2\"},{\"line\":{\"color\":\"rgba(0, 204, 150, 0.3)\",\"width\":3},\"mode\":\"lines+markers\",\"showlegend\":false,\"x\":[2000,4000,6000,7888],\"y\":[0.37540694520000006,0.42803852415,0.4576098752,0.46920781335],\"type\":\"scatter\",\"xaxis\":\"x2\",\"yaxis\":\"y2\"},{\"fill\":\"tozerox\",\"fillcolor\":\"rgba(99, 110, 250, 0.3)\",\"line\":{\"color\":\"rgba(255,255,255,0)\"},\"mode\":\"lines\",\"showlegend\":false,\"x\":[2000,4000,6000,7888,7888,6000,4000,2000],\"y\":[0.38228528310349713,0.4293843402787104,0.43580704728184944,0.44854119741615556,0.4257127363838445,0.4258315853181505,0.39101717902128963,0.3820934472965029],\"type\":\"scatter\",\"xaxis\":\"x4\",\"yaxis\":\"y4\"},{\"line\":{\"color\":\"rgba(99, 110, 250, 0.3)\",\"width\":3},\"mode\":\"lines+markers\",\"showlegend\":false,\"x\":[2000,4000,6000,7888],\"y\":[0.3821893652,0.41020075965,0.4308193163,0.4371269669],\"type\":\"scatter\",\"xaxis\":\"x4\",\"yaxis\":\"y4\"},{\"fill\":\"tozerox\",\"fillcolor\":\"rgba(239, 85, 59, 0.3)\",\"line\":{\"color\":\"rgba(255,255,255,0)\"},\"mode\":\"lines\",\"showlegend\":false,\"x\":[2000,4000,6000,7888,7888,6000,4000,2000],\"y\":[0.4236458061350731,0.46222405922833487,0.4705933599752133,0.46293672718184947,0.45296126521815055,0.4324180345247867,0.4321058376716651,0.28552402566492685],\"type\":\"scatter\",\"xaxis\":\"x4\",\"yaxis\":\"y4\"},{\"line\":{\"color\":\"rgba(239, 85, 59, 0.3)\",\"width\":3},\"mode\":\"lines+markers\",\"showlegend\":false,\"x\":[2000,4000,6000,7888],\"y\":[0.35458491589999996,0.44716494845,0.45150569725,0.4579489962],\"type\":\"scatter\",\"xaxis\":\"x4\",\"yaxis\":\"y4\"},{\"fill\":\"tozerox\",\"fillcolor\":\"rgba(0, 204, 150, 0.3)\",\"line\":{\"color\":\"rgba(255,255,255,0)\"},\"mode\":\"lines\",\"showlegend\":false,\"x\":[2000,4000,6000,7888,7888,6000,4000,2000],\"y\":[0.38413547441823664,0.43945275459544486,0.4609670018223987,0.48033429008495354,0.45808133661504646,0.45425274857760134,0.4166242937045551,0.3666784159817635],\"type\":\"scatter\",\"xaxis\":\"x4\",\"yaxis\":\"y4\"},{\"line\":{\"color\":\"rgba(0, 204, 150, 0.3)\",\"width\":3},\"mode\":\"lines+markers\",\"showlegend\":false,\"x\":[2000,4000,6000,7888],\"y\":[0.37540694520000006,0.42803852415,0.4576098752,0.46920781335],\"type\":\"scatter\",\"xaxis\":\"x4\",\"yaxis\":\"y4\"}],                        {\"template\":{\"data\":{\"histogram2dcontour\":[{\"type\":\"histogram2dcontour\",\"colorbar\":{\"outlinewidth\":0,\"ticks\":\"\"},\"colorscale\":[[0.0,\"#0d0887\"],[0.1111111111111111,\"#46039f\"],[0.2222222222222222,\"#7201a8\"],[0.3333333333333333,\"#9c179e\"],[0.4444444444444444,\"#bd3786\"],[0.5555555555555556,\"#d8576b\"],[0.6666666666666666,\"#ed7953\"],[0.7777777777777778,\"#fb9f3a\"],[0.8888888888888888,\"#fdca26\"],[1.0,\"#f0f921\"]]}],\"choropleth\":[{\"type\":\"choropleth\",\"colorbar\":{\"outlinewidth\":0,\"ticks\":\"\"}}],\"histogram2d\":[{\"type\":\"histogram2d\",\"colorbar\":{\"outlinewidth\":0,\"ticks\":\"\"},\"colorscale\":[[0.0,\"#0d0887\"],[0.1111111111111111,\"#46039f\"],[0.2222222222222222,\"#7201a8\"],[0.3333333333333333,\"#9c179e\"],[0.4444444444444444,\"#bd3786\"],[0.5555555555555556,\"#d8576b\"],[0.6666666666666666,\"#ed7953\"],[0.7777777777777778,\"#fb9f3a\"],[0.8888888888888888,\"#fdca26\"],[1.0,\"#f0f921\"]]}],\"heatmap\":[{\"type\":\"heatmap\",\"colorbar\":{\"outlinewidth\":0,\"ticks\":\"\"},\"colorscale\":[[0.0,\"#0d0887\"],[0.1111111111111111,\"#46039f\"],[0.2222222222222222,\"#7201a8\"],[0.3333333333333333,\"#9c179e\"],[0.4444444444444444,\"#bd3786\"],[0.5555555555555556,\"#d8576b\"],[0.6666666666666666,\"#ed7953\"],[0.7777777777777778,\"#fb9f3a\"],[0.8888888888888888,\"#fdca26\"],[1.0,\"#f0f921\"]]}],\"heatmapgl\":[{\"type\":\"heatmapgl\",\"colorbar\":{\"outlinewidth\":0,\"ticks\":\"\"},\"colorscale\":[[0.0,\"#0d0887\"],[0.1111111111111111,\"#46039f\"],[0.2222222222222222,\"#7201a8\"],[0.3333333333333333,\"#9c179e\"],[0.4444444444444444,\"#bd3786\"],[0.5555555555555556,\"#d8576b\"],[0.6666666666666666,\"#ed7953\"],[0.7777777777777778,\"#fb9f3a\"],[0.8888888888888888,\"#fdca26\"],[1.0,\"#f0f921\"]]}],\"contourcarpet\":[{\"type\":\"contourcarpet\",\"colorbar\":{\"outlinewidth\":0,\"ticks\":\"\"}}],\"contour\":[{\"type\":\"contour\",\"colorbar\":{\"outlinewidth\":0,\"ticks\":\"\"},\"colorscale\":[[0.0,\"#0d0887\"],[0.1111111111111111,\"#46039f\"],[0.2222222222222222,\"#7201a8\"],[0.3333333333333333,\"#9c179e\"],[0.4444444444444444,\"#bd3786\"],[0.5555555555555556,\"#d8576b\"],[0.6666666666666666,\"#ed7953\"],[0.7777777777777778,\"#fb9f3a\"],[0.8888888888888888,\"#fdca26\"],[1.0,\"#f0f921\"]]}],\"surface\":[{\"type\":\"surface\",\"colorbar\":{\"outlinewidth\":0,\"ticks\":\"\"},\"colorscale\":[[0.0,\"#0d0887\"],[0.1111111111111111,\"#46039f\"],[0.2222222222222222,\"#7201a8\"],[0.3333333333333333,\"#9c179e\"],[0.4444444444444444,\"#bd3786\"],[0.5555555555555556,\"#d8576b\"],[0.6666666666666666,\"#ed7953\"],[0.7777777777777778,\"#fb9f3a\"],[0.8888888888888888,\"#fdca26\"],[1.0,\"#f0f921\"]]}],\"mesh3d\":[{\"type\":\"mesh3d\",\"colorbar\":{\"outlinewidth\":0,\"ticks\":\"\"}}],\"scatter\":[{\"fillpattern\":{\"fillmode\":\"overlay\",\"size\":10,\"solidity\":0.2},\"type\":\"scatter\"}],\"parcoords\":[{\"type\":\"parcoords\",\"line\":{\"colorbar\":{\"outlinewidth\":0,\"ticks\":\"\"}}}],\"scatterpolargl\":[{\"type\":\"scatterpolargl\",\"marker\":{\"colorbar\":{\"outlinewidth\":0,\"ticks\":\"\"}}}],\"bar\":[{\"error_x\":{\"color\":\"#2a3f5f\"},\"error_y\":{\"color\":\"#2a3f5f\"},\"marker\":{\"line\":{\"color\":\"#E5ECF6\",\"width\":0.5},\"pattern\":{\"fillmode\":\"overlay\",\"size\":10,\"solidity\":0.2}},\"type\":\"bar\"}],\"scattergeo\":[{\"type\":\"scattergeo\",\"marker\":{\"colorbar\":{\"outlinewidth\":0,\"ticks\":\"\"}}}],\"scatterpolar\":[{\"type\":\"scatterpolar\",\"marker\":{\"colorbar\":{\"outlinewidth\":0,\"ticks\":\"\"}}}],\"histogram\":[{\"marker\":{\"pattern\":{\"fillmode\":\"overlay\",\"size\":10,\"solidity\":0.2}},\"type\":\"histogram\"}],\"scattergl\":[{\"type\":\"scattergl\",\"marker\":{\"colorbar\":{\"outlinewidth\":0,\"ticks\":\"\"}}}],\"scatter3d\":[{\"type\":\"scatter3d\",\"line\":{\"colorbar\":{\"outlinewidth\":0,\"ticks\":\"\"}},\"marker\":{\"colorbar\":{\"outlinewidth\":0,\"ticks\":\"\"}}}],\"scattermapbox\":[{\"type\":\"scattermapbox\",\"marker\":{\"colorbar\":{\"outlinewidth\":0,\"ticks\":\"\"}}}],\"scatterternary\":[{\"type\":\"scatterternary\",\"marker\":{\"colorbar\":{\"outlinewidth\":0,\"ticks\":\"\"}}}],\"scattercarpet\":[{\"type\":\"scattercarpet\",\"marker\":{\"colorbar\":{\"outlinewidth\":0,\"ticks\":\"\"}}}],\"carpet\":[{\"aaxis\":{\"endlinecolor\":\"#2a3f5f\",\"gridcolor\":\"white\",\"linecolor\":\"white\",\"minorgridcolor\":\"white\",\"startlinecolor\":\"#2a3f5f\"},\"baxis\":{\"endlinecolor\":\"#2a3f5f\",\"gridcolor\":\"white\",\"linecolor\":\"white\",\"minorgridcolor\":\"white\",\"startlinecolor\":\"#2a3f5f\"},\"type\":\"carpet\"}],\"table\":[{\"cells\":{\"fill\":{\"color\":\"#EBF0F8\"},\"line\":{\"color\":\"white\"}},\"header\":{\"fill\":{\"color\":\"#C8D4E3\"},\"line\":{\"color\":\"white\"}},\"type\":\"table\"}],\"barpolar\":[{\"marker\":{\"line\":{\"color\":\"#E5ECF6\",\"width\":0.5},\"pattern\":{\"fillmode\":\"overlay\",\"size\":10,\"solidity\":0.2}},\"type\":\"barpolar\"}],\"pie\":[{\"automargin\":true,\"type\":\"pie\"}]},\"layout\":{\"autotypenumbers\":\"strict\",\"colorway\":[\"#636efa\",\"#EF553B\",\"#00cc96\",\"#ab63fa\",\"#FFA15A\",\"#19d3f3\",\"#FF6692\",\"#B6E880\",\"#FF97FF\",\"#FECB52\"],\"font\":{\"color\":\"#2a3f5f\"},\"hovermode\":\"closest\",\"hoverlabel\":{\"align\":\"left\"},\"paper_bgcolor\":\"white\",\"plot_bgcolor\":\"#E5ECF6\",\"polar\":{\"bgcolor\":\"#E5ECF6\",\"angularaxis\":{\"gridcolor\":\"white\",\"linecolor\":\"white\",\"ticks\":\"\"},\"radialaxis\":{\"gridcolor\":\"white\",\"linecolor\":\"white\",\"ticks\":\"\"}},\"ternary\":{\"bgcolor\":\"#E5ECF6\",\"aaxis\":{\"gridcolor\":\"white\",\"linecolor\":\"white\",\"ticks\":\"\"},\"baxis\":{\"gridcolor\":\"white\",\"linecolor\":\"white\",\"ticks\":\"\"},\"caxis\":{\"gridcolor\":\"white\",\"linecolor\":\"white\",\"ticks\":\"\"}},\"coloraxis\":{\"colorbar\":{\"outlinewidth\":0,\"ticks\":\"\"}},\"colorscale\":{\"sequential\":[[0.0,\"#0d0887\"],[0.1111111111111111,\"#46039f\"],[0.2222222222222222,\"#7201a8\"],[0.3333333333333333,\"#9c179e\"],[0.4444444444444444,\"#bd3786\"],[0.5555555555555556,\"#d8576b\"],[0.6666666666666666,\"#ed7953\"],[0.7777777777777778,\"#fb9f3a\"],[0.8888888888888888,\"#fdca26\"],[1.0,\"#f0f921\"]],\"sequentialminus\":[[0.0,\"#0d0887\"],[0.1111111111111111,\"#46039f\"],[0.2222222222222222,\"#7201a8\"],[0.3333333333333333,\"#9c179e\"],[0.4444444444444444,\"#bd3786\"],[0.5555555555555556,\"#d8576b\"],[0.6666666666666666,\"#ed7953\"],[0.7777777777777778,\"#fb9f3a\"],[0.8888888888888888,\"#fdca26\"],[1.0,\"#f0f921\"]],\"diverging\":[[0,\"#8e0152\"],[0.1,\"#c51b7d\"],[0.2,\"#de77ae\"],[0.3,\"#f1b6da\"],[0.4,\"#fde0ef\"],[0.5,\"#f7f7f7\"],[0.6,\"#e6f5d0\"],[0.7,\"#b8e186\"],[0.8,\"#7fbc41\"],[0.9,\"#4d9221\"],[1,\"#276419\"]]},\"xaxis\":{\"gridcolor\":\"white\",\"linecolor\":\"white\",\"ticks\":\"\",\"title\":{\"standoff\":15},\"zerolinecolor\":\"white\",\"automargin\":true,\"zerolinewidth\":2},\"yaxis\":{\"gridcolor\":\"white\",\"linecolor\":\"white\",\"ticks\":\"\",\"title\":{\"standoff\":15},\"zerolinecolor\":\"white\",\"automargin\":true,\"zerolinewidth\":2},\"scene\":{\"xaxis\":{\"backgroundcolor\":\"#E5ECF6\",\"gridcolor\":\"white\",\"linecolor\":\"white\",\"showbackground\":true,\"ticks\":\"\",\"zerolinecolor\":\"white\",\"gridwidth\":2},\"yaxis\":{\"backgroundcolor\":\"#E5ECF6\",\"gridcolor\":\"white\",\"linecolor\":\"white\",\"showbackground\":true,\"ticks\":\"\",\"zerolinecolor\":\"white\",\"gridwidth\":2},\"zaxis\":{\"backgroundcolor\":\"#E5ECF6\",\"gridcolor\":\"white\",\"linecolor\":\"white\",\"showbackground\":true,\"ticks\":\"\",\"zerolinecolor\":\"white\",\"gridwidth\":2}},\"shapedefaults\":{\"line\":{\"color\":\"#2a3f5f\"}},\"annotationdefaults\":{\"arrowcolor\":\"#2a3f5f\",\"arrowhead\":0,\"arrowwidth\":1},\"geo\":{\"bgcolor\":\"white\",\"landcolor\":\"#E5ECF6\",\"subunitcolor\":\"white\",\"showland\":true,\"showlakes\":true,\"lakecolor\":\"white\"},\"title\":{\"x\":0.05},\"mapbox\":{\"style\":\"light\"}}},\"xaxis\":{\"anchor\":\"y\",\"domain\":[0.0,0.2125],\"title\":{\"text\":\"# of labelled dialogue turns\"},\"type\":\"category\"},\"yaxis\":{\"anchor\":\"x\",\"domain\":[0.0,1.0],\"title\":{\"text\":\"Joint Goal Accuracy\"},\"range\":[0.25,0.6]},\"xaxis2\":{\"anchor\":\"y2\",\"domain\":[0.2625,0.475],\"title\":{\"text\":\"# of labelled dialogue turns\"},\"type\":\"category\"},\"yaxis2\":{\"anchor\":\"x2\",\"domain\":[0.0,1.0],\"range\":[0.25,0.55]},\"xaxis3\":{\"anchor\":\"y3\",\"domain\":[0.525,0.7375],\"title\":{\"text\":\"# of labelled dialogue turns\"},\"type\":\"category\"},\"yaxis3\":{\"anchor\":\"x3\",\"domain\":[0.0,1.0],\"range\":[0.35,0.55]},\"xaxis4\":{\"anchor\":\"y4\",\"domain\":[0.7875,1.0],\"title\":{\"text\":\"# of labelled dialogue turns\"},\"type\":\"category\"},\"yaxis4\":{\"anchor\":\"x4\",\"domain\":[0.0,1.0],\"range\":[0.2,0.6]},\"annotations\":[{\"font\":{\"size\":16},\"showarrow\":false,\"text\":\"KAGE-GPT2+ME on MultiWOZ 2.0\",\"x\":0.10625,\"xanchor\":\"center\",\"xref\":\"paper\",\"y\":1.0,\"yanchor\":\"bottom\",\"yref\":\"paper\"},{\"font\":{\"size\":16},\"showarrow\":false,\"text\":\"PPTOD+ME on MultiWOZ 2.0\",\"x\":0.36875,\"xanchor\":\"center\",\"xref\":\"paper\",\"y\":1.0,\"yanchor\":\"bottom\",\"yref\":\"paper\"},{\"font\":{\"size\":16},\"showarrow\":false,\"text\":\"KAGE-GPT2+ME on MultiWOZ 2.1\",\"x\":0.6312500000000001,\"xanchor\":\"center\",\"xref\":\"paper\",\"y\":1.0,\"yanchor\":\"bottom\",\"yref\":\"paper\"},{\"font\":{\"size\":16},\"showarrow\":false,\"text\":\"PPTOD+ME on MultiWOZ 2.1\",\"x\":0.89375,\"xanchor\":\"center\",\"xref\":\"paper\",\"y\":1.0,\"yanchor\":\"bottom\",\"yref\":\"paper\"},{\"font\":{\"color\":\"rgba(98, 85, 92, 0.8)\",\"size\":10},\"showarrow\":false,\"text\":\"Last Turn(14.4%)\",\"x\":0,\"xanchor\":\"left\",\"xref\":\"x domain\",\"y\":0.5043,\"yanchor\":\"bottom\",\"yref\":\"y\"},{\"font\":{\"color\":\"rgba(98, 85, 92, 0.8)\",\"size\":10},\"showarrow\":false,\"text\":\"Full Data(100%)\",\"x\":0,\"xanchor\":\"left\",\"xref\":\"x domain\",\"y\":0.5486,\"yanchor\":\"bottom\",\"yref\":\"y\"},{\"font\":{\"color\":\"rgba(98, 85, 92, 0.8)\",\"size\":10},\"showarrow\":false,\"text\":\"Last Turn(14.4%)\",\"x\":0,\"xanchor\":\"left\",\"xref\":\"x domain\",\"y\":0.5043,\"yanchor\":\"bottom\",\"yref\":\"y\"},{\"font\":{\"color\":\"rgba(98, 85, 92, 0.8)\",\"size\":10},\"showarrow\":false,\"text\":\"Full Data(100%)\",\"x\":0,\"xanchor\":\"left\",\"xref\":\"x domain\",\"y\":0.5486,\"yanchor\":\"bottom\",\"yref\":\"y\"},{\"font\":{\"color\":\"rgba(98, 85, 92, 0.8)\",\"size\":10},\"showarrow\":false,\"text\":\"Last Turn(14.4%)\",\"x\":0,\"xanchor\":\"left\",\"xref\":\"x domain\",\"y\":0.5043,\"yanchor\":\"bottom\",\"yref\":\"y\"},{\"font\":{\"color\":\"rgba(98, 85, 92, 0.8)\",\"size\":10},\"showarrow\":false,\"text\":\"Full Data(100%)\",\"x\":0,\"xanchor\":\"left\",\"xref\":\"x domain\",\"y\":0.5486,\"yanchor\":\"bottom\",\"yref\":\"y\"},{\"font\":{\"color\":\"rgba(98, 85, 92, 0.8)\",\"size\":10},\"showarrow\":false,\"text\":\"Last Turn(14.4%)\",\"x\":0,\"xanchor\":\"left\",\"xref\":\"x3 domain\",\"y\":0.4912,\"yanchor\":\"bottom\",\"yref\":\"y3\"},{\"font\":{\"color\":\"rgba(98, 85, 92, 0.8)\",\"size\":10},\"showarrow\":false,\"text\":\"Last Turn(14.4%)\",\"x\":0,\"xanchor\":\"left\",\"xref\":\"x3 domain\",\"y\":0.4912,\"yanchor\":\"bottom\",\"yref\":\"y3\"},{\"font\":{\"color\":\"rgba(98, 85, 92, 0.8)\",\"size\":10},\"showarrow\":false,\"text\":\"Last Turn(14.4%)\",\"x\":0,\"xanchor\":\"left\",\"xref\":\"x3 domain\",\"y\":0.4912,\"yanchor\":\"bottom\",\"yref\":\"y3\"},{\"font\":{\"color\":\"rgba(98, 85, 92, 0.8)\",\"size\":10},\"showarrow\":false,\"text\":\"Last Turn(14.4%)\",\"x\":0,\"xanchor\":\"left\",\"xref\":\"x2 domain\",\"y\":0.4383,\"yanchor\":\"bottom\",\"yref\":\"y2\"},{\"font\":{\"color\":\"rgba(98, 85, 92, 0.8)\",\"size\":10},\"showarrow\":false,\"text\":\"Full Data(100%)\",\"x\":0,\"xanchor\":\"left\",\"xref\":\"x2 domain\",\"y\":0.5337,\"yanchor\":\"bottom\",\"yref\":\"y2\"},{\"font\":{\"color\":\"rgba(98, 85, 92, 0.8)\",\"size\":10},\"showarrow\":false,\"text\":\"Last Turn(14.4%)\",\"x\":0,\"xanchor\":\"left\",\"xref\":\"x2 domain\",\"y\":0.4383,\"yanchor\":\"bottom\",\"yref\":\"y2\"},{\"font\":{\"color\":\"rgba(98, 85, 92, 0.8)\",\"size\":10},\"showarrow\":false,\"text\":\"Full Data(100%)\",\"x\":0,\"xanchor\":\"left\",\"xref\":\"x2 domain\",\"y\":0.5337,\"yanchor\":\"bottom\",\"yref\":\"y2\"},{\"font\":{\"color\":\"rgba(98, 85, 92, 0.8)\",\"size\":10},\"showarrow\":false,\"text\":\"Last Turn(14.4%)\",\"x\":0,\"xanchor\":\"left\",\"xref\":\"x2 domain\",\"y\":0.4383,\"yanchor\":\"bottom\",\"yref\":\"y2\"},{\"font\":{\"color\":\"rgba(98, 85, 92, 0.8)\",\"size\":10},\"showarrow\":false,\"text\":\"Full Data(100%)\",\"x\":0,\"xanchor\":\"left\",\"xref\":\"x2 domain\",\"y\":0.5337,\"yanchor\":\"bottom\",\"yref\":\"y2\"},{\"font\":{\"color\":\"rgba(98, 85, 92, 0.8)\",\"size\":10},\"showarrow\":false,\"text\":\"Last Turn(14.4%)\",\"x\":0,\"xanchor\":\"left\",\"xref\":\"x4 domain\",\"y\":0.4383,\"yanchor\":\"bottom\",\"yref\":\"y4\"},{\"font\":{\"color\":\"rgba(98, 85, 92, 0.8)\",\"size\":10},\"showarrow\":false,\"text\":\"Full Data(100%)\",\"x\":0,\"xanchor\":\"left\",\"xref\":\"x4 domain\",\"y\":0.5337,\"yanchor\":\"bottom\",\"yref\":\"y4\"},{\"font\":{\"color\":\"rgba(98, 85, 92, 0.8)\",\"size\":10},\"showarrow\":false,\"text\":\"Last Turn(14.4%)\",\"x\":0,\"xanchor\":\"left\",\"xref\":\"x4 domain\",\"y\":0.4383,\"yanchor\":\"bottom\",\"yref\":\"y4\"},{\"font\":{\"color\":\"rgba(98, 85, 92, 0.8)\",\"size\":10},\"showarrow\":false,\"text\":\"Full Data(100%)\",\"x\":0,\"xanchor\":\"left\",\"xref\":\"x4 domain\",\"y\":0.5337,\"yanchor\":\"bottom\",\"yref\":\"y4\"},{\"font\":{\"color\":\"rgba(98, 85, 92, 0.8)\",\"size\":10},\"showarrow\":false,\"text\":\"Last Turn(14.4%)\",\"x\":0,\"xanchor\":\"left\",\"xref\":\"x4 domain\",\"y\":0.4383,\"yanchor\":\"bottom\",\"yref\":\"y4\"},{\"font\":{\"color\":\"rgba(98, 85, 92, 0.8)\",\"size\":10},\"showarrow\":false,\"text\":\"Full Data(100%)\",\"x\":0,\"xanchor\":\"left\",\"xref\":\"x4 domain\",\"y\":0.5337,\"yanchor\":\"bottom\",\"yref\":\"y4\"}],\"shapes\":[{\"line\":{\"color\":\"green\",\"dash\":\"dot\",\"width\":1.5},\"type\":\"line\",\"x0\":0,\"x1\":1,\"xref\":\"x domain\",\"y0\":0.5043,\"y1\":0.5043,\"yref\":\"y\"},{\"line\":{\"color\":\"red\",\"dash\":\"dot\",\"width\":1.5},\"type\":\"line\",\"x0\":0,\"x1\":1,\"xref\":\"x domain\",\"y0\":0.5486,\"y1\":0.5486,\"yref\":\"y\"},{\"line\":{\"color\":\"green\",\"dash\":\"dot\",\"width\":1.5},\"type\":\"line\",\"x0\":0,\"x1\":1,\"xref\":\"x domain\",\"y0\":0.5043,\"y1\":0.5043,\"yref\":\"y\"},{\"line\":{\"color\":\"red\",\"dash\":\"dot\",\"width\":1.5},\"type\":\"line\",\"x0\":0,\"x1\":1,\"xref\":\"x domain\",\"y0\":0.5486,\"y1\":0.5486,\"yref\":\"y\"},{\"line\":{\"color\":\"green\",\"dash\":\"dot\",\"width\":1.5},\"type\":\"line\",\"x0\":0,\"x1\":1,\"xref\":\"x domain\",\"y0\":0.5043,\"y1\":0.5043,\"yref\":\"y\"},{\"line\":{\"color\":\"red\",\"dash\":\"dot\",\"width\":1.5},\"type\":\"line\",\"x0\":0,\"x1\":1,\"xref\":\"x domain\",\"y0\":0.5486,\"y1\":0.5486,\"yref\":\"y\"},{\"line\":{\"color\":\"green\",\"dash\":\"dot\",\"width\":1.5},\"type\":\"line\",\"x0\":0,\"x1\":1,\"xref\":\"x3 domain\",\"y0\":0.4912,\"y1\":0.4912,\"yref\":\"y3\"},{\"line\":{\"color\":\"green\",\"dash\":\"dot\",\"width\":1.5},\"type\":\"line\",\"x0\":0,\"x1\":1,\"xref\":\"x3 domain\",\"y0\":0.4912,\"y1\":0.4912,\"yref\":\"y3\"},{\"line\":{\"color\":\"green\",\"dash\":\"dot\",\"width\":1.5},\"type\":\"line\",\"x0\":0,\"x1\":1,\"xref\":\"x3 domain\",\"y0\":0.4912,\"y1\":0.4912,\"yref\":\"y3\"},{\"line\":{\"color\":\"green\",\"dash\":\"dot\",\"width\":1.5},\"type\":\"line\",\"x0\":0,\"x1\":1,\"xref\":\"x2 domain\",\"y0\":0.4383,\"y1\":0.4383,\"yref\":\"y2\"},{\"line\":{\"color\":\"red\",\"dash\":\"dot\",\"width\":1},\"type\":\"line\",\"x0\":0,\"x1\":1,\"xref\":\"x2 domain\",\"y0\":0.5337,\"y1\":0.5337,\"yref\":\"y2\"},{\"line\":{\"color\":\"green\",\"dash\":\"dot\",\"width\":1.5},\"type\":\"line\",\"x0\":0,\"x1\":1,\"xref\":\"x2 domain\",\"y0\":0.4383,\"y1\":0.4383,\"yref\":\"y2\"},{\"line\":{\"color\":\"red\",\"dash\":\"dot\",\"width\":1},\"type\":\"line\",\"x0\":0,\"x1\":1,\"xref\":\"x2 domain\",\"y0\":0.5337,\"y1\":0.5337,\"yref\":\"y2\"},{\"line\":{\"color\":\"green\",\"dash\":\"dot\",\"width\":1.5},\"type\":\"line\",\"x0\":0,\"x1\":1,\"xref\":\"x2 domain\",\"y0\":0.4383,\"y1\":0.4383,\"yref\":\"y2\"},{\"line\":{\"color\":\"red\",\"dash\":\"dot\",\"width\":1},\"type\":\"line\",\"x0\":0,\"x1\":1,\"xref\":\"x2 domain\",\"y0\":0.5337,\"y1\":0.5337,\"yref\":\"y2\"},{\"line\":{\"color\":\"green\",\"dash\":\"dot\",\"width\":1.5},\"type\":\"line\",\"x0\":0,\"x1\":1,\"xref\":\"x4 domain\",\"y0\":0.4383,\"y1\":0.4383,\"yref\":\"y4\"},{\"line\":{\"color\":\"red\",\"dash\":\"dot\",\"width\":1.5},\"type\":\"line\",\"x0\":0,\"x1\":1,\"xref\":\"x4 domain\",\"y0\":0.5337,\"y1\":0.5337,\"yref\":\"y4\"},{\"line\":{\"color\":\"green\",\"dash\":\"dot\",\"width\":1.5},\"type\":\"line\",\"x0\":0,\"x1\":1,\"xref\":\"x4 domain\",\"y0\":0.4383,\"y1\":0.4383,\"yref\":\"y4\"},{\"line\":{\"color\":\"red\",\"dash\":\"dot\",\"width\":1.5},\"type\":\"line\",\"x0\":0,\"x1\":1,\"xref\":\"x4 domain\",\"y0\":0.5337,\"y1\":0.5337,\"yref\":\"y4\"},{\"line\":{\"color\":\"green\",\"dash\":\"dot\",\"width\":1.5},\"type\":\"line\",\"x0\":0,\"x1\":1,\"xref\":\"x4 domain\",\"y0\":0.4383,\"y1\":0.4383,\"yref\":\"y4\"},{\"line\":{\"color\":\"red\",\"dash\":\"dot\",\"width\":1.5},\"type\":\"line\",\"x0\":0,\"x1\":1,\"xref\":\"x4 domain\",\"y0\":0.5337,\"y1\":0.5337,\"yref\":\"y4\"}],\"margin\":{\"l\":5,\"t\":20,\"b\":5,\"r\":5},\"height\":300,\"width\":1400},                        {\"responsive\": true}                    ).then(function(){\n",
       "                            \n",
       "var gd = document.getElementById('f7b5fc73-f466-4d59-9166-5fd4f1bd4bb6');\n",
       "var x = new MutationObserver(function (mutations, observer) {{\n",
       "        var display = window.getComputedStyle(gd).display;\n",
       "        if (!display || display === 'none') {{\n",
       "            console.log([gd, 'removed!']);\n",
       "            Plotly.purge(gd);\n",
       "            observer.disconnect();\n",
       "        }}\n",
       "}});\n",
       "\n",
       "// Listen for the removal of the full notebook cells\n",
       "var notebookContainer = gd.closest('#notebook-container');\n",
       "if (notebookContainer) {{\n",
       "    x.observe(notebookContainer, {childList: true});\n",
       "}}\n",
       "\n",
       "// Listen for the clearing of the current output cell\n",
       "var outputEl = gd.closest('.output');\n",
       "if (outputEl) {{\n",
       "    x.observe(outputEl, {childList: true});\n",
       "}}\n",
       "\n",
       "                        })                };                });            </script>        </div>"
      ]
     },
     "metadata": {},
     "output_type": "display_data"
    }
   ],
   "source": [
    "plot1 = row1col4_plot_4_joint_acc_by_round(kage_mwz20_k2000, kage_mwz21_k2000, pptod_mwz20_k2000)\n",
    "plot1"
   ]
  },
  {
   "cell_type": "code",
   "execution_count": 48,
   "metadata": {},
   "outputs": [],
   "source": [
    "pio.write_image(plot1, \"test2.pdf\", width=1400, height=300)"
   ]
  },
  {
   "cell_type": "code",
   "execution_count": null,
   "metadata": {},
   "outputs": [],
   "source": []
  },
  {
   "cell_type": "code",
   "execution_count": null,
   "metadata": {},
   "outputs": [],
   "source": []
  },
  {
   "cell_type": "code",
   "execution_count": null,
   "metadata": {},
   "outputs": [],
   "source": []
  },
  {
   "cell_type": "code",
   "execution_count": null,
   "metadata": {},
   "outputs": [],
   "source": []
  },
  {
   "cell_type": "code",
   "execution_count": null,
   "metadata": {},
   "outputs": [],
   "source": []
  },
  {
   "cell_type": "code",
   "execution_count": null,
   "metadata": {},
   "outputs": [],
   "source": []
  }
 ],
 "metadata": {
  "kernelspec": {
   "display_name": "Python 3",
   "language": "python",
   "name": "python3"
  },
  "language_info": {
   "codemirror_mode": {
    "name": "ipython",
    "version": 3
   },
   "file_extension": ".py",
   "mimetype": "text/x-python",
   "name": "python",
   "nbconvert_exporter": "python",
   "pygments_lexer": "ipython3",
   "version": "3.8.5"
  }
 },
 "nbformat": 4,
 "nbformat_minor": 4
}
