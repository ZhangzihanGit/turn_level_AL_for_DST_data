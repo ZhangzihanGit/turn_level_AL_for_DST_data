{
 "cells": [
  {
   "cell_type": "code",
   "execution_count": 1,
   "metadata": {},
   "outputs": [],
   "source": [
    "import os\n",
    "import numpy as np\n",
    "import pandas as pd\n",
    "import plotly\n",
    "import plotly.graph_objs as go\n",
    "import plotly.express as px\n",
    "# import plotly.express as px\n",
    "# import plotly.graph_objects as go\n",
    "from IPython.display import display, HTML"
   ]
  },
  {
   "cell_type": "markdown",
   "metadata": {},
   "source": [
    "# MWZ2.0/2.1 statistics"
   ]
  },
  {
   "cell_type": "code",
   "execution_count": 2,
   "metadata": {},
   "outputs": [],
   "source": [
    "mwz20_dialogue2len_path = './data/mwz20/train_dialogue2len.csv'\n",
    "mwz21_dialogue2len_path = './data/mwz21/train_dialogue2len.csv'"
   ]
  },
  {
   "cell_type": "code",
   "execution_count": 3,
   "metadata": {},
   "outputs": [
    {
     "data": {
      "text/html": [
       "<div>\n",
       "<style scoped>\n",
       "    .dataframe tbody tr th:only-of-type {\n",
       "        vertical-align: middle;\n",
       "    }\n",
       "\n",
       "    .dataframe tbody tr th {\n",
       "        vertical-align: top;\n",
       "    }\n",
       "\n",
       "    .dataframe thead th {\n",
       "        text-align: right;\n",
       "    }\n",
       "</style>\n",
       "<table border=\"1\" class=\"dataframe\">\n",
       "  <thead>\n",
       "    <tr style=\"text-align: right;\">\n",
       "      <th></th>\n",
       "      <th>dialogue_id</th>\n",
       "      <th>total_turns</th>\n",
       "    </tr>\n",
       "  </thead>\n",
       "  <tbody>\n",
       "    <tr>\n",
       "      <th>0</th>\n",
       "      <td>MUL0001</td>\n",
       "      <td>10</td>\n",
       "    </tr>\n",
       "    <tr>\n",
       "      <th>1</th>\n",
       "      <td>MUL0002</td>\n",
       "      <td>7</td>\n",
       "    </tr>\n",
       "    <tr>\n",
       "      <th>2</th>\n",
       "      <td>MUL0005</td>\n",
       "      <td>9</td>\n",
       "    </tr>\n",
       "    <tr>\n",
       "      <th>3</th>\n",
       "      <td>MUL0006</td>\n",
       "      <td>8</td>\n",
       "    </tr>\n",
       "    <tr>\n",
       "      <th>4</th>\n",
       "      <td>MUL0007</td>\n",
       "      <td>7</td>\n",
       "    </tr>\n",
       "    <tr>\n",
       "      <th>...</th>\n",
       "      <td>...</td>\n",
       "      <td>...</td>\n",
       "    </tr>\n",
       "    <tr>\n",
       "      <th>7883</th>\n",
       "      <td>WOZ20671</td>\n",
       "      <td>3</td>\n",
       "    </tr>\n",
       "    <tr>\n",
       "      <th>7884</th>\n",
       "      <td>WOZ20672</td>\n",
       "      <td>5</td>\n",
       "    </tr>\n",
       "    <tr>\n",
       "      <th>7885</th>\n",
       "      <td>WOZ20673</td>\n",
       "      <td>5</td>\n",
       "    </tr>\n",
       "    <tr>\n",
       "      <th>7886</th>\n",
       "      <td>WOZ20674</td>\n",
       "      <td>4</td>\n",
       "    </tr>\n",
       "    <tr>\n",
       "      <th>7887</th>\n",
       "      <td>WOZ20675</td>\n",
       "      <td>5</td>\n",
       "    </tr>\n",
       "  </tbody>\n",
       "</table>\n",
       "<p>7888 rows × 2 columns</p>\n",
       "</div>"
      ],
      "text/plain": [
       "     dialogue_id  total_turns\n",
       "0        MUL0001           10\n",
       "1        MUL0002            7\n",
       "2        MUL0005            9\n",
       "3        MUL0006            8\n",
       "4        MUL0007            7\n",
       "...          ...          ...\n",
       "7883    WOZ20671            3\n",
       "7884    WOZ20672            5\n",
       "7885    WOZ20673            5\n",
       "7886    WOZ20674            4\n",
       "7887    WOZ20675            5\n",
       "\n",
       "[7888 rows x 2 columns]"
      ]
     },
     "execution_count": 3,
     "metadata": {},
     "output_type": "execute_result"
    }
   ],
   "source": [
    "mwz20_dialogue2len_df = pd.read_csv(mwz20_dialogue2len_path)\n",
    "mwz20_dialogue2len_df"
   ]
  },
  {
   "cell_type": "markdown",
   "metadata": {},
   "source": [
    "Min, Max, and Avergae number of turns per dialogue in MWZ2.0"
   ]
  },
  {
   "cell_type": "code",
   "execution_count": 4,
   "metadata": {},
   "outputs": [
    {
     "data": {
      "text/plain": [
       "count    7888.000000\n",
       "mean        6.968940\n",
       "std         2.588889\n",
       "min         1.000000\n",
       "25%         5.000000\n",
       "50%         7.000000\n",
       "75%         9.000000\n",
       "max        22.000000\n",
       "Name: total_turns, dtype: float64"
      ]
     },
     "execution_count": 4,
     "metadata": {},
     "output_type": "execute_result"
    }
   ],
   "source": [
    "mwz20_dialogue2len_df['total_turns'].describe()"
   ]
  },
  {
   "cell_type": "markdown",
   "metadata": {},
   "source": [
    "## Path of MWZ20/21 KAGE"
   ]
  },
  {
   "cell_type": "code",
   "execution_count": 5,
   "metadata": {},
   "outputs": [],
   "source": [
    "acc_path_list = [\n",
    "    # Max Entropy\n",
    "    './data/mwz20/KAGE/max_entropy/k100/k100_test_acc.csv',\n",
    "    \n",
    "    # Least Confidence\n",
    "    './data/mwz20/KAGE/least_confidence/k100/k100_test_acc.csv',\n",
    "    \n",
    "    # Random\n",
    "    './data/mwz20/KAGE/random/k100/k100_test_acc.csv',\n",
    "\n",
    "]"
   ]
  },
  {
   "cell_type": "code",
   "execution_count": 6,
   "metadata": {},
   "outputs": [],
   "source": [
    "def add_data_size_col(df, test_acc_csv_path):\n",
    "    # add number of instances\n",
    "    if '2000' in test_acc_csv_path:\n",
    "        df['# of labelled dialogue turns'] = df['round'] * 2000 + 2000\n",
    "    elif '1500' in test_acc_csv_path:\n",
    "        df['# of labelled dialogue turns'] = df['round'] * 1500 + 1500\n",
    "    elif '1000' in test_acc_csv_path:\n",
    "        df['# of labelled dialogue turns'] = df['round'] * 1000 + 1000\n",
    "    elif '500' in test_acc_csv_path:\n",
    "        df['# of labelled dialogue turns'] = df['round'] * 500 + 500\n",
    "    elif '100' in test_acc_csv_path:\n",
    "        df['# of labelled dialogue turns'] = df['round'] * 100 + 100\n",
    "    \n",
    "    df['# of labelled dialogue turns'] = df['# of labelled dialogue turns'].apply(lambda x: 7888 if x > 7888 else x)\n",
    "    \n",
    "    return df"
   ]
  },
  {
   "cell_type": "code",
   "execution_count": 7,
   "metadata": {},
   "outputs": [],
   "source": [
    "def get_mean_std_acc_by_path(test_acc_csv_path):\n",
    "    '''\n",
    "    Get mean and std of acc\n",
    "    '''\n",
    "    \n",
    "    df = pd.read_csv(test_acc_csv_path)\n",
    "    df = add_data_size_col(df, test_acc_csv_path)\n",
    "    \n",
    "#     display(df)\n",
    "    \n",
    "#     print('Mean of Joint and Slot acc')\n",
    "    display(df.groupby('round')[['test_joint_acc', 'test_slot_acc']].mean())\n",
    "#     print('Std of Joint and Slot acc')\n",
    "    display(df.groupby('round')[['test_joint_acc', 'test_slot_acc']].std(ddof=0))"
   ]
  },
  {
   "cell_type": "code",
   "execution_count": null,
   "metadata": {},
   "outputs": [],
   "source": []
  },
  {
   "cell_type": "markdown",
   "metadata": {},
   "source": [
    "## Plot"
   ]
  },
  {
   "cell_type": "code",
   "execution_count": 8,
   "metadata": {},
   "outputs": [],
   "source": [
    "# Make sure the colors run in cycles if there are more lines than colors\n",
    "def next_col(cols):\n",
    "    while True:\n",
    "        for col in cols:\n",
    "            yield col"
   ]
  },
  {
   "cell_type": "code",
   "execution_count": 9,
   "metadata": {},
   "outputs": [],
   "source": [
    "def get_colCycle():\n",
    "    # define colors as a list \n",
    "    colors = px.colors.qualitative.Plotly\n",
    "\n",
    "    # convert plotly hex colors to rgba to enable transparency adjustments\n",
    "    def hex_rgba(hex, transparency):\n",
    "        col_hex = hex.lstrip('#')\n",
    "        col_rgb = list(int(col_hex[i:i+2], 16) for i in (0, 2, 4))\n",
    "        col_rgb.extend([transparency])\n",
    "        areacol = tuple(col_rgb)\n",
    "        return areacol\n",
    "\n",
    "    # rgba = [hex_rgba(c, transparency=0.2) for c in colors]\n",
    "    rgba = [hex_rgba(c, transparency=0.3) for c in colors]\n",
    "    colCycle = ['rgba'+str(elem) for elem in rgba]\n",
    "\n",
    "#     print(colCycle)\n",
    "    \n",
    "    return colCycle"
   ]
  },
  {
   "cell_type": "code",
   "execution_count": 25,
   "metadata": {},
   "outputs": [],
   "source": [
    "def plot_joint_acc_by_round(df_list, strategy_list, baselines):\n",
    "    \n",
    "    full_baseline, lt_baseline, rand_baseline = baselines\n",
    "    \n",
    "    if full_baseline == 0:\n",
    "        not_full_line = True\n",
    "    else:\n",
    "        not_full_line = False\n",
    "    \n",
    "    fig = go.Figure()\n",
    "    \n",
    "    colCycle = get_colCycle()\n",
    "    line_color=next_col(cols=colCycle)\n",
    "    \n",
    "    \n",
    "    \n",
    "#     legend = ['ME', 'LC', 'RS']\n",
    "    for i, df in enumerate(df_list):\n",
    "    \n",
    "        y_upper = list(df[\"test_joint_acc\"] + df[\"joint_acc_std\"])\n",
    "        y_lower = list(df[\"test_joint_acc\"] - df[\"joint_acc_std\"])\n",
    "        y_lower = y_lower[::-1]\n",
    "\n",
    "        x_std = list(df[\"# of labelled dialogue turns\"])\n",
    "        x_std = x_std + x_std[::-1]\n",
    "\n",
    "        new_col = next(line_color)\n",
    "        \n",
    "        fig.add_trace(\n",
    "            go.Scatter(\n",
    "                x=x_std, \n",
    "                y=y_upper + y_lower, \n",
    "                fill='tozerox',\n",
    "                fillcolor=new_col,\n",
    "                line=dict(color='rgba(255,255,255,0)'),\n",
    "                name=strategy_list[i],\n",
    "                mode=\"lines\",\n",
    "                showlegend=False,\n",
    "            )\n",
    "        )\n",
    "\n",
    "        fig.add_trace(\n",
    "            go.Scatter(\n",
    "                x=df[\"# of labelled dialogue turns\"], \n",
    "                y=df[\"test_joint_acc\"], \n",
    "                line=dict(color=new_col, width=3),\n",
    "    #             text=copyed_df['text'], \n",
    "                mode=\"lines+markers\",\n",
    "                name=strategy_list[i]\n",
    "            )\n",
    "        )\n",
    "        \n",
    "        # Last Turn\n",
    "        fig.add_hline(\n",
    "            y=lt_baseline, \n",
    "            line_width=1, \n",
    "            line_dash=\"dot\", # dash\n",
    "            line_color=\"green\",\n",
    "            annotation_text=\"Last Turn(14.4%)\", \n",
    "            annotation_position=\"bottom left\"\n",
    "        )\n",
    "        \n",
    "        if not not_full_line:\n",
    "            # Full Data\n",
    "            fig.add_hline(\n",
    "                y=full_baseline, \n",
    "                line_width=1, \n",
    "                line_dash=\"dot\", # dash\n",
    "                line_color=\"red\",\n",
    "                annotation_text=\"Full Data(100%)\", \n",
    "                annotation_position=\"bottom left\"\n",
    "            )\n",
    "        \n",
    "    \n",
    "    \n",
    "    fig.update_xaxes(type='category')\n",
    "    fig.update_layout(\n",
    "        yaxis_range=[0, 0.6],\n",
    "#         title=\"Plot Title\",\n",
    "#         legend_title=\"Legend Title\",\n",
    "        xaxis_title=\"# of labelled dialogue turns\",\n",
    "        yaxis_title=\"Joint Goal Accuracy\",\n",
    "#         font=dict(\n",
    "#             family=\"Courier New, monospace\",\n",
    "#             size=18,\n",
    "#             color=\"RebeccaPurple\"\n",
    "#         )\n",
    "    )\n",
    "    \n",
    "#     fig.update_traces(textposition=\"top center\")\n",
    "    \n",
    "#     fig.show()\n",
    "    return fig"
   ]
  },
  {
   "cell_type": "code",
   "execution_count": 27,
   "metadata": {},
   "outputs": [],
   "source": [
    "def make_merged_df_for_plotting(test_acc_csv_path):\n",
    "    acc_df = pd.read_csv(test_acc_csv_path)\n",
    "    mean = acc_df.groupby('round')[['test_joint_acc', 'test_slot_acc']].mean().reset_index()\n",
    "    std = acc_df.groupby('round')[['test_joint_acc', 'test_slot_acc']].std(ddof=0).reset_index()\n",
    "    std = std.rename(columns={\n",
    "        'test_joint_acc': 'joint_acc_std',\n",
    "        'test_slot_acc': 'slot_acc_std'\n",
    "    })\n",
    "    \n",
    "#     display(mean)\n",
    "#     display(std)\n",
    "    \n",
    "    merged = pd.merge(mean, std, on='round')\n",
    "    merged = add_data_size_col(merged, test_acc_csv_path)\n",
    "    \n",
    "    return merged"
   ]
  },
  {
   "cell_type": "code",
   "execution_count": 35,
   "metadata": {},
   "outputs": [
    {
     "data": {
      "text/plain": [
       "joint_acc    0.225855\n",
       "dtype: float64"
      ]
     },
     "execution_count": 35,
     "metadata": {},
     "output_type": "execute_result"
    }
   ],
   "source": [
    "kage_k500_s998_lt_df = pd.DataFrame({\n",
    "    'joint_acc': [0.243082, 0.208627]\n",
    "})\n",
    "kage_k500_s998_lt_df.mean()"
   ]
  },
  {
   "cell_type": "code",
   "execution_count": 40,
   "metadata": {
    "scrolled": false
   },
   "outputs": [
    {
     "name": "stdout",
     "output_type": "stream",
     "text": [
      "============== ./data/mwz20/KAGE/random/k100/k100_test_acc.csv ==============\n"
     ]
    },
    {
     "data": {
      "text/html": [
       "<div>\n",
       "<style scoped>\n",
       "    .dataframe tbody tr th:only-of-type {\n",
       "        vertical-align: middle;\n",
       "    }\n",
       "\n",
       "    .dataframe tbody tr th {\n",
       "        vertical-align: top;\n",
       "    }\n",
       "\n",
       "    .dataframe thead th {\n",
       "        text-align: right;\n",
       "    }\n",
       "</style>\n",
       "<table border=\"1\" class=\"dataframe\">\n",
       "  <thead>\n",
       "    <tr style=\"text-align: right;\">\n",
       "      <th></th>\n",
       "      <th>round</th>\n",
       "      <th>test_joint_acc</th>\n",
       "      <th>test_slot_acc</th>\n",
       "      <th>joint_acc_std</th>\n",
       "      <th>slot_acc_std</th>\n",
       "      <th># of labelled dialogue turns</th>\n",
       "    </tr>\n",
       "  </thead>\n",
       "  <tbody>\n",
       "    <tr>\n",
       "      <th>0</th>\n",
       "      <td>0</td>\n",
       "      <td>0.016820</td>\n",
       "      <td>0.827523</td>\n",
       "      <td>0.000000</td>\n",
       "      <td>0.000000</td>\n",
       "      <td>100</td>\n",
       "    </tr>\n",
       "    <tr>\n",
       "      <th>1</th>\n",
       "      <td>1</td>\n",
       "      <td>0.018516</td>\n",
       "      <td>0.839017</td>\n",
       "      <td>0.000475</td>\n",
       "      <td>0.001976</td>\n",
       "      <td>200</td>\n",
       "    </tr>\n",
       "    <tr>\n",
       "      <th>2</th>\n",
       "      <td>2</td>\n",
       "      <td>0.146907</td>\n",
       "      <td>0.901042</td>\n",
       "      <td>0.009631</td>\n",
       "      <td>0.005202</td>\n",
       "      <td>300</td>\n",
       "    </tr>\n",
       "    <tr>\n",
       "      <th>3</th>\n",
       "      <td>3</td>\n",
       "      <td>0.154504</td>\n",
       "      <td>0.902469</td>\n",
       "      <td>0.041238</td>\n",
       "      <td>0.014732</td>\n",
       "      <td>400</td>\n",
       "    </tr>\n",
       "    <tr>\n",
       "      <th>4</th>\n",
       "      <td>4</td>\n",
       "      <td>0.244575</td>\n",
       "      <td>0.934258</td>\n",
       "      <td>0.004070</td>\n",
       "      <td>0.002480</td>\n",
       "      <td>500</td>\n",
       "    </tr>\n",
       "    <tr>\n",
       "      <th>5</th>\n",
       "      <td>5</td>\n",
       "      <td>0.290423</td>\n",
       "      <td>0.941628</td>\n",
       "      <td>0.013836</td>\n",
       "      <td>0.003841</td>\n",
       "      <td>600</td>\n",
       "    </tr>\n",
       "    <tr>\n",
       "      <th>6</th>\n",
       "      <td>6</td>\n",
       "      <td>0.303920</td>\n",
       "      <td>0.945989</td>\n",
       "      <td>0.002374</td>\n",
       "      <td>0.000719</td>\n",
       "      <td>700</td>\n",
       "    </tr>\n",
       "    <tr>\n",
       "      <th>7</th>\n",
       "      <td>7</td>\n",
       "      <td>0.341224</td>\n",
       "      <td>0.952155</td>\n",
       "      <td>0.016210</td>\n",
       "      <td>0.001811</td>\n",
       "      <td>800</td>\n",
       "    </tr>\n",
       "    <tr>\n",
       "      <th>8</th>\n",
       "      <td>8</td>\n",
       "      <td>0.354720</td>\n",
       "      <td>0.952631</td>\n",
       "      <td>0.010580</td>\n",
       "      <td>0.000864</td>\n",
       "      <td>900</td>\n",
       "    </tr>\n",
       "    <tr>\n",
       "      <th>9</th>\n",
       "      <td>9</td>\n",
       "      <td>0.358790</td>\n",
       "      <td>0.954865</td>\n",
       "      <td>0.002442</td>\n",
       "      <td>0.000172</td>\n",
       "      <td>1000</td>\n",
       "    </tr>\n",
       "    <tr>\n",
       "      <th>10</th>\n",
       "      <td>10</td>\n",
       "      <td>0.356755</td>\n",
       "      <td>0.954440</td>\n",
       "      <td>0.000000</td>\n",
       "      <td>0.000000</td>\n",
       "      <td>1100</td>\n",
       "    </tr>\n",
       "    <tr>\n",
       "      <th>11</th>\n",
       "      <td>11</td>\n",
       "      <td>0.363945</td>\n",
       "      <td>0.954992</td>\n",
       "      <td>0.000000</td>\n",
       "      <td>0.000000</td>\n",
       "      <td>1200</td>\n",
       "    </tr>\n",
       "  </tbody>\n",
       "</table>\n",
       "</div>"
      ],
      "text/plain": [
       "    round  test_joint_acc  test_slot_acc  joint_acc_std  slot_acc_std  \\\n",
       "0       0        0.016820       0.827523       0.000000      0.000000   \n",
       "1       1        0.018516       0.839017       0.000475      0.001976   \n",
       "2       2        0.146907       0.901042       0.009631      0.005202   \n",
       "3       3        0.154504       0.902469       0.041238      0.014732   \n",
       "4       4        0.244575       0.934258       0.004070      0.002480   \n",
       "5       5        0.290423       0.941628       0.013836      0.003841   \n",
       "6       6        0.303920       0.945989       0.002374      0.000719   \n",
       "7       7        0.341224       0.952155       0.016210      0.001811   \n",
       "8       8        0.354720       0.952631       0.010580      0.000864   \n",
       "9       9        0.358790       0.954865       0.002442      0.000172   \n",
       "10     10        0.356755       0.954440       0.000000      0.000000   \n",
       "11     11        0.363945       0.954992       0.000000      0.000000   \n",
       "\n",
       "    # of labelled dialogue turns  \n",
       "0                            100  \n",
       "1                            200  \n",
       "2                            300  \n",
       "3                            400  \n",
       "4                            500  \n",
       "5                            600  \n",
       "6                            700  \n",
       "7                            800  \n",
       "8                            900  \n",
       "9                           1000  \n",
       "10                          1100  \n",
       "11                          1200  "
      ]
     },
     "metadata": {},
     "output_type": "display_data"
    },
    {
     "name": "stdout",
     "output_type": "stream",
     "text": [
      "============== ./data/mwz20/KAGE/least_confidence/k100/k100_test_acc.csv ==============\n"
     ]
    },
    {
     "data": {
      "text/html": [
       "<div>\n",
       "<style scoped>\n",
       "    .dataframe tbody tr th:only-of-type {\n",
       "        vertical-align: middle;\n",
       "    }\n",
       "\n",
       "    .dataframe tbody tr th {\n",
       "        vertical-align: top;\n",
       "    }\n",
       "\n",
       "    .dataframe thead th {\n",
       "        text-align: right;\n",
       "    }\n",
       "</style>\n",
       "<table border=\"1\" class=\"dataframe\">\n",
       "  <thead>\n",
       "    <tr style=\"text-align: right;\">\n",
       "      <th></th>\n",
       "      <th>round</th>\n",
       "      <th>test_joint_acc</th>\n",
       "      <th>test_slot_acc</th>\n",
       "      <th>joint_acc_std</th>\n",
       "      <th>slot_acc_std</th>\n",
       "      <th># of labelled dialogue turns</th>\n",
       "    </tr>\n",
       "  </thead>\n",
       "  <tbody>\n",
       "    <tr>\n",
       "      <th>0</th>\n",
       "      <td>0</td>\n",
       "      <td>0.017092</td>\n",
       "      <td>0.831158</td>\n",
       "      <td>0.000272</td>\n",
       "      <td>0.001768</td>\n",
       "      <td>100</td>\n",
       "    </tr>\n",
       "    <tr>\n",
       "      <th>1</th>\n",
       "      <td>1</td>\n",
       "      <td>0.018041</td>\n",
       "      <td>0.833257</td>\n",
       "      <td>0.001221</td>\n",
       "      <td>0.005711</td>\n",
       "      <td>200</td>\n",
       "    </tr>\n",
       "    <tr>\n",
       "      <th>2</th>\n",
       "      <td>2</td>\n",
       "      <td>0.156201</td>\n",
       "      <td>0.874141</td>\n",
       "      <td>0.022859</td>\n",
       "      <td>0.037168</td>\n",
       "      <td>300</td>\n",
       "    </tr>\n",
       "    <tr>\n",
       "      <th>3</th>\n",
       "      <td>3</td>\n",
       "      <td>0.178511</td>\n",
       "      <td>0.874035</td>\n",
       "      <td>0.010312</td>\n",
       "      <td>0.046498</td>\n",
       "      <td>400</td>\n",
       "    </tr>\n",
       "    <tr>\n",
       "      <th>4</th>\n",
       "      <td>4</td>\n",
       "      <td>0.275366</td>\n",
       "      <td>0.941694</td>\n",
       "      <td>0.001764</td>\n",
       "      <td>0.000710</td>\n",
       "      <td>500</td>\n",
       "    </tr>\n",
       "    <tr>\n",
       "      <th>5</th>\n",
       "      <td>5</td>\n",
       "      <td>0.311110</td>\n",
       "      <td>0.948818</td>\n",
       "      <td>0.007800</td>\n",
       "      <td>0.001911</td>\n",
       "      <td>600</td>\n",
       "    </tr>\n",
       "    <tr>\n",
       "      <th>6</th>\n",
       "      <td>6</td>\n",
       "      <td>0.328269</td>\n",
       "      <td>0.951841</td>\n",
       "      <td>0.015192</td>\n",
       "      <td>0.001903</td>\n",
       "      <td>700</td>\n",
       "    </tr>\n",
       "    <tr>\n",
       "      <th>7</th>\n",
       "      <td>7</td>\n",
       "      <td>0.338714</td>\n",
       "      <td>0.953323</td>\n",
       "      <td>0.000000</td>\n",
       "      <td>0.000000</td>\n",
       "      <td>800</td>\n",
       "    </tr>\n",
       "    <tr>\n",
       "      <th>8</th>\n",
       "      <td>8</td>\n",
       "      <td>0.383071</td>\n",
       "      <td>0.958501</td>\n",
       "      <td>0.000000</td>\n",
       "      <td>0.000000</td>\n",
       "      <td>900</td>\n",
       "    </tr>\n",
       "    <tr>\n",
       "      <th>9</th>\n",
       "      <td>9</td>\n",
       "      <td>0.383342</td>\n",
       "      <td>0.959138</td>\n",
       "      <td>0.000000</td>\n",
       "      <td>0.000000</td>\n",
       "      <td>1000</td>\n",
       "    </tr>\n",
       "    <tr>\n",
       "      <th>10</th>\n",
       "      <td>10</td>\n",
       "      <td>0.389447</td>\n",
       "      <td>0.959378</td>\n",
       "      <td>0.000000</td>\n",
       "      <td>0.000000</td>\n",
       "      <td>1100</td>\n",
       "    </tr>\n",
       "    <tr>\n",
       "      <th>11</th>\n",
       "      <td>11</td>\n",
       "      <td>0.385784</td>\n",
       "      <td>0.958709</td>\n",
       "      <td>0.000000</td>\n",
       "      <td>0.000000</td>\n",
       "      <td>1200</td>\n",
       "    </tr>\n",
       "  </tbody>\n",
       "</table>\n",
       "</div>"
      ],
      "text/plain": [
       "    round  test_joint_acc  test_slot_acc  joint_acc_std  slot_acc_std  \\\n",
       "0       0        0.017092       0.831158       0.000272      0.001768   \n",
       "1       1        0.018041       0.833257       0.001221      0.005711   \n",
       "2       2        0.156201       0.874141       0.022859      0.037168   \n",
       "3       3        0.178511       0.874035       0.010312      0.046498   \n",
       "4       4        0.275366       0.941694       0.001764      0.000710   \n",
       "5       5        0.311110       0.948818       0.007800      0.001911   \n",
       "6       6        0.328269       0.951841       0.015192      0.001903   \n",
       "7       7        0.338714       0.953323       0.000000      0.000000   \n",
       "8       8        0.383071       0.958501       0.000000      0.000000   \n",
       "9       9        0.383342       0.959138       0.000000      0.000000   \n",
       "10     10        0.389447       0.959378       0.000000      0.000000   \n",
       "11     11        0.385784       0.958709       0.000000      0.000000   \n",
       "\n",
       "    # of labelled dialogue turns  \n",
       "0                            100  \n",
       "1                            200  \n",
       "2                            300  \n",
       "3                            400  \n",
       "4                            500  \n",
       "5                            600  \n",
       "6                            700  \n",
       "7                            800  \n",
       "8                            900  \n",
       "9                           1000  \n",
       "10                          1100  \n",
       "11                          1200  "
      ]
     },
     "metadata": {},
     "output_type": "display_data"
    },
    {
     "name": "stdout",
     "output_type": "stream",
     "text": [
      "============== ./data/mwz20/KAGE/max_entropy/k100/k100_test_acc.csv ==============\n"
     ]
    },
    {
     "data": {
      "text/html": [
       "<div>\n",
       "<style scoped>\n",
       "    .dataframe tbody tr th:only-of-type {\n",
       "        vertical-align: middle;\n",
       "    }\n",
       "\n",
       "    .dataframe tbody tr th {\n",
       "        vertical-align: top;\n",
       "    }\n",
       "\n",
       "    .dataframe thead th {\n",
       "        text-align: right;\n",
       "    }\n",
       "</style>\n",
       "<table border=\"1\" class=\"dataframe\">\n",
       "  <thead>\n",
       "    <tr style=\"text-align: right;\">\n",
       "      <th></th>\n",
       "      <th>round</th>\n",
       "      <th>test_joint_acc</th>\n",
       "      <th>test_slot_acc</th>\n",
       "      <th>joint_acc_std</th>\n",
       "      <th>slot_acc_std</th>\n",
       "      <th># of labelled dialogue turns</th>\n",
       "    </tr>\n",
       "  </thead>\n",
       "  <tbody>\n",
       "    <tr>\n",
       "      <th>0</th>\n",
       "      <td>0</td>\n",
       "      <td>0.016820</td>\n",
       "      <td>0.828043</td>\n",
       "      <td>0.000000</td>\n",
       "      <td>0.001215</td>\n",
       "      <td>100</td>\n",
       "    </tr>\n",
       "    <tr>\n",
       "      <th>1</th>\n",
       "      <td>1</td>\n",
       "      <td>0.028305</td>\n",
       "      <td>0.842245</td>\n",
       "      <td>0.016052</td>\n",
       "      <td>0.009581</td>\n",
       "      <td>200</td>\n",
       "    </tr>\n",
       "    <tr>\n",
       "      <th>2</th>\n",
       "      <td>2</td>\n",
       "      <td>0.157488</td>\n",
       "      <td>0.913270</td>\n",
       "      <td>0.024106</td>\n",
       "      <td>0.007291</td>\n",
       "      <td>300</td>\n",
       "    </tr>\n",
       "    <tr>\n",
       "      <th>3</th>\n",
       "      <td>3</td>\n",
       "      <td>0.227030</td>\n",
       "      <td>0.931416</td>\n",
       "      <td>0.016890</td>\n",
       "      <td>0.002654</td>\n",
       "      <td>400</td>\n",
       "    </tr>\n",
       "    <tr>\n",
       "      <th>4</th>\n",
       "      <td>4</td>\n",
       "      <td>0.276678</td>\n",
       "      <td>0.941997</td>\n",
       "      <td>0.004461</td>\n",
       "      <td>0.001628</td>\n",
       "      <td>500</td>\n",
       "    </tr>\n",
       "    <tr>\n",
       "      <th>5</th>\n",
       "      <td>5</td>\n",
       "      <td>0.301682</td>\n",
       "      <td>0.946325</td>\n",
       "      <td>0.009391</td>\n",
       "      <td>0.001603</td>\n",
       "      <td>600</td>\n",
       "    </tr>\n",
       "    <tr>\n",
       "      <th>6</th>\n",
       "      <td>6</td>\n",
       "      <td>0.313709</td>\n",
       "      <td>0.947486</td>\n",
       "      <td>0.004798</td>\n",
       "      <td>0.000762</td>\n",
       "      <td>700</td>\n",
       "    </tr>\n",
       "    <tr>\n",
       "      <th>7</th>\n",
       "      <td>7</td>\n",
       "      <td>0.345451</td>\n",
       "      <td>0.952891</td>\n",
       "      <td>0.000942</td>\n",
       "      <td>0.000507</td>\n",
       "      <td>800</td>\n",
       "    </tr>\n",
       "    <tr>\n",
       "      <th>8</th>\n",
       "      <td>8</td>\n",
       "      <td>0.363673</td>\n",
       "      <td>0.954645</td>\n",
       "      <td>0.020522</td>\n",
       "      <td>0.002373</td>\n",
       "      <td>900</td>\n",
       "    </tr>\n",
       "    <tr>\n",
       "      <th>9</th>\n",
       "      <td>9</td>\n",
       "      <td>0.377193</td>\n",
       "      <td>0.956849</td>\n",
       "      <td>0.008512</td>\n",
       "      <td>0.001438</td>\n",
       "      <td>1000</td>\n",
       "    </tr>\n",
       "    <tr>\n",
       "      <th>10</th>\n",
       "      <td>10</td>\n",
       "      <td>0.391821</td>\n",
       "      <td>0.959328</td>\n",
       "      <td>0.013769</td>\n",
       "      <td>0.001709</td>\n",
       "      <td>1100</td>\n",
       "    </tr>\n",
       "    <tr>\n",
       "      <th>11</th>\n",
       "      <td>11</td>\n",
       "      <td>0.384563</td>\n",
       "      <td>0.957330</td>\n",
       "      <td>0.000000</td>\n",
       "      <td>0.000000</td>\n",
       "      <td>1200</td>\n",
       "    </tr>\n",
       "  </tbody>\n",
       "</table>\n",
       "</div>"
      ],
      "text/plain": [
       "    round  test_joint_acc  test_slot_acc  joint_acc_std  slot_acc_std  \\\n",
       "0       0        0.016820       0.828043       0.000000      0.001215   \n",
       "1       1        0.028305       0.842245       0.016052      0.009581   \n",
       "2       2        0.157488       0.913270       0.024106      0.007291   \n",
       "3       3        0.227030       0.931416       0.016890      0.002654   \n",
       "4       4        0.276678       0.941997       0.004461      0.001628   \n",
       "5       5        0.301682       0.946325       0.009391      0.001603   \n",
       "6       6        0.313709       0.947486       0.004798      0.000762   \n",
       "7       7        0.345451       0.952891       0.000942      0.000507   \n",
       "8       8        0.363673       0.954645       0.020522      0.002373   \n",
       "9       9        0.377193       0.956849       0.008512      0.001438   \n",
       "10     10        0.391821       0.959328       0.013769      0.001709   \n",
       "11     11        0.384563       0.957330       0.000000      0.000000   \n",
       "\n",
       "    # of labelled dialogue turns  \n",
       "0                            100  \n",
       "1                            200  \n",
       "2                            300  \n",
       "3                            400  \n",
       "4                            500  \n",
       "5                            600  \n",
       "6                            700  \n",
       "7                            800  \n",
       "8                            900  \n",
       "9                           1000  \n",
       "10                          1100  \n",
       "11                          1200  "
      ]
     },
     "metadata": {},
     "output_type": "display_data"
    },
    {
     "data": {
      "application/vnd.plotly.v1+json": {
       "config": {
        "plotlyServerURL": "https://plot.ly"
       },
       "data": [
        {
         "fill": "tozerox",
         "fillcolor": "rgba(99, 110, 250, 0.3)",
         "line": {
          "color": "rgba(255,255,255,0)"
         },
         "mode": "lines",
         "name": "RS",
         "showlegend": false,
         "type": "scatter",
         "x": [
          100,
          200,
          300,
          400,
          500,
          600,
          700,
          800,
          900,
          1000,
          1100,
          1200,
          1200,
          1100,
          1000,
          900,
          800,
          700,
          600,
          500,
          400,
          300,
          200,
          100
         ],
         "y": [
          0.01682,
          0.018991,
          0.156538,
          0.19574100000000003,
          0.248644,
          0.30425899999999995,
          0.30629399999999996,
          0.3574339999999999,
          0.365301,
          0.361232,
          0.356755,
          0.363945,
          0.363945,
          0.356755,
          0.356348,
          0.34414,
          0.325014,
          0.301546,
          0.276587,
          0.240505,
          0.113266,
          0.137276,
          0.018041,
          0.01682
         ]
        },
        {
         "line": {
          "color": "rgba(99, 110, 250, 0.3)",
          "width": 3
         },
         "mode": "lines+markers",
         "name": "RS",
         "type": "scatter",
         "x": [
          100,
          200,
          300,
          400,
          500,
          600,
          700,
          800,
          900,
          1000,
          1100,
          1200
         ],
         "y": [
          0.01682,
          0.018516,
          0.146907,
          0.15450350000000002,
          0.2445745,
          0.290423,
          0.30391999999999997,
          0.34122399999999997,
          0.3547205,
          0.35879,
          0.356755,
          0.363945
         ]
        },
        {
         "fill": "tozerox",
         "fillcolor": "rgba(239, 85, 59, 0.3)",
         "line": {
          "color": "rgba(255,255,255,0)"
         },
         "mode": "lines",
         "name": "LC",
         "showlegend": false,
         "type": "scatter",
         "x": [
          100,
          200,
          300,
          400,
          500,
          600,
          700,
          800,
          900,
          1000,
          1100,
          1200,
          1200,
          1100,
          1000,
          900,
          800,
          700,
          600,
          500,
          400,
          300,
          200,
          100
         ],
         "y": [
          0.017363000000000003,
          0.019262,
          0.17905999999999997,
          0.188823,
          0.27713,
          0.31890900000000005,
          0.343462,
          0.338714,
          0.383071,
          0.383342,
          0.389447,
          0.385784,
          0.385784,
          0.389447,
          0.383342,
          0.383071,
          0.338714,
          0.313077,
          0.30331,
          0.27360299999999993,
          0.1682,
          0.133342,
          0.01682,
          0.01682
         ]
        },
        {
         "line": {
          "color": "rgba(239, 85, 59, 0.3)",
          "width": 3
         },
         "mode": "lines+markers",
         "name": "LC",
         "type": "scatter",
         "x": [
          100,
          200,
          300,
          400,
          500,
          600,
          700,
          800,
          900,
          1000,
          1100,
          1200
         ],
         "y": [
          0.017091500000000003,
          0.018041,
          0.15620099999999998,
          0.1785115,
          0.27536649999999996,
          0.31110950000000004,
          0.3282695,
          0.338714,
          0.383071,
          0.383342,
          0.389447,
          0.385784
         ]
        },
        {
         "fill": "tozerox",
         "fillcolor": "rgba(0, 204, 150, 0.3)",
         "line": {
          "color": "rgba(255,255,255,0)"
         },
         "mode": "lines",
         "name": "ME",
         "showlegend": false,
         "type": "scatter",
         "x": [
          100,
          200,
          300,
          400,
          500,
          600,
          700,
          800,
          900,
          1000,
          1100,
          1200,
          1200,
          1100,
          1000,
          900,
          800,
          700,
          600,
          500,
          400,
          300,
          200,
          100
         ],
         "y": [
          0.01682,
          0.04435723960296028,
          0.1815941169000733,
          0.24392047002773445,
          0.28113872531033207,
          0.3110725661526165,
          0.3185068966963565,
          0.34639328355612764,
          0.3841954684778276,
          0.38570457004709857,
          0.40558900000000003,
          0.384563,
          0.384563,
          0.378052,
          0.3686814299529013,
          0.343151198188839,
          0.344509383110539,
          0.30891176997031017,
          0.2922914338473835,
          0.27221660802300124,
          0.21014019663893221,
          0.13338188309992668,
          0.012253427063706385,
          0.01682
         ]
        },
        {
         "line": {
          "color": "rgba(0, 204, 150, 0.3)",
          "width": 3
         },
         "mode": "lines+markers",
         "name": "ME",
         "type": "scatter",
         "x": [
          100,
          200,
          300,
          400,
          500,
          600,
          700,
          800,
          900,
          1000,
          1100,
          1200
         ],
         "y": [
          0.01682,
          0.02830533333333333,
          0.157488,
          0.22703033333333333,
          0.27667766666666666,
          0.301682,
          0.31370933333333334,
          0.34545133333333333,
          0.3636733333333333,
          0.37719299999999994,
          0.3918205,
          0.384563
         ]
        }
       ],
       "layout": {
        "annotations": [
         {
          "showarrow": false,
          "text": "Last Turn(14.4%)",
          "x": 0,
          "xanchor": "left",
          "xref": "x domain",
          "y": 0.2259,
          "yanchor": "top",
          "yref": "y"
         },
         {
          "showarrow": false,
          "text": "Last Turn(14.4%)",
          "x": 0,
          "xanchor": "left",
          "xref": "x domain",
          "y": 0.2259,
          "yanchor": "top",
          "yref": "y"
         },
         {
          "showarrow": false,
          "text": "Last Turn(14.4%)",
          "x": 0,
          "xanchor": "left",
          "xref": "x domain",
          "y": 0.2259,
          "yanchor": "top",
          "yref": "y"
         }
        ],
        "shapes": [
         {
          "line": {
           "color": "green",
           "dash": "dot",
           "width": 1
          },
          "type": "line",
          "x0": 0,
          "x1": 1,
          "xref": "x domain",
          "y0": 0.2259,
          "y1": 0.2259,
          "yref": "y"
         },
         {
          "line": {
           "color": "green",
           "dash": "dot",
           "width": 1
          },
          "type": "line",
          "x0": 0,
          "x1": 1,
          "xref": "x domain",
          "y0": 0.2259,
          "y1": 0.2259,
          "yref": "y"
         },
         {
          "line": {
           "color": "green",
           "dash": "dot",
           "width": 1
          },
          "type": "line",
          "x0": 0,
          "x1": 1,
          "xref": "x domain",
          "y0": 0.2259,
          "y1": 0.2259,
          "yref": "y"
         }
        ],
        "template": {
         "data": {
          "bar": [
           {
            "error_x": {
             "color": "#2a3f5f"
            },
            "error_y": {
             "color": "#2a3f5f"
            },
            "marker": {
             "line": {
              "color": "#E5ECF6",
              "width": 0.5
             },
             "pattern": {
              "fillmode": "overlay",
              "size": 10,
              "solidity": 0.2
             }
            },
            "type": "bar"
           }
          ],
          "barpolar": [
           {
            "marker": {
             "line": {
              "color": "#E5ECF6",
              "width": 0.5
             },
             "pattern": {
              "fillmode": "overlay",
              "size": 10,
              "solidity": 0.2
             }
            },
            "type": "barpolar"
           }
          ],
          "carpet": [
           {
            "aaxis": {
             "endlinecolor": "#2a3f5f",
             "gridcolor": "white",
             "linecolor": "white",
             "minorgridcolor": "white",
             "startlinecolor": "#2a3f5f"
            },
            "baxis": {
             "endlinecolor": "#2a3f5f",
             "gridcolor": "white",
             "linecolor": "white",
             "minorgridcolor": "white",
             "startlinecolor": "#2a3f5f"
            },
            "type": "carpet"
           }
          ],
          "choropleth": [
           {
            "colorbar": {
             "outlinewidth": 0,
             "ticks": ""
            },
            "type": "choropleth"
           }
          ],
          "contour": [
           {
            "colorbar": {
             "outlinewidth": 0,
             "ticks": ""
            },
            "colorscale": [
             [
              0,
              "#0d0887"
             ],
             [
              0.1111111111111111,
              "#46039f"
             ],
             [
              0.2222222222222222,
              "#7201a8"
             ],
             [
              0.3333333333333333,
              "#9c179e"
             ],
             [
              0.4444444444444444,
              "#bd3786"
             ],
             [
              0.5555555555555556,
              "#d8576b"
             ],
             [
              0.6666666666666666,
              "#ed7953"
             ],
             [
              0.7777777777777778,
              "#fb9f3a"
             ],
             [
              0.8888888888888888,
              "#fdca26"
             ],
             [
              1,
              "#f0f921"
             ]
            ],
            "type": "contour"
           }
          ],
          "contourcarpet": [
           {
            "colorbar": {
             "outlinewidth": 0,
             "ticks": ""
            },
            "type": "contourcarpet"
           }
          ],
          "heatmap": [
           {
            "colorbar": {
             "outlinewidth": 0,
             "ticks": ""
            },
            "colorscale": [
             [
              0,
              "#0d0887"
             ],
             [
              0.1111111111111111,
              "#46039f"
             ],
             [
              0.2222222222222222,
              "#7201a8"
             ],
             [
              0.3333333333333333,
              "#9c179e"
             ],
             [
              0.4444444444444444,
              "#bd3786"
             ],
             [
              0.5555555555555556,
              "#d8576b"
             ],
             [
              0.6666666666666666,
              "#ed7953"
             ],
             [
              0.7777777777777778,
              "#fb9f3a"
             ],
             [
              0.8888888888888888,
              "#fdca26"
             ],
             [
              1,
              "#f0f921"
             ]
            ],
            "type": "heatmap"
           }
          ],
          "heatmapgl": [
           {
            "colorbar": {
             "outlinewidth": 0,
             "ticks": ""
            },
            "colorscale": [
             [
              0,
              "#0d0887"
             ],
             [
              0.1111111111111111,
              "#46039f"
             ],
             [
              0.2222222222222222,
              "#7201a8"
             ],
             [
              0.3333333333333333,
              "#9c179e"
             ],
             [
              0.4444444444444444,
              "#bd3786"
             ],
             [
              0.5555555555555556,
              "#d8576b"
             ],
             [
              0.6666666666666666,
              "#ed7953"
             ],
             [
              0.7777777777777778,
              "#fb9f3a"
             ],
             [
              0.8888888888888888,
              "#fdca26"
             ],
             [
              1,
              "#f0f921"
             ]
            ],
            "type": "heatmapgl"
           }
          ],
          "histogram": [
           {
            "marker": {
             "pattern": {
              "fillmode": "overlay",
              "size": 10,
              "solidity": 0.2
             }
            },
            "type": "histogram"
           }
          ],
          "histogram2d": [
           {
            "colorbar": {
             "outlinewidth": 0,
             "ticks": ""
            },
            "colorscale": [
             [
              0,
              "#0d0887"
             ],
             [
              0.1111111111111111,
              "#46039f"
             ],
             [
              0.2222222222222222,
              "#7201a8"
             ],
             [
              0.3333333333333333,
              "#9c179e"
             ],
             [
              0.4444444444444444,
              "#bd3786"
             ],
             [
              0.5555555555555556,
              "#d8576b"
             ],
             [
              0.6666666666666666,
              "#ed7953"
             ],
             [
              0.7777777777777778,
              "#fb9f3a"
             ],
             [
              0.8888888888888888,
              "#fdca26"
             ],
             [
              1,
              "#f0f921"
             ]
            ],
            "type": "histogram2d"
           }
          ],
          "histogram2dcontour": [
           {
            "colorbar": {
             "outlinewidth": 0,
             "ticks": ""
            },
            "colorscale": [
             [
              0,
              "#0d0887"
             ],
             [
              0.1111111111111111,
              "#46039f"
             ],
             [
              0.2222222222222222,
              "#7201a8"
             ],
             [
              0.3333333333333333,
              "#9c179e"
             ],
             [
              0.4444444444444444,
              "#bd3786"
             ],
             [
              0.5555555555555556,
              "#d8576b"
             ],
             [
              0.6666666666666666,
              "#ed7953"
             ],
             [
              0.7777777777777778,
              "#fb9f3a"
             ],
             [
              0.8888888888888888,
              "#fdca26"
             ],
             [
              1,
              "#f0f921"
             ]
            ],
            "type": "histogram2dcontour"
           }
          ],
          "mesh3d": [
           {
            "colorbar": {
             "outlinewidth": 0,
             "ticks": ""
            },
            "type": "mesh3d"
           }
          ],
          "parcoords": [
           {
            "line": {
             "colorbar": {
              "outlinewidth": 0,
              "ticks": ""
             }
            },
            "type": "parcoords"
           }
          ],
          "pie": [
           {
            "automargin": true,
            "type": "pie"
           }
          ],
          "scatter": [
           {
            "fillpattern": {
             "fillmode": "overlay",
             "size": 10,
             "solidity": 0.2
            },
            "type": "scatter"
           }
          ],
          "scatter3d": [
           {
            "line": {
             "colorbar": {
              "outlinewidth": 0,
              "ticks": ""
             }
            },
            "marker": {
             "colorbar": {
              "outlinewidth": 0,
              "ticks": ""
             }
            },
            "type": "scatter3d"
           }
          ],
          "scattercarpet": [
           {
            "marker": {
             "colorbar": {
              "outlinewidth": 0,
              "ticks": ""
             }
            },
            "type": "scattercarpet"
           }
          ],
          "scattergeo": [
           {
            "marker": {
             "colorbar": {
              "outlinewidth": 0,
              "ticks": ""
             }
            },
            "type": "scattergeo"
           }
          ],
          "scattergl": [
           {
            "marker": {
             "colorbar": {
              "outlinewidth": 0,
              "ticks": ""
             }
            },
            "type": "scattergl"
           }
          ],
          "scattermapbox": [
           {
            "marker": {
             "colorbar": {
              "outlinewidth": 0,
              "ticks": ""
             }
            },
            "type": "scattermapbox"
           }
          ],
          "scatterpolar": [
           {
            "marker": {
             "colorbar": {
              "outlinewidth": 0,
              "ticks": ""
             }
            },
            "type": "scatterpolar"
           }
          ],
          "scatterpolargl": [
           {
            "marker": {
             "colorbar": {
              "outlinewidth": 0,
              "ticks": ""
             }
            },
            "type": "scatterpolargl"
           }
          ],
          "scatterternary": [
           {
            "marker": {
             "colorbar": {
              "outlinewidth": 0,
              "ticks": ""
             }
            },
            "type": "scatterternary"
           }
          ],
          "surface": [
           {
            "colorbar": {
             "outlinewidth": 0,
             "ticks": ""
            },
            "colorscale": [
             [
              0,
              "#0d0887"
             ],
             [
              0.1111111111111111,
              "#46039f"
             ],
             [
              0.2222222222222222,
              "#7201a8"
             ],
             [
              0.3333333333333333,
              "#9c179e"
             ],
             [
              0.4444444444444444,
              "#bd3786"
             ],
             [
              0.5555555555555556,
              "#d8576b"
             ],
             [
              0.6666666666666666,
              "#ed7953"
             ],
             [
              0.7777777777777778,
              "#fb9f3a"
             ],
             [
              0.8888888888888888,
              "#fdca26"
             ],
             [
              1,
              "#f0f921"
             ]
            ],
            "type": "surface"
           }
          ],
          "table": [
           {
            "cells": {
             "fill": {
              "color": "#EBF0F8"
             },
             "line": {
              "color": "white"
             }
            },
            "header": {
             "fill": {
              "color": "#C8D4E3"
             },
             "line": {
              "color": "white"
             }
            },
            "type": "table"
           }
          ]
         },
         "layout": {
          "annotationdefaults": {
           "arrowcolor": "#2a3f5f",
           "arrowhead": 0,
           "arrowwidth": 1
          },
          "autotypenumbers": "strict",
          "coloraxis": {
           "colorbar": {
            "outlinewidth": 0,
            "ticks": ""
           }
          },
          "colorscale": {
           "diverging": [
            [
             0,
             "#8e0152"
            ],
            [
             0.1,
             "#c51b7d"
            ],
            [
             0.2,
             "#de77ae"
            ],
            [
             0.3,
             "#f1b6da"
            ],
            [
             0.4,
             "#fde0ef"
            ],
            [
             0.5,
             "#f7f7f7"
            ],
            [
             0.6,
             "#e6f5d0"
            ],
            [
             0.7,
             "#b8e186"
            ],
            [
             0.8,
             "#7fbc41"
            ],
            [
             0.9,
             "#4d9221"
            ],
            [
             1,
             "#276419"
            ]
           ],
           "sequential": [
            [
             0,
             "#0d0887"
            ],
            [
             0.1111111111111111,
             "#46039f"
            ],
            [
             0.2222222222222222,
             "#7201a8"
            ],
            [
             0.3333333333333333,
             "#9c179e"
            ],
            [
             0.4444444444444444,
             "#bd3786"
            ],
            [
             0.5555555555555556,
             "#d8576b"
            ],
            [
             0.6666666666666666,
             "#ed7953"
            ],
            [
             0.7777777777777778,
             "#fb9f3a"
            ],
            [
             0.8888888888888888,
             "#fdca26"
            ],
            [
             1,
             "#f0f921"
            ]
           ],
           "sequentialminus": [
            [
             0,
             "#0d0887"
            ],
            [
             0.1111111111111111,
             "#46039f"
            ],
            [
             0.2222222222222222,
             "#7201a8"
            ],
            [
             0.3333333333333333,
             "#9c179e"
            ],
            [
             0.4444444444444444,
             "#bd3786"
            ],
            [
             0.5555555555555556,
             "#d8576b"
            ],
            [
             0.6666666666666666,
             "#ed7953"
            ],
            [
             0.7777777777777778,
             "#fb9f3a"
            ],
            [
             0.8888888888888888,
             "#fdca26"
            ],
            [
             1,
             "#f0f921"
            ]
           ]
          },
          "colorway": [
           "#636efa",
           "#EF553B",
           "#00cc96",
           "#ab63fa",
           "#FFA15A",
           "#19d3f3",
           "#FF6692",
           "#B6E880",
           "#FF97FF",
           "#FECB52"
          ],
          "font": {
           "color": "#2a3f5f"
          },
          "geo": {
           "bgcolor": "white",
           "lakecolor": "white",
           "landcolor": "#E5ECF6",
           "showlakes": true,
           "showland": true,
           "subunitcolor": "white"
          },
          "hoverlabel": {
           "align": "left"
          },
          "hovermode": "closest",
          "mapbox": {
           "style": "light"
          },
          "paper_bgcolor": "white",
          "plot_bgcolor": "#E5ECF6",
          "polar": {
           "angularaxis": {
            "gridcolor": "white",
            "linecolor": "white",
            "ticks": ""
           },
           "bgcolor": "#E5ECF6",
           "radialaxis": {
            "gridcolor": "white",
            "linecolor": "white",
            "ticks": ""
           }
          },
          "scene": {
           "xaxis": {
            "backgroundcolor": "#E5ECF6",
            "gridcolor": "white",
            "gridwidth": 2,
            "linecolor": "white",
            "showbackground": true,
            "ticks": "",
            "zerolinecolor": "white"
           },
           "yaxis": {
            "backgroundcolor": "#E5ECF6",
            "gridcolor": "white",
            "gridwidth": 2,
            "linecolor": "white",
            "showbackground": true,
            "ticks": "",
            "zerolinecolor": "white"
           },
           "zaxis": {
            "backgroundcolor": "#E5ECF6",
            "gridcolor": "white",
            "gridwidth": 2,
            "linecolor": "white",
            "showbackground": true,
            "ticks": "",
            "zerolinecolor": "white"
           }
          },
          "shapedefaults": {
           "line": {
            "color": "#2a3f5f"
           }
          },
          "ternary": {
           "aaxis": {
            "gridcolor": "white",
            "linecolor": "white",
            "ticks": ""
           },
           "baxis": {
            "gridcolor": "white",
            "linecolor": "white",
            "ticks": ""
           },
           "bgcolor": "#E5ECF6",
           "caxis": {
            "gridcolor": "white",
            "linecolor": "white",
            "ticks": ""
           }
          },
          "title": {
           "x": 0.05
          },
          "xaxis": {
           "automargin": true,
           "gridcolor": "white",
           "linecolor": "white",
           "ticks": "",
           "title": {
            "standoff": 15
           },
           "zerolinecolor": "white",
           "zerolinewidth": 2
          },
          "yaxis": {
           "automargin": true,
           "gridcolor": "white",
           "linecolor": "white",
           "ticks": "",
           "title": {
            "standoff": 15
           },
           "zerolinecolor": "white",
           "zerolinewidth": 2
          }
         }
        },
        "xaxis": {
         "title": {
          "text": "# of labelled dialogue turns"
         },
         "type": "category"
        },
        "yaxis": {
         "range": [
          0,
          0.6
         ],
         "title": {
          "text": "Joint Goal Accuracy"
         }
        }
       }
      },
      "text/html": [
       "<div>                            <div id=\"692ddc3d-b604-40c1-8a62-451304c94cfd\" class=\"plotly-graph-div\" style=\"height:525px; width:100%;\"></div>            <script type=\"text/javascript\">                require([\"plotly\"], function(Plotly) {                    window.PLOTLYENV=window.PLOTLYENV || {};                                    if (document.getElementById(\"692ddc3d-b604-40c1-8a62-451304c94cfd\")) {                    Plotly.newPlot(                        \"692ddc3d-b604-40c1-8a62-451304c94cfd\",                        [{\"fill\":\"tozerox\",\"fillcolor\":\"rgba(99, 110, 250, 0.3)\",\"line\":{\"color\":\"rgba(255,255,255,0)\"},\"mode\":\"lines\",\"name\":\"RS\",\"showlegend\":false,\"x\":[100,200,300,400,500,600,700,800,900,1000,1100,1200,1200,1100,1000,900,800,700,600,500,400,300,200,100],\"y\":[0.01682,0.018991,0.156538,0.19574100000000003,0.248644,0.30425899999999995,0.30629399999999996,0.3574339999999999,0.365301,0.361232,0.356755,0.363945,0.363945,0.356755,0.356348,0.34414,0.325014,0.301546,0.276587,0.240505,0.113266,0.137276,0.018041,0.01682],\"type\":\"scatter\"},{\"line\":{\"color\":\"rgba(99, 110, 250, 0.3)\",\"width\":3},\"mode\":\"lines+markers\",\"name\":\"RS\",\"x\":[100,200,300,400,500,600,700,800,900,1000,1100,1200],\"y\":[0.01682,0.018516,0.146907,0.15450350000000002,0.2445745,0.290423,0.30391999999999997,0.34122399999999997,0.3547205,0.35879,0.356755,0.363945],\"type\":\"scatter\"},{\"fill\":\"tozerox\",\"fillcolor\":\"rgba(239, 85, 59, 0.3)\",\"line\":{\"color\":\"rgba(255,255,255,0)\"},\"mode\":\"lines\",\"name\":\"LC\",\"showlegend\":false,\"x\":[100,200,300,400,500,600,700,800,900,1000,1100,1200,1200,1100,1000,900,800,700,600,500,400,300,200,100],\"y\":[0.017363000000000003,0.019262,0.17905999999999997,0.188823,0.27713,0.31890900000000005,0.343462,0.338714,0.383071,0.383342,0.389447,0.385784,0.385784,0.389447,0.383342,0.383071,0.338714,0.313077,0.30331,0.27360299999999993,0.1682,0.133342,0.01682,0.01682],\"type\":\"scatter\"},{\"line\":{\"color\":\"rgba(239, 85, 59, 0.3)\",\"width\":3},\"mode\":\"lines+markers\",\"name\":\"LC\",\"x\":[100,200,300,400,500,600,700,800,900,1000,1100,1200],\"y\":[0.017091500000000003,0.018041,0.15620099999999998,0.1785115,0.27536649999999996,0.31110950000000004,0.3282695,0.338714,0.383071,0.383342,0.389447,0.385784],\"type\":\"scatter\"},{\"fill\":\"tozerox\",\"fillcolor\":\"rgba(0, 204, 150, 0.3)\",\"line\":{\"color\":\"rgba(255,255,255,0)\"},\"mode\":\"lines\",\"name\":\"ME\",\"showlegend\":false,\"x\":[100,200,300,400,500,600,700,800,900,1000,1100,1200,1200,1100,1000,900,800,700,600,500,400,300,200,100],\"y\":[0.01682,0.04435723960296028,0.1815941169000733,0.24392047002773445,0.28113872531033207,0.3110725661526165,0.3185068966963565,0.34639328355612764,0.3841954684778276,0.38570457004709857,0.40558900000000003,0.384563,0.384563,0.378052,0.3686814299529013,0.343151198188839,0.344509383110539,0.30891176997031017,0.2922914338473835,0.27221660802300124,0.21014019663893221,0.13338188309992668,0.012253427063706385,0.01682],\"type\":\"scatter\"},{\"line\":{\"color\":\"rgba(0, 204, 150, 0.3)\",\"width\":3},\"mode\":\"lines+markers\",\"name\":\"ME\",\"x\":[100,200,300,400,500,600,700,800,900,1000,1100,1200],\"y\":[0.01682,0.02830533333333333,0.157488,0.22703033333333333,0.27667766666666666,0.301682,0.31370933333333334,0.34545133333333333,0.3636733333333333,0.37719299999999994,0.3918205,0.384563],\"type\":\"scatter\"}],                        {\"template\":{\"data\":{\"histogram2dcontour\":[{\"type\":\"histogram2dcontour\",\"colorbar\":{\"outlinewidth\":0,\"ticks\":\"\"},\"colorscale\":[[0.0,\"#0d0887\"],[0.1111111111111111,\"#46039f\"],[0.2222222222222222,\"#7201a8\"],[0.3333333333333333,\"#9c179e\"],[0.4444444444444444,\"#bd3786\"],[0.5555555555555556,\"#d8576b\"],[0.6666666666666666,\"#ed7953\"],[0.7777777777777778,\"#fb9f3a\"],[0.8888888888888888,\"#fdca26\"],[1.0,\"#f0f921\"]]}],\"choropleth\":[{\"type\":\"choropleth\",\"colorbar\":{\"outlinewidth\":0,\"ticks\":\"\"}}],\"histogram2d\":[{\"type\":\"histogram2d\",\"colorbar\":{\"outlinewidth\":0,\"ticks\":\"\"},\"colorscale\":[[0.0,\"#0d0887\"],[0.1111111111111111,\"#46039f\"],[0.2222222222222222,\"#7201a8\"],[0.3333333333333333,\"#9c179e\"],[0.4444444444444444,\"#bd3786\"],[0.5555555555555556,\"#d8576b\"],[0.6666666666666666,\"#ed7953\"],[0.7777777777777778,\"#fb9f3a\"],[0.8888888888888888,\"#fdca26\"],[1.0,\"#f0f921\"]]}],\"heatmap\":[{\"type\":\"heatmap\",\"colorbar\":{\"outlinewidth\":0,\"ticks\":\"\"},\"colorscale\":[[0.0,\"#0d0887\"],[0.1111111111111111,\"#46039f\"],[0.2222222222222222,\"#7201a8\"],[0.3333333333333333,\"#9c179e\"],[0.4444444444444444,\"#bd3786\"],[0.5555555555555556,\"#d8576b\"],[0.6666666666666666,\"#ed7953\"],[0.7777777777777778,\"#fb9f3a\"],[0.8888888888888888,\"#fdca26\"],[1.0,\"#f0f921\"]]}],\"heatmapgl\":[{\"type\":\"heatmapgl\",\"colorbar\":{\"outlinewidth\":0,\"ticks\":\"\"},\"colorscale\":[[0.0,\"#0d0887\"],[0.1111111111111111,\"#46039f\"],[0.2222222222222222,\"#7201a8\"],[0.3333333333333333,\"#9c179e\"],[0.4444444444444444,\"#bd3786\"],[0.5555555555555556,\"#d8576b\"],[0.6666666666666666,\"#ed7953\"],[0.7777777777777778,\"#fb9f3a\"],[0.8888888888888888,\"#fdca26\"],[1.0,\"#f0f921\"]]}],\"contourcarpet\":[{\"type\":\"contourcarpet\",\"colorbar\":{\"outlinewidth\":0,\"ticks\":\"\"}}],\"contour\":[{\"type\":\"contour\",\"colorbar\":{\"outlinewidth\":0,\"ticks\":\"\"},\"colorscale\":[[0.0,\"#0d0887\"],[0.1111111111111111,\"#46039f\"],[0.2222222222222222,\"#7201a8\"],[0.3333333333333333,\"#9c179e\"],[0.4444444444444444,\"#bd3786\"],[0.5555555555555556,\"#d8576b\"],[0.6666666666666666,\"#ed7953\"],[0.7777777777777778,\"#fb9f3a\"],[0.8888888888888888,\"#fdca26\"],[1.0,\"#f0f921\"]]}],\"surface\":[{\"type\":\"surface\",\"colorbar\":{\"outlinewidth\":0,\"ticks\":\"\"},\"colorscale\":[[0.0,\"#0d0887\"],[0.1111111111111111,\"#46039f\"],[0.2222222222222222,\"#7201a8\"],[0.3333333333333333,\"#9c179e\"],[0.4444444444444444,\"#bd3786\"],[0.5555555555555556,\"#d8576b\"],[0.6666666666666666,\"#ed7953\"],[0.7777777777777778,\"#fb9f3a\"],[0.8888888888888888,\"#fdca26\"],[1.0,\"#f0f921\"]]}],\"mesh3d\":[{\"type\":\"mesh3d\",\"colorbar\":{\"outlinewidth\":0,\"ticks\":\"\"}}],\"scatter\":[{\"fillpattern\":{\"fillmode\":\"overlay\",\"size\":10,\"solidity\":0.2},\"type\":\"scatter\"}],\"parcoords\":[{\"type\":\"parcoords\",\"line\":{\"colorbar\":{\"outlinewidth\":0,\"ticks\":\"\"}}}],\"scatterpolargl\":[{\"type\":\"scatterpolargl\",\"marker\":{\"colorbar\":{\"outlinewidth\":0,\"ticks\":\"\"}}}],\"bar\":[{\"error_x\":{\"color\":\"#2a3f5f\"},\"error_y\":{\"color\":\"#2a3f5f\"},\"marker\":{\"line\":{\"color\":\"#E5ECF6\",\"width\":0.5},\"pattern\":{\"fillmode\":\"overlay\",\"size\":10,\"solidity\":0.2}},\"type\":\"bar\"}],\"scattergeo\":[{\"type\":\"scattergeo\",\"marker\":{\"colorbar\":{\"outlinewidth\":0,\"ticks\":\"\"}}}],\"scatterpolar\":[{\"type\":\"scatterpolar\",\"marker\":{\"colorbar\":{\"outlinewidth\":0,\"ticks\":\"\"}}}],\"histogram\":[{\"marker\":{\"pattern\":{\"fillmode\":\"overlay\",\"size\":10,\"solidity\":0.2}},\"type\":\"histogram\"}],\"scattergl\":[{\"type\":\"scattergl\",\"marker\":{\"colorbar\":{\"outlinewidth\":0,\"ticks\":\"\"}}}],\"scatter3d\":[{\"type\":\"scatter3d\",\"line\":{\"colorbar\":{\"outlinewidth\":0,\"ticks\":\"\"}},\"marker\":{\"colorbar\":{\"outlinewidth\":0,\"ticks\":\"\"}}}],\"scattermapbox\":[{\"type\":\"scattermapbox\",\"marker\":{\"colorbar\":{\"outlinewidth\":0,\"ticks\":\"\"}}}],\"scatterternary\":[{\"type\":\"scatterternary\",\"marker\":{\"colorbar\":{\"outlinewidth\":0,\"ticks\":\"\"}}}],\"scattercarpet\":[{\"type\":\"scattercarpet\",\"marker\":{\"colorbar\":{\"outlinewidth\":0,\"ticks\":\"\"}}}],\"carpet\":[{\"aaxis\":{\"endlinecolor\":\"#2a3f5f\",\"gridcolor\":\"white\",\"linecolor\":\"white\",\"minorgridcolor\":\"white\",\"startlinecolor\":\"#2a3f5f\"},\"baxis\":{\"endlinecolor\":\"#2a3f5f\",\"gridcolor\":\"white\",\"linecolor\":\"white\",\"minorgridcolor\":\"white\",\"startlinecolor\":\"#2a3f5f\"},\"type\":\"carpet\"}],\"table\":[{\"cells\":{\"fill\":{\"color\":\"#EBF0F8\"},\"line\":{\"color\":\"white\"}},\"header\":{\"fill\":{\"color\":\"#C8D4E3\"},\"line\":{\"color\":\"white\"}},\"type\":\"table\"}],\"barpolar\":[{\"marker\":{\"line\":{\"color\":\"#E5ECF6\",\"width\":0.5},\"pattern\":{\"fillmode\":\"overlay\",\"size\":10,\"solidity\":0.2}},\"type\":\"barpolar\"}],\"pie\":[{\"automargin\":true,\"type\":\"pie\"}]},\"layout\":{\"autotypenumbers\":\"strict\",\"colorway\":[\"#636efa\",\"#EF553B\",\"#00cc96\",\"#ab63fa\",\"#FFA15A\",\"#19d3f3\",\"#FF6692\",\"#B6E880\",\"#FF97FF\",\"#FECB52\"],\"font\":{\"color\":\"#2a3f5f\"},\"hovermode\":\"closest\",\"hoverlabel\":{\"align\":\"left\"},\"paper_bgcolor\":\"white\",\"plot_bgcolor\":\"#E5ECF6\",\"polar\":{\"bgcolor\":\"#E5ECF6\",\"angularaxis\":{\"gridcolor\":\"white\",\"linecolor\":\"white\",\"ticks\":\"\"},\"radialaxis\":{\"gridcolor\":\"white\",\"linecolor\":\"white\",\"ticks\":\"\"}},\"ternary\":{\"bgcolor\":\"#E5ECF6\",\"aaxis\":{\"gridcolor\":\"white\",\"linecolor\":\"white\",\"ticks\":\"\"},\"baxis\":{\"gridcolor\":\"white\",\"linecolor\":\"white\",\"ticks\":\"\"},\"caxis\":{\"gridcolor\":\"white\",\"linecolor\":\"white\",\"ticks\":\"\"}},\"coloraxis\":{\"colorbar\":{\"outlinewidth\":0,\"ticks\":\"\"}},\"colorscale\":{\"sequential\":[[0.0,\"#0d0887\"],[0.1111111111111111,\"#46039f\"],[0.2222222222222222,\"#7201a8\"],[0.3333333333333333,\"#9c179e\"],[0.4444444444444444,\"#bd3786\"],[0.5555555555555556,\"#d8576b\"],[0.6666666666666666,\"#ed7953\"],[0.7777777777777778,\"#fb9f3a\"],[0.8888888888888888,\"#fdca26\"],[1.0,\"#f0f921\"]],\"sequentialminus\":[[0.0,\"#0d0887\"],[0.1111111111111111,\"#46039f\"],[0.2222222222222222,\"#7201a8\"],[0.3333333333333333,\"#9c179e\"],[0.4444444444444444,\"#bd3786\"],[0.5555555555555556,\"#d8576b\"],[0.6666666666666666,\"#ed7953\"],[0.7777777777777778,\"#fb9f3a\"],[0.8888888888888888,\"#fdca26\"],[1.0,\"#f0f921\"]],\"diverging\":[[0,\"#8e0152\"],[0.1,\"#c51b7d\"],[0.2,\"#de77ae\"],[0.3,\"#f1b6da\"],[0.4,\"#fde0ef\"],[0.5,\"#f7f7f7\"],[0.6,\"#e6f5d0\"],[0.7,\"#b8e186\"],[0.8,\"#7fbc41\"],[0.9,\"#4d9221\"],[1,\"#276419\"]]},\"xaxis\":{\"gridcolor\":\"white\",\"linecolor\":\"white\",\"ticks\":\"\",\"title\":{\"standoff\":15},\"zerolinecolor\":\"white\",\"automargin\":true,\"zerolinewidth\":2},\"yaxis\":{\"gridcolor\":\"white\",\"linecolor\":\"white\",\"ticks\":\"\",\"title\":{\"standoff\":15},\"zerolinecolor\":\"white\",\"automargin\":true,\"zerolinewidth\":2},\"scene\":{\"xaxis\":{\"backgroundcolor\":\"#E5ECF6\",\"gridcolor\":\"white\",\"linecolor\":\"white\",\"showbackground\":true,\"ticks\":\"\",\"zerolinecolor\":\"white\",\"gridwidth\":2},\"yaxis\":{\"backgroundcolor\":\"#E5ECF6\",\"gridcolor\":\"white\",\"linecolor\":\"white\",\"showbackground\":true,\"ticks\":\"\",\"zerolinecolor\":\"white\",\"gridwidth\":2},\"zaxis\":{\"backgroundcolor\":\"#E5ECF6\",\"gridcolor\":\"white\",\"linecolor\":\"white\",\"showbackground\":true,\"ticks\":\"\",\"zerolinecolor\":\"white\",\"gridwidth\":2}},\"shapedefaults\":{\"line\":{\"color\":\"#2a3f5f\"}},\"annotationdefaults\":{\"arrowcolor\":\"#2a3f5f\",\"arrowhead\":0,\"arrowwidth\":1},\"geo\":{\"bgcolor\":\"white\",\"landcolor\":\"#E5ECF6\",\"subunitcolor\":\"white\",\"showland\":true,\"showlakes\":true,\"lakecolor\":\"white\"},\"title\":{\"x\":0.05},\"mapbox\":{\"style\":\"light\"}}},\"shapes\":[{\"line\":{\"color\":\"green\",\"dash\":\"dot\",\"width\":1},\"type\":\"line\",\"x0\":0,\"x1\":1,\"xref\":\"x domain\",\"y0\":0.2259,\"y1\":0.2259,\"yref\":\"y\"},{\"line\":{\"color\":\"green\",\"dash\":\"dot\",\"width\":1},\"type\":\"line\",\"x0\":0,\"x1\":1,\"xref\":\"x domain\",\"y0\":0.2259,\"y1\":0.2259,\"yref\":\"y\"},{\"line\":{\"color\":\"green\",\"dash\":\"dot\",\"width\":1},\"type\":\"line\",\"x0\":0,\"x1\":1,\"xref\":\"x domain\",\"y0\":0.2259,\"y1\":0.2259,\"yref\":\"y\"}],\"annotations\":[{\"showarrow\":false,\"text\":\"Last Turn(14.4%)\",\"x\":0,\"xanchor\":\"left\",\"xref\":\"x domain\",\"y\":0.2259,\"yanchor\":\"top\",\"yref\":\"y\"},{\"showarrow\":false,\"text\":\"Last Turn(14.4%)\",\"x\":0,\"xanchor\":\"left\",\"xref\":\"x domain\",\"y\":0.2259,\"yanchor\":\"top\",\"yref\":\"y\"},{\"showarrow\":false,\"text\":\"Last Turn(14.4%)\",\"x\":0,\"xanchor\":\"left\",\"xref\":\"x domain\",\"y\":0.2259,\"yanchor\":\"top\",\"yref\":\"y\"}],\"xaxis\":{\"type\":\"category\",\"title\":{\"text\":\"# of labelled dialogue turns\"}},\"yaxis\":{\"range\":[0,0.6],\"title\":{\"text\":\"Joint Goal Accuracy\"}}},                        {\"responsive\": true}                    ).then(function(){\n",
       "                            \n",
       "var gd = document.getElementById('692ddc3d-b604-40c1-8a62-451304c94cfd');\n",
       "var x = new MutationObserver(function (mutations, observer) {{\n",
       "        var display = window.getComputedStyle(gd).display;\n",
       "        if (!display || display === 'none') {{\n",
       "            console.log([gd, 'removed!']);\n",
       "            Plotly.purge(gd);\n",
       "            observer.disconnect();\n",
       "        }}\n",
       "}});\n",
       "\n",
       "// Listen for the removal of the full notebook cells\n",
       "var notebookContainer = gd.closest('#notebook-container');\n",
       "if (notebookContainer) {{\n",
       "    x.observe(notebookContainer, {childList: true});\n",
       "}}\n",
       "\n",
       "// Listen for the clearing of the current output cell\n",
       "var outputEl = gd.closest('.output');\n",
       "if (outputEl) {{\n",
       "    x.observe(outputEl, {childList: true});\n",
       "}}\n",
       "\n",
       "                        })                };                });            </script>        </div>"
      ]
     },
     "metadata": {},
     "output_type": "display_data"
    }
   ],
   "source": [
    "k = 100\n",
    "mwz = 20\n",
    "# [full, last_turn, random]\n",
    "if mwz == 20:\n",
    "    baselines = [0, 0.2259, 0]\n",
    "\n",
    "strategies = ['random', 'least_confidence', 'max_entropy']\n",
    "strategy_list = ['RS', 'LC', 'ME']\n",
    "\n",
    "# acc_csv_paths = [f'./data/mwz20/KAGE/{strategy}/k2000/k2000_test_acc.csv' for strategy in strategies]\n",
    "\n",
    "df_list = []\n",
    "for strategy in strategies:\n",
    "    acc_csv_path = f'./data/mwz{mwz}/KAGE/{strategy}/k{k}/k{k}_test_acc.csv'\n",
    "    print(f'============== {acc_csv_path} ==============')\n",
    "    \n",
    "    df = make_merged_df_for_plotting(acc_csv_path)\n",
    "    display(df)\n",
    "    \n",
    "    df_list.append(df)\n",
    "    \n",
    "#     print()\n",
    "    \n",
    "plot_joint_acc_by_round(df_list, strategy_list, baselines)    "
   ]
  },
  {
   "cell_type": "code",
   "execution_count": null,
   "metadata": {},
   "outputs": [],
   "source": []
  },
  {
   "cell_type": "code",
   "execution_count": null,
   "metadata": {},
   "outputs": [],
   "source": []
  },
  {
   "cell_type": "code",
   "execution_count": null,
   "metadata": {},
   "outputs": [],
   "source": []
  },
  {
   "cell_type": "code",
   "execution_count": 28,
   "metadata": {},
   "outputs": [],
   "source": [
    "# # ME all avg:\n",
    "# x = pd.DataFrame({\n",
    "#     'test_joint_acc': [0.513384, 0.509812, 0.518448],\n",
    "#     'test_slot_acc': [0.971557, 0.971176, 0.972468]\n",
    "# })\n",
    "# x.describe()"
   ]
  },
  {
   "cell_type": "code",
   "execution_count": 15,
   "metadata": {
    "scrolled": false
   },
   "outputs": [],
   "source": [
    "def print_test_acc_by_path(acc_path_list):\n",
    "    for acc_path in acc_path_list:\n",
    "        print(f'------------ {acc_path} ------------')\n",
    "        get_mean_std_acc_by_path(acc_path)"
   ]
  },
  {
   "cell_type": "code",
   "execution_count": 16,
   "metadata": {
    "scrolled": false
   },
   "outputs": [
    {
     "name": "stdout",
     "output_type": "stream",
     "text": [
      "------------ ./data/mwz20/KAGE/max_entropy/k100/k100_test_acc.csv ------------\n"
     ]
    },
    {
     "data": {
      "text/html": [
       "<div>\n",
       "<style scoped>\n",
       "    .dataframe tbody tr th:only-of-type {\n",
       "        vertical-align: middle;\n",
       "    }\n",
       "\n",
       "    .dataframe tbody tr th {\n",
       "        vertical-align: top;\n",
       "    }\n",
       "\n",
       "    .dataframe thead th {\n",
       "        text-align: right;\n",
       "    }\n",
       "</style>\n",
       "<table border=\"1\" class=\"dataframe\">\n",
       "  <thead>\n",
       "    <tr style=\"text-align: right;\">\n",
       "      <th></th>\n",
       "      <th>test_joint_acc</th>\n",
       "      <th>test_slot_acc</th>\n",
       "    </tr>\n",
       "    <tr>\n",
       "      <th>round</th>\n",
       "      <th></th>\n",
       "      <th></th>\n",
       "    </tr>\n",
       "  </thead>\n",
       "  <tbody>\n",
       "    <tr>\n",
       "      <th>0</th>\n",
       "      <td>0.016820</td>\n",
       "      <td>0.828043</td>\n",
       "    </tr>\n",
       "    <tr>\n",
       "      <th>1</th>\n",
       "      <td>0.028305</td>\n",
       "      <td>0.842245</td>\n",
       "    </tr>\n",
       "    <tr>\n",
       "      <th>2</th>\n",
       "      <td>0.157488</td>\n",
       "      <td>0.913270</td>\n",
       "    </tr>\n",
       "    <tr>\n",
       "      <th>3</th>\n",
       "      <td>0.227030</td>\n",
       "      <td>0.931416</td>\n",
       "    </tr>\n",
       "    <tr>\n",
       "      <th>4</th>\n",
       "      <td>0.276678</td>\n",
       "      <td>0.941997</td>\n",
       "    </tr>\n",
       "    <tr>\n",
       "      <th>5</th>\n",
       "      <td>0.301682</td>\n",
       "      <td>0.946325</td>\n",
       "    </tr>\n",
       "    <tr>\n",
       "      <th>6</th>\n",
       "      <td>0.313709</td>\n",
       "      <td>0.947486</td>\n",
       "    </tr>\n",
       "    <tr>\n",
       "      <th>7</th>\n",
       "      <td>0.345451</td>\n",
       "      <td>0.952891</td>\n",
       "    </tr>\n",
       "    <tr>\n",
       "      <th>8</th>\n",
       "      <td>0.363673</td>\n",
       "      <td>0.954645</td>\n",
       "    </tr>\n",
       "    <tr>\n",
       "      <th>9</th>\n",
       "      <td>0.377193</td>\n",
       "      <td>0.956849</td>\n",
       "    </tr>\n",
       "    <tr>\n",
       "      <th>10</th>\n",
       "      <td>0.391821</td>\n",
       "      <td>0.959328</td>\n",
       "    </tr>\n",
       "    <tr>\n",
       "      <th>11</th>\n",
       "      <td>0.384563</td>\n",
       "      <td>0.957330</td>\n",
       "    </tr>\n",
       "  </tbody>\n",
       "</table>\n",
       "</div>"
      ],
      "text/plain": [
       "       test_joint_acc  test_slot_acc\n",
       "round                               \n",
       "0            0.016820       0.828043\n",
       "1            0.028305       0.842245\n",
       "2            0.157488       0.913270\n",
       "3            0.227030       0.931416\n",
       "4            0.276678       0.941997\n",
       "5            0.301682       0.946325\n",
       "6            0.313709       0.947486\n",
       "7            0.345451       0.952891\n",
       "8            0.363673       0.954645\n",
       "9            0.377193       0.956849\n",
       "10           0.391821       0.959328\n",
       "11           0.384563       0.957330"
      ]
     },
     "metadata": {},
     "output_type": "display_data"
    },
    {
     "data": {
      "text/html": [
       "<div>\n",
       "<style scoped>\n",
       "    .dataframe tbody tr th:only-of-type {\n",
       "        vertical-align: middle;\n",
       "    }\n",
       "\n",
       "    .dataframe tbody tr th {\n",
       "        vertical-align: top;\n",
       "    }\n",
       "\n",
       "    .dataframe thead th {\n",
       "        text-align: right;\n",
       "    }\n",
       "</style>\n",
       "<table border=\"1\" class=\"dataframe\">\n",
       "  <thead>\n",
       "    <tr style=\"text-align: right;\">\n",
       "      <th></th>\n",
       "      <th>test_joint_acc</th>\n",
       "      <th>test_slot_acc</th>\n",
       "    </tr>\n",
       "    <tr>\n",
       "      <th>round</th>\n",
       "      <th></th>\n",
       "      <th></th>\n",
       "    </tr>\n",
       "  </thead>\n",
       "  <tbody>\n",
       "    <tr>\n",
       "      <th>0</th>\n",
       "      <td>0.000000</td>\n",
       "      <td>0.001215</td>\n",
       "    </tr>\n",
       "    <tr>\n",
       "      <th>1</th>\n",
       "      <td>0.016052</td>\n",
       "      <td>0.009581</td>\n",
       "    </tr>\n",
       "    <tr>\n",
       "      <th>2</th>\n",
       "      <td>0.024106</td>\n",
       "      <td>0.007291</td>\n",
       "    </tr>\n",
       "    <tr>\n",
       "      <th>3</th>\n",
       "      <td>0.016890</td>\n",
       "      <td>0.002654</td>\n",
       "    </tr>\n",
       "    <tr>\n",
       "      <th>4</th>\n",
       "      <td>0.004461</td>\n",
       "      <td>0.001628</td>\n",
       "    </tr>\n",
       "    <tr>\n",
       "      <th>5</th>\n",
       "      <td>0.009391</td>\n",
       "      <td>0.001603</td>\n",
       "    </tr>\n",
       "    <tr>\n",
       "      <th>6</th>\n",
       "      <td>0.004798</td>\n",
       "      <td>0.000762</td>\n",
       "    </tr>\n",
       "    <tr>\n",
       "      <th>7</th>\n",
       "      <td>0.000942</td>\n",
       "      <td>0.000507</td>\n",
       "    </tr>\n",
       "    <tr>\n",
       "      <th>8</th>\n",
       "      <td>0.020522</td>\n",
       "      <td>0.002373</td>\n",
       "    </tr>\n",
       "    <tr>\n",
       "      <th>9</th>\n",
       "      <td>0.008512</td>\n",
       "      <td>0.001438</td>\n",
       "    </tr>\n",
       "    <tr>\n",
       "      <th>10</th>\n",
       "      <td>0.013769</td>\n",
       "      <td>0.001709</td>\n",
       "    </tr>\n",
       "    <tr>\n",
       "      <th>11</th>\n",
       "      <td>0.000000</td>\n",
       "      <td>0.000000</td>\n",
       "    </tr>\n",
       "  </tbody>\n",
       "</table>\n",
       "</div>"
      ],
      "text/plain": [
       "       test_joint_acc  test_slot_acc\n",
       "round                               \n",
       "0            0.000000       0.001215\n",
       "1            0.016052       0.009581\n",
       "2            0.024106       0.007291\n",
       "3            0.016890       0.002654\n",
       "4            0.004461       0.001628\n",
       "5            0.009391       0.001603\n",
       "6            0.004798       0.000762\n",
       "7            0.000942       0.000507\n",
       "8            0.020522       0.002373\n",
       "9            0.008512       0.001438\n",
       "10           0.013769       0.001709\n",
       "11           0.000000       0.000000"
      ]
     },
     "metadata": {},
     "output_type": "display_data"
    },
    {
     "name": "stdout",
     "output_type": "stream",
     "text": [
      "------------ ./data/mwz20/KAGE/least_confidence/k100/k100_test_acc.csv ------------\n"
     ]
    },
    {
     "data": {
      "text/html": [
       "<div>\n",
       "<style scoped>\n",
       "    .dataframe tbody tr th:only-of-type {\n",
       "        vertical-align: middle;\n",
       "    }\n",
       "\n",
       "    .dataframe tbody tr th {\n",
       "        vertical-align: top;\n",
       "    }\n",
       "\n",
       "    .dataframe thead th {\n",
       "        text-align: right;\n",
       "    }\n",
       "</style>\n",
       "<table border=\"1\" class=\"dataframe\">\n",
       "  <thead>\n",
       "    <tr style=\"text-align: right;\">\n",
       "      <th></th>\n",
       "      <th>test_joint_acc</th>\n",
       "      <th>test_slot_acc</th>\n",
       "    </tr>\n",
       "    <tr>\n",
       "      <th>round</th>\n",
       "      <th></th>\n",
       "      <th></th>\n",
       "    </tr>\n",
       "  </thead>\n",
       "  <tbody>\n",
       "    <tr>\n",
       "      <th>0</th>\n",
       "      <td>0.017092</td>\n",
       "      <td>0.831158</td>\n",
       "    </tr>\n",
       "    <tr>\n",
       "      <th>1</th>\n",
       "      <td>0.018041</td>\n",
       "      <td>0.833257</td>\n",
       "    </tr>\n",
       "    <tr>\n",
       "      <th>2</th>\n",
       "      <td>0.156201</td>\n",
       "      <td>0.874141</td>\n",
       "    </tr>\n",
       "    <tr>\n",
       "      <th>3</th>\n",
       "      <td>0.178511</td>\n",
       "      <td>0.874035</td>\n",
       "    </tr>\n",
       "    <tr>\n",
       "      <th>4</th>\n",
       "      <td>0.275366</td>\n",
       "      <td>0.941694</td>\n",
       "    </tr>\n",
       "    <tr>\n",
       "      <th>5</th>\n",
       "      <td>0.311110</td>\n",
       "      <td>0.948818</td>\n",
       "    </tr>\n",
       "    <tr>\n",
       "      <th>6</th>\n",
       "      <td>0.328269</td>\n",
       "      <td>0.951841</td>\n",
       "    </tr>\n",
       "    <tr>\n",
       "      <th>7</th>\n",
       "      <td>0.338714</td>\n",
       "      <td>0.953323</td>\n",
       "    </tr>\n",
       "    <tr>\n",
       "      <th>8</th>\n",
       "      <td>0.383071</td>\n",
       "      <td>0.958501</td>\n",
       "    </tr>\n",
       "    <tr>\n",
       "      <th>9</th>\n",
       "      <td>0.383342</td>\n",
       "      <td>0.959138</td>\n",
       "    </tr>\n",
       "    <tr>\n",
       "      <th>10</th>\n",
       "      <td>0.389447</td>\n",
       "      <td>0.959378</td>\n",
       "    </tr>\n",
       "    <tr>\n",
       "      <th>11</th>\n",
       "      <td>0.385784</td>\n",
       "      <td>0.958709</td>\n",
       "    </tr>\n",
       "  </tbody>\n",
       "</table>\n",
       "</div>"
      ],
      "text/plain": [
       "       test_joint_acc  test_slot_acc\n",
       "round                               \n",
       "0            0.017092       0.831158\n",
       "1            0.018041       0.833257\n",
       "2            0.156201       0.874141\n",
       "3            0.178511       0.874035\n",
       "4            0.275366       0.941694\n",
       "5            0.311110       0.948818\n",
       "6            0.328269       0.951841\n",
       "7            0.338714       0.953323\n",
       "8            0.383071       0.958501\n",
       "9            0.383342       0.959138\n",
       "10           0.389447       0.959378\n",
       "11           0.385784       0.958709"
      ]
     },
     "metadata": {},
     "output_type": "display_data"
    },
    {
     "data": {
      "text/html": [
       "<div>\n",
       "<style scoped>\n",
       "    .dataframe tbody tr th:only-of-type {\n",
       "        vertical-align: middle;\n",
       "    }\n",
       "\n",
       "    .dataframe tbody tr th {\n",
       "        vertical-align: top;\n",
       "    }\n",
       "\n",
       "    .dataframe thead th {\n",
       "        text-align: right;\n",
       "    }\n",
       "</style>\n",
       "<table border=\"1\" class=\"dataframe\">\n",
       "  <thead>\n",
       "    <tr style=\"text-align: right;\">\n",
       "      <th></th>\n",
       "      <th>test_joint_acc</th>\n",
       "      <th>test_slot_acc</th>\n",
       "    </tr>\n",
       "    <tr>\n",
       "      <th>round</th>\n",
       "      <th></th>\n",
       "      <th></th>\n",
       "    </tr>\n",
       "  </thead>\n",
       "  <tbody>\n",
       "    <tr>\n",
       "      <th>0</th>\n",
       "      <td>0.000272</td>\n",
       "      <td>0.001768</td>\n",
       "    </tr>\n",
       "    <tr>\n",
       "      <th>1</th>\n",
       "      <td>0.001221</td>\n",
       "      <td>0.005711</td>\n",
       "    </tr>\n",
       "    <tr>\n",
       "      <th>2</th>\n",
       "      <td>0.022859</td>\n",
       "      <td>0.037168</td>\n",
       "    </tr>\n",
       "    <tr>\n",
       "      <th>3</th>\n",
       "      <td>0.010312</td>\n",
       "      <td>0.046498</td>\n",
       "    </tr>\n",
       "    <tr>\n",
       "      <th>4</th>\n",
       "      <td>0.001764</td>\n",
       "      <td>0.000710</td>\n",
       "    </tr>\n",
       "    <tr>\n",
       "      <th>5</th>\n",
       "      <td>0.007800</td>\n",
       "      <td>0.001911</td>\n",
       "    </tr>\n",
       "    <tr>\n",
       "      <th>6</th>\n",
       "      <td>0.015192</td>\n",
       "      <td>0.001903</td>\n",
       "    </tr>\n",
       "    <tr>\n",
       "      <th>7</th>\n",
       "      <td>0.000000</td>\n",
       "      <td>0.000000</td>\n",
       "    </tr>\n",
       "    <tr>\n",
       "      <th>8</th>\n",
       "      <td>0.000000</td>\n",
       "      <td>0.000000</td>\n",
       "    </tr>\n",
       "    <tr>\n",
       "      <th>9</th>\n",
       "      <td>0.000000</td>\n",
       "      <td>0.000000</td>\n",
       "    </tr>\n",
       "    <tr>\n",
       "      <th>10</th>\n",
       "      <td>0.000000</td>\n",
       "      <td>0.000000</td>\n",
       "    </tr>\n",
       "    <tr>\n",
       "      <th>11</th>\n",
       "      <td>0.000000</td>\n",
       "      <td>0.000000</td>\n",
       "    </tr>\n",
       "  </tbody>\n",
       "</table>\n",
       "</div>"
      ],
      "text/plain": [
       "       test_joint_acc  test_slot_acc\n",
       "round                               \n",
       "0            0.000272       0.001768\n",
       "1            0.001221       0.005711\n",
       "2            0.022859       0.037168\n",
       "3            0.010312       0.046498\n",
       "4            0.001764       0.000710\n",
       "5            0.007800       0.001911\n",
       "6            0.015192       0.001903\n",
       "7            0.000000       0.000000\n",
       "8            0.000000       0.000000\n",
       "9            0.000000       0.000000\n",
       "10           0.000000       0.000000\n",
       "11           0.000000       0.000000"
      ]
     },
     "metadata": {},
     "output_type": "display_data"
    },
    {
     "name": "stdout",
     "output_type": "stream",
     "text": [
      "------------ ./data/mwz20/KAGE/random/k100/k100_test_acc.csv ------------\n"
     ]
    },
    {
     "data": {
      "text/html": [
       "<div>\n",
       "<style scoped>\n",
       "    .dataframe tbody tr th:only-of-type {\n",
       "        vertical-align: middle;\n",
       "    }\n",
       "\n",
       "    .dataframe tbody tr th {\n",
       "        vertical-align: top;\n",
       "    }\n",
       "\n",
       "    .dataframe thead th {\n",
       "        text-align: right;\n",
       "    }\n",
       "</style>\n",
       "<table border=\"1\" class=\"dataframe\">\n",
       "  <thead>\n",
       "    <tr style=\"text-align: right;\">\n",
       "      <th></th>\n",
       "      <th>test_joint_acc</th>\n",
       "      <th>test_slot_acc</th>\n",
       "    </tr>\n",
       "    <tr>\n",
       "      <th>round</th>\n",
       "      <th></th>\n",
       "      <th></th>\n",
       "    </tr>\n",
       "  </thead>\n",
       "  <tbody>\n",
       "    <tr>\n",
       "      <th>0</th>\n",
       "      <td>0.016820</td>\n",
       "      <td>0.827523</td>\n",
       "    </tr>\n",
       "    <tr>\n",
       "      <th>1</th>\n",
       "      <td>0.018516</td>\n",
       "      <td>0.839017</td>\n",
       "    </tr>\n",
       "    <tr>\n",
       "      <th>2</th>\n",
       "      <td>0.146907</td>\n",
       "      <td>0.901042</td>\n",
       "    </tr>\n",
       "    <tr>\n",
       "      <th>3</th>\n",
       "      <td>0.154504</td>\n",
       "      <td>0.902469</td>\n",
       "    </tr>\n",
       "    <tr>\n",
       "      <th>4</th>\n",
       "      <td>0.244575</td>\n",
       "      <td>0.934258</td>\n",
       "    </tr>\n",
       "    <tr>\n",
       "      <th>5</th>\n",
       "      <td>0.290423</td>\n",
       "      <td>0.941628</td>\n",
       "    </tr>\n",
       "    <tr>\n",
       "      <th>6</th>\n",
       "      <td>0.303920</td>\n",
       "      <td>0.945989</td>\n",
       "    </tr>\n",
       "    <tr>\n",
       "      <th>7</th>\n",
       "      <td>0.341224</td>\n",
       "      <td>0.952155</td>\n",
       "    </tr>\n",
       "    <tr>\n",
       "      <th>8</th>\n",
       "      <td>0.354720</td>\n",
       "      <td>0.952631</td>\n",
       "    </tr>\n",
       "    <tr>\n",
       "      <th>9</th>\n",
       "      <td>0.358790</td>\n",
       "      <td>0.954865</td>\n",
       "    </tr>\n",
       "    <tr>\n",
       "      <th>10</th>\n",
       "      <td>0.356755</td>\n",
       "      <td>0.954440</td>\n",
       "    </tr>\n",
       "    <tr>\n",
       "      <th>11</th>\n",
       "      <td>0.363945</td>\n",
       "      <td>0.954992</td>\n",
       "    </tr>\n",
       "  </tbody>\n",
       "</table>\n",
       "</div>"
      ],
      "text/plain": [
       "       test_joint_acc  test_slot_acc\n",
       "round                               \n",
       "0            0.016820       0.827523\n",
       "1            0.018516       0.839017\n",
       "2            0.146907       0.901042\n",
       "3            0.154504       0.902469\n",
       "4            0.244575       0.934258\n",
       "5            0.290423       0.941628\n",
       "6            0.303920       0.945989\n",
       "7            0.341224       0.952155\n",
       "8            0.354720       0.952631\n",
       "9            0.358790       0.954865\n",
       "10           0.356755       0.954440\n",
       "11           0.363945       0.954992"
      ]
     },
     "metadata": {},
     "output_type": "display_data"
    },
    {
     "data": {
      "text/html": [
       "<div>\n",
       "<style scoped>\n",
       "    .dataframe tbody tr th:only-of-type {\n",
       "        vertical-align: middle;\n",
       "    }\n",
       "\n",
       "    .dataframe tbody tr th {\n",
       "        vertical-align: top;\n",
       "    }\n",
       "\n",
       "    .dataframe thead th {\n",
       "        text-align: right;\n",
       "    }\n",
       "</style>\n",
       "<table border=\"1\" class=\"dataframe\">\n",
       "  <thead>\n",
       "    <tr style=\"text-align: right;\">\n",
       "      <th></th>\n",
       "      <th>test_joint_acc</th>\n",
       "      <th>test_slot_acc</th>\n",
       "    </tr>\n",
       "    <tr>\n",
       "      <th>round</th>\n",
       "      <th></th>\n",
       "      <th></th>\n",
       "    </tr>\n",
       "  </thead>\n",
       "  <tbody>\n",
       "    <tr>\n",
       "      <th>0</th>\n",
       "      <td>0.000000</td>\n",
       "      <td>0.000000</td>\n",
       "    </tr>\n",
       "    <tr>\n",
       "      <th>1</th>\n",
       "      <td>0.000475</td>\n",
       "      <td>0.001976</td>\n",
       "    </tr>\n",
       "    <tr>\n",
       "      <th>2</th>\n",
       "      <td>0.009631</td>\n",
       "      <td>0.005202</td>\n",
       "    </tr>\n",
       "    <tr>\n",
       "      <th>3</th>\n",
       "      <td>0.041238</td>\n",
       "      <td>0.014732</td>\n",
       "    </tr>\n",
       "    <tr>\n",
       "      <th>4</th>\n",
       "      <td>0.004070</td>\n",
       "      <td>0.002480</td>\n",
       "    </tr>\n",
       "    <tr>\n",
       "      <th>5</th>\n",
       "      <td>0.013836</td>\n",
       "      <td>0.003841</td>\n",
       "    </tr>\n",
       "    <tr>\n",
       "      <th>6</th>\n",
       "      <td>0.002374</td>\n",
       "      <td>0.000719</td>\n",
       "    </tr>\n",
       "    <tr>\n",
       "      <th>7</th>\n",
       "      <td>0.016210</td>\n",
       "      <td>0.001811</td>\n",
       "    </tr>\n",
       "    <tr>\n",
       "      <th>8</th>\n",
       "      <td>0.010580</td>\n",
       "      <td>0.000864</td>\n",
       "    </tr>\n",
       "    <tr>\n",
       "      <th>9</th>\n",
       "      <td>0.002442</td>\n",
       "      <td>0.000172</td>\n",
       "    </tr>\n",
       "    <tr>\n",
       "      <th>10</th>\n",
       "      <td>0.000000</td>\n",
       "      <td>0.000000</td>\n",
       "    </tr>\n",
       "    <tr>\n",
       "      <th>11</th>\n",
       "      <td>0.000000</td>\n",
       "      <td>0.000000</td>\n",
       "    </tr>\n",
       "  </tbody>\n",
       "</table>\n",
       "</div>"
      ],
      "text/plain": [
       "       test_joint_acc  test_slot_acc\n",
       "round                               \n",
       "0            0.000000       0.000000\n",
       "1            0.000475       0.001976\n",
       "2            0.009631       0.005202\n",
       "3            0.041238       0.014732\n",
       "4            0.004070       0.002480\n",
       "5            0.013836       0.003841\n",
       "6            0.002374       0.000719\n",
       "7            0.016210       0.001811\n",
       "8            0.010580       0.000864\n",
       "9            0.002442       0.000172\n",
       "10           0.000000       0.000000\n",
       "11           0.000000       0.000000"
      ]
     },
     "metadata": {},
     "output_type": "display_data"
    }
   ],
   "source": [
    "print_test_acc_by_path(acc_path_list)"
   ]
  },
  {
   "cell_type": "code",
   "execution_count": null,
   "metadata": {},
   "outputs": [],
   "source": []
  },
  {
   "cell_type": "code",
   "execution_count": null,
   "metadata": {},
   "outputs": [],
   "source": []
  },
  {
   "cell_type": "markdown",
   "metadata": {},
   "source": [
    "## Calulate Annotation Cost"
   ]
  },
  {
   "cell_type": "code",
   "execution_count": 17,
   "metadata": {},
   "outputs": [],
   "source": [
    "def cal_turn_percentage(x):\n",
    "    \n",
    "    if int(x['total_turns']) == 0:\n",
    "        return 1\n",
    "    \n",
    "    return int(x['turn_idx'])/int(x['total_turns'])"
   ]
  },
  {
   "cell_type": "code",
   "execution_count": 19,
   "metadata": {},
   "outputs": [],
   "source": [
    "def merge_df(dialogue2len_df, selected_turn_df):\n",
    "    \n",
    "    selected_turn_df['dialogue_id'] = selected_turn_df['selected_turn_id'].apply(lambda x: x.split('-')[0])\n",
    "    selected_turn_df['turn_idx'] = selected_turn_df['selected_turn_id'].apply(lambda x: int(x.split('-')[1]))\n",
    "#     display(selected_turn_df)\n",
    "    \n",
    "    # merge \n",
    "    merged_df = pd.merge(selected_turn_df, dialogue2len_df, on='dialogue_id', how='left')\n",
    "    merged_df['dialogue'] = merged_df.index\n",
    "#     merged_df['total_turns'] = merged_df['total_turns'] - 1\n",
    "    # turn_idx+1 because the index starts from 0\n",
    "    merged_df['turn_idx'] = merged_df['turn_idx'] + 1\n",
    "    \n",
    "    ### metric1: calculate turn percentage\n",
    "    # to see the model tends to select which turn of each dialogue in each round\n",
    "    # should be in [0, 1], 0 means select the first turn, 1 means select the last turn\n",
    "    merged_df['turn_percentage'] = merged_df.apply(lambda x: cal_turn_percentage(x), axis=1)\n",
    "    \n",
    "    ### metric2: # of turns that are read by annotators\n",
    "    # if total_turns is 10, select turn_idx is 3, then annotator needs to read 3/10 turns to \n",
    "    # label the turn_idx=3 turn\n",
    "    annotate_turns_percent = round(merged_df['turn_percentage'].mean(), 4)\n",
    "    std_annotate_turns_percent = round(merged_df['turn_percentage'].std(ddof=0), 4)\n",
    "    print(f'# of turns read by annotators: mean - {annotate_turns_percent} std - {std_annotate_turns_percent}')\n",
    "    \n",
    "    merged_df_wo_budget = merged_df[merged_df['round'] != -1].reset_index(drop=True)\n",
    "    annotate_turns_percent_wo_budget = round(merged_df_wo_budget['turn_percentage'].mean(), 4)\n",
    "    print(f'# of turns read by annotators without budget: {annotate_turns_percent_wo_budget}')\n",
    "    print('--------------------------------------------------')\n",
    "    \n",
    "    merged_df['turn_percentage_by_round'] = merged_df.groupby('round')['turn_percentage'].transform('mean')\n",
    "    annotate_turns_percent_by_round = merged_df.groupby('round')['turn_percentage'].mean()\n",
    "    std_annotate_turns_percent_by_round = merged_df.groupby('round')['turn_percentage'].std(ddof=0)\n",
    "    for idx in annotate_turns_percent_by_round.index:\n",
    "        print(f'# of turns read by annotators by round {idx}: mean - '\n",
    "              f'{round(annotate_turns_percent_by_round[idx], 4)} '\n",
    "              f'std - {round(std_annotate_turns_percent_by_round[idx], 4)}'\n",
    "             \n",
    "             )\n",
    "    \n",
    "    \n",
    "    return merged_df"
   ]
  },
  {
   "cell_type": "code",
   "execution_count": 20,
   "metadata": {},
   "outputs": [],
   "source": [
    "def read_all_by_folder_name(folder_name):\n",
    "    selected_turn_path_list = []\n",
    "    for filename in os.listdir(folder_name):\n",
    "        if not filename.endswith('selected_turn_id.csv'):\n",
    "            continue\n",
    "#         print(filename)\n",
    "        selected_turn_path_list.append(f'{folder_name}/{filename}')\n",
    "#     print(selected_turn_path_list)\n",
    "    \n",
    "    df_list = []\n",
    "    for path in selected_turn_path_list:\n",
    "        df = pd.read_csv(path, usecols=[0,1])\n",
    "        df_list.append(df)\n",
    "        \n",
    "    merged = pd.concat(df_list)\n",
    "    merged_statis = merge_df(mwz20_dialogue2len_df, merged)"
   ]
  },
  {
   "cell_type": "code",
   "execution_count": 21,
   "metadata": {},
   "outputs": [],
   "source": [
    "selected_turn_folder_list = [\n",
    "    # Max Entropy\n",
    "    './data/mwz20/KAGE/max_entropy/k100',\n",
    "    \n",
    "    # Least Confidence\n",
    "    './data/mwz20/KAGE/least_confidence/k100',\n",
    "    \n",
    "    # Random\n",
    "    './data/mwz20/KAGE/random/k100',\n",
    "    \n",
    "    #####################################\n",
    "\n",
    "\n",
    "]"
   ]
  },
  {
   "cell_type": "code",
   "execution_count": 22,
   "metadata": {
    "scrolled": false
   },
   "outputs": [
    {
     "name": "stdout",
     "output_type": "stream",
     "text": [
      "============= ./data/mwz20/KAGE/max_entropy/k100 =============\n",
      "# of turns read by annotators: mean - 0.7232 std - 0.2834\n",
      "# of turns read by annotators without budget: 0.7232\n",
      "--------------------------------------------------\n",
      "# of turns read by annotators by round 0: mean - 0.4561 std - 0.2694\n",
      "# of turns read by annotators by round 1: mean - 0.9452 std - 0.117\n",
      "# of turns read by annotators by round 2: mean - 0.9226 std - 0.141\n",
      "# of turns read by annotators by round 3: mean - 0.7326 std - 0.2727\n",
      "# of turns read by annotators by round 4: mean - 0.7024 std - 0.2906\n",
      "# of turns read by annotators by round 5: mean - 0.7512 std - 0.2569\n",
      "# of turns read by annotators by round 6: mean - 0.7271 std - 0.2713\n",
      "# of turns read by annotators by round 7: mean - 0.6808 std - 0.2805\n",
      "# of turns read by annotators by round 8: mean - 0.6733 std - 0.2789\n",
      "# of turns read by annotators by round 9: mean - 0.6967 std - 0.2729\n",
      "# of turns read by annotators by round 10: mean - 0.7292 std - 0.2558\n",
      "# of turns read by annotators by round 11: mean - 0.5445 std - 0.2838\n",
      "\n",
      "============= ./data/mwz20/KAGE/least_confidence/k100 =============\n",
      "# of turns read by annotators: mean - 0.8458 std - 0.2398\n",
      "# of turns read by annotators without budget: 0.8458\n",
      "--------------------------------------------------\n",
      "# of turns read by annotators by round 0: mean - 0.5954 std - 0.293\n",
      "# of turns read by annotators by round 1: mean - 0.9748 std - 0.0836\n",
      "# of turns read by annotators by round 2: mean - 0.9299 std - 0.2027\n",
      "# of turns read by annotators by round 3: mean - 0.8774 std - 0.211\n",
      "# of turns read by annotators by round 4: mean - 0.8979 std - 0.1891\n",
      "# of turns read by annotators by round 5: mean - 0.8559 std - 0.1741\n",
      "# of turns read by annotators by round 6: mean - 0.795 std - 0.2852\n",
      "# of turns read by annotators by round 7: mean - 0.9388 std - 0.1216\n",
      "# of turns read by annotators by round 8: mean - 0.7799 std - 0.2631\n",
      "# of turns read by annotators by round 9: mean - 0.8795 std - 0.1865\n",
      "# of turns read by annotators by round 10: mean - 0.8031 std - 0.2333\n",
      "# of turns read by annotators by round 11: mean - 0.8162 std - 0.2561\n",
      "\n",
      "============= ./data/mwz20/KAGE/random/k100 =============\n",
      "# of turns read by annotators: mean - 0.5887 std - 0.2857\n",
      "# of turns read by annotators without budget: 0.5887\n",
      "--------------------------------------------------\n",
      "# of turns read by annotators by round 0: mean - 0.577 std - 0.2782\n",
      "# of turns read by annotators by round 1: mean - 0.6176 std - 0.2727\n",
      "# of turns read by annotators by round 2: mean - 0.5596 std - 0.2888\n",
      "# of turns read by annotators by round 3: mean - 0.5547 std - 0.2739\n",
      "# of turns read by annotators by round 4: mean - 0.5826 std - 0.2876\n",
      "# of turns read by annotators by round 5: mean - 0.6079 std - 0.2961\n",
      "# of turns read by annotators by round 6: mean - 0.6103 std - 0.2988\n",
      "# of turns read by annotators by round 7: mean - 0.5957 std - 0.2929\n",
      "# of turns read by annotators by round 8: mean - 0.5858 std - 0.3028\n",
      "# of turns read by annotators by round 9: mean - 0.5884 std - 0.27\n",
      "# of turns read by annotators by round 10: mean - 0.6253 std - 0.2675\n",
      "# of turns read by annotators by round 11: mean - 0.5658 std - 0.2722\n",
      "\n"
     ]
    }
   ],
   "source": [
    "for selected_turn_folder in selected_turn_folder_list:\n",
    "    print(f'============= {selected_turn_folder} =============')\n",
    "    read_all_by_folder_name(selected_turn_folder)\n",
    "    print()"
   ]
  },
  {
   "cell_type": "code",
   "execution_count": null,
   "metadata": {},
   "outputs": [],
   "source": []
  },
  {
   "cell_type": "code",
   "execution_count": 123,
   "metadata": {},
   "outputs": [],
   "source": []
  },
  {
   "cell_type": "code",
   "execution_count": null,
   "metadata": {},
   "outputs": [],
   "source": []
  },
  {
   "cell_type": "code",
   "execution_count": null,
   "metadata": {},
   "outputs": [],
   "source": []
  },
  {
   "cell_type": "code",
   "execution_count": null,
   "metadata": {},
   "outputs": [],
   "source": []
  },
  {
   "cell_type": "code",
   "execution_count": null,
   "metadata": {},
   "outputs": [],
   "source": []
  },
  {
   "cell_type": "code",
   "execution_count": 45,
   "metadata": {},
   "outputs": [
    {
     "data": {
      "text/html": [
       "<div>\n",
       "<style scoped>\n",
       "    .dataframe tbody tr th:only-of-type {\n",
       "        vertical-align: middle;\n",
       "    }\n",
       "\n",
       "    .dataframe tbody tr th {\n",
       "        vertical-align: top;\n",
       "    }\n",
       "\n",
       "    .dataframe thead th {\n",
       "        text-align: right;\n",
       "    }\n",
       "</style>\n",
       "<table border=\"1\" class=\"dataframe\">\n",
       "  <thead>\n",
       "    <tr style=\"text-align: right;\">\n",
       "      <th></th>\n",
       "      <th>round</th>\n",
       "      <th>selected_turn_id</th>\n",
       "    </tr>\n",
       "  </thead>\n",
       "  <tbody>\n",
       "    <tr>\n",
       "      <th>0</th>\n",
       "      <td>0</td>\n",
       "      <td>MUL1950-7</td>\n",
       "    </tr>\n",
       "    <tr>\n",
       "      <th>1</th>\n",
       "      <td>0</td>\n",
       "      <td>PMUL3752-3</td>\n",
       "    </tr>\n",
       "    <tr>\n",
       "      <th>2</th>\n",
       "      <td>0</td>\n",
       "      <td>PMUL3020-0</td>\n",
       "    </tr>\n",
       "    <tr>\n",
       "      <th>3</th>\n",
       "      <td>0</td>\n",
       "      <td>PMUL1571-0</td>\n",
       "    </tr>\n",
       "    <tr>\n",
       "      <th>4</th>\n",
       "      <td>0</td>\n",
       "      <td>MUL0429-1</td>\n",
       "    </tr>\n",
       "    <tr>\n",
       "      <th>...</th>\n",
       "      <td>...</td>\n",
       "      <td>...</td>\n",
       "    </tr>\n",
       "    <tr>\n",
       "      <th>7883</th>\n",
       "      <td>3</td>\n",
       "      <td>WOZ20634-1</td>\n",
       "    </tr>\n",
       "    <tr>\n",
       "      <th>7884</th>\n",
       "      <td>3</td>\n",
       "      <td>WOZ20649-2</td>\n",
       "    </tr>\n",
       "    <tr>\n",
       "      <th>7885</th>\n",
       "      <td>3</td>\n",
       "      <td>WOZ20667-1</td>\n",
       "    </tr>\n",
       "    <tr>\n",
       "      <th>7886</th>\n",
       "      <td>3</td>\n",
       "      <td>WOZ20672-4</td>\n",
       "    </tr>\n",
       "    <tr>\n",
       "      <th>7887</th>\n",
       "      <td>3</td>\n",
       "      <td>WOZ20675-1</td>\n",
       "    </tr>\n",
       "  </tbody>\n",
       "</table>\n",
       "<p>23664 rows × 2 columns</p>\n",
       "</div>"
      ],
      "text/plain": [
       "      round selected_turn_id\n",
       "0         0        MUL1950-7\n",
       "1         0       PMUL3752-3\n",
       "2         0       PMUL3020-0\n",
       "3         0       PMUL1571-0\n",
       "4         0        MUL0429-1\n",
       "...     ...              ...\n",
       "7883      3       WOZ20634-1\n",
       "7884      3       WOZ20649-2\n",
       "7885      3       WOZ20667-1\n",
       "7886      3       WOZ20672-4\n",
       "7887      3       WOZ20675-1\n",
       "\n",
       "[23664 rows x 2 columns]"
      ]
     },
     "execution_count": 45,
     "metadata": {},
     "output_type": "execute_result"
    }
   ],
   "source": [
    "# only read first two cols because columns number does not match for the final round\n",
    "k2000S202 = pd.read_csv('./data/mwz20/KAGE/max_entropy/k2000/k2000S202_selected_turn_id.csv',usecols=[0,1])\n",
    "k2000S588 = pd.read_csv('./data/mwz20/KAGE/max_entropy/k2000/k2000S588_selected_turn_id.csv',usecols=[0,1])\n",
    "k2000S813 = pd.read_csv('./data/mwz20/KAGE/max_entropy/k2000/k2000S813_selected_turn_id.csv',usecols=[0,1])\n",
    "k2000_merged = pd.concat([k2000S202, k2000S588, k2000S813])\n",
    "k2000_merged"
   ]
  },
  {
   "cell_type": "code",
   "execution_count": 46,
   "metadata": {},
   "outputs": [
    {
     "name": "stdout",
     "output_type": "stream",
     "text": [
      "# of turns read by annotators: mean - 0.6258 std - 0.2852\n",
      "# of turns read by annotators without budget: 0.6258\n",
      "--------------------------------------------------\n",
      "# of turns read by annotators by round 0: mean - 0.5782 std - 0.2997\n",
      "# of turns read by annotators by round 1: mean - 0.6536 std - 0.2946\n",
      "# of turns read by annotators by round 2: mean - 0.6409 std - 0.2671\n",
      "# of turns read by annotators by round 3: mean - 0.6308 std - 0.2715\n"
     ]
    },
    {
     "data": {
      "text/html": [
       "<div>\n",
       "<style scoped>\n",
       "    .dataframe tbody tr th:only-of-type {\n",
       "        vertical-align: middle;\n",
       "    }\n",
       "\n",
       "    .dataframe tbody tr th {\n",
       "        vertical-align: top;\n",
       "    }\n",
       "\n",
       "    .dataframe thead th {\n",
       "        text-align: right;\n",
       "    }\n",
       "</style>\n",
       "<table border=\"1\" class=\"dataframe\">\n",
       "  <thead>\n",
       "    <tr style=\"text-align: right;\">\n",
       "      <th></th>\n",
       "      <th>round</th>\n",
       "      <th>selected_turn_id</th>\n",
       "      <th>dialogue_id</th>\n",
       "      <th>turn_idx</th>\n",
       "      <th>total_turns</th>\n",
       "      <th>dialogue</th>\n",
       "      <th>turn_percentage</th>\n",
       "      <th>turn_percentage_by_round</th>\n",
       "    </tr>\n",
       "  </thead>\n",
       "  <tbody>\n",
       "    <tr>\n",
       "      <th>0</th>\n",
       "      <td>0</td>\n",
       "      <td>MUL1950-7</td>\n",
       "      <td>MUL1950</td>\n",
       "      <td>8</td>\n",
       "      <td>8</td>\n",
       "      <td>0</td>\n",
       "      <td>1.000000</td>\n",
       "      <td>0.578239</td>\n",
       "    </tr>\n",
       "    <tr>\n",
       "      <th>1</th>\n",
       "      <td>0</td>\n",
       "      <td>PMUL3752-3</td>\n",
       "      <td>PMUL3752</td>\n",
       "      <td>4</td>\n",
       "      <td>8</td>\n",
       "      <td>1</td>\n",
       "      <td>0.500000</td>\n",
       "      <td>0.578239</td>\n",
       "    </tr>\n",
       "    <tr>\n",
       "      <th>2</th>\n",
       "      <td>0</td>\n",
       "      <td>PMUL3020-0</td>\n",
       "      <td>PMUL3020</td>\n",
       "      <td>1</td>\n",
       "      <td>10</td>\n",
       "      <td>2</td>\n",
       "      <td>0.100000</td>\n",
       "      <td>0.578239</td>\n",
       "    </tr>\n",
       "    <tr>\n",
       "      <th>3</th>\n",
       "      <td>0</td>\n",
       "      <td>PMUL1571-0</td>\n",
       "      <td>PMUL1571</td>\n",
       "      <td>1</td>\n",
       "      <td>8</td>\n",
       "      <td>3</td>\n",
       "      <td>0.125000</td>\n",
       "      <td>0.578239</td>\n",
       "    </tr>\n",
       "    <tr>\n",
       "      <th>4</th>\n",
       "      <td>0</td>\n",
       "      <td>MUL0429-1</td>\n",
       "      <td>MUL0429</td>\n",
       "      <td>2</td>\n",
       "      <td>8</td>\n",
       "      <td>4</td>\n",
       "      <td>0.250000</td>\n",
       "      <td>0.578239</td>\n",
       "    </tr>\n",
       "    <tr>\n",
       "      <th>...</th>\n",
       "      <td>...</td>\n",
       "      <td>...</td>\n",
       "      <td>...</td>\n",
       "      <td>...</td>\n",
       "      <td>...</td>\n",
       "      <td>...</td>\n",
       "      <td>...</td>\n",
       "      <td>...</td>\n",
       "    </tr>\n",
       "    <tr>\n",
       "      <th>23659</th>\n",
       "      <td>3</td>\n",
       "      <td>WOZ20634-1</td>\n",
       "      <td>WOZ20634</td>\n",
       "      <td>2</td>\n",
       "      <td>7</td>\n",
       "      <td>23659</td>\n",
       "      <td>0.285714</td>\n",
       "      <td>0.630771</td>\n",
       "    </tr>\n",
       "    <tr>\n",
       "      <th>23660</th>\n",
       "      <td>3</td>\n",
       "      <td>WOZ20649-2</td>\n",
       "      <td>WOZ20649</td>\n",
       "      <td>3</td>\n",
       "      <td>3</td>\n",
       "      <td>23660</td>\n",
       "      <td>1.000000</td>\n",
       "      <td>0.630771</td>\n",
       "    </tr>\n",
       "    <tr>\n",
       "      <th>23661</th>\n",
       "      <td>3</td>\n",
       "      <td>WOZ20667-1</td>\n",
       "      <td>WOZ20667</td>\n",
       "      <td>2</td>\n",
       "      <td>4</td>\n",
       "      <td>23661</td>\n",
       "      <td>0.500000</td>\n",
       "      <td>0.630771</td>\n",
       "    </tr>\n",
       "    <tr>\n",
       "      <th>23662</th>\n",
       "      <td>3</td>\n",
       "      <td>WOZ20672-4</td>\n",
       "      <td>WOZ20672</td>\n",
       "      <td>5</td>\n",
       "      <td>5</td>\n",
       "      <td>23662</td>\n",
       "      <td>1.000000</td>\n",
       "      <td>0.630771</td>\n",
       "    </tr>\n",
       "    <tr>\n",
       "      <th>23663</th>\n",
       "      <td>3</td>\n",
       "      <td>WOZ20675-1</td>\n",
       "      <td>WOZ20675</td>\n",
       "      <td>2</td>\n",
       "      <td>5</td>\n",
       "      <td>23663</td>\n",
       "      <td>0.400000</td>\n",
       "      <td>0.630771</td>\n",
       "    </tr>\n",
       "  </tbody>\n",
       "</table>\n",
       "<p>23664 rows × 8 columns</p>\n",
       "</div>"
      ],
      "text/plain": [
       "       round selected_turn_id dialogue_id  turn_idx  total_turns  dialogue  \\\n",
       "0          0        MUL1950-7     MUL1950         8            8         0   \n",
       "1          0       PMUL3752-3    PMUL3752         4            8         1   \n",
       "2          0       PMUL3020-0    PMUL3020         1           10         2   \n",
       "3          0       PMUL1571-0    PMUL1571         1            8         3   \n",
       "4          0        MUL0429-1     MUL0429         2            8         4   \n",
       "...      ...              ...         ...       ...          ...       ...   \n",
       "23659      3       WOZ20634-1    WOZ20634         2            7     23659   \n",
       "23660      3       WOZ20649-2    WOZ20649         3            3     23660   \n",
       "23661      3       WOZ20667-1    WOZ20667         2            4     23661   \n",
       "23662      3       WOZ20672-4    WOZ20672         5            5     23662   \n",
       "23663      3       WOZ20675-1    WOZ20675         2            5     23663   \n",
       "\n",
       "       turn_percentage  turn_percentage_by_round  \n",
       "0             1.000000                  0.578239  \n",
       "1             0.500000                  0.578239  \n",
       "2             0.100000                  0.578239  \n",
       "3             0.125000                  0.578239  \n",
       "4             0.250000                  0.578239  \n",
       "...                ...                       ...  \n",
       "23659         0.285714                  0.630771  \n",
       "23660         1.000000                  0.630771  \n",
       "23661         0.500000                  0.630771  \n",
       "23662         1.000000                  0.630771  \n",
       "23663         0.400000                  0.630771  \n",
       "\n",
       "[23664 rows x 8 columns]"
      ]
     },
     "execution_count": 46,
     "metadata": {},
     "output_type": "execute_result"
    }
   ],
   "source": [
    "k2000_merged_statis = merge_df(mwz20_dialogue2len_df, k2000_merged)\n",
    "k2000_merged_statis"
   ]
  },
  {
   "cell_type": "code",
   "execution_count": 47,
   "metadata": {
    "scrolled": true
   },
   "outputs": [
    {
     "data": {
      "text/html": [
       "<div>\n",
       "<style scoped>\n",
       "    .dataframe tbody tr th:only-of-type {\n",
       "        vertical-align: middle;\n",
       "    }\n",
       "\n",
       "    .dataframe tbody tr th {\n",
       "        vertical-align: top;\n",
       "    }\n",
       "\n",
       "    .dataframe thead th {\n",
       "        text-align: right;\n",
       "    }\n",
       "</style>\n",
       "<table border=\"1\" class=\"dataframe\">\n",
       "  <thead>\n",
       "    <tr style=\"text-align: right;\">\n",
       "      <th></th>\n",
       "      <th>round</th>\n",
       "      <th>selected_turn_id</th>\n",
       "      <th>dialogue_id</th>\n",
       "      <th>turn_idx</th>\n",
       "      <th>total_turns</th>\n",
       "      <th>dialogue</th>\n",
       "      <th>turn_percentage</th>\n",
       "      <th>turn_percentage_by_round</th>\n",
       "    </tr>\n",
       "  </thead>\n",
       "  <tbody>\n",
       "    <tr>\n",
       "      <th>0</th>\n",
       "      <td>0</td>\n",
       "      <td>MUL1950-7</td>\n",
       "      <td>MUL1950</td>\n",
       "      <td>8</td>\n",
       "      <td>8</td>\n",
       "      <td>0</td>\n",
       "      <td>1.00</td>\n",
       "      <td>0.578239</td>\n",
       "    </tr>\n",
       "    <tr>\n",
       "      <th>12295</th>\n",
       "      <td>2</td>\n",
       "      <td>MUL1950-3</td>\n",
       "      <td>MUL1950</td>\n",
       "      <td>4</td>\n",
       "      <td>8</td>\n",
       "      <td>12295</td>\n",
       "      <td>0.50</td>\n",
       "      <td>0.640939</td>\n",
       "    </tr>\n",
       "    <tr>\n",
       "      <th>16179</th>\n",
       "      <td>0</td>\n",
       "      <td>MUL1950-5</td>\n",
       "      <td>MUL1950</td>\n",
       "      <td>6</td>\n",
       "      <td>8</td>\n",
       "      <td>16179</td>\n",
       "      <td>0.75</td>\n",
       "      <td>0.578239</td>\n",
       "    </tr>\n",
       "  </tbody>\n",
       "</table>\n",
       "</div>"
      ],
      "text/plain": [
       "       round selected_turn_id dialogue_id  turn_idx  total_turns  dialogue  \\\n",
       "0          0        MUL1950-7     MUL1950         8            8         0   \n",
       "12295      2        MUL1950-3     MUL1950         4            8     12295   \n",
       "16179      0        MUL1950-5     MUL1950         6            8     16179   \n",
       "\n",
       "       turn_percentage  turn_percentage_by_round  \n",
       "0                 1.00                  0.578239  \n",
       "12295             0.50                  0.640939  \n",
       "16179             0.75                  0.578239  "
      ]
     },
     "execution_count": 47,
     "metadata": {},
     "output_type": "execute_result"
    }
   ],
   "source": [
    "k2000_merged_statis[k2000_merged_statis['dialogue_id'] == 'MUL1950']"
   ]
  },
  {
   "cell_type": "code",
   "execution_count": 48,
   "metadata": {},
   "outputs": [
    {
     "data": {
      "text/html": [
       "<div>\n",
       "<style scoped>\n",
       "    .dataframe tbody tr th:only-of-type {\n",
       "        vertical-align: middle;\n",
       "    }\n",
       "\n",
       "    .dataframe tbody tr th {\n",
       "        vertical-align: top;\n",
       "    }\n",
       "\n",
       "    .dataframe thead th {\n",
       "        text-align: right;\n",
       "    }\n",
       "</style>\n",
       "<table border=\"1\" class=\"dataframe\">\n",
       "  <thead>\n",
       "    <tr style=\"text-align: right;\">\n",
       "      <th></th>\n",
       "      <th>round</th>\n",
       "      <th>selected_turn_id</th>\n",
       "      <th>dialogue_id</th>\n",
       "      <th>turn_idx</th>\n",
       "      <th>total_turns</th>\n",
       "      <th>dialogue</th>\n",
       "      <th>turn_percentage</th>\n",
       "      <th>turn_percentage_by_round</th>\n",
       "    </tr>\n",
       "  </thead>\n",
       "  <tbody>\n",
       "    <tr>\n",
       "      <th>1</th>\n",
       "      <td>0</td>\n",
       "      <td>PMUL3752-3</td>\n",
       "      <td>PMUL3752</td>\n",
       "      <td>4</td>\n",
       "      <td>8</td>\n",
       "      <td>1</td>\n",
       "      <td>0.500</td>\n",
       "      <td>0.578239</td>\n",
       "    </tr>\n",
       "    <tr>\n",
       "      <th>10550</th>\n",
       "      <td>1</td>\n",
       "      <td>PMUL3752-2</td>\n",
       "      <td>PMUL3752</td>\n",
       "      <td>3</td>\n",
       "      <td>8</td>\n",
       "      <td>10550</td>\n",
       "      <td>0.375</td>\n",
       "      <td>0.653631</td>\n",
       "    </tr>\n",
       "    <tr>\n",
       "      <th>21623</th>\n",
       "      <td>2</td>\n",
       "      <td>PMUL3752-1</td>\n",
       "      <td>PMUL3752</td>\n",
       "      <td>2</td>\n",
       "      <td>8</td>\n",
       "      <td>21623</td>\n",
       "      <td>0.250</td>\n",
       "      <td>0.640939</td>\n",
       "    </tr>\n",
       "  </tbody>\n",
       "</table>\n",
       "</div>"
      ],
      "text/plain": [
       "       round selected_turn_id dialogue_id  turn_idx  total_turns  dialogue  \\\n",
       "1          0       PMUL3752-3    PMUL3752         4            8         1   \n",
       "10550      1       PMUL3752-2    PMUL3752         3            8     10550   \n",
       "21623      2       PMUL3752-1    PMUL3752         2            8     21623   \n",
       "\n",
       "       turn_percentage  turn_percentage_by_round  \n",
       "1                0.500                  0.578239  \n",
       "10550            0.375                  0.653631  \n",
       "21623            0.250                  0.640939  "
      ]
     },
     "execution_count": 48,
     "metadata": {},
     "output_type": "execute_result"
    }
   ],
   "source": [
    "k2000_merged_statis[k2000_merged_statis['dialogue_id'] == 'PMUL3752']"
   ]
  },
  {
   "cell_type": "code",
   "execution_count": 49,
   "metadata": {},
   "outputs": [
    {
     "data": {
      "text/html": [
       "<div>\n",
       "<style scoped>\n",
       "    .dataframe tbody tr th:only-of-type {\n",
       "        vertical-align: middle;\n",
       "    }\n",
       "\n",
       "    .dataframe tbody tr th {\n",
       "        vertical-align: top;\n",
       "    }\n",
       "\n",
       "    .dataframe thead th {\n",
       "        text-align: right;\n",
       "    }\n",
       "</style>\n",
       "<table border=\"1\" class=\"dataframe\">\n",
       "  <thead>\n",
       "    <tr style=\"text-align: right;\">\n",
       "      <th></th>\n",
       "      <th>round</th>\n",
       "      <th>selected_turn_id</th>\n",
       "      <th>dialogue_id</th>\n",
       "      <th>turn_idx</th>\n",
       "      <th>total_turns</th>\n",
       "      <th>dialogue</th>\n",
       "      <th>turn_percentage</th>\n",
       "      <th>turn_percentage_by_round</th>\n",
       "    </tr>\n",
       "  </thead>\n",
       "  <tbody>\n",
       "    <tr>\n",
       "      <th>5136</th>\n",
       "      <td>2</td>\n",
       "      <td>WOZ20634-0</td>\n",
       "      <td>WOZ20634</td>\n",
       "      <td>1</td>\n",
       "      <td>7</td>\n",
       "      <td>5136</td>\n",
       "      <td>0.142857</td>\n",
       "      <td>0.640939</td>\n",
       "    </tr>\n",
       "    <tr>\n",
       "      <th>11515</th>\n",
       "      <td>1</td>\n",
       "      <td>WOZ20634-2</td>\n",
       "      <td>WOZ20634</td>\n",
       "      <td>3</td>\n",
       "      <td>7</td>\n",
       "      <td>11515</td>\n",
       "      <td>0.428571</td>\n",
       "      <td>0.653631</td>\n",
       "    </tr>\n",
       "    <tr>\n",
       "      <th>23659</th>\n",
       "      <td>3</td>\n",
       "      <td>WOZ20634-1</td>\n",
       "      <td>WOZ20634</td>\n",
       "      <td>2</td>\n",
       "      <td>7</td>\n",
       "      <td>23659</td>\n",
       "      <td>0.285714</td>\n",
       "      <td>0.630771</td>\n",
       "    </tr>\n",
       "  </tbody>\n",
       "</table>\n",
       "</div>"
      ],
      "text/plain": [
       "       round selected_turn_id dialogue_id  turn_idx  total_turns  dialogue  \\\n",
       "5136       2       WOZ20634-0    WOZ20634         1            7      5136   \n",
       "11515      1       WOZ20634-2    WOZ20634         3            7     11515   \n",
       "23659      3       WOZ20634-1    WOZ20634         2            7     23659   \n",
       "\n",
       "       turn_percentage  turn_percentage_by_round  \n",
       "5136          0.142857                  0.640939  \n",
       "11515         0.428571                  0.653631  \n",
       "23659         0.285714                  0.630771  "
      ]
     },
     "execution_count": 49,
     "metadata": {},
     "output_type": "execute_result"
    }
   ],
   "source": [
    "k2000_merged_statis[k2000_merged_statis['dialogue_id'] == 'WOZ20634']"
   ]
  },
  {
   "cell_type": "code",
   "execution_count": 50,
   "metadata": {},
   "outputs": [
    {
     "data": {
      "text/html": [
       "<div>\n",
       "<style scoped>\n",
       "    .dataframe tbody tr th:only-of-type {\n",
       "        vertical-align: middle;\n",
       "    }\n",
       "\n",
       "    .dataframe tbody tr th {\n",
       "        vertical-align: top;\n",
       "    }\n",
       "\n",
       "    .dataframe thead th {\n",
       "        text-align: right;\n",
       "    }\n",
       "</style>\n",
       "<table border=\"1\" class=\"dataframe\">\n",
       "  <thead>\n",
       "    <tr style=\"text-align: right;\">\n",
       "      <th></th>\n",
       "      <th>round</th>\n",
       "      <th>selected_turn_id</th>\n",
       "      <th>dialogue_id</th>\n",
       "      <th>turn_idx</th>\n",
       "      <th>total_turns</th>\n",
       "      <th>dialogue</th>\n",
       "      <th>turn_percentage</th>\n",
       "      <th>turn_percentage_by_round</th>\n",
       "    </tr>\n",
       "  </thead>\n",
       "  <tbody>\n",
       "    <tr>\n",
       "      <th>641</th>\n",
       "      <td>0</td>\n",
       "      <td>WOZ20672-1</td>\n",
       "      <td>WOZ20672</td>\n",
       "      <td>2</td>\n",
       "      <td>5</td>\n",
       "      <td>641</td>\n",
       "      <td>0.4</td>\n",
       "      <td>0.578239</td>\n",
       "    </tr>\n",
       "    <tr>\n",
       "      <th>15775</th>\n",
       "      <td>3</td>\n",
       "      <td>WOZ20672-2</td>\n",
       "      <td>WOZ20672</td>\n",
       "      <td>3</td>\n",
       "      <td>5</td>\n",
       "      <td>15775</td>\n",
       "      <td>0.6</td>\n",
       "      <td>0.630771</td>\n",
       "    </tr>\n",
       "    <tr>\n",
       "      <th>23662</th>\n",
       "      <td>3</td>\n",
       "      <td>WOZ20672-4</td>\n",
       "      <td>WOZ20672</td>\n",
       "      <td>5</td>\n",
       "      <td>5</td>\n",
       "      <td>23662</td>\n",
       "      <td>1.0</td>\n",
       "      <td>0.630771</td>\n",
       "    </tr>\n",
       "  </tbody>\n",
       "</table>\n",
       "</div>"
      ],
      "text/plain": [
       "       round selected_turn_id dialogue_id  turn_idx  total_turns  dialogue  \\\n",
       "641        0       WOZ20672-1    WOZ20672         2            5       641   \n",
       "15775      3       WOZ20672-2    WOZ20672         3            5     15775   \n",
       "23662      3       WOZ20672-4    WOZ20672         5            5     23662   \n",
       "\n",
       "       turn_percentage  turn_percentage_by_round  \n",
       "641                0.4                  0.578239  \n",
       "15775              0.6                  0.630771  \n",
       "23662              1.0                  0.630771  "
      ]
     },
     "execution_count": 50,
     "metadata": {},
     "output_type": "execute_result"
    }
   ],
   "source": [
    "k2000_merged_statis[k2000_merged_statis['dialogue_id'] == 'WOZ20672']"
   ]
  },
  {
   "cell_type": "markdown",
   "metadata": {},
   "source": [
    "PMUL3752 这个例子从turn_idx=4开始就不会增加新的state，因此我们的模型可以很好的找到这个turn的临界值去标记。 同时，round=0标记的是turn=3，因为turn=3是state最多，最难预测的，随着round的进行，模型已经学习了一定的能力，因此标记会越来越靠前。\n",
    "\n",
    "同样，MUL1950在turn_idx=4开始，state就增加的很少，因此turn_idx=3的时候，state达到峰值，此时去标记最划算。\n",
    "\n",
    "可以统计一下每个turn的total state，看看截止到哪个turn之后，总state最多，标记哪个turn最划算。"
   ]
  },
  {
   "cell_type": "code",
   "execution_count": null,
   "metadata": {},
   "outputs": [],
   "source": []
  },
  {
   "cell_type": "code",
   "execution_count": null,
   "metadata": {},
   "outputs": [],
   "source": []
  },
  {
   "cell_type": "code",
   "execution_count": 24,
   "metadata": {},
   "outputs": [
    {
     "data": {
      "text/html": [
       "<div>\n",
       "<style scoped>\n",
       "    .dataframe tbody tr th:only-of-type {\n",
       "        vertical-align: middle;\n",
       "    }\n",
       "\n",
       "    .dataframe tbody tr th {\n",
       "        vertical-align: top;\n",
       "    }\n",
       "\n",
       "    .dataframe thead th {\n",
       "        text-align: right;\n",
       "    }\n",
       "</style>\n",
       "<table border=\"1\" class=\"dataframe\">\n",
       "  <thead>\n",
       "    <tr style=\"text-align: right;\">\n",
       "      <th></th>\n",
       "      <th></th>\n",
       "      <th>total_turns</th>\n",
       "    </tr>\n",
       "    <tr>\n",
       "      <th>dialogue_id</th>\n",
       "      <th>turn_idx</th>\n",
       "      <th></th>\n",
       "    </tr>\n",
       "  </thead>\n",
       "  <tbody>\n",
       "    <tr>\n",
       "      <th rowspan=\"3\" valign=\"top\">MUL0001</th>\n",
       "      <th>7</th>\n",
       "      <td>1</td>\n",
       "    </tr>\n",
       "    <tr>\n",
       "      <th>9</th>\n",
       "      <td>1</td>\n",
       "    </tr>\n",
       "    <tr>\n",
       "      <th>10</th>\n",
       "      <td>1</td>\n",
       "    </tr>\n",
       "    <tr>\n",
       "      <th rowspan=\"2\" valign=\"top\">MUL0002</th>\n",
       "      <th>6</th>\n",
       "      <td>1</td>\n",
       "    </tr>\n",
       "    <tr>\n",
       "      <th>7</th>\n",
       "      <td>2</td>\n",
       "    </tr>\n",
       "    <tr>\n",
       "      <th>...</th>\n",
       "      <th>...</th>\n",
       "      <td>...</td>\n",
       "    </tr>\n",
       "    <tr>\n",
       "      <th rowspan=\"2\" valign=\"top\">WOZ20674</th>\n",
       "      <th>2</th>\n",
       "      <td>1</td>\n",
       "    </tr>\n",
       "    <tr>\n",
       "      <th>4</th>\n",
       "      <td>2</td>\n",
       "    </tr>\n",
       "    <tr>\n",
       "      <th rowspan=\"3\" valign=\"top\">WOZ20675</th>\n",
       "      <th>2</th>\n",
       "      <td>1</td>\n",
       "    </tr>\n",
       "    <tr>\n",
       "      <th>3</th>\n",
       "      <td>1</td>\n",
       "    </tr>\n",
       "    <tr>\n",
       "      <th>4</th>\n",
       "      <td>1</td>\n",
       "    </tr>\n",
       "  </tbody>\n",
       "</table>\n",
       "<p>18980 rows × 1 columns</p>\n",
       "</div>"
      ],
      "text/plain": [
       "                      total_turns\n",
       "dialogue_id turn_idx             \n",
       "MUL0001     7                   1\n",
       "            9                   1\n",
       "            10                  1\n",
       "MUL0002     6                   1\n",
       "            7                   2\n",
       "...                           ...\n",
       "WOZ20674    2                   1\n",
       "            4                   2\n",
       "WOZ20675    2                   1\n",
       "            3                   1\n",
       "            4                   1\n",
       "\n",
       "[18980 rows x 1 columns]"
      ]
     },
     "execution_count": 24,
     "metadata": {},
     "output_type": "execute_result"
    }
   ],
   "source": [
    "k2000_merged_statis[['dialogue_id', 'turn_idx', 'total_turns']].groupby(['dialogue_id','turn_idx']).count()"
   ]
  },
  {
   "cell_type": "code",
   "execution_count": null,
   "metadata": {},
   "outputs": [],
   "source": []
  },
  {
   "cell_type": "markdown",
   "metadata": {},
   "source": [
    "For each round, the number of reading cost is decreasing, indicating that the annotation reduction by using AL.\n",
    "\n",
    "The first round may be random, because the model has not seen any data"
   ]
  },
  {
   "cell_type": "code",
   "execution_count": 25,
   "metadata": {},
   "outputs": [
    {
     "name": "stdout",
     "output_type": "stream",
     "text": [
      "# of turns read by annotators: mean - 0.6361 std - 0.2943\n",
      "# of turns read by annotators without budget: 0.6361\n",
      "--------------------------------------------------\n",
      "# of turns read by annotators by round 0: mean - 0.41 std - 0.2391\n",
      "# of turns read by annotators by round 1: mean - 0.7741 std - 0.2668\n",
      "# of turns read by annotators by round 2: mean - 0.6718 std - 0.2712\n",
      "# of turns read by annotators by round 3: mean - 0.6915 std - 0.2632\n"
     ]
    },
    {
     "data": {
      "text/html": [
       "<div>\n",
       "<style scoped>\n",
       "    .dataframe tbody tr th:only-of-type {\n",
       "        vertical-align: middle;\n",
       "    }\n",
       "\n",
       "    .dataframe tbody tr th {\n",
       "        vertical-align: top;\n",
       "    }\n",
       "\n",
       "    .dataframe thead th {\n",
       "        text-align: right;\n",
       "    }\n",
       "</style>\n",
       "<table border=\"1\" class=\"dataframe\">\n",
       "  <thead>\n",
       "    <tr style=\"text-align: right;\">\n",
       "      <th></th>\n",
       "      <th>round</th>\n",
       "      <th>selected_turn_id</th>\n",
       "      <th>dialogue_id</th>\n",
       "      <th>turn_idx</th>\n",
       "      <th>total_turns</th>\n",
       "      <th>dialogue</th>\n",
       "      <th>turn_percentage</th>\n",
       "      <th>turn_percentage_by_round</th>\n",
       "    </tr>\n",
       "  </thead>\n",
       "  <tbody>\n",
       "    <tr>\n",
       "      <th>0</th>\n",
       "      <td>0</td>\n",
       "      <td>MUL1950-7</td>\n",
       "      <td>MUL1950</td>\n",
       "      <td>8</td>\n",
       "      <td>8</td>\n",
       "      <td>0</td>\n",
       "      <td>1.000000</td>\n",
       "      <td>0.409967</td>\n",
       "    </tr>\n",
       "    <tr>\n",
       "      <th>1</th>\n",
       "      <td>0</td>\n",
       "      <td>PMUL3752-3</td>\n",
       "      <td>PMUL3752</td>\n",
       "      <td>4</td>\n",
       "      <td>8</td>\n",
       "      <td>1</td>\n",
       "      <td>0.500000</td>\n",
       "      <td>0.409967</td>\n",
       "    </tr>\n",
       "    <tr>\n",
       "      <th>2</th>\n",
       "      <td>0</td>\n",
       "      <td>PMUL3020-0</td>\n",
       "      <td>PMUL3020</td>\n",
       "      <td>1</td>\n",
       "      <td>10</td>\n",
       "      <td>2</td>\n",
       "      <td>0.100000</td>\n",
       "      <td>0.409967</td>\n",
       "    </tr>\n",
       "    <tr>\n",
       "      <th>3</th>\n",
       "      <td>0</td>\n",
       "      <td>PMUL1571-0</td>\n",
       "      <td>PMUL1571</td>\n",
       "      <td>1</td>\n",
       "      <td>8</td>\n",
       "      <td>3</td>\n",
       "      <td>0.125000</td>\n",
       "      <td>0.409967</td>\n",
       "    </tr>\n",
       "    <tr>\n",
       "      <th>4</th>\n",
       "      <td>0</td>\n",
       "      <td>MUL0429-1</td>\n",
       "      <td>MUL0429</td>\n",
       "      <td>2</td>\n",
       "      <td>8</td>\n",
       "      <td>4</td>\n",
       "      <td>0.250000</td>\n",
       "      <td>0.409967</td>\n",
       "    </tr>\n",
       "    <tr>\n",
       "      <th>...</th>\n",
       "      <td>...</td>\n",
       "      <td>...</td>\n",
       "      <td>...</td>\n",
       "      <td>...</td>\n",
       "      <td>...</td>\n",
       "      <td>...</td>\n",
       "      <td>...</td>\n",
       "      <td>...</td>\n",
       "    </tr>\n",
       "    <tr>\n",
       "      <th>7883</th>\n",
       "      <td>3</td>\n",
       "      <td>WOZ20641-0</td>\n",
       "      <td>WOZ20641</td>\n",
       "      <td>1</td>\n",
       "      <td>4</td>\n",
       "      <td>7883</td>\n",
       "      <td>0.250000</td>\n",
       "      <td>0.691537</td>\n",
       "    </tr>\n",
       "    <tr>\n",
       "      <th>7884</th>\n",
       "      <td>3</td>\n",
       "      <td>WOZ20661-2</td>\n",
       "      <td>WOZ20661</td>\n",
       "      <td>3</td>\n",
       "      <td>4</td>\n",
       "      <td>7884</td>\n",
       "      <td>0.750000</td>\n",
       "      <td>0.691537</td>\n",
       "    </tr>\n",
       "    <tr>\n",
       "      <th>7885</th>\n",
       "      <td>3</td>\n",
       "      <td>WOZ20662-3</td>\n",
       "      <td>WOZ20662</td>\n",
       "      <td>4</td>\n",
       "      <td>4</td>\n",
       "      <td>7885</td>\n",
       "      <td>1.000000</td>\n",
       "      <td>0.691537</td>\n",
       "    </tr>\n",
       "    <tr>\n",
       "      <th>7886</th>\n",
       "      <td>3</td>\n",
       "      <td>WOZ20664-0</td>\n",
       "      <td>WOZ20664</td>\n",
       "      <td>1</td>\n",
       "      <td>6</td>\n",
       "      <td>7886</td>\n",
       "      <td>0.166667</td>\n",
       "      <td>0.691537</td>\n",
       "    </tr>\n",
       "    <tr>\n",
       "      <th>7887</th>\n",
       "      <td>3</td>\n",
       "      <td>WOZ20670-2</td>\n",
       "      <td>WOZ20670</td>\n",
       "      <td>3</td>\n",
       "      <td>4</td>\n",
       "      <td>7887</td>\n",
       "      <td>0.750000</td>\n",
       "      <td>0.691537</td>\n",
       "    </tr>\n",
       "  </tbody>\n",
       "</table>\n",
       "<p>7888 rows × 8 columns</p>\n",
       "</div>"
      ],
      "text/plain": [
       "      round selected_turn_id dialogue_id  turn_idx  total_turns  dialogue  \\\n",
       "0         0        MUL1950-7     MUL1950         8            8         0   \n",
       "1         0       PMUL3752-3    PMUL3752         4            8         1   \n",
       "2         0       PMUL3020-0    PMUL3020         1           10         2   \n",
       "3         0       PMUL1571-0    PMUL1571         1            8         3   \n",
       "4         0        MUL0429-1     MUL0429         2            8         4   \n",
       "...     ...              ...         ...       ...          ...       ...   \n",
       "7883      3       WOZ20641-0    WOZ20641         1            4      7883   \n",
       "7884      3       WOZ20661-2    WOZ20661         3            4      7884   \n",
       "7885      3       WOZ20662-3    WOZ20662         4            4      7885   \n",
       "7886      3       WOZ20664-0    WOZ20664         1            6      7886   \n",
       "7887      3       WOZ20670-2    WOZ20670         3            4      7887   \n",
       "\n",
       "      turn_percentage  turn_percentage_by_round  \n",
       "0            1.000000                  0.409967  \n",
       "1            0.500000                  0.409967  \n",
       "2            0.100000                  0.409967  \n",
       "3            0.125000                  0.409967  \n",
       "4            0.250000                  0.409967  \n",
       "...               ...                       ...  \n",
       "7883         0.250000                  0.691537  \n",
       "7884         0.750000                  0.691537  \n",
       "7885         1.000000                  0.691537  \n",
       "7886         0.166667                  0.691537  \n",
       "7887         0.750000                  0.691537  \n",
       "\n",
       "[7888 rows x 8 columns]"
      ]
     },
     "execution_count": 25,
     "metadata": {},
     "output_type": "execute_result"
    }
   ],
   "source": [
    "merge_df(mwz20_dialogue2len_df, k2000S202)"
   ]
  },
  {
   "cell_type": "code",
   "execution_count": 26,
   "metadata": {},
   "outputs": [
    {
     "name": "stdout",
     "output_type": "stream",
     "text": [
      "# of turns read by annotators: mean - 0.6035 std - 0.2811\n",
      "# of turns read by annotators without budget: 0.6035\n",
      "--------------------------------------------------\n",
      "# of turns read by annotators by round 0: mean - 0.5449 std - 0.2966\n",
      "# of turns read by annotators by round 1: mean - 0.6467 std - 0.2957\n",
      "# of turns read by annotators by round 2: mean - 0.6509 std - 0.2505\n",
      "# of turns read by annotators by round 3: mean - 0.5697 std - 0.2622\n"
     ]
    },
    {
     "data": {
      "text/html": [
       "<div>\n",
       "<style scoped>\n",
       "    .dataframe tbody tr th:only-of-type {\n",
       "        vertical-align: middle;\n",
       "    }\n",
       "\n",
       "    .dataframe tbody tr th {\n",
       "        vertical-align: top;\n",
       "    }\n",
       "\n",
       "    .dataframe thead th {\n",
       "        text-align: right;\n",
       "    }\n",
       "</style>\n",
       "<table border=\"1\" class=\"dataframe\">\n",
       "  <thead>\n",
       "    <tr style=\"text-align: right;\">\n",
       "      <th></th>\n",
       "      <th>round</th>\n",
       "      <th>selected_turn_id</th>\n",
       "      <th>dialogue_id</th>\n",
       "      <th>turn_idx</th>\n",
       "      <th>total_turns</th>\n",
       "      <th>dialogue</th>\n",
       "      <th>turn_percentage</th>\n",
       "      <th>turn_percentage_by_round</th>\n",
       "    </tr>\n",
       "  </thead>\n",
       "  <tbody>\n",
       "    <tr>\n",
       "      <th>0</th>\n",
       "      <td>0</td>\n",
       "      <td>PMUL1855-1</td>\n",
       "      <td>PMUL1855</td>\n",
       "      <td>2</td>\n",
       "      <td>9</td>\n",
       "      <td>0</td>\n",
       "      <td>0.222222</td>\n",
       "      <td>0.544864</td>\n",
       "    </tr>\n",
       "    <tr>\n",
       "      <th>1</th>\n",
       "      <td>0</td>\n",
       "      <td>MUL0059-1</td>\n",
       "      <td>MUL0059</td>\n",
       "      <td>2</td>\n",
       "      <td>9</td>\n",
       "      <td>1</td>\n",
       "      <td>0.222222</td>\n",
       "      <td>0.544864</td>\n",
       "    </tr>\n",
       "    <tr>\n",
       "      <th>2</th>\n",
       "      <td>0</td>\n",
       "      <td>MUL2516-4</td>\n",
       "      <td>MUL2516</td>\n",
       "      <td>5</td>\n",
       "      <td>6</td>\n",
       "      <td>2</td>\n",
       "      <td>0.833333</td>\n",
       "      <td>0.544864</td>\n",
       "    </tr>\n",
       "    <tr>\n",
       "      <th>3</th>\n",
       "      <td>0</td>\n",
       "      <td>MUL2019-2</td>\n",
       "      <td>MUL2019</td>\n",
       "      <td>3</td>\n",
       "      <td>8</td>\n",
       "      <td>3</td>\n",
       "      <td>0.375000</td>\n",
       "      <td>0.544864</td>\n",
       "    </tr>\n",
       "    <tr>\n",
       "      <th>4</th>\n",
       "      <td>0</td>\n",
       "      <td>MUL1582-3</td>\n",
       "      <td>MUL1582</td>\n",
       "      <td>4</td>\n",
       "      <td>7</td>\n",
       "      <td>4</td>\n",
       "      <td>0.571429</td>\n",
       "      <td>0.544864</td>\n",
       "    </tr>\n",
       "    <tr>\n",
       "      <th>...</th>\n",
       "      <td>...</td>\n",
       "      <td>...</td>\n",
       "      <td>...</td>\n",
       "      <td>...</td>\n",
       "      <td>...</td>\n",
       "      <td>...</td>\n",
       "      <td>...</td>\n",
       "      <td>...</td>\n",
       "    </tr>\n",
       "    <tr>\n",
       "      <th>7883</th>\n",
       "      <td>3</td>\n",
       "      <td>WOZ20649-0</td>\n",
       "      <td>WOZ20649</td>\n",
       "      <td>1</td>\n",
       "      <td>3</td>\n",
       "      <td>7883</td>\n",
       "      <td>0.333333</td>\n",
       "      <td>0.569677</td>\n",
       "    </tr>\n",
       "    <tr>\n",
       "      <th>7884</th>\n",
       "      <td>3</td>\n",
       "      <td>WOZ20656-1</td>\n",
       "      <td>WOZ20656</td>\n",
       "      <td>2</td>\n",
       "      <td>4</td>\n",
       "      <td>7884</td>\n",
       "      <td>0.500000</td>\n",
       "      <td>0.569677</td>\n",
       "    </tr>\n",
       "    <tr>\n",
       "      <th>7885</th>\n",
       "      <td>3</td>\n",
       "      <td>WOZ20662-3</td>\n",
       "      <td>WOZ20662</td>\n",
       "      <td>4</td>\n",
       "      <td>4</td>\n",
       "      <td>7885</td>\n",
       "      <td>1.000000</td>\n",
       "      <td>0.569677</td>\n",
       "    </tr>\n",
       "    <tr>\n",
       "      <th>7886</th>\n",
       "      <td>3</td>\n",
       "      <td>WOZ20666-0</td>\n",
       "      <td>WOZ20666</td>\n",
       "      <td>1</td>\n",
       "      <td>3</td>\n",
       "      <td>7886</td>\n",
       "      <td>0.333333</td>\n",
       "      <td>0.569677</td>\n",
       "    </tr>\n",
       "    <tr>\n",
       "      <th>7887</th>\n",
       "      <td>3</td>\n",
       "      <td>WOZ20672-2</td>\n",
       "      <td>WOZ20672</td>\n",
       "      <td>3</td>\n",
       "      <td>5</td>\n",
       "      <td>7887</td>\n",
       "      <td>0.600000</td>\n",
       "      <td>0.569677</td>\n",
       "    </tr>\n",
       "  </tbody>\n",
       "</table>\n",
       "<p>7888 rows × 8 columns</p>\n",
       "</div>"
      ],
      "text/plain": [
       "      round selected_turn_id dialogue_id  turn_idx  total_turns  dialogue  \\\n",
       "0         0       PMUL1855-1    PMUL1855         2            9         0   \n",
       "1         0        MUL0059-1     MUL0059         2            9         1   \n",
       "2         0        MUL2516-4     MUL2516         5            6         2   \n",
       "3         0        MUL2019-2     MUL2019         3            8         3   \n",
       "4         0        MUL1582-3     MUL1582         4            7         4   \n",
       "...     ...              ...         ...       ...          ...       ...   \n",
       "7883      3       WOZ20649-0    WOZ20649         1            3      7883   \n",
       "7884      3       WOZ20656-1    WOZ20656         2            4      7884   \n",
       "7885      3       WOZ20662-3    WOZ20662         4            4      7885   \n",
       "7886      3       WOZ20666-0    WOZ20666         1            3      7886   \n",
       "7887      3       WOZ20672-2    WOZ20672         3            5      7887   \n",
       "\n",
       "      turn_percentage  turn_percentage_by_round  \n",
       "0            0.222222                  0.544864  \n",
       "1            0.222222                  0.544864  \n",
       "2            0.833333                  0.544864  \n",
       "3            0.375000                  0.544864  \n",
       "4            0.571429                  0.544864  \n",
       "...               ...                       ...  \n",
       "7883         0.333333                  0.569677  \n",
       "7884         0.500000                  0.569677  \n",
       "7885         1.000000                  0.569677  \n",
       "7886         0.333333                  0.569677  \n",
       "7887         0.600000                  0.569677  \n",
       "\n",
       "[7888 rows x 8 columns]"
      ]
     },
     "execution_count": 26,
     "metadata": {},
     "output_type": "execute_result"
    }
   ],
   "source": [
    "merge_df(mwz20_dialogue2len_df, k2000S588)"
   ]
  },
  {
   "cell_type": "code",
   "execution_count": 27,
   "metadata": {},
   "outputs": [
    {
     "name": "stdout",
     "output_type": "stream",
     "text": [
      "# of turns read by annotators: mean - 0.6379 std - 0.2787\n",
      "# of turns read by annotators without budget: 0.6379\n",
      "--------------------------------------------------\n",
      "# of turns read by annotators by round 0: mean - 0.7799 std - 0.233\n",
      "# of turns read by annotators by round 1: mean - 0.5401 std - 0.2726\n",
      "# of turns read by annotators by round 2: mean - 0.6001 std - 0.2741\n",
      "# of turns read by annotators by round 3: mean - 0.6311 std - 0.2751\n"
     ]
    },
    {
     "data": {
      "text/html": [
       "<div>\n",
       "<style scoped>\n",
       "    .dataframe tbody tr th:only-of-type {\n",
       "        vertical-align: middle;\n",
       "    }\n",
       "\n",
       "    .dataframe tbody tr th {\n",
       "        vertical-align: top;\n",
       "    }\n",
       "\n",
       "    .dataframe thead th {\n",
       "        text-align: right;\n",
       "    }\n",
       "</style>\n",
       "<table border=\"1\" class=\"dataframe\">\n",
       "  <thead>\n",
       "    <tr style=\"text-align: right;\">\n",
       "      <th></th>\n",
       "      <th>round</th>\n",
       "      <th>selected_turn_id</th>\n",
       "      <th>dialogue_id</th>\n",
       "      <th>turn_idx</th>\n",
       "      <th>total_turns</th>\n",
       "      <th>dialogue</th>\n",
       "      <th>turn_percentage</th>\n",
       "      <th>turn_percentage_by_round</th>\n",
       "    </tr>\n",
       "  </thead>\n",
       "  <tbody>\n",
       "    <tr>\n",
       "      <th>0</th>\n",
       "      <td>0</td>\n",
       "      <td>PMUL3578-8</td>\n",
       "      <td>PMUL3578</td>\n",
       "      <td>9</td>\n",
       "      <td>9</td>\n",
       "      <td>0</td>\n",
       "      <td>1.000000</td>\n",
       "      <td>0.779885</td>\n",
       "    </tr>\n",
       "    <tr>\n",
       "      <th>1</th>\n",
       "      <td>0</td>\n",
       "      <td>MUL1534-6</td>\n",
       "      <td>MUL1534</td>\n",
       "      <td>7</td>\n",
       "      <td>7</td>\n",
       "      <td>1</td>\n",
       "      <td>1.000000</td>\n",
       "      <td>0.779885</td>\n",
       "    </tr>\n",
       "    <tr>\n",
       "      <th>2</th>\n",
       "      <td>0</td>\n",
       "      <td>MUL2038-2</td>\n",
       "      <td>MUL2038</td>\n",
       "      <td>3</td>\n",
       "      <td>9</td>\n",
       "      <td>2</td>\n",
       "      <td>0.333333</td>\n",
       "      <td>0.779885</td>\n",
       "    </tr>\n",
       "    <tr>\n",
       "      <th>3</th>\n",
       "      <td>0</td>\n",
       "      <td>MUL1665-6</td>\n",
       "      <td>MUL1665</td>\n",
       "      <td>7</td>\n",
       "      <td>9</td>\n",
       "      <td>3</td>\n",
       "      <td>0.777778</td>\n",
       "      <td>0.779885</td>\n",
       "    </tr>\n",
       "    <tr>\n",
       "      <th>4</th>\n",
       "      <td>0</td>\n",
       "      <td>SNG01160-5</td>\n",
       "      <td>SNG01160</td>\n",
       "      <td>6</td>\n",
       "      <td>6</td>\n",
       "      <td>4</td>\n",
       "      <td>1.000000</td>\n",
       "      <td>0.779885</td>\n",
       "    </tr>\n",
       "    <tr>\n",
       "      <th>...</th>\n",
       "      <td>...</td>\n",
       "      <td>...</td>\n",
       "      <td>...</td>\n",
       "      <td>...</td>\n",
       "      <td>...</td>\n",
       "      <td>...</td>\n",
       "      <td>...</td>\n",
       "      <td>...</td>\n",
       "    </tr>\n",
       "    <tr>\n",
       "      <th>7883</th>\n",
       "      <td>3</td>\n",
       "      <td>WOZ20634-1</td>\n",
       "      <td>WOZ20634</td>\n",
       "      <td>2</td>\n",
       "      <td>7</td>\n",
       "      <td>7883</td>\n",
       "      <td>0.285714</td>\n",
       "      <td>0.631100</td>\n",
       "    </tr>\n",
       "    <tr>\n",
       "      <th>7884</th>\n",
       "      <td>3</td>\n",
       "      <td>WOZ20649-2</td>\n",
       "      <td>WOZ20649</td>\n",
       "      <td>3</td>\n",
       "      <td>3</td>\n",
       "      <td>7884</td>\n",
       "      <td>1.000000</td>\n",
       "      <td>0.631100</td>\n",
       "    </tr>\n",
       "    <tr>\n",
       "      <th>7885</th>\n",
       "      <td>3</td>\n",
       "      <td>WOZ20667-1</td>\n",
       "      <td>WOZ20667</td>\n",
       "      <td>2</td>\n",
       "      <td>4</td>\n",
       "      <td>7885</td>\n",
       "      <td>0.500000</td>\n",
       "      <td>0.631100</td>\n",
       "    </tr>\n",
       "    <tr>\n",
       "      <th>7886</th>\n",
       "      <td>3</td>\n",
       "      <td>WOZ20672-4</td>\n",
       "      <td>WOZ20672</td>\n",
       "      <td>5</td>\n",
       "      <td>5</td>\n",
       "      <td>7886</td>\n",
       "      <td>1.000000</td>\n",
       "      <td>0.631100</td>\n",
       "    </tr>\n",
       "    <tr>\n",
       "      <th>7887</th>\n",
       "      <td>3</td>\n",
       "      <td>WOZ20675-1</td>\n",
       "      <td>WOZ20675</td>\n",
       "      <td>2</td>\n",
       "      <td>5</td>\n",
       "      <td>7887</td>\n",
       "      <td>0.400000</td>\n",
       "      <td>0.631100</td>\n",
       "    </tr>\n",
       "  </tbody>\n",
       "</table>\n",
       "<p>7888 rows × 8 columns</p>\n",
       "</div>"
      ],
      "text/plain": [
       "      round selected_turn_id dialogue_id  turn_idx  total_turns  dialogue  \\\n",
       "0         0       PMUL3578-8    PMUL3578         9            9         0   \n",
       "1         0        MUL1534-6     MUL1534         7            7         1   \n",
       "2         0        MUL2038-2     MUL2038         3            9         2   \n",
       "3         0        MUL1665-6     MUL1665         7            9         3   \n",
       "4         0       SNG01160-5    SNG01160         6            6         4   \n",
       "...     ...              ...         ...       ...          ...       ...   \n",
       "7883      3       WOZ20634-1    WOZ20634         2            7      7883   \n",
       "7884      3       WOZ20649-2    WOZ20649         3            3      7884   \n",
       "7885      3       WOZ20667-1    WOZ20667         2            4      7885   \n",
       "7886      3       WOZ20672-4    WOZ20672         5            5      7886   \n",
       "7887      3       WOZ20675-1    WOZ20675         2            5      7887   \n",
       "\n",
       "      turn_percentage  turn_percentage_by_round  \n",
       "0            1.000000                  0.779885  \n",
       "1            1.000000                  0.779885  \n",
       "2            0.333333                  0.779885  \n",
       "3            0.777778                  0.779885  \n",
       "4            1.000000                  0.779885  \n",
       "...               ...                       ...  \n",
       "7883         0.285714                  0.631100  \n",
       "7884         1.000000                  0.631100  \n",
       "7885         0.500000                  0.631100  \n",
       "7886         1.000000                  0.631100  \n",
       "7887         0.400000                  0.631100  \n",
       "\n",
       "[7888 rows x 8 columns]"
      ]
     },
     "execution_count": 27,
     "metadata": {},
     "output_type": "execute_result"
    }
   ],
   "source": [
    "merge_df(mwz20_dialogue2len_df, k2000S813)"
   ]
  },
  {
   "cell_type": "code",
   "execution_count": null,
   "metadata": {},
   "outputs": [],
   "source": []
  },
  {
   "cell_type": "code",
   "execution_count": null,
   "metadata": {},
   "outputs": [],
   "source": []
  },
  {
   "cell_type": "code",
   "execution_count": 62,
   "metadata": {},
   "outputs": [
    {
     "data": {
      "text/html": [
       "<div>\n",
       "<style scoped>\n",
       "    .dataframe tbody tr th:only-of-type {\n",
       "        vertical-align: middle;\n",
       "    }\n",
       "\n",
       "    .dataframe tbody tr th {\n",
       "        vertical-align: top;\n",
       "    }\n",
       "\n",
       "    .dataframe thead th {\n",
       "        text-align: right;\n",
       "    }\n",
       "</style>\n",
       "<table border=\"1\" class=\"dataframe\">\n",
       "  <thead>\n",
       "    <tr style=\"text-align: right;\">\n",
       "      <th></th>\n",
       "      <th>round</th>\n",
       "      <th>selected_turn_id</th>\n",
       "    </tr>\n",
       "  </thead>\n",
       "  <tbody>\n",
       "    <tr>\n",
       "      <th>0</th>\n",
       "      <td>0</td>\n",
       "      <td>MUL1950-7</td>\n",
       "    </tr>\n",
       "    <tr>\n",
       "      <th>1</th>\n",
       "      <td>0</td>\n",
       "      <td>PMUL3752-3</td>\n",
       "    </tr>\n",
       "    <tr>\n",
       "      <th>2</th>\n",
       "      <td>0</td>\n",
       "      <td>PMUL3020-0</td>\n",
       "    </tr>\n",
       "    <tr>\n",
       "      <th>3</th>\n",
       "      <td>0</td>\n",
       "      <td>PMUL1571-0</td>\n",
       "    </tr>\n",
       "    <tr>\n",
       "      <th>4</th>\n",
       "      <td>0</td>\n",
       "      <td>MUL0429-1</td>\n",
       "    </tr>\n",
       "    <tr>\n",
       "      <th>...</th>\n",
       "      <td>...</td>\n",
       "      <td>...</td>\n",
       "    </tr>\n",
       "    <tr>\n",
       "      <th>7883</th>\n",
       "      <td>3</td>\n",
       "      <td>WOZ20641-0</td>\n",
       "    </tr>\n",
       "    <tr>\n",
       "      <th>7884</th>\n",
       "      <td>3</td>\n",
       "      <td>WOZ20661-2</td>\n",
       "    </tr>\n",
       "    <tr>\n",
       "      <th>7885</th>\n",
       "      <td>3</td>\n",
       "      <td>WOZ20662-3</td>\n",
       "    </tr>\n",
       "    <tr>\n",
       "      <th>7886</th>\n",
       "      <td>3</td>\n",
       "      <td>WOZ20664-0</td>\n",
       "    </tr>\n",
       "    <tr>\n",
       "      <th>7887</th>\n",
       "      <td>3</td>\n",
       "      <td>WOZ20670-2</td>\n",
       "    </tr>\n",
       "  </tbody>\n",
       "</table>\n",
       "<p>7888 rows × 2 columns</p>\n",
       "</div>"
      ],
      "text/plain": [
       "      round selected_turn_id\n",
       "0         0        MUL1950-7\n",
       "1         0       PMUL3752-3\n",
       "2         0       PMUL3020-0\n",
       "3         0       PMUL1571-0\n",
       "4         0        MUL0429-1\n",
       "...     ...              ...\n",
       "7883      3       WOZ20641-0\n",
       "7884      3       WOZ20661-2\n",
       "7885      3       WOZ20662-3\n",
       "7886      3       WOZ20664-0\n",
       "7887      3       WOZ20670-2\n",
       "\n",
       "[7888 rows x 2 columns]"
      ]
     },
     "execution_count": 62,
     "metadata": {},
     "output_type": "execute_result"
    }
   ],
   "source": [
    "k2000S202"
   ]
  },
  {
   "cell_type": "code",
   "execution_count": 53,
   "metadata": {},
   "outputs": [
    {
     "name": "stdout",
     "output_type": "stream",
     "text": [
      "D2000S588_selected_turn_id.csv\n",
      "D2000S202_selected_turn_id.csv\n",
      ".DS_Store\n",
      "D2000_test_acc.csv\n",
      "D2000S813_selected_turn_id.csv\n"
     ]
    }
   ],
   "source": [
    "# for filename in os.listdir('./data/mwz20/KAGE/max_entropy/k2000'):\n",
    "#     print(filename)\n",
    "# #     if filename.endswith(\".asm\") or filename.endswith(\".py\"): \n",
    "# #          # print(os.path.join(directory, filename))\n",
    "# #         continue\n",
    "# #     else:\n",
    "# #         continue"
   ]
  },
  {
   "cell_type": "code",
   "execution_count": null,
   "metadata": {},
   "outputs": [],
   "source": []
  }
 ],
 "metadata": {
  "kernelspec": {
   "display_name": "Python 3",
   "language": "python",
   "name": "python3"
  },
  "language_info": {
   "codemirror_mode": {
    "name": "ipython",
    "version": 3
   },
   "file_extension": ".py",
   "mimetype": "text/x-python",
   "name": "python",
   "nbconvert_exporter": "python",
   "pygments_lexer": "ipython3",
   "version": "3.8.5"
  }
 },
 "nbformat": 4,
 "nbformat_minor": 4
}
